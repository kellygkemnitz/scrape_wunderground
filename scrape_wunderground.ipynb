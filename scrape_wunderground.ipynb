{
 "cells": [
  {
   "cell_type": "code",
   "execution_count": 37,
   "id": "043e29f4-451d-4c4e-9a28-a469844a80ce",
   "metadata": {},
   "outputs": [],
   "source": [
    "from datetime import datetime, timedelta\n",
    "from flask import Flask, render_template, jsonify\n",
    "import json\n",
    "import numpy as np\n",
    "import pandas as pd\n",
    "import plotly.graph_objects as go\n",
    "import plotly.utils\n",
    "from plotly.subplots import make_subplots\n",
    "from bs4 import BeautifulSoup as BS\n",
    "from selenium import webdriver\n",
    "from selenium.webdriver.chrome.service import Service\n",
    "from selenium.webdriver.chrome.options import Options\n",
    "from selenium.webdriver.common.by import By\n",
    "import time\n",
    "import yaml\n",
    "\n",
    "app = Flask(__name__)"
   ]
  },
  {
   "cell_type": "code",
   "execution_count": 38,
   "id": "2e39e793-6b2c-4ad5-9d00-828470fc7bcf",
   "metadata": {},
   "outputs": [],
   "source": [
    "class WeatherStation:\n",
    "    def __init__(self):\n",
    "        with open('settings.yaml', 'r') as file:\n",
    "            settings = yaml.safe_load(file)\n",
    "\n",
    "        self.station = settings['station']\n",
    "        self.date = datetime.today().strftime(\"%Y-%m-%d\")\n",
    "        self.freq = settings['freq']\n",
    "        self.chromedriver_path = settings['chromedriver_path']\n",
    "\n",
    "    def get_settings(self):\n",
    "        return self.station, self.date, self.freq, self.chromedriver_path"
   ]
  },
  {
   "cell_type": "code",
   "execution_count": 39,
   "id": "2595973b-f86b-4728-abed-28c581890ca7",
   "metadata": {},
   "outputs": [],
   "source": [
    "def render_page(url, chromedriver_path):\n",
    "    \"\"\"Given a url, render it with chromedriver and return the html source\n",
    "\n",
    "    Parameters\n",
    "    ----------\n",
    "        url : str\n",
    "            url to render\n",
    "        chromedriver_path : str\n",
    "            Path to location of chromedriver\n",
    "\n",
    "    Returns\n",
    "    -------\n",
    "        r :\n",
    "            rendered page source\n",
    "    \"\"\"\n",
    "    chrome_service = Service(chromedriver_path)\n",
    "    chrome_options = Options()\n",
    "    chrome_options.add_argument(\"--headless=new\")\n",
    "    driver = webdriver.Chrome(service = chrome_service, options = chrome_options)\n",
    "    driver.get(url)\n",
    "    time.sleep(3) # Could potentially decrease the sleep time\n",
    "    r = driver.page_source\n",
    "    driver.quit()\n",
    "\n",
    "    return r\n",
    "\n",
    "def scrape_wunderground(station, date, freq, chromedriver_path):\n",
    "    \"\"\"Given a PWS station ID and date, scrape that day's data from Weather\n",
    "    Underground and return it as a dataframe.\n",
    "\n",
    "    Parameters\n",
    "    ----------\n",
    "        station : str\n",
    "            The personal weather station ID\n",
    "        date : str\n",
    "            The date for which to acquire data, formatted as 'YYYY-MM-DD'\n",
    "        freq : {'5min', 'daily'}\n",
    "            Whether to download 5-minute weather observations or daily\n",
    "            summaries (average, min and max for each day)\n",
    "        chromedriver_path : str\n",
    "            Path to the location of chromedriver\n",
    "\n",
    "    Returns\n",
    "    -------\n",
    "        df : dataframe or None\n",
    "            A dataframe of weather observations, with index as pd.DateTimeIndex\n",
    "            and columns as the observed data\n",
    "    \"\"\"\n",
    "\n",
    "    # the url for 5-min data is called \"daily\" on weather underground\n",
    "    if freq == '5min':\n",
    "        timespan = 'daily'\n",
    "    # the url for daily summary data (avg/min/max) is called \"monthly\" on wunderground\n",
    "    elif freq == 'daily':\n",
    "        timespan = 'monthly'\n",
    "\n",
    "    # Render the url and open the page source as BS object\n",
    "    url = 'https://www.wunderground.com/dashboard/pws/%s/table/%s/%s/%s' % (station,\n",
    "                                                                            date, date,\n",
    "                                                                            timespan)\n",
    "    r = render_page(url, chromedriver_path)\n",
    "    soup = BS(r, \"html.parser\")\n",
    "\n",
    "    container = soup.find('lib-history-table')\n",
    "\n",
    "    # Check that lib-history-table is found\n",
    "    if container is None:\n",
    "        raise ValueError(\"could not find lib-history-table in html source for %s\" % url)\n",
    "\n",
    "    # Get the timestamps and data from two separate 'tbody' tags\n",
    "    all_checks = container.find_all('tbody')\n",
    "    time_check = all_checks[0]\n",
    "    data_check = all_checks[1]\n",
    "\n",
    "    # Iterate through 'tr' tags and get the timestamps\n",
    "    hours = []\n",
    "    for i in time_check.find_all('tr'):\n",
    "        trial = i.get_text()\n",
    "        hours.append(trial)\n",
    "\n",
    "    # For data, locate both value and no-value (\"--\") classes\n",
    "    classes = ['wu-value wu-value-to', 'wu-unit-no-value ng-star-inserted']\n",
    "\n",
    "    # Iterate through span tags and get data\n",
    "    data = []\n",
    "    for i in data_check.find_all('span', class_=classes):\n",
    "        trial = i.get_text()\n",
    "        data.append(trial)\n",
    "\n",
    "    columns = {'5min': ['Temperature', 'Dew Point', 'Humidity', 'Wind Speed',\n",
    "                        'Wind Gust', 'Pressure', 'Precip. Rate', 'Precip. Accum.'],\n",
    "            'daily': ['Temperature_High', 'Temperature_Avg', 'Temperature_Low',\n",
    "                        'DewPoint_High', 'DewPoint_Avg', 'DewPoint_Low',\n",
    "                        'Humidity_High', 'Humidity_Avg', 'Humidity_Low',\n",
    "                        'WindSpeed_High', 'WindSpeed_Avg', 'WindSpeed_Low',\n",
    "                        'Pressure_High', 'Pressure_Low', 'Precip_Sum']}\n",
    "\n",
    "    # Convert NaN values (stings of '--') to np.nan\n",
    "    data_nan = [np.nan if x == '--' else x for x in data]\n",
    "\n",
    "    # Convert list of data to an array\n",
    "    data_array = np.array(data_nan, dtype=float)\n",
    "    data_array = data_array.reshape(-1, len(columns[freq]))\n",
    "\n",
    "    # Prepend date to HH:MM strings\n",
    "    if freq == '5min':\n",
    "        timestamps = ['%s %s' % (date, t) for t in hours]\n",
    "    else:\n",
    "        timestamps = hours\n",
    "\n",
    "    # Convert to dataframe\n",
    "    df = pd.DataFrame(index=timestamps, data=data_array, columns=columns[freq])\n",
    "    df.index = pd.to_datetime(df.index, format='%Y-%m-%d %I:%M %p')\n",
    "    df.reset_index(inplace=True)\n",
    "    df.rename(columns={'index': 'Timestamp'}, inplace=True)\n",
    "\n",
    "    return df\n",
    "\n",
    "def scrape_multiattempt(station, date, freq, chromedriver_path, attempts, wait_time):\n",
    "    \"\"\"Try to scrape data from Weather Underground. If there is an error on the\n",
    "    first attempt, try again.\n",
    "\n",
    "    Parameters\n",
    "    ----------\n",
    "        station : str\n",
    "            The personal weather station ID\n",
    "        date : str\n",
    "            The date for which to acquire data, formatted as 'YYYY-MM-DD'\n",
    "        freq : {'5min', 'daily'}\n",
    "            Whether to download 5-minute weather observations or daily\n",
    "            summaries (average, min and max for each day)\n",
    "        chromedriver_path : str\n",
    "            Path to the location of chromedriver\n",
    "        attempts : int, default 4\n",
    "            Maximum number of times to try accessing before failure\n",
    "        wait_time : float, default 5.0\n",
    "            Amount of time to wait in between attempts\n",
    "        \n",
    "    Returns\n",
    "    -------\n",
    "        df : dataframe or None\n",
    "            A dataframe of weather observations, with index as pd.DateTimeIndex\n",
    "            and columns as the observed data\n",
    "    \"\"\"\n",
    "\n",
    "    # Try to download data limited number of attempts\n",
    "    for n in range(attempts):\n",
    "        try:\n",
    "            df = scrape_wunderground(station, date, freq, chromedriver_path)\n",
    "        except:\n",
    "            # if unsuccessful, pause and retry\n",
    "            time.sleep(wait_time)\n",
    "        else:\n",
    "            # if successful, then break\n",
    "            break\n",
    "    # If all attempts failed, return empty df\n",
    "    else:\n",
    "        df = pd.DataFrame()\n",
    "\n",
    "    return df\n",
    "\n",
    "def scrape_multidate(station, start_date, end_date, freq):\n",
    "    \"\"\"Given a PWS station ID and a start and end date, scrape data from Weather\n",
    "        Underground for that date range and return it as a dataframe.\n",
    "\n",
    "        Parameters\n",
    "        ----------\n",
    "            station : str\n",
    "                The personal weather station ID\n",
    "            start_date : str\n",
    "                The date for which to begin acquiring data, formatted as 'YYYY-MM-DD'\n",
    "            end_date : str\n",
    "                The date for which to end acquiring data, formatted as 'YYYY-MM-DD'\n",
    "\n",
    "        Returns\n",
    "        -------\n",
    "            df : dataframe or None\n",
    "                A dataframe of weather observations, with index as pd.DateTimeIndex\n",
    "                and columns as the observed data\n",
    "        \"\"\"\n",
    "    # Convert end_date and start_date to datetime types\n",
    "    end_date = datetime.strptime(end_date, '%Y-%m-%d').date()\n",
    "    start_date = datetime.strptime(start_date, '%Y-%m-%d').date()\n",
    "\n",
    "    # Calculate time delta\n",
    "    delta = end_date - start_date\n",
    "\n",
    "    # Create list dates and append all days within the start and end date to dates\n",
    "    dates = []\n",
    "    for i in range(delta.days + 1):\n",
    "        day = start_date + timedelta(days=i)\n",
    "        dates.append(day)\n",
    "    dates = [date.strftime('%Y-%m-%d') for date in dates]\n",
    "\n",
    "    # Repeat the station name in a list for as many dates are in the date range\n",
    "    stations = [station] * len(dates)\n",
    "\n",
    "    # Scrape wunderground for data from all dates in range and store in list of dateframes\n",
    "    df_list = list(map(scrape_multiattempt, stations, dates, freq=freq))\n",
    "\n",
    "    # Convert list of dataframes to one dataframe\n",
    "    df = pd.concat(df_list)\n",
    "\n",
    "    return df\n",
    "\n",
    "def create_graphs(df):\n",
    "    if df is None:\n",
    "        return None\n",
    "    \n",
    "    temperature = go.Scatter(\n",
    "            x = df['Timestamp'],\n",
    "            y = df['Temperature'],\n",
    "            name = 'temperature'\n",
    "    )\n",
    "\n",
    "    dewpoint = go.Scatter(\n",
    "        x = df['Timestamp'],\n",
    "        y = df['Dew Point'],\n",
    "        name = 'dewpoint'\n",
    "    )\n",
    "\n",
    "    # windspeed = go.Scatter(\n",
    "    #     x = df['Timestamp'],\n",
    "    #     y = df['Wind Speed'],\n",
    "    #     name = 'windspeed'\n",
    "    # )\n",
    "\n",
    "    temp_dew = make_subplots(specs=[[{\"secondary_y\": True}]])\n",
    "    temp_dew.add_trace(temperature, secondary_y=False)\n",
    "    temp_dew.add_trace(dewpoint, secondary_y=True)\n",
    "    \n",
    "    # temp_dew_json = temp_dew.to_json()\n",
    "    temp_dew_json = json.dumps(temp_dew, cls=plotly.utils.PlotlyJSONEncoder)\n",
    "    # windspeed_json = json.dumps(windspeed, cls=plotly.utils.PlotlyJSONEncoder)\n",
    "\n",
    "    return temp_dew_json, windspeed_json\n",
    "    # return temp_dew_json\n",
    "\n",
    "def df_to_html(df, station, date):\n",
    "    return df.to_html('%s_%s.html' % (station, date))\n",
    "\n",
    "def df_to_csv(df, station, date):\n",
    "    return df.to_csv('%s_%s.csv' % (station, date))\n",
    "\n",
    "@app.route('/graph')\n",
    "def graph():\n",
    "    temp_dew_json, windspeed_json = create_graphs(df)\n",
    "    # temp_dew_json = create_graphs(df)\n",
    "    # return jsonify(temp_dew=temp_dew_json, windspeed=windspeed_json)\n",
    "    return jsonify(temp_dew=temp_dew_json)\n",
    "    # return temp_dew_json\n",
    "\n",
    "@app.route('/')\n",
    "def index():\n",
    "    return render_template('index.html')"
   ]
  },
  {
   "cell_type": "code",
   "execution_count": 40,
   "id": "c8ec0d6f-5c8e-4477-a979-88e345c82ba1",
   "metadata": {},
   "outputs": [],
   "source": [
    "ws = WeatherStation()"
   ]
  },
  {
   "cell_type": "code",
   "execution_count": 41,
   "id": "eb1860a0-28e4-4430-a1a5-591036c4aad1",
   "metadata": {},
   "outputs": [],
   "source": [
    "df = scrape_multiattempt(ws.station, ws.date, ws.freq, ws.chromedriver_path, attempts=4, wait_time=5.0)"
   ]
  },
  {
   "cell_type": "code",
   "execution_count": 42,
   "id": "d5699972-6515-480c-bf78-202ee95a57d9",
   "metadata": {},
   "outputs": [],
   "source": [
    "from IPython.display import display"
   ]
  },
  {
   "cell_type": "code",
   "execution_count": 43,
   "id": "2ef5abac-ea54-4df1-9913-37afd4f2a994",
   "metadata": {},
   "outputs": [
    {
     "data": {
      "text/html": [
       "<div>\n",
       "<style scoped>\n",
       "    .dataframe tbody tr th:only-of-type {\n",
       "        vertical-align: middle;\n",
       "    }\n",
       "\n",
       "    .dataframe tbody tr th {\n",
       "        vertical-align: top;\n",
       "    }\n",
       "\n",
       "    .dataframe thead th {\n",
       "        text-align: right;\n",
       "    }\n",
       "</style>\n",
       "<table border=\"1\" class=\"dataframe\">\n",
       "  <thead>\n",
       "    <tr style=\"text-align: right;\">\n",
       "      <th></th>\n",
       "      <th>Timestamp</th>\n",
       "      <th>Temperature</th>\n",
       "      <th>Dew Point</th>\n",
       "      <th>Humidity</th>\n",
       "      <th>Wind Speed</th>\n",
       "      <th>Wind Gust</th>\n",
       "      <th>Pressure</th>\n",
       "      <th>Precip. Rate</th>\n",
       "      <th>Precip. Accum.</th>\n",
       "    </tr>\n",
       "  </thead>\n",
       "  <tbody>\n",
       "    <tr>\n",
       "      <th>0</th>\n",
       "      <td>2024-09-16 00:04:00</td>\n",
       "      <td>77.0</td>\n",
       "      <td>62.5</td>\n",
       "      <td>61.0</td>\n",
       "      <td>1.7</td>\n",
       "      <td>2.8</td>\n",
       "      <td>30.15</td>\n",
       "      <td>0.0</td>\n",
       "      <td>0.0</td>\n",
       "    </tr>\n",
       "    <tr>\n",
       "      <th>1</th>\n",
       "      <td>2024-09-16 00:09:00</td>\n",
       "      <td>76.7</td>\n",
       "      <td>62.4</td>\n",
       "      <td>61.0</td>\n",
       "      <td>1.0</td>\n",
       "      <td>1.5</td>\n",
       "      <td>30.14</td>\n",
       "      <td>0.0</td>\n",
       "      <td>0.0</td>\n",
       "    </tr>\n",
       "    <tr>\n",
       "      <th>2</th>\n",
       "      <td>2024-09-16 00:14:00</td>\n",
       "      <td>76.6</td>\n",
       "      <td>62.4</td>\n",
       "      <td>62.0</td>\n",
       "      <td>1.8</td>\n",
       "      <td>3.1</td>\n",
       "      <td>30.15</td>\n",
       "      <td>0.0</td>\n",
       "      <td>0.0</td>\n",
       "    </tr>\n",
       "    <tr>\n",
       "      <th>3</th>\n",
       "      <td>2024-09-16 00:19:00</td>\n",
       "      <td>76.6</td>\n",
       "      <td>62.1</td>\n",
       "      <td>61.0</td>\n",
       "      <td>1.9</td>\n",
       "      <td>2.8</td>\n",
       "      <td>30.15</td>\n",
       "      <td>0.0</td>\n",
       "      <td>0.0</td>\n",
       "    </tr>\n",
       "    <tr>\n",
       "      <th>4</th>\n",
       "      <td>2024-09-16 00:24:00</td>\n",
       "      <td>76.5</td>\n",
       "      <td>62.5</td>\n",
       "      <td>62.0</td>\n",
       "      <td>0.2</td>\n",
       "      <td>0.4</td>\n",
       "      <td>30.15</td>\n",
       "      <td>0.0</td>\n",
       "      <td>0.0</td>\n",
       "    </tr>\n",
       "    <tr>\n",
       "      <th>...</th>\n",
       "      <td>...</td>\n",
       "      <td>...</td>\n",
       "      <td>...</td>\n",
       "      <td>...</td>\n",
       "      <td>...</td>\n",
       "      <td>...</td>\n",
       "      <td>...</td>\n",
       "      <td>...</td>\n",
       "      <td>...</td>\n",
       "    </tr>\n",
       "    <tr>\n",
       "      <th>201</th>\n",
       "      <td>2024-09-16 16:49:00</td>\n",
       "      <td>86.8</td>\n",
       "      <td>63.0</td>\n",
       "      <td>45.0</td>\n",
       "      <td>3.9</td>\n",
       "      <td>5.4</td>\n",
       "      <td>30.11</td>\n",
       "      <td>0.0</td>\n",
       "      <td>0.0</td>\n",
       "    </tr>\n",
       "    <tr>\n",
       "      <th>202</th>\n",
       "      <td>2024-09-16 16:54:00</td>\n",
       "      <td>88.9</td>\n",
       "      <td>63.2</td>\n",
       "      <td>43.0</td>\n",
       "      <td>3.0</td>\n",
       "      <td>4.6</td>\n",
       "      <td>30.12</td>\n",
       "      <td>0.0</td>\n",
       "      <td>0.0</td>\n",
       "    </tr>\n",
       "    <tr>\n",
       "      <th>203</th>\n",
       "      <td>2024-09-16 16:59:00</td>\n",
       "      <td>90.1</td>\n",
       "      <td>63.1</td>\n",
       "      <td>41.0</td>\n",
       "      <td>4.6</td>\n",
       "      <td>6.5</td>\n",
       "      <td>30.12</td>\n",
       "      <td>0.0</td>\n",
       "      <td>0.0</td>\n",
       "    </tr>\n",
       "    <tr>\n",
       "      <th>204</th>\n",
       "      <td>2024-09-16 17:04:00</td>\n",
       "      <td>89.6</td>\n",
       "      <td>62.9</td>\n",
       "      <td>41.0</td>\n",
       "      <td>4.9</td>\n",
       "      <td>6.5</td>\n",
       "      <td>30.11</td>\n",
       "      <td>0.0</td>\n",
       "      <td>0.0</td>\n",
       "    </tr>\n",
       "    <tr>\n",
       "      <th>205</th>\n",
       "      <td>2024-09-16 17:09:00</td>\n",
       "      <td>89.6</td>\n",
       "      <td>63.2</td>\n",
       "      <td>42.0</td>\n",
       "      <td>4.4</td>\n",
       "      <td>6.0</td>\n",
       "      <td>30.11</td>\n",
       "      <td>0.0</td>\n",
       "      <td>0.0</td>\n",
       "    </tr>\n",
       "  </tbody>\n",
       "</table>\n",
       "<p>206 rows × 9 columns</p>\n",
       "</div>"
      ],
      "text/plain": [
       "              Timestamp  Temperature  Dew Point  Humidity  Wind Speed  \\\n",
       "0   2024-09-16 00:04:00         77.0       62.5      61.0         1.7   \n",
       "1   2024-09-16 00:09:00         76.7       62.4      61.0         1.0   \n",
       "2   2024-09-16 00:14:00         76.6       62.4      62.0         1.8   \n",
       "3   2024-09-16 00:19:00         76.6       62.1      61.0         1.9   \n",
       "4   2024-09-16 00:24:00         76.5       62.5      62.0         0.2   \n",
       "..                  ...          ...        ...       ...         ...   \n",
       "201 2024-09-16 16:49:00         86.8       63.0      45.0         3.9   \n",
       "202 2024-09-16 16:54:00         88.9       63.2      43.0         3.0   \n",
       "203 2024-09-16 16:59:00         90.1       63.1      41.0         4.6   \n",
       "204 2024-09-16 17:04:00         89.6       62.9      41.0         4.9   \n",
       "205 2024-09-16 17:09:00         89.6       63.2      42.0         4.4   \n",
       "\n",
       "     Wind Gust  Pressure  Precip. Rate  Precip. Accum.  \n",
       "0          2.8     30.15           0.0             0.0  \n",
       "1          1.5     30.14           0.0             0.0  \n",
       "2          3.1     30.15           0.0             0.0  \n",
       "3          2.8     30.15           0.0             0.0  \n",
       "4          0.4     30.15           0.0             0.0  \n",
       "..         ...       ...           ...             ...  \n",
       "201        5.4     30.11           0.0             0.0  \n",
       "202        4.6     30.12           0.0             0.0  \n",
       "203        6.5     30.12           0.0             0.0  \n",
       "204        6.5     30.11           0.0             0.0  \n",
       "205        6.0     30.11           0.0             0.0  \n",
       "\n",
       "[206 rows x 9 columns]"
      ]
     },
     "metadata": {},
     "output_type": "display_data"
    }
   ],
   "source": [
    "display(df)"
   ]
  },
  {
   "cell_type": "code",
   "execution_count": 46,
   "id": "1ab7adb8-8114-4fa2-8eca-48bfab3dcf87",
   "metadata": {},
   "outputs": [],
   "source": [
    "temperature = go.Scatter(\n",
    "    x = df['Timestamp'],\n",
    "    y = df['Temperature'],\n",
    "    name='temperature'\n",
    ")\n",
    "\n",
    "dewpoint = go.Scatter(\n",
    "    x = df['Timestamp'],\n",
    "    y = df['Dew Point'],\n",
    "    name='dewpoint'\n",
    ")\n",
    "\n",
    "windspeed = go.Scatter(\n",
    "    x = df['Timestamp'],\n",
    "    y = df['Wind Speed'],\n",
    "    name = 'windspeed'\n",
    ")"
   ]
  },
  {
   "cell_type": "code",
   "execution_count": 47,
   "id": "25298fa6-4f4b-414b-a9f5-7e58b48492ac",
   "metadata": {},
   "outputs": [],
   "source": [
    "from plotly.offline import init_notebook_mode, iplot\n",
    "from plotly.subplots import make_subplots"
   ]
  },
  {
   "cell_type": "code",
   "execution_count": 63,
   "id": "e0355e67-5e90-4f20-81f2-8726fe5b7bc7",
   "metadata": {},
   "outputs": [
    {
     "data": {
      "application/vnd.plotly.v1+json": {
       "config": {
        "linkText": "Export to plot.ly",
        "plotlyServerURL": "https://plot.ly",
        "showLink": false
       },
       "data": [
        {
         "name": "temperature",
         "type": "scatter",
         "x": [
          "2024-09-16T00:04:00",
          "2024-09-16T00:09:00",
          "2024-09-16T00:14:00",
          "2024-09-16T00:19:00",
          "2024-09-16T00:24:00",
          "2024-09-16T00:29:00",
          "2024-09-16T00:34:00",
          "2024-09-16T00:39:00",
          "2024-09-16T00:44:00",
          "2024-09-16T00:49:00",
          "2024-09-16T00:54:00",
          "2024-09-16T00:59:00",
          "2024-09-16T01:04:00",
          "2024-09-16T01:09:00",
          "2024-09-16T01:14:00",
          "2024-09-16T01:19:00",
          "2024-09-16T01:24:00",
          "2024-09-16T01:29:00",
          "2024-09-16T01:34:00",
          "2024-09-16T01:39:00",
          "2024-09-16T01:44:00",
          "2024-09-16T01:49:00",
          "2024-09-16T01:54:00",
          "2024-09-16T01:59:00",
          "2024-09-16T02:04:00",
          "2024-09-16T02:09:00",
          "2024-09-16T02:14:00",
          "2024-09-16T02:19:00",
          "2024-09-16T02:24:00",
          "2024-09-16T02:29:00",
          "2024-09-16T02:34:00",
          "2024-09-16T02:39:00",
          "2024-09-16T02:44:00",
          "2024-09-16T02:49:00",
          "2024-09-16T02:54:00",
          "2024-09-16T02:59:00",
          "2024-09-16T03:04:00",
          "2024-09-16T03:09:00",
          "2024-09-16T03:14:00",
          "2024-09-16T03:19:00",
          "2024-09-16T03:24:00",
          "2024-09-16T03:29:00",
          "2024-09-16T03:34:00",
          "2024-09-16T03:39:00",
          "2024-09-16T03:44:00",
          "2024-09-16T03:49:00",
          "2024-09-16T03:54:00",
          "2024-09-16T03:59:00",
          "2024-09-16T04:04:00",
          "2024-09-16T04:09:00",
          "2024-09-16T04:14:00",
          "2024-09-16T04:19:00",
          "2024-09-16T04:24:00",
          "2024-09-16T04:29:00",
          "2024-09-16T04:34:00",
          "2024-09-16T04:39:00",
          "2024-09-16T04:44:00",
          "2024-09-16T04:49:00",
          "2024-09-16T04:54:00",
          "2024-09-16T04:59:00",
          "2024-09-16T05:04:00",
          "2024-09-16T05:09:00",
          "2024-09-16T05:14:00",
          "2024-09-16T05:19:00",
          "2024-09-16T05:24:00",
          "2024-09-16T05:29:00",
          "2024-09-16T05:34:00",
          "2024-09-16T05:39:00",
          "2024-09-16T05:44:00",
          "2024-09-16T05:49:00",
          "2024-09-16T05:54:00",
          "2024-09-16T05:59:00",
          "2024-09-16T06:04:00",
          "2024-09-16T06:09:00",
          "2024-09-16T06:14:00",
          "2024-09-16T06:19:00",
          "2024-09-16T06:24:00",
          "2024-09-16T06:29:00",
          "2024-09-16T06:34:00",
          "2024-09-16T06:39:00",
          "2024-09-16T06:44:00",
          "2024-09-16T06:49:00",
          "2024-09-16T06:54:00",
          "2024-09-16T06:59:00",
          "2024-09-16T07:04:00",
          "2024-09-16T07:09:00",
          "2024-09-16T07:14:00",
          "2024-09-16T07:19:00",
          "2024-09-16T07:24:00",
          "2024-09-16T07:29:00",
          "2024-09-16T07:34:00",
          "2024-09-16T07:39:00",
          "2024-09-16T07:44:00",
          "2024-09-16T07:49:00",
          "2024-09-16T07:54:00",
          "2024-09-16T07:59:00",
          "2024-09-16T08:04:00",
          "2024-09-16T08:09:00",
          "2024-09-16T08:14:00",
          "2024-09-16T08:19:00",
          "2024-09-16T08:24:00",
          "2024-09-16T08:29:00",
          "2024-09-16T08:34:00",
          "2024-09-16T08:39:00",
          "2024-09-16T08:44:00",
          "2024-09-16T08:49:00",
          "2024-09-16T08:54:00",
          "2024-09-16T08:59:00",
          "2024-09-16T09:04:00",
          "2024-09-16T09:09:00",
          "2024-09-16T09:14:00",
          "2024-09-16T09:19:00",
          "2024-09-16T09:24:00",
          "2024-09-16T09:29:00",
          "2024-09-16T09:34:00",
          "2024-09-16T09:39:00",
          "2024-09-16T09:44:00",
          "2024-09-16T09:49:00",
          "2024-09-16T09:54:00",
          "2024-09-16T09:59:00",
          "2024-09-16T10:04:00",
          "2024-09-16T10:09:00",
          "2024-09-16T10:14:00",
          "2024-09-16T10:19:00",
          "2024-09-16T10:24:00",
          "2024-09-16T10:29:00",
          "2024-09-16T10:34:00",
          "2024-09-16T10:39:00",
          "2024-09-16T10:44:00",
          "2024-09-16T10:49:00",
          "2024-09-16T10:54:00",
          "2024-09-16T10:59:00",
          "2024-09-16T11:04:00",
          "2024-09-16T11:09:00",
          "2024-09-16T11:14:00",
          "2024-09-16T11:19:00",
          "2024-09-16T11:24:00",
          "2024-09-16T11:29:00",
          "2024-09-16T11:34:00",
          "2024-09-16T11:39:00",
          "2024-09-16T11:44:00",
          "2024-09-16T11:49:00",
          "2024-09-16T11:54:00",
          "2024-09-16T11:59:00",
          "2024-09-16T12:04:00",
          "2024-09-16T12:09:00",
          "2024-09-16T12:14:00",
          "2024-09-16T12:19:00",
          "2024-09-16T12:24:00",
          "2024-09-16T12:29:00",
          "2024-09-16T12:34:00",
          "2024-09-16T12:39:00",
          "2024-09-16T12:44:00",
          "2024-09-16T12:49:00",
          "2024-09-16T12:54:00",
          "2024-09-16T12:59:00",
          "2024-09-16T13:04:00",
          "2024-09-16T13:09:00",
          "2024-09-16T13:14:00",
          "2024-09-16T13:19:00",
          "2024-09-16T13:24:00",
          "2024-09-16T13:29:00",
          "2024-09-16T13:34:00",
          "2024-09-16T13:39:00",
          "2024-09-16T13:44:00",
          "2024-09-16T13:49:00",
          "2024-09-16T13:54:00",
          "2024-09-16T13:59:00",
          "2024-09-16T14:04:00",
          "2024-09-16T14:09:00",
          "2024-09-16T14:14:00",
          "2024-09-16T14:19:00",
          "2024-09-16T14:24:00",
          "2024-09-16T14:29:00",
          "2024-09-16T14:34:00",
          "2024-09-16T14:39:00",
          "2024-09-16T14:44:00",
          "2024-09-16T14:49:00",
          "2024-09-16T14:54:00",
          "2024-09-16T14:59:00",
          "2024-09-16T15:04:00",
          "2024-09-16T15:09:00",
          "2024-09-16T15:14:00",
          "2024-09-16T15:19:00",
          "2024-09-16T15:24:00",
          "2024-09-16T15:29:00",
          "2024-09-16T15:34:00",
          "2024-09-16T15:39:00",
          "2024-09-16T15:44:00",
          "2024-09-16T15:49:00",
          "2024-09-16T15:54:00",
          "2024-09-16T15:59:00",
          "2024-09-16T16:04:00",
          "2024-09-16T16:09:00",
          "2024-09-16T16:14:00",
          "2024-09-16T16:19:00",
          "2024-09-16T16:24:00",
          "2024-09-16T16:29:00",
          "2024-09-16T16:34:00",
          "2024-09-16T16:39:00",
          "2024-09-16T16:44:00",
          "2024-09-16T16:49:00",
          "2024-09-16T16:54:00",
          "2024-09-16T16:59:00",
          "2024-09-16T17:04:00",
          "2024-09-16T17:09:00"
         ],
         "xaxis": "x",
         "y": [
          77,
          76.7,
          76.6,
          76.6,
          76.5,
          76.3,
          76,
          75.9,
          75.8,
          75.8,
          75.7,
          75.6,
          75.5,
          75.2,
          75.1,
          75,
          74.8,
          74.6,
          74.5,
          74.5,
          74.3,
          74.2,
          74.1,
          73.9,
          73.9,
          73.9,
          73.8,
          73.6,
          73.4,
          73.3,
          73.1,
          73,
          72.8,
          72.9,
          72.8,
          72.7,
          72.5,
          72.3,
          72.1,
          72.1,
          72.1,
          71.9,
          71.7,
          71.5,
          71.4,
          71.3,
          71.2,
          70.9,
          70.6,
          70.3,
          70.2,
          70.3,
          70.2,
          70.1,
          70,
          69.9,
          69.7,
          69.4,
          69.3,
          69.2,
          69.1,
          68.9,
          68.8,
          68.8,
          68.4,
          68.2,
          68.1,
          68,
          67.9,
          67.7,
          67.6,
          67.6,
          67.7,
          67.7,
          67.6,
          67.6,
          67.5,
          67.3,
          67.2,
          67.1,
          66.8,
          67,
          67,
          66.9,
          66.8,
          66.7,
          66.7,
          66.6,
          66.6,
          66.5,
          66.7,
          66.7,
          66.8,
          67,
          67.1,
          67.1,
          67.3,
          67.4,
          67.5,
          67.9,
          68.3,
          68.5,
          68.9,
          69.2,
          69.5,
          69.6,
          69.7,
          70.2,
          71.4,
          72,
          72.9,
          73.2,
          73.2,
          74.3,
          74.8,
          75.3,
          75.4,
          75.9,
          75.5,
          75.8,
          75.8,
          76.1,
          76.8,
          77.8,
          78.2,
          77.9,
          78.4,
          78.5,
          78.4,
          78.7,
          79.3,
          79.5,
          80.1,
          80.7,
          80.6,
          80.9,
          81.3,
          81.6,
          81.3,
          81.9,
          82.5,
          82.7,
          82.7,
          83.1,
          83.4,
          83.8,
          83.4,
          83.4,
          82.7,
          82.9,
          83.3,
          83.3,
          83.4,
          83.7,
          84.5,
          85.1,
          85.6,
          85.3,
          85.8,
          85.8,
          85.2,
          84.9,
          85.4,
          85.4,
          86.4,
          86.7,
          87,
          87.5,
          87.9,
          87.7,
          87.9,
          88.5,
          87.8,
          87.4,
          88,
          89,
          88.6,
          88.2,
          89.1,
          88.9,
          88.9,
          89.5,
          89.8,
          90,
          89.4,
          90,
          90.7,
          90.1,
          88.9,
          87.9,
          87.2,
          86.8,
          86.9,
          86.6,
          86.5,
          86,
          86.1,
          85.9,
          85.3,
          85.4,
          85.9,
          86.8,
          88.9,
          90.1,
          89.6,
          89.6
         ],
         "yaxis": "y"
        },
        {
         "name": "dewpoint",
         "type": "scatter",
         "x": [
          "2024-09-16T00:04:00",
          "2024-09-16T00:09:00",
          "2024-09-16T00:14:00",
          "2024-09-16T00:19:00",
          "2024-09-16T00:24:00",
          "2024-09-16T00:29:00",
          "2024-09-16T00:34:00",
          "2024-09-16T00:39:00",
          "2024-09-16T00:44:00",
          "2024-09-16T00:49:00",
          "2024-09-16T00:54:00",
          "2024-09-16T00:59:00",
          "2024-09-16T01:04:00",
          "2024-09-16T01:09:00",
          "2024-09-16T01:14:00",
          "2024-09-16T01:19:00",
          "2024-09-16T01:24:00",
          "2024-09-16T01:29:00",
          "2024-09-16T01:34:00",
          "2024-09-16T01:39:00",
          "2024-09-16T01:44:00",
          "2024-09-16T01:49:00",
          "2024-09-16T01:54:00",
          "2024-09-16T01:59:00",
          "2024-09-16T02:04:00",
          "2024-09-16T02:09:00",
          "2024-09-16T02:14:00",
          "2024-09-16T02:19:00",
          "2024-09-16T02:24:00",
          "2024-09-16T02:29:00",
          "2024-09-16T02:34:00",
          "2024-09-16T02:39:00",
          "2024-09-16T02:44:00",
          "2024-09-16T02:49:00",
          "2024-09-16T02:54:00",
          "2024-09-16T02:59:00",
          "2024-09-16T03:04:00",
          "2024-09-16T03:09:00",
          "2024-09-16T03:14:00",
          "2024-09-16T03:19:00",
          "2024-09-16T03:24:00",
          "2024-09-16T03:29:00",
          "2024-09-16T03:34:00",
          "2024-09-16T03:39:00",
          "2024-09-16T03:44:00",
          "2024-09-16T03:49:00",
          "2024-09-16T03:54:00",
          "2024-09-16T03:59:00",
          "2024-09-16T04:04:00",
          "2024-09-16T04:09:00",
          "2024-09-16T04:14:00",
          "2024-09-16T04:19:00",
          "2024-09-16T04:24:00",
          "2024-09-16T04:29:00",
          "2024-09-16T04:34:00",
          "2024-09-16T04:39:00",
          "2024-09-16T04:44:00",
          "2024-09-16T04:49:00",
          "2024-09-16T04:54:00",
          "2024-09-16T04:59:00",
          "2024-09-16T05:04:00",
          "2024-09-16T05:09:00",
          "2024-09-16T05:14:00",
          "2024-09-16T05:19:00",
          "2024-09-16T05:24:00",
          "2024-09-16T05:29:00",
          "2024-09-16T05:34:00",
          "2024-09-16T05:39:00",
          "2024-09-16T05:44:00",
          "2024-09-16T05:49:00",
          "2024-09-16T05:54:00",
          "2024-09-16T05:59:00",
          "2024-09-16T06:04:00",
          "2024-09-16T06:09:00",
          "2024-09-16T06:14:00",
          "2024-09-16T06:19:00",
          "2024-09-16T06:24:00",
          "2024-09-16T06:29:00",
          "2024-09-16T06:34:00",
          "2024-09-16T06:39:00",
          "2024-09-16T06:44:00",
          "2024-09-16T06:49:00",
          "2024-09-16T06:54:00",
          "2024-09-16T06:59:00",
          "2024-09-16T07:04:00",
          "2024-09-16T07:09:00",
          "2024-09-16T07:14:00",
          "2024-09-16T07:19:00",
          "2024-09-16T07:24:00",
          "2024-09-16T07:29:00",
          "2024-09-16T07:34:00",
          "2024-09-16T07:39:00",
          "2024-09-16T07:44:00",
          "2024-09-16T07:49:00",
          "2024-09-16T07:54:00",
          "2024-09-16T07:59:00",
          "2024-09-16T08:04:00",
          "2024-09-16T08:09:00",
          "2024-09-16T08:14:00",
          "2024-09-16T08:19:00",
          "2024-09-16T08:24:00",
          "2024-09-16T08:29:00",
          "2024-09-16T08:34:00",
          "2024-09-16T08:39:00",
          "2024-09-16T08:44:00",
          "2024-09-16T08:49:00",
          "2024-09-16T08:54:00",
          "2024-09-16T08:59:00",
          "2024-09-16T09:04:00",
          "2024-09-16T09:09:00",
          "2024-09-16T09:14:00",
          "2024-09-16T09:19:00",
          "2024-09-16T09:24:00",
          "2024-09-16T09:29:00",
          "2024-09-16T09:34:00",
          "2024-09-16T09:39:00",
          "2024-09-16T09:44:00",
          "2024-09-16T09:49:00",
          "2024-09-16T09:54:00",
          "2024-09-16T09:59:00",
          "2024-09-16T10:04:00",
          "2024-09-16T10:09:00",
          "2024-09-16T10:14:00",
          "2024-09-16T10:19:00",
          "2024-09-16T10:24:00",
          "2024-09-16T10:29:00",
          "2024-09-16T10:34:00",
          "2024-09-16T10:39:00",
          "2024-09-16T10:44:00",
          "2024-09-16T10:49:00",
          "2024-09-16T10:54:00",
          "2024-09-16T10:59:00",
          "2024-09-16T11:04:00",
          "2024-09-16T11:09:00",
          "2024-09-16T11:14:00",
          "2024-09-16T11:19:00",
          "2024-09-16T11:24:00",
          "2024-09-16T11:29:00",
          "2024-09-16T11:34:00",
          "2024-09-16T11:39:00",
          "2024-09-16T11:44:00",
          "2024-09-16T11:49:00",
          "2024-09-16T11:54:00",
          "2024-09-16T11:59:00",
          "2024-09-16T12:04:00",
          "2024-09-16T12:09:00",
          "2024-09-16T12:14:00",
          "2024-09-16T12:19:00",
          "2024-09-16T12:24:00",
          "2024-09-16T12:29:00",
          "2024-09-16T12:34:00",
          "2024-09-16T12:39:00",
          "2024-09-16T12:44:00",
          "2024-09-16T12:49:00",
          "2024-09-16T12:54:00",
          "2024-09-16T12:59:00",
          "2024-09-16T13:04:00",
          "2024-09-16T13:09:00",
          "2024-09-16T13:14:00",
          "2024-09-16T13:19:00",
          "2024-09-16T13:24:00",
          "2024-09-16T13:29:00",
          "2024-09-16T13:34:00",
          "2024-09-16T13:39:00",
          "2024-09-16T13:44:00",
          "2024-09-16T13:49:00",
          "2024-09-16T13:54:00",
          "2024-09-16T13:59:00",
          "2024-09-16T14:04:00",
          "2024-09-16T14:09:00",
          "2024-09-16T14:14:00",
          "2024-09-16T14:19:00",
          "2024-09-16T14:24:00",
          "2024-09-16T14:29:00",
          "2024-09-16T14:34:00",
          "2024-09-16T14:39:00",
          "2024-09-16T14:44:00",
          "2024-09-16T14:49:00",
          "2024-09-16T14:54:00",
          "2024-09-16T14:59:00",
          "2024-09-16T15:04:00",
          "2024-09-16T15:09:00",
          "2024-09-16T15:14:00",
          "2024-09-16T15:19:00",
          "2024-09-16T15:24:00",
          "2024-09-16T15:29:00",
          "2024-09-16T15:34:00",
          "2024-09-16T15:39:00",
          "2024-09-16T15:44:00",
          "2024-09-16T15:49:00",
          "2024-09-16T15:54:00",
          "2024-09-16T15:59:00",
          "2024-09-16T16:04:00",
          "2024-09-16T16:09:00",
          "2024-09-16T16:14:00",
          "2024-09-16T16:19:00",
          "2024-09-16T16:24:00",
          "2024-09-16T16:29:00",
          "2024-09-16T16:34:00",
          "2024-09-16T16:39:00",
          "2024-09-16T16:44:00",
          "2024-09-16T16:49:00",
          "2024-09-16T16:54:00",
          "2024-09-16T16:59:00",
          "2024-09-16T17:04:00",
          "2024-09-16T17:09:00"
         ],
         "xaxis": "x",
         "y": [
          62.5,
          62.4,
          62.4,
          62.1,
          62.5,
          62.3,
          62.2,
          62.4,
          62.3,
          62.3,
          62.2,
          62.1,
          62.5,
          62.2,
          62.1,
          62.1,
          62.2,
          62.5,
          62.4,
          62.4,
          62.2,
          62.1,
          62.1,
          62.2,
          62.2,
          62.2,
          62.1,
          62,
          61.8,
          61.8,
          61.6,
          61.8,
          61.6,
          61.7,
          61.6,
          61.7,
          61.7,
          61.6,
          61.8,
          61.8,
          61.8,
          61.9,
          61.9,
          61.9,
          61.9,
          61.9,
          62.1,
          62.3,
          62.4,
          62.6,
          62.5,
          62.7,
          62.6,
          62.5,
          62.5,
          62.7,
          62.5,
          62.5,
          62.5,
          62.4,
          62.5,
          62.5,
          62.4,
          62.5,
          62.7,
          62.5,
          62.4,
          62.5,
          62.5,
          62.3,
          62.4,
          62.5,
          62.3,
          62.7,
          62.6,
          62.6,
          62.6,
          62.6,
          62.5,
          62.4,
          62.5,
          62.4,
          62.4,
          62.6,
          62.5,
          62.4,
          62.5,
          62.6,
          62.6,
          62.5,
          62.7,
          62.7,
          62.8,
          62.7,
          62.8,
          62.8,
          63,
          63,
          62.9,
          63.2,
          63.5,
          63.5,
          63.9,
          63.8,
          64.1,
          64,
          64,
          64.2,
          64.7,
          64.7,
          65.1,
          65.1,
          65.1,
          65.6,
          65.6,
          65.6,
          65.6,
          65.7,
          65.8,
          65.7,
          65.6,
          66,
          66.6,
          66.7,
          66.3,
          66.4,
          66.3,
          66.3,
          66,
          66.4,
          66.8,
          67,
          67,
          66.9,
          66.8,
          67,
          67,
          67.1,
          67,
          67,
          67.1,
          67.2,
          66.4,
          67.4,
          67.2,
          67,
          66.7,
          66.3,
          66.2,
          66,
          66.4,
          66.2,
          65.9,
          66.1,
          66.5,
          67.3,
          65.9,
          66.5,
          66.3,
          66,
          65.5,
          66,
          65,
          65.6,
          65.8,
          65.8,
          65.9,
          65.6,
          65.6,
          65,
          65.8,
          65.7,
          64.6,
          64.9,
          65,
          65.8,
          64.6,
          64.6,
          64.9,
          63.9,
          64.3,
          65.4,
          64.8,
          64.9,
          64,
          64.8,
          64.3,
          63.6,
          63.5,
          63.6,
          63.3,
          63.4,
          63.3,
          62.9,
          62.7,
          62.8,
          63,
          63.3,
          63.1,
          63.3,
          62.9,
          63,
          63.2,
          63.1,
          62.9,
          63.2
         ],
         "yaxis": "y2"
        }
       ],
       "layout": {
        "autosize": true,
        "template": {
         "data": {
          "bar": [
           {
            "error_x": {
             "color": "#2a3f5f"
            },
            "error_y": {
             "color": "#2a3f5f"
            },
            "marker": {
             "line": {
              "color": "#E5ECF6",
              "width": 0.5
             },
             "pattern": {
              "fillmode": "overlay",
              "size": 10,
              "solidity": 0.2
             }
            },
            "type": "bar"
           }
          ],
          "barpolar": [
           {
            "marker": {
             "line": {
              "color": "#E5ECF6",
              "width": 0.5
             },
             "pattern": {
              "fillmode": "overlay",
              "size": 10,
              "solidity": 0.2
             }
            },
            "type": "barpolar"
           }
          ],
          "carpet": [
           {
            "aaxis": {
             "endlinecolor": "#2a3f5f",
             "gridcolor": "white",
             "linecolor": "white",
             "minorgridcolor": "white",
             "startlinecolor": "#2a3f5f"
            },
            "baxis": {
             "endlinecolor": "#2a3f5f",
             "gridcolor": "white",
             "linecolor": "white",
             "minorgridcolor": "white",
             "startlinecolor": "#2a3f5f"
            },
            "type": "carpet"
           }
          ],
          "choropleth": [
           {
            "colorbar": {
             "outlinewidth": 0,
             "ticks": ""
            },
            "type": "choropleth"
           }
          ],
          "contour": [
           {
            "colorbar": {
             "outlinewidth": 0,
             "ticks": ""
            },
            "colorscale": [
             [
              0,
              "#0d0887"
             ],
             [
              0.1111111111111111,
              "#46039f"
             ],
             [
              0.2222222222222222,
              "#7201a8"
             ],
             [
              0.3333333333333333,
              "#9c179e"
             ],
             [
              0.4444444444444444,
              "#bd3786"
             ],
             [
              0.5555555555555556,
              "#d8576b"
             ],
             [
              0.6666666666666666,
              "#ed7953"
             ],
             [
              0.7777777777777778,
              "#fb9f3a"
             ],
             [
              0.8888888888888888,
              "#fdca26"
             ],
             [
              1,
              "#f0f921"
             ]
            ],
            "type": "contour"
           }
          ],
          "contourcarpet": [
           {
            "colorbar": {
             "outlinewidth": 0,
             "ticks": ""
            },
            "type": "contourcarpet"
           }
          ],
          "heatmap": [
           {
            "colorbar": {
             "outlinewidth": 0,
             "ticks": ""
            },
            "colorscale": [
             [
              0,
              "#0d0887"
             ],
             [
              0.1111111111111111,
              "#46039f"
             ],
             [
              0.2222222222222222,
              "#7201a8"
             ],
             [
              0.3333333333333333,
              "#9c179e"
             ],
             [
              0.4444444444444444,
              "#bd3786"
             ],
             [
              0.5555555555555556,
              "#d8576b"
             ],
             [
              0.6666666666666666,
              "#ed7953"
             ],
             [
              0.7777777777777778,
              "#fb9f3a"
             ],
             [
              0.8888888888888888,
              "#fdca26"
             ],
             [
              1,
              "#f0f921"
             ]
            ],
            "type": "heatmap"
           }
          ],
          "heatmapgl": [
           {
            "colorbar": {
             "outlinewidth": 0,
             "ticks": ""
            },
            "colorscale": [
             [
              0,
              "#0d0887"
             ],
             [
              0.1111111111111111,
              "#46039f"
             ],
             [
              0.2222222222222222,
              "#7201a8"
             ],
             [
              0.3333333333333333,
              "#9c179e"
             ],
             [
              0.4444444444444444,
              "#bd3786"
             ],
             [
              0.5555555555555556,
              "#d8576b"
             ],
             [
              0.6666666666666666,
              "#ed7953"
             ],
             [
              0.7777777777777778,
              "#fb9f3a"
             ],
             [
              0.8888888888888888,
              "#fdca26"
             ],
             [
              1,
              "#f0f921"
             ]
            ],
            "type": "heatmapgl"
           }
          ],
          "histogram": [
           {
            "marker": {
             "pattern": {
              "fillmode": "overlay",
              "size": 10,
              "solidity": 0.2
             }
            },
            "type": "histogram"
           }
          ],
          "histogram2d": [
           {
            "colorbar": {
             "outlinewidth": 0,
             "ticks": ""
            },
            "colorscale": [
             [
              0,
              "#0d0887"
             ],
             [
              0.1111111111111111,
              "#46039f"
             ],
             [
              0.2222222222222222,
              "#7201a8"
             ],
             [
              0.3333333333333333,
              "#9c179e"
             ],
             [
              0.4444444444444444,
              "#bd3786"
             ],
             [
              0.5555555555555556,
              "#d8576b"
             ],
             [
              0.6666666666666666,
              "#ed7953"
             ],
             [
              0.7777777777777778,
              "#fb9f3a"
             ],
             [
              0.8888888888888888,
              "#fdca26"
             ],
             [
              1,
              "#f0f921"
             ]
            ],
            "type": "histogram2d"
           }
          ],
          "histogram2dcontour": [
           {
            "colorbar": {
             "outlinewidth": 0,
             "ticks": ""
            },
            "colorscale": [
             [
              0,
              "#0d0887"
             ],
             [
              0.1111111111111111,
              "#46039f"
             ],
             [
              0.2222222222222222,
              "#7201a8"
             ],
             [
              0.3333333333333333,
              "#9c179e"
             ],
             [
              0.4444444444444444,
              "#bd3786"
             ],
             [
              0.5555555555555556,
              "#d8576b"
             ],
             [
              0.6666666666666666,
              "#ed7953"
             ],
             [
              0.7777777777777778,
              "#fb9f3a"
             ],
             [
              0.8888888888888888,
              "#fdca26"
             ],
             [
              1,
              "#f0f921"
             ]
            ],
            "type": "histogram2dcontour"
           }
          ],
          "mesh3d": [
           {
            "colorbar": {
             "outlinewidth": 0,
             "ticks": ""
            },
            "type": "mesh3d"
           }
          ],
          "parcoords": [
           {
            "line": {
             "colorbar": {
              "outlinewidth": 0,
              "ticks": ""
             }
            },
            "type": "parcoords"
           }
          ],
          "pie": [
           {
            "automargin": true,
            "type": "pie"
           }
          ],
          "scatter": [
           {
            "fillpattern": {
             "fillmode": "overlay",
             "size": 10,
             "solidity": 0.2
            },
            "type": "scatter"
           }
          ],
          "scatter3d": [
           {
            "line": {
             "colorbar": {
              "outlinewidth": 0,
              "ticks": ""
             }
            },
            "marker": {
             "colorbar": {
              "outlinewidth": 0,
              "ticks": ""
             }
            },
            "type": "scatter3d"
           }
          ],
          "scattercarpet": [
           {
            "marker": {
             "colorbar": {
              "outlinewidth": 0,
              "ticks": ""
             }
            },
            "type": "scattercarpet"
           }
          ],
          "scattergeo": [
           {
            "marker": {
             "colorbar": {
              "outlinewidth": 0,
              "ticks": ""
             }
            },
            "type": "scattergeo"
           }
          ],
          "scattergl": [
           {
            "marker": {
             "colorbar": {
              "outlinewidth": 0,
              "ticks": ""
             }
            },
            "type": "scattergl"
           }
          ],
          "scattermapbox": [
           {
            "marker": {
             "colorbar": {
              "outlinewidth": 0,
              "ticks": ""
             }
            },
            "type": "scattermapbox"
           }
          ],
          "scatterpolar": [
           {
            "marker": {
             "colorbar": {
              "outlinewidth": 0,
              "ticks": ""
             }
            },
            "type": "scatterpolar"
           }
          ],
          "scatterpolargl": [
           {
            "marker": {
             "colorbar": {
              "outlinewidth": 0,
              "ticks": ""
             }
            },
            "type": "scatterpolargl"
           }
          ],
          "scatterternary": [
           {
            "marker": {
             "colorbar": {
              "outlinewidth": 0,
              "ticks": ""
             }
            },
            "type": "scatterternary"
           }
          ],
          "surface": [
           {
            "colorbar": {
             "outlinewidth": 0,
             "ticks": ""
            },
            "colorscale": [
             [
              0,
              "#0d0887"
             ],
             [
              0.1111111111111111,
              "#46039f"
             ],
             [
              0.2222222222222222,
              "#7201a8"
             ],
             [
              0.3333333333333333,
              "#9c179e"
             ],
             [
              0.4444444444444444,
              "#bd3786"
             ],
             [
              0.5555555555555556,
              "#d8576b"
             ],
             [
              0.6666666666666666,
              "#ed7953"
             ],
             [
              0.7777777777777778,
              "#fb9f3a"
             ],
             [
              0.8888888888888888,
              "#fdca26"
             ],
             [
              1,
              "#f0f921"
             ]
            ],
            "type": "surface"
           }
          ],
          "table": [
           {
            "cells": {
             "fill": {
              "color": "#EBF0F8"
             },
             "line": {
              "color": "white"
             }
            },
            "header": {
             "fill": {
              "color": "#C8D4E3"
             },
             "line": {
              "color": "white"
             }
            },
            "type": "table"
           }
          ]
         },
         "layout": {
          "annotationdefaults": {
           "arrowcolor": "#2a3f5f",
           "arrowhead": 0,
           "arrowwidth": 1
          },
          "autotypenumbers": "strict",
          "coloraxis": {
           "colorbar": {
            "outlinewidth": 0,
            "ticks": ""
           }
          },
          "colorscale": {
           "diverging": [
            [
             0,
             "#8e0152"
            ],
            [
             0.1,
             "#c51b7d"
            ],
            [
             0.2,
             "#de77ae"
            ],
            [
             0.3,
             "#f1b6da"
            ],
            [
             0.4,
             "#fde0ef"
            ],
            [
             0.5,
             "#f7f7f7"
            ],
            [
             0.6,
             "#e6f5d0"
            ],
            [
             0.7,
             "#b8e186"
            ],
            [
             0.8,
             "#7fbc41"
            ],
            [
             0.9,
             "#4d9221"
            ],
            [
             1,
             "#276419"
            ]
           ],
           "sequential": [
            [
             0,
             "#0d0887"
            ],
            [
             0.1111111111111111,
             "#46039f"
            ],
            [
             0.2222222222222222,
             "#7201a8"
            ],
            [
             0.3333333333333333,
             "#9c179e"
            ],
            [
             0.4444444444444444,
             "#bd3786"
            ],
            [
             0.5555555555555556,
             "#d8576b"
            ],
            [
             0.6666666666666666,
             "#ed7953"
            ],
            [
             0.7777777777777778,
             "#fb9f3a"
            ],
            [
             0.8888888888888888,
             "#fdca26"
            ],
            [
             1,
             "#f0f921"
            ]
           ],
           "sequentialminus": [
            [
             0,
             "#0d0887"
            ],
            [
             0.1111111111111111,
             "#46039f"
            ],
            [
             0.2222222222222222,
             "#7201a8"
            ],
            [
             0.3333333333333333,
             "#9c179e"
            ],
            [
             0.4444444444444444,
             "#bd3786"
            ],
            [
             0.5555555555555556,
             "#d8576b"
            ],
            [
             0.6666666666666666,
             "#ed7953"
            ],
            [
             0.7777777777777778,
             "#fb9f3a"
            ],
            [
             0.8888888888888888,
             "#fdca26"
            ],
            [
             1,
             "#f0f921"
            ]
           ]
          },
          "colorway": [
           "#636efa",
           "#EF553B",
           "#00cc96",
           "#ab63fa",
           "#FFA15A",
           "#19d3f3",
           "#FF6692",
           "#B6E880",
           "#FF97FF",
           "#FECB52"
          ],
          "font": {
           "color": "#2a3f5f"
          },
          "geo": {
           "bgcolor": "white",
           "lakecolor": "white",
           "landcolor": "#E5ECF6",
           "showlakes": true,
           "showland": true,
           "subunitcolor": "white"
          },
          "hoverlabel": {
           "align": "left"
          },
          "hovermode": "closest",
          "mapbox": {
           "style": "light"
          },
          "paper_bgcolor": "white",
          "plot_bgcolor": "#E5ECF6",
          "polar": {
           "angularaxis": {
            "gridcolor": "white",
            "linecolor": "white",
            "ticks": ""
           },
           "bgcolor": "#E5ECF6",
           "radialaxis": {
            "gridcolor": "white",
            "linecolor": "white",
            "ticks": ""
           }
          },
          "scene": {
           "xaxis": {
            "backgroundcolor": "#E5ECF6",
            "gridcolor": "white",
            "gridwidth": 2,
            "linecolor": "white",
            "showbackground": true,
            "ticks": "",
            "zerolinecolor": "white"
           },
           "yaxis": {
            "backgroundcolor": "#E5ECF6",
            "gridcolor": "white",
            "gridwidth": 2,
            "linecolor": "white",
            "showbackground": true,
            "ticks": "",
            "zerolinecolor": "white"
           },
           "zaxis": {
            "backgroundcolor": "#E5ECF6",
            "gridcolor": "white",
            "gridwidth": 2,
            "linecolor": "white",
            "showbackground": true,
            "ticks": "",
            "zerolinecolor": "white"
           }
          },
          "shapedefaults": {
           "line": {
            "color": "#2a3f5f"
           }
          },
          "ternary": {
           "aaxis": {
            "gridcolor": "white",
            "linecolor": "white",
            "ticks": ""
           },
           "baxis": {
            "gridcolor": "white",
            "linecolor": "white",
            "ticks": ""
           },
           "bgcolor": "#E5ECF6",
           "caxis": {
            "gridcolor": "white",
            "linecolor": "white",
            "ticks": ""
           }
          },
          "title": {
           "x": 0.05
          },
          "xaxis": {
           "automargin": true,
           "gridcolor": "white",
           "linecolor": "white",
           "ticks": "",
           "title": {
            "standoff": 15
           },
           "zerolinecolor": "white",
           "zerolinewidth": 2
          },
          "yaxis": {
           "automargin": true,
           "gridcolor": "white",
           "linecolor": "white",
           "ticks": "",
           "title": {
            "standoff": 15
           },
           "zerolinecolor": "white",
           "zerolinewidth": 2
          }
         }
        },
        "xaxis": {
         "anchor": "y",
         "autorange": true,
         "domain": [
          0,
          0.94
         ],
         "range": [
          "2024-09-16 00:04",
          "2024-09-16 17:09"
         ],
         "type": "date"
        },
        "yaxis": {
         "anchor": "x",
         "autorange": true,
         "domain": [
          0,
          1
         ],
         "range": [
          65.15555555555555,
          92.04444444444445
         ],
         "type": "linear"
        },
        "yaxis2": {
         "anchor": "x",
         "autorange": true,
         "overlaying": "y",
         "range": [
          61.27777777777778,
          67.72222222222223
         ],
         "side": "right",
         "type": "linear"
        }
       }
      },
      "image/png": "[encoded data removed]",
      "text/html": [
       "<div>                            <div id=\"037d3e0e-dcbd-4147-bfe6-fc9f6ac4fea7\" class=\"plotly-graph-div\" style=\"height:525px; width:100%;\"></div>            <script type=\"text/javascript\">                require([\"plotly\"], function(Plotly) {                    window.PLOTLYENV=window.PLOTLYENV || {};                                    if (document.getElementById(\"037d3e0e-dcbd-4147-bfe6-fc9f6ac4fea7\")) {                    Plotly.newPlot(                        \"037d3e0e-dcbd-4147-bfe6-fc9f6ac4fea7\",                        [{\"name\":\"temperature\",\"x\":[\"2024-09-16T00:04:00\",\"2024-09-16T00:09:00\",\"2024-09-16T00:14:00\",\"2024-09-16T00:19:00\",\"2024-09-16T00:24:00\",\"2024-09-16T00:29:00\",\"2024-09-16T00:34:00\",\"2024-09-16T00:39:00\",\"2024-09-16T00:44:00\",\"2024-09-16T00:49:00\",\"2024-09-16T00:54:00\",\"2024-09-16T00:59:00\",\"2024-09-16T01:04:00\",\"2024-09-16T01:09:00\",\"2024-09-16T01:14:00\",\"2024-09-16T01:19:00\",\"2024-09-16T01:24:00\",\"2024-09-16T01:29:00\",\"2024-09-16T01:34:00\",\"2024-09-16T01:39:00\",\"2024-09-16T01:44:00\",\"2024-09-16T01:49:00\",\"2024-09-16T01:54:00\",\"2024-09-16T01:59:00\",\"2024-09-16T02:04:00\",\"2024-09-16T02:09:00\",\"2024-09-16T02:14:00\",\"2024-09-16T02:19:00\",\"2024-09-16T02:24:00\",\"2024-09-16T02:29:00\",\"2024-09-16T02:34:00\",\"2024-09-16T02:39:00\",\"2024-09-16T02:44:00\",\"2024-09-16T02:49:00\",\"2024-09-16T02:54:00\",\"2024-09-16T02:59:00\",\"2024-09-16T03:04:00\",\"2024-09-16T03:09:00\",\"2024-09-16T03:14:00\",\"2024-09-16T03:19:00\",\"2024-09-16T03:24:00\",\"2024-09-16T03:29:00\",\"2024-09-16T03:34:00\",\"2024-09-16T03:39:00\",\"2024-09-16T03:44:00\",\"2024-09-16T03:49:00\",\"2024-09-16T03:54:00\",\"2024-09-16T03:59:00\",\"2024-09-16T04:04:00\",\"2024-09-16T04:09:00\",\"2024-09-16T04:14:00\",\"2024-09-16T04:19:00\",\"2024-09-16T04:24:00\",\"2024-09-16T04:29:00\",\"2024-09-16T04:34:00\",\"2024-09-16T04:39:00\",\"2024-09-16T04:44:00\",\"2024-09-16T04:49:00\",\"2024-09-16T04:54:00\",\"2024-09-16T04:59:00\",\"2024-09-16T05:04:00\",\"2024-09-16T05:09:00\",\"2024-09-16T05:14:00\",\"2024-09-16T05:19:00\",\"2024-09-16T05:24:00\",\"2024-09-16T05:29:00\",\"2024-09-16T05:34:00\",\"2024-09-16T05:39:00\",\"2024-09-16T05:44:00\",\"2024-09-16T05:49:00\",\"2024-09-16T05:54:00\",\"2024-09-16T05:59:00\",\"2024-09-16T06:04:00\",\"2024-09-16T06:09:00\",\"2024-09-16T06:14:00\",\"2024-09-16T06:19:00\",\"2024-09-16T06:24:00\",\"2024-09-16T06:29:00\",\"2024-09-16T06:34:00\",\"2024-09-16T06:39:00\",\"2024-09-16T06:44:00\",\"2024-09-16T06:49:00\",\"2024-09-16T06:54:00\",\"2024-09-16T06:59:00\",\"2024-09-16T07:04:00\",\"2024-09-16T07:09:00\",\"2024-09-16T07:14:00\",\"2024-09-16T07:19:00\",\"2024-09-16T07:24:00\",\"2024-09-16T07:29:00\",\"2024-09-16T07:34:00\",\"2024-09-16T07:39:00\",\"2024-09-16T07:44:00\",\"2024-09-16T07:49:00\",\"2024-09-16T07:54:00\",\"2024-09-16T07:59:00\",\"2024-09-16T08:04:00\",\"2024-09-16T08:09:00\",\"2024-09-16T08:14:00\",\"2024-09-16T08:19:00\",\"2024-09-16T08:24:00\",\"2024-09-16T08:29:00\",\"2024-09-16T08:34:00\",\"2024-09-16T08:39:00\",\"2024-09-16T08:44:00\",\"2024-09-16T08:49:00\",\"2024-09-16T08:54:00\",\"2024-09-16T08:59:00\",\"2024-09-16T09:04:00\",\"2024-09-16T09:09:00\",\"2024-09-16T09:14:00\",\"2024-09-16T09:19:00\",\"2024-09-16T09:24:00\",\"2024-09-16T09:29:00\",\"2024-09-16T09:34:00\",\"2024-09-16T09:39:00\",\"2024-09-16T09:44:00\",\"2024-09-16T09:49:00\",\"2024-09-16T09:54:00\",\"2024-09-16T09:59:00\",\"2024-09-16T10:04:00\",\"2024-09-16T10:09:00\",\"2024-09-16T10:14:00\",\"2024-09-16T10:19:00\",\"2024-09-16T10:24:00\",\"2024-09-16T10:29:00\",\"2024-09-16T10:34:00\",\"2024-09-16T10:39:00\",\"2024-09-16T10:44:00\",\"2024-09-16T10:49:00\",\"2024-09-16T10:54:00\",\"2024-09-16T10:59:00\",\"2024-09-16T11:04:00\",\"2024-09-16T11:09:00\",\"2024-09-16T11:14:00\",\"2024-09-16T11:19:00\",\"2024-09-16T11:24:00\",\"2024-09-16T11:29:00\",\"2024-09-16T11:34:00\",\"2024-09-16T11:39:00\",\"2024-09-16T11:44:00\",\"2024-09-16T11:49:00\",\"2024-09-16T11:54:00\",\"2024-09-16T11:59:00\",\"2024-09-16T12:04:00\",\"2024-09-16T12:09:00\",\"2024-09-16T12:14:00\",\"2024-09-16T12:19:00\",\"2024-09-16T12:24:00\",\"2024-09-16T12:29:00\",\"2024-09-16T12:34:00\",\"2024-09-16T12:39:00\",\"2024-09-16T12:44:00\",\"2024-09-16T12:49:00\",\"2024-09-16T12:54:00\",\"2024-09-16T12:59:00\",\"2024-09-16T13:04:00\",\"2024-09-16T13:09:00\",\"2024-09-16T13:14:00\",\"2024-09-16T13:19:00\",\"2024-09-16T13:24:00\",\"2024-09-16T13:29:00\",\"2024-09-16T13:34:00\",\"2024-09-16T13:39:00\",\"2024-09-16T13:44:00\",\"2024-09-16T13:49:00\",\"2024-09-16T13:54:00\",\"2024-09-16T13:59:00\",\"2024-09-16T14:04:00\",\"2024-09-16T14:09:00\",\"2024-09-16T14:14:00\",\"2024-09-16T14:19:00\",\"2024-09-16T14:24:00\",\"2024-09-16T14:29:00\",\"2024-09-16T14:34:00\",\"2024-09-16T14:39:00\",\"2024-09-16T14:44:00\",\"2024-09-16T14:49:00\",\"2024-09-16T14:54:00\",\"2024-09-16T14:59:00\",\"2024-09-16T15:04:00\",\"2024-09-16T15:09:00\",\"2024-09-16T15:14:00\",\"2024-09-16T15:19:00\",\"2024-09-16T15:24:00\",\"2024-09-16T15:29:00\",\"2024-09-16T15:34:00\",\"2024-09-16T15:39:00\",\"2024-09-16T15:44:00\",\"2024-09-16T15:49:00\",\"2024-09-16T15:54:00\",\"2024-09-16T15:59:00\",\"2024-09-16T16:04:00\",\"2024-09-16T16:09:00\",\"2024-09-16T16:14:00\",\"2024-09-16T16:19:00\",\"2024-09-16T16:24:00\",\"2024-09-16T16:29:00\",\"2024-09-16T16:34:00\",\"2024-09-16T16:39:00\",\"2024-09-16T16:44:00\",\"2024-09-16T16:49:00\",\"2024-09-16T16:54:00\",\"2024-09-16T16:59:00\",\"2024-09-16T17:04:00\",\"2024-09-16T17:09:00\"],\"xaxis\":\"x\",\"y\":[77.0,76.7,76.6,76.6,76.5,76.3,76.0,75.9,75.8,75.8,75.7,75.6,75.5,75.2,75.1,75.0,74.8,74.6,74.5,74.5,74.3,74.2,74.1,73.9,73.9,73.9,73.8,73.6,73.4,73.3,73.1,73.0,72.8,72.9,72.8,72.7,72.5,72.3,72.1,72.1,72.1,71.9,71.7,71.5,71.4,71.3,71.2,70.9,70.6,70.3,70.2,70.3,70.2,70.1,70.0,69.9,69.7,69.4,69.3,69.2,69.1,68.9,68.8,68.8,68.4,68.2,68.1,68.0,67.9,67.7,67.6,67.6,67.7,67.7,67.6,67.6,67.5,67.3,67.2,67.1,66.8,67.0,67.0,66.9,66.8,66.7,66.7,66.6,66.6,66.5,66.7,66.7,66.8,67.0,67.1,67.1,67.3,67.4,67.5,67.9,68.3,68.5,68.9,69.2,69.5,69.6,69.7,70.2,71.4,72.0,72.9,73.2,73.2,74.3,74.8,75.3,75.4,75.9,75.5,75.8,75.8,76.1,76.8,77.8,78.2,77.9,78.4,78.5,78.4,78.7,79.3,79.5,80.1,80.7,80.6,80.9,81.3,81.6,81.3,81.9,82.5,82.7,82.7,83.1,83.4,83.8,83.4,83.4,82.7,82.9,83.3,83.3,83.4,83.7,84.5,85.1,85.6,85.3,85.8,85.8,85.2,84.9,85.4,85.4,86.4,86.7,87.0,87.5,87.9,87.7,87.9,88.5,87.8,87.4,88.0,89.0,88.6,88.2,89.1,88.9,88.9,89.5,89.8,90.0,89.4,90.0,90.7,90.1,88.9,87.9,87.2,86.8,86.9,86.6,86.5,86.0,86.1,85.9,85.3,85.4,85.9,86.8,88.9,90.1,89.6,89.6],\"yaxis\":\"y\",\"type\":\"scatter\"},{\"name\":\"dewpoint\",\"x\":[\"2024-09-16T00:04:00\",\"2024-09-16T00:09:00\",\"2024-09-16T00:14:00\",\"2024-09-16T00:19:00\",\"2024-09-16T00:24:00\",\"2024-09-16T00:29:00\",\"2024-09-16T00:34:00\",\"2024-09-16T00:39:00\",\"2024-09-16T00:44:00\",\"2024-09-16T00:49:00\",\"2024-09-16T00:54:00\",\"2024-09-16T00:59:00\",\"2024-09-16T01:04:00\",\"2024-09-16T01:09:00\",\"2024-09-16T01:14:00\",\"2024-09-16T01:19:00\",\"2024-09-16T01:24:00\",\"2024-09-16T01:29:00\",\"2024-09-16T01:34:00\",\"2024-09-16T01:39:00\",\"2024-09-16T01:44:00\",\"2024-09-16T01:49:00\",\"2024-09-16T01:54:00\",\"2024-09-16T01:59:00\",\"2024-09-16T02:04:00\",\"2024-09-16T02:09:00\",\"2024-09-16T02:14:00\",\"2024-09-16T02:19:00\",\"2024-09-16T02:24:00\",\"2024-09-16T02:29:00\",\"2024-09-16T02:34:00\",\"2024-09-16T02:39:00\",\"2024-09-16T02:44:00\",\"2024-09-16T02:49:00\",\"2024-09-16T02:54:00\",\"2024-09-16T02:59:00\",\"2024-09-16T03:04:00\",\"2024-09-16T03:09:00\",\"2024-09-16T03:14:00\",\"2024-09-16T03:19:00\",\"2024-09-16T03:24:00\",\"2024-09-16T03:29:00\",\"2024-09-16T03:34:00\",\"2024-09-16T03:39:00\",\"2024-09-16T03:44:00\",\"2024-09-16T03:49:00\",\"2024-09-16T03:54:00\",\"2024-09-16T03:59:00\",\"2024-09-16T04:04:00\",\"2024-09-16T04:09:00\",\"2024-09-16T04:14:00\",\"2024-09-16T04:19:00\",\"2024-09-16T04:24:00\",\"2024-09-16T04:29:00\",\"2024-09-16T04:34:00\",\"2024-09-16T04:39:00\",\"2024-09-16T04:44:00\",\"2024-09-16T04:49:00\",\"2024-09-16T04:54:00\",\"2024-09-16T04:59:00\",\"2024-09-16T05:04:00\",\"2024-09-16T05:09:00\",\"2024-09-16T05:14:00\",\"2024-09-16T05:19:00\",\"2024-09-16T05:24:00\",\"2024-09-16T05:29:00\",\"2024-09-16T05:34:00\",\"2024-09-16T05:39:00\",\"2024-09-16T05:44:00\",\"2024-09-16T05:49:00\",\"2024-09-16T05:54:00\",\"2024-09-16T05:59:00\",\"2024-09-16T06:04:00\",\"2024-09-16T06:09:00\",\"2024-09-16T06:14:00\",\"2024-09-16T06:19:00\",\"2024-09-16T06:24:00\",\"2024-09-16T06:29:00\",\"2024-09-16T06:34:00\",\"2024-09-16T06:39:00\",\"2024-09-16T06:44:00\",\"2024-09-16T06:49:00\",\"2024-09-16T06:54:00\",\"2024-09-16T06:59:00\",\"2024-09-16T07:04:00\",\"2024-09-16T07:09:00\",\"2024-09-16T07:14:00\",\"2024-09-16T07:19:00\",\"2024-09-16T07:24:00\",\"2024-09-16T07:29:00\",\"2024-09-16T07:34:00\",\"2024-09-16T07:39:00\",\"2024-09-16T07:44:00\",\"2024-09-16T07:49:00\",\"2024-09-16T07:54:00\",\"2024-09-16T07:59:00\",\"2024-09-16T08:04:00\",\"2024-09-16T08:09:00\",\"2024-09-16T08:14:00\",\"2024-09-16T08:19:00\",\"2024-09-16T08:24:00\",\"2024-09-16T08:29:00\",\"2024-09-16T08:34:00\",\"2024-09-16T08:39:00\",\"2024-09-16T08:44:00\",\"2024-09-16T08:49:00\",\"2024-09-16T08:54:00\",\"2024-09-16T08:59:00\",\"2024-09-16T09:04:00\",\"2024-09-16T09:09:00\",\"2024-09-16T09:14:00\",\"2024-09-16T09:19:00\",\"2024-09-16T09:24:00\",\"2024-09-16T09:29:00\",\"2024-09-16T09:34:00\",\"2024-09-16T09:39:00\",\"2024-09-16T09:44:00\",\"2024-09-16T09:49:00\",\"2024-09-16T09:54:00\",\"2024-09-16T09:59:00\",\"2024-09-16T10:04:00\",\"2024-09-16T10:09:00\",\"2024-09-16T10:14:00\",\"2024-09-16T10:19:00\",\"2024-09-16T10:24:00\",\"2024-09-16T10:29:00\",\"2024-09-16T10:34:00\",\"2024-09-16T10:39:00\",\"2024-09-16T10:44:00\",\"2024-09-16T10:49:00\",\"2024-09-16T10:54:00\",\"2024-09-16T10:59:00\",\"2024-09-16T11:04:00\",\"2024-09-16T11:09:00\",\"2024-09-16T11:14:00\",\"2024-09-16T11:19:00\",\"2024-09-16T11:24:00\",\"2024-09-16T11:29:00\",\"2024-09-16T11:34:00\",\"2024-09-16T11:39:00\",\"2024-09-16T11:44:00\",\"2024-09-16T11:49:00\",\"2024-09-16T11:54:00\",\"2024-09-16T11:59:00\",\"2024-09-16T12:04:00\",\"2024-09-16T12:09:00\",\"2024-09-16T12:14:00\",\"2024-09-16T12:19:00\",\"2024-09-16T12:24:00\",\"2024-09-16T12:29:00\",\"2024-09-16T12:34:00\",\"2024-09-16T12:39:00\",\"2024-09-16T12:44:00\",\"2024-09-16T12:49:00\",\"2024-09-16T12:54:00\",\"2024-09-16T12:59:00\",\"2024-09-16T13:04:00\",\"2024-09-16T13:09:00\",\"2024-09-16T13:14:00\",\"2024-09-16T13:19:00\",\"2024-09-16T13:24:00\",\"2024-09-16T13:29:00\",\"2024-09-16T13:34:00\",\"2024-09-16T13:39:00\",\"2024-09-16T13:44:00\",\"2024-09-16T13:49:00\",\"2024-09-16T13:54:00\",\"2024-09-16T13:59:00\",\"2024-09-16T14:04:00\",\"2024-09-16T14:09:00\",\"2024-09-16T14:14:00\",\"2024-09-16T14:19:00\",\"2024-09-16T14:24:00\",\"2024-09-16T14:29:00\",\"2024-09-16T14:34:00\",\"2024-09-16T14:39:00\",\"2024-09-16T14:44:00\",\"2024-09-16T14:49:00\",\"2024-09-16T14:54:00\",\"2024-09-16T14:59:00\",\"2024-09-16T15:04:00\",\"2024-09-16T15:09:00\",\"2024-09-16T15:14:00\",\"2024-09-16T15:19:00\",\"2024-09-16T15:24:00\",\"2024-09-16T15:29:00\",\"2024-09-16T15:34:00\",\"2024-09-16T15:39:00\",\"2024-09-16T15:44:00\",\"2024-09-16T15:49:00\",\"2024-09-16T15:54:00\",\"2024-09-16T15:59:00\",\"2024-09-16T16:04:00\",\"2024-09-16T16:09:00\",\"2024-09-16T16:14:00\",\"2024-09-16T16:19:00\",\"2024-09-16T16:24:00\",\"2024-09-16T16:29:00\",\"2024-09-16T16:34:00\",\"2024-09-16T16:39:00\",\"2024-09-16T16:44:00\",\"2024-09-16T16:49:00\",\"2024-09-16T16:54:00\",\"2024-09-16T16:59:00\",\"2024-09-16T17:04:00\",\"2024-09-16T17:09:00\"],\"xaxis\":\"x\",\"y\":[62.5,62.4,62.4,62.1,62.5,62.3,62.2,62.4,62.3,62.3,62.2,62.1,62.5,62.2,62.1,62.1,62.2,62.5,62.4,62.4,62.2,62.1,62.1,62.2,62.2,62.2,62.1,62.0,61.8,61.8,61.6,61.8,61.6,61.7,61.6,61.7,61.7,61.6,61.8,61.8,61.8,61.9,61.9,61.9,61.9,61.9,62.1,62.3,62.4,62.6,62.5,62.7,62.6,62.5,62.5,62.7,62.5,62.5,62.5,62.4,62.5,62.5,62.4,62.5,62.7,62.5,62.4,62.5,62.5,62.3,62.4,62.5,62.3,62.7,62.6,62.6,62.6,62.6,62.5,62.4,62.5,62.4,62.4,62.6,62.5,62.4,62.5,62.6,62.6,62.5,62.7,62.7,62.8,62.7,62.8,62.8,63.0,63.0,62.9,63.2,63.5,63.5,63.9,63.8,64.1,64.0,64.0,64.2,64.7,64.7,65.1,65.1,65.1,65.6,65.6,65.6,65.6,65.7,65.8,65.7,65.6,66.0,66.6,66.7,66.3,66.4,66.3,66.3,66.0,66.4,66.8,67.0,67.0,66.9,66.8,67.0,67.0,67.1,67.0,67.0,67.1,67.2,66.4,67.4,67.2,67.0,66.7,66.3,66.2,66.0,66.4,66.2,65.9,66.1,66.5,67.3,65.9,66.5,66.3,66.0,65.5,66.0,65.0,65.6,65.8,65.8,65.9,65.6,65.6,65.0,65.8,65.7,64.6,64.9,65.0,65.8,64.6,64.6,64.9,63.9,64.3,65.4,64.8,64.9,64.0,64.8,64.3,63.6,63.5,63.6,63.3,63.4,63.3,62.9,62.7,62.8,63.0,63.3,63.1,63.3,62.9,63.0,63.2,63.1,62.9,63.2],\"yaxis\":\"y2\",\"type\":\"scatter\"}],                        {\"template\":{\"data\":{\"barpolar\":[{\"marker\":{\"line\":{\"color\":\"#E5ECF6\",\"width\":0.5},\"pattern\":{\"fillmode\":\"overlay\",\"size\":10,\"solidity\":0.2}},\"type\":\"barpolar\"}],\"bar\":[{\"error_x\":{\"color\":\"#2a3f5f\"},\"error_y\":{\"color\":\"#2a3f5f\"},\"marker\":{\"line\":{\"color\":\"#E5ECF6\",\"width\":0.5},\"pattern\":{\"fillmode\":\"overlay\",\"size\":10,\"solidity\":0.2}},\"type\":\"bar\"}],\"carpet\":[{\"aaxis\":{\"endlinecolor\":\"#2a3f5f\",\"gridcolor\":\"white\",\"linecolor\":\"white\",\"minorgridcolor\":\"white\",\"startlinecolor\":\"#2a3f5f\"},\"baxis\":{\"endlinecolor\":\"#2a3f5f\",\"gridcolor\":\"white\",\"linecolor\":\"white\",\"minorgridcolor\":\"white\",\"startlinecolor\":\"#2a3f5f\"},\"type\":\"carpet\"}],\"choropleth\":[{\"colorbar\":{\"outlinewidth\":0,\"ticks\":\"\"},\"type\":\"choropleth\"}],\"contourcarpet\":[{\"colorbar\":{\"outlinewidth\":0,\"ticks\":\"\"},\"type\":\"contourcarpet\"}],\"contour\":[{\"colorbar\":{\"outlinewidth\":0,\"ticks\":\"\"},\"colorscale\":[[0.0,\"#0d0887\"],[0.1111111111111111,\"#46039f\"],[0.2222222222222222,\"#7201a8\"],[0.3333333333333333,\"#9c179e\"],[0.4444444444444444,\"#bd3786\"],[0.5555555555555556,\"#d8576b\"],[0.6666666666666666,\"#ed7953\"],[0.7777777777777778,\"#fb9f3a\"],[0.8888888888888888,\"#fdca26\"],[1.0,\"#f0f921\"]],\"type\":\"contour\"}],\"heatmapgl\":[{\"colorbar\":{\"outlinewidth\":0,\"ticks\":\"\"},\"colorscale\":[[0.0,\"#0d0887\"],[0.1111111111111111,\"#46039f\"],[0.2222222222222222,\"#7201a8\"],[0.3333333333333333,\"#9c179e\"],[0.4444444444444444,\"#bd3786\"],[0.5555555555555556,\"#d8576b\"],[0.6666666666666666,\"#ed7953\"],[0.7777777777777778,\"#fb9f3a\"],[0.8888888888888888,\"#fdca26\"],[1.0,\"#f0f921\"]],\"type\":\"heatmapgl\"}],\"heatmap\":[{\"colorbar\":{\"outlinewidth\":0,\"ticks\":\"\"},\"colorscale\":[[0.0,\"#0d0887\"],[0.1111111111111111,\"#46039f\"],[0.2222222222222222,\"#7201a8\"],[0.3333333333333333,\"#9c179e\"],[0.4444444444444444,\"#bd3786\"],[0.5555555555555556,\"#d8576b\"],[0.6666666666666666,\"#ed7953\"],[0.7777777777777778,\"#fb9f3a\"],[0.8888888888888888,\"#fdca26\"],[1.0,\"#f0f921\"]],\"type\":\"heatmap\"}],\"histogram2dcontour\":[{\"colorbar\":{\"outlinewidth\":0,\"ticks\":\"\"},\"colorscale\":[[0.0,\"#0d0887\"],[0.1111111111111111,\"#46039f\"],[0.2222222222222222,\"#7201a8\"],[0.3333333333333333,\"#9c179e\"],[0.4444444444444444,\"#bd3786\"],[0.5555555555555556,\"#d8576b\"],[0.6666666666666666,\"#ed7953\"],[0.7777777777777778,\"#fb9f3a\"],[0.8888888888888888,\"#fdca26\"],[1.0,\"#f0f921\"]],\"type\":\"histogram2dcontour\"}],\"histogram2d\":[{\"colorbar\":{\"outlinewidth\":0,\"ticks\":\"\"},\"colorscale\":[[0.0,\"#0d0887\"],[0.1111111111111111,\"#46039f\"],[0.2222222222222222,\"#7201a8\"],[0.3333333333333333,\"#9c179e\"],[0.4444444444444444,\"#bd3786\"],[0.5555555555555556,\"#d8576b\"],[0.6666666666666666,\"#ed7953\"],[0.7777777777777778,\"#fb9f3a\"],[0.8888888888888888,\"#fdca26\"],[1.0,\"#f0f921\"]],\"type\":\"histogram2d\"}],\"histogram\":[{\"marker\":{\"pattern\":{\"fillmode\":\"overlay\",\"size\":10,\"solidity\":0.2}},\"type\":\"histogram\"}],\"mesh3d\":[{\"colorbar\":{\"outlinewidth\":0,\"ticks\":\"\"},\"type\":\"mesh3d\"}],\"parcoords\":[{\"line\":{\"colorbar\":{\"outlinewidth\":0,\"ticks\":\"\"}},\"type\":\"parcoords\"}],\"pie\":[{\"automargin\":true,\"type\":\"pie\"}],\"scatter3d\":[{\"line\":{\"colorbar\":{\"outlinewidth\":0,\"ticks\":\"\"}},\"marker\":{\"colorbar\":{\"outlinewidth\":0,\"ticks\":\"\"}},\"type\":\"scatter3d\"}],\"scattercarpet\":[{\"marker\":{\"colorbar\":{\"outlinewidth\":0,\"ticks\":\"\"}},\"type\":\"scattercarpet\"}],\"scattergeo\":[{\"marker\":{\"colorbar\":{\"outlinewidth\":0,\"ticks\":\"\"}},\"type\":\"scattergeo\"}],\"scattergl\":[{\"marker\":{\"colorbar\":{\"outlinewidth\":0,\"ticks\":\"\"}},\"type\":\"scattergl\"}],\"scattermapbox\":[{\"marker\":{\"colorbar\":{\"outlinewidth\":0,\"ticks\":\"\"}},\"type\":\"scattermapbox\"}],\"scatterpolargl\":[{\"marker\":{\"colorbar\":{\"outlinewidth\":0,\"ticks\":\"\"}},\"type\":\"scatterpolargl\"}],\"scatterpolar\":[{\"marker\":{\"colorbar\":{\"outlinewidth\":0,\"ticks\":\"\"}},\"type\":\"scatterpolar\"}],\"scatter\":[{\"fillpattern\":{\"fillmode\":\"overlay\",\"size\":10,\"solidity\":0.2},\"type\":\"scatter\"}],\"scatterternary\":[{\"marker\":{\"colorbar\":{\"outlinewidth\":0,\"ticks\":\"\"}},\"type\":\"scatterternary\"}],\"surface\":[{\"colorbar\":{\"outlinewidth\":0,\"ticks\":\"\"},\"colorscale\":[[0.0,\"#0d0887\"],[0.1111111111111111,\"#46039f\"],[0.2222222222222222,\"#7201a8\"],[0.3333333333333333,\"#9c179e\"],[0.4444444444444444,\"#bd3786\"],[0.5555555555555556,\"#d8576b\"],[0.6666666666666666,\"#ed7953\"],[0.7777777777777778,\"#fb9f3a\"],[0.8888888888888888,\"#fdca26\"],[1.0,\"#f0f921\"]],\"type\":\"surface\"}],\"table\":[{\"cells\":{\"fill\":{\"color\":\"#EBF0F8\"},\"line\":{\"color\":\"white\"}},\"header\":{\"fill\":{\"color\":\"#C8D4E3\"},\"line\":{\"color\":\"white\"}},\"type\":\"table\"}]},\"layout\":{\"annotationdefaults\":{\"arrowcolor\":\"#2a3f5f\",\"arrowhead\":0,\"arrowwidth\":1},\"autotypenumbers\":\"strict\",\"coloraxis\":{\"colorbar\":{\"outlinewidth\":0,\"ticks\":\"\"}},\"colorscale\":{\"diverging\":[[0,\"#8e0152\"],[0.1,\"#c51b7d\"],[0.2,\"#de77ae\"],[0.3,\"#f1b6da\"],[0.4,\"#fde0ef\"],[0.5,\"#f7f7f7\"],[0.6,\"#e6f5d0\"],[0.7,\"#b8e186\"],[0.8,\"#7fbc41\"],[0.9,\"#4d9221\"],[1,\"#276419\"]],\"sequential\":[[0.0,\"#0d0887\"],[0.1111111111111111,\"#46039f\"],[0.2222222222222222,\"#7201a8\"],[0.3333333333333333,\"#9c179e\"],[0.4444444444444444,\"#bd3786\"],[0.5555555555555556,\"#d8576b\"],[0.6666666666666666,\"#ed7953\"],[0.7777777777777778,\"#fb9f3a\"],[0.8888888888888888,\"#fdca26\"],[1.0,\"#f0f921\"]],\"sequentialminus\":[[0.0,\"#0d0887\"],[0.1111111111111111,\"#46039f\"],[0.2222222222222222,\"#7201a8\"],[0.3333333333333333,\"#9c179e\"],[0.4444444444444444,\"#bd3786\"],[0.5555555555555556,\"#d8576b\"],[0.6666666666666666,\"#ed7953\"],[0.7777777777777778,\"#fb9f3a\"],[0.8888888888888888,\"#fdca26\"],[1.0,\"#f0f921\"]]},\"colorway\":[\"#636efa\",\"#EF553B\",\"#00cc96\",\"#ab63fa\",\"#FFA15A\",\"#19d3f3\",\"#FF6692\",\"#B6E880\",\"#FF97FF\",\"#FECB52\"],\"font\":{\"color\":\"#2a3f5f\"},\"geo\":{\"bgcolor\":\"white\",\"lakecolor\":\"white\",\"landcolor\":\"#E5ECF6\",\"showlakes\":true,\"showland\":true,\"subunitcolor\":\"white\"},\"hoverlabel\":{\"align\":\"left\"},\"hovermode\":\"closest\",\"mapbox\":{\"style\":\"light\"},\"paper_bgcolor\":\"white\",\"plot_bgcolor\":\"#E5ECF6\",\"polar\":{\"angularaxis\":{\"gridcolor\":\"white\",\"linecolor\":\"white\",\"ticks\":\"\"},\"bgcolor\":\"#E5ECF6\",\"radialaxis\":{\"gridcolor\":\"white\",\"linecolor\":\"white\",\"ticks\":\"\"}},\"scene\":{\"xaxis\":{\"backgroundcolor\":\"#E5ECF6\",\"gridcolor\":\"white\",\"gridwidth\":2,\"linecolor\":\"white\",\"showbackground\":true,\"ticks\":\"\",\"zerolinecolor\":\"white\"},\"yaxis\":{\"backgroundcolor\":\"#E5ECF6\",\"gridcolor\":\"white\",\"gridwidth\":2,\"linecolor\":\"white\",\"showbackground\":true,\"ticks\":\"\",\"zerolinecolor\":\"white\"},\"zaxis\":{\"backgroundcolor\":\"#E5ECF6\",\"gridcolor\":\"white\",\"gridwidth\":2,\"linecolor\":\"white\",\"showbackground\":true,\"ticks\":\"\",\"zerolinecolor\":\"white\"}},\"shapedefaults\":{\"line\":{\"color\":\"#2a3f5f\"}},\"ternary\":{\"aaxis\":{\"gridcolor\":\"white\",\"linecolor\":\"white\",\"ticks\":\"\"},\"baxis\":{\"gridcolor\":\"white\",\"linecolor\":\"white\",\"ticks\":\"\"},\"bgcolor\":\"#E5ECF6\",\"caxis\":{\"gridcolor\":\"white\",\"linecolor\":\"white\",\"ticks\":\"\"}},\"title\":{\"x\":0.05},\"xaxis\":{\"automargin\":true,\"gridcolor\":\"white\",\"linecolor\":\"white\",\"ticks\":\"\",\"title\":{\"standoff\":15},\"zerolinecolor\":\"white\",\"zerolinewidth\":2},\"yaxis\":{\"automargin\":true,\"gridcolor\":\"white\",\"linecolor\":\"white\",\"ticks\":\"\",\"title\":{\"standoff\":15},\"zerolinecolor\":\"white\",\"zerolinewidth\":2}}},\"xaxis\":{\"anchor\":\"y\",\"domain\":[0.0,0.94]},\"yaxis\":{\"anchor\":\"x\",\"domain\":[0.0,1.0]},\"yaxis2\":{\"anchor\":\"x\",\"overlaying\":\"y\",\"side\":\"right\"}},                        {\"responsive\": true}                    ).then(function(){\n",
       "                            \n",
       "var gd = document.getElementById('037d3e0e-dcbd-4147-bfe6-fc9f6ac4fea7');\n",
       "var x = new MutationObserver(function (mutations, observer) {{\n",
       "        var display = window.getComputedStyle(gd).display;\n",
       "        if (!display || display === 'none') {{\n",
       "            console.log([gd, 'removed!']);\n",
       "            Plotly.purge(gd);\n",
       "            observer.disconnect();\n",
       "        }}\n",
       "}});\n",
       "\n",
       "// Listen for the removal of the full notebook cells\n",
       "var notebookContainer = gd.closest('#notebook-container');\n",
       "if (notebookContainer) {{\n",
       "    x.observe(notebookContainer, {childList: true});\n",
       "}}\n",
       "\n",
       "// Listen for the clearing of the current output cell\n",
       "var outputEl = gd.closest('.output');\n",
       "if (outputEl) {{\n",
       "    x.observe(outputEl, {childList: true});\n",
       "}}\n",
       "\n",
       "                        })                };                });            </script>        </div>"
      ]
     },
     "metadata": {},
     "output_type": "display_data"
    },
    {
     "data": {
      "application/vnd.plotly.v1+json": {
       "config": {
        "linkText": "Export to plot.ly",
        "plotlyServerURL": "https://plot.ly",
        "showLink": false
       },
       "data": [],
       "layout": {
        "autosize": true,
        "template": {
         "data": {
          "bar": [
           {
            "error_x": {
             "color": "#2a3f5f"
            },
            "error_y": {
             "color": "#2a3f5f"
            },
            "marker": {
             "line": {
              "color": "#E5ECF6",
              "width": 0.5
             },
             "pattern": {
              "fillmode": "overlay",
              "size": 10,
              "solidity": 0.2
             }
            },
            "type": "bar"
           }
          ],
          "barpolar": [
           {
            "marker": {
             "line": {
              "color": "#E5ECF6",
              "width": 0.5
             },
             "pattern": {
              "fillmode": "overlay",
              "size": 10,
              "solidity": 0.2
             }
            },
            "type": "barpolar"
           }
          ],
          "carpet": [
           {
            "aaxis": {
             "endlinecolor": "#2a3f5f",
             "gridcolor": "white",
             "linecolor": "white",
             "minorgridcolor": "white",
             "startlinecolor": "#2a3f5f"
            },
            "baxis": {
             "endlinecolor": "#2a3f5f",
             "gridcolor": "white",
             "linecolor": "white",
             "minorgridcolor": "white",
             "startlinecolor": "#2a3f5f"
            },
            "type": "carpet"
           }
          ],
          "choropleth": [
           {
            "colorbar": {
             "outlinewidth": 0,
             "ticks": ""
            },
            "type": "choropleth"
           }
          ],
          "contour": [
           {
            "colorbar": {
             "outlinewidth": 0,
             "ticks": ""
            },
            "colorscale": [
             [
              0,
              "#0d0887"
             ],
             [
              0.1111111111111111,
              "#46039f"
             ],
             [
              0.2222222222222222,
              "#7201a8"
             ],
             [
              0.3333333333333333,
              "#9c179e"
             ],
             [
              0.4444444444444444,
              "#bd3786"
             ],
             [
              0.5555555555555556,
              "#d8576b"
             ],
             [
              0.6666666666666666,
              "#ed7953"
             ],
             [
              0.7777777777777778,
              "#fb9f3a"
             ],
             [
              0.8888888888888888,
              "#fdca26"
             ],
             [
              1,
              "#f0f921"
             ]
            ],
            "type": "contour"
           }
          ],
          "contourcarpet": [
           {
            "colorbar": {
             "outlinewidth": 0,
             "ticks": ""
            },
            "type": "contourcarpet"
           }
          ],
          "heatmap": [
           {
            "colorbar": {
             "outlinewidth": 0,
             "ticks": ""
            },
            "colorscale": [
             [
              0,
              "#0d0887"
             ],
             [
              0.1111111111111111,
              "#46039f"
             ],
             [
              0.2222222222222222,
              "#7201a8"
             ],
             [
              0.3333333333333333,
              "#9c179e"
             ],
             [
              0.4444444444444444,
              "#bd3786"
             ],
             [
              0.5555555555555556,
              "#d8576b"
             ],
             [
              0.6666666666666666,
              "#ed7953"
             ],
             [
              0.7777777777777778,
              "#fb9f3a"
             ],
             [
              0.8888888888888888,
              "#fdca26"
             ],
             [
              1,
              "#f0f921"
             ]
            ],
            "type": "heatmap"
           }
          ],
          "heatmapgl": [
           {
            "colorbar": {
             "outlinewidth": 0,
             "ticks": ""
            },
            "colorscale": [
             [
              0,
              "#0d0887"
             ],
             [
              0.1111111111111111,
              "#46039f"
             ],
             [
              0.2222222222222222,
              "#7201a8"
             ],
             [
              0.3333333333333333,
              "#9c179e"
             ],
             [
              0.4444444444444444,
              "#bd3786"
             ],
             [
              0.5555555555555556,
              "#d8576b"
             ],
             [
              0.6666666666666666,
              "#ed7953"
             ],
             [
              0.7777777777777778,
              "#fb9f3a"
             ],
             [
              0.8888888888888888,
              "#fdca26"
             ],
             [
              1,
              "#f0f921"
             ]
            ],
            "type": "heatmapgl"
           }
          ],
          "histogram": [
           {
            "marker": {
             "pattern": {
              "fillmode": "overlay",
              "size": 10,
              "solidity": 0.2
             }
            },
            "type": "histogram"
           }
          ],
          "histogram2d": [
           {
            "colorbar": {
             "outlinewidth": 0,
             "ticks": ""
            },
            "colorscale": [
             [
              0,
              "#0d0887"
             ],
             [
              0.1111111111111111,
              "#46039f"
             ],
             [
              0.2222222222222222,
              "#7201a8"
             ],
             [
              0.3333333333333333,
              "#9c179e"
             ],
             [
              0.4444444444444444,
              "#bd3786"
             ],
             [
              0.5555555555555556,
              "#d8576b"
             ],
             [
              0.6666666666666666,
              "#ed7953"
             ],
             [
              0.7777777777777778,
              "#fb9f3a"
             ],
             [
              0.8888888888888888,
              "#fdca26"
             ],
             [
              1,
              "#f0f921"
             ]
            ],
            "type": "histogram2d"
           }
          ],
          "histogram2dcontour": [
           {
            "colorbar": {
             "outlinewidth": 0,
             "ticks": ""
            },
            "colorscale": [
             [
              0,
              "#0d0887"
             ],
             [
              0.1111111111111111,
              "#46039f"
             ],
             [
              0.2222222222222222,
              "#7201a8"
             ],
             [
              0.3333333333333333,
              "#9c179e"
             ],
             [
              0.4444444444444444,
              "#bd3786"
             ],
             [
              0.5555555555555556,
              "#d8576b"
             ],
             [
              0.6666666666666666,
              "#ed7953"
             ],
             [
              0.7777777777777778,
              "#fb9f3a"
             ],
             [
              0.8888888888888888,
              "#fdca26"
             ],
             [
              1,
              "#f0f921"
             ]
            ],
            "type": "histogram2dcontour"
           }
          ],
          "mesh3d": [
           {
            "colorbar": {
             "outlinewidth": 0,
             "ticks": ""
            },
            "type": "mesh3d"
           }
          ],
          "parcoords": [
           {
            "line": {
             "colorbar": {
              "outlinewidth": 0,
              "ticks": ""
             }
            },
            "type": "parcoords"
           }
          ],
          "pie": [
           {
            "automargin": true,
            "type": "pie"
           }
          ],
          "scatter": [
           {
            "fillpattern": {
             "fillmode": "overlay",
             "size": 10,
             "solidity": 0.2
            },
            "type": "scatter"
           }
          ],
          "scatter3d": [
           {
            "line": {
             "colorbar": {
              "outlinewidth": 0,
              "ticks": ""
             }
            },
            "marker": {
             "colorbar": {
              "outlinewidth": 0,
              "ticks": ""
             }
            },
            "type": "scatter3d"
           }
          ],
          "scattercarpet": [
           {
            "marker": {
             "colorbar": {
              "outlinewidth": 0,
              "ticks": ""
             }
            },
            "type": "scattercarpet"
           }
          ],
          "scattergeo": [
           {
            "marker": {
             "colorbar": {
              "outlinewidth": 0,
              "ticks": ""
             }
            },
            "type": "scattergeo"
           }
          ],
          "scattergl": [
           {
            "marker": {
             "colorbar": {
              "outlinewidth": 0,
              "ticks": ""
             }
            },
            "type": "scattergl"
           }
          ],
          "scattermapbox": [
           {
            "marker": {
             "colorbar": {
              "outlinewidth": 0,
              "ticks": ""
             }
            },
            "type": "scattermapbox"
           }
          ],
          "scatterpolar": [
           {
            "marker": {
             "colorbar": {
              "outlinewidth": 0,
              "ticks": ""
             }
            },
            "type": "scatterpolar"
           }
          ],
          "scatterpolargl": [
           {
            "marker": {
             "colorbar": {
              "outlinewidth": 0,
              "ticks": ""
             }
            },
            "type": "scatterpolargl"
           }
          ],
          "scatterternary": [
           {
            "marker": {
             "colorbar": {
              "outlinewidth": 0,
              "ticks": ""
             }
            },
            "type": "scatterternary"
           }
          ],
          "surface": [
           {
            "colorbar": {
             "outlinewidth": 0,
             "ticks": ""
            },
            "colorscale": [
             [
              0,
              "#0d0887"
             ],
             [
              0.1111111111111111,
              "#46039f"
             ],
             [
              0.2222222222222222,
              "#7201a8"
             ],
             [
              0.3333333333333333,
              "#9c179e"
             ],
             [
              0.4444444444444444,
              "#bd3786"
             ],
             [
              0.5555555555555556,
              "#d8576b"
             ],
             [
              0.6666666666666666,
              "#ed7953"
             ],
             [
              0.7777777777777778,
              "#fb9f3a"
             ],
             [
              0.8888888888888888,
              "#fdca26"
             ],
             [
              1,
              "#f0f921"
             ]
            ],
            "type": "surface"
           }
          ],
          "table": [
           {
            "cells": {
             "fill": {
              "color": "#EBF0F8"
             },
             "line": {
              "color": "white"
             }
            },
            "header": {
             "fill": {
              "color": "#C8D4E3"
             },
             "line": {
              "color": "white"
             }
            },
            "type": "table"
           }
          ]
         },
         "layout": {
          "annotationdefaults": {
           "arrowcolor": "#2a3f5f",
           "arrowhead": 0,
           "arrowwidth": 1
          },
          "autotypenumbers": "strict",
          "coloraxis": {
           "colorbar": {
            "outlinewidth": 0,
            "ticks": ""
           }
          },
          "colorscale": {
           "diverging": [
            [
             0,
             "#8e0152"
            ],
            [
             0.1,
             "#c51b7d"
            ],
            [
             0.2,
             "#de77ae"
            ],
            [
             0.3,
             "#f1b6da"
            ],
            [
             0.4,
             "#fde0ef"
            ],
            [
             0.5,
             "#f7f7f7"
            ],
            [
             0.6,
             "#e6f5d0"
            ],
            [
             0.7,
             "#b8e186"
            ],
            [
             0.8,
             "#7fbc41"
            ],
            [
             0.9,
             "#4d9221"
            ],
            [
             1,
             "#276419"
            ]
           ],
           "sequential": [
            [
             0,
             "#0d0887"
            ],
            [
             0.1111111111111111,
             "#46039f"
            ],
            [
             0.2222222222222222,
             "#7201a8"
            ],
            [
             0.3333333333333333,
             "#9c179e"
            ],
            [
             0.4444444444444444,
             "#bd3786"
            ],
            [
             0.5555555555555556,
             "#d8576b"
            ],
            [
             0.6666666666666666,
             "#ed7953"
            ],
            [
             0.7777777777777778,
             "#fb9f3a"
            ],
            [
             0.8888888888888888,
             "#fdca26"
            ],
            [
             1,
             "#f0f921"
            ]
           ],
           "sequentialminus": [
            [
             0,
             "#0d0887"
            ],
            [
             0.1111111111111111,
             "#46039f"
            ],
            [
             0.2222222222222222,
             "#7201a8"
            ],
            [
             0.3333333333333333,
             "#9c179e"
            ],
            [
             0.4444444444444444,
             "#bd3786"
            ],
            [
             0.5555555555555556,
             "#d8576b"
            ],
            [
             0.6666666666666666,
             "#ed7953"
            ],
            [
             0.7777777777777778,
             "#fb9f3a"
            ],
            [
             0.8888888888888888,
             "#fdca26"
            ],
            [
             1,
             "#f0f921"
            ]
           ]
          },
          "colorway": [
           "#636efa",
           "#EF553B",
           "#00cc96",
           "#ab63fa",
           "#FFA15A",
           "#19d3f3",
           "#FF6692",
           "#B6E880",
           "#FF97FF",
           "#FECB52"
          ],
          "font": {
           "color": "#2a3f5f"
          },
          "geo": {
           "bgcolor": "white",
           "lakecolor": "white",
           "landcolor": "#E5ECF6",
           "showlakes": true,
           "showland": true,
           "subunitcolor": "white"
          },
          "hoverlabel": {
           "align": "left"
          },
          "hovermode": "closest",
          "mapbox": {
           "style": "light"
          },
          "paper_bgcolor": "white",
          "plot_bgcolor": "#E5ECF6",
          "polar": {
           "angularaxis": {
            "gridcolor": "white",
            "linecolor": "white",
            "ticks": ""
           },
           "bgcolor": "#E5ECF6",
           "radialaxis": {
            "gridcolor": "white",
            "linecolor": "white",
            "ticks": ""
           }
          },
          "scene": {
           "xaxis": {
            "backgroundcolor": "#E5ECF6",
            "gridcolor": "white",
            "gridwidth": 2,
            "linecolor": "white",
            "showbackground": true,
            "ticks": "",
            "zerolinecolor": "white"
           },
           "yaxis": {
            "backgroundcolor": "#E5ECF6",
            "gridcolor": "white",
            "gridwidth": 2,
            "linecolor": "white",
            "showbackground": true,
            "ticks": "",
            "zerolinecolor": "white"
           },
           "zaxis": {
            "backgroundcolor": "#E5ECF6",
            "gridcolor": "white",
            "gridwidth": 2,
            "linecolor": "white",
            "showbackground": true,
            "ticks": "",
            "zerolinecolor": "white"
           }
          },
          "shapedefaults": {
           "line": {
            "color": "#2a3f5f"
           }
          },
          "ternary": {
           "aaxis": {
            "gridcolor": "white",
            "linecolor": "white",
            "ticks": ""
           },
           "baxis": {
            "gridcolor": "white",
            "linecolor": "white",
            "ticks": ""
           },
           "bgcolor": "#E5ECF6",
           "caxis": {
            "gridcolor": "white",
            "linecolor": "white",
            "ticks": ""
           }
          },
          "title": {
           "x": 0.05
          },
          "xaxis": {
           "automargin": true,
           "gridcolor": "white",
           "linecolor": "white",
           "ticks": "",
           "title": {
            "standoff": 15
           },
           "zerolinecolor": "white",
           "zerolinewidth": 2
          },
          "yaxis": {
           "automargin": true,
           "gridcolor": "white",
           "linecolor": "white",
           "ticks": "",
           "title": {
            "standoff": 15
           },
           "zerolinecolor": "white",
           "zerolinewidth": 2
          }
         }
        },
        "xaxis": {
         "anchor": "y",
         "autorange": true,
         "domain": [
          0,
          1
         ],
         "range": [
          -1,
          6
         ]
        },
        "yaxis": {
         "anchor": "x",
         "autorange": true,
         "domain": [
          0,
          1
         ],
         "range": [
          -1,
          4
         ]
        }
       }
      },
      "image/png": "[encoded data removed]",
      "text/html": [
       "<div>                            <div id=\"836ae1dd-c0f4-491a-b214-45311b46f686\" class=\"plotly-graph-div\" style=\"height:525px; width:100%;\"></div>            <script type=\"text/javascript\">                require([\"plotly\"], function(Plotly) {                    window.PLOTLYENV=window.PLOTLYENV || {};                                    if (document.getElementById(\"836ae1dd-c0f4-491a-b214-45311b46f686\")) {                    Plotly.newPlot(                        \"836ae1dd-c0f4-491a-b214-45311b46f686\",                        [],                        {\"template\":{\"data\":{\"barpolar\":[{\"marker\":{\"line\":{\"color\":\"#E5ECF6\",\"width\":0.5},\"pattern\":{\"fillmode\":\"overlay\",\"size\":10,\"solidity\":0.2}},\"type\":\"barpolar\"}],\"bar\":[{\"error_x\":{\"color\":\"#2a3f5f\"},\"error_y\":{\"color\":\"#2a3f5f\"},\"marker\":{\"line\":{\"color\":\"#E5ECF6\",\"width\":0.5},\"pattern\":{\"fillmode\":\"overlay\",\"size\":10,\"solidity\":0.2}},\"type\":\"bar\"}],\"carpet\":[{\"aaxis\":{\"endlinecolor\":\"#2a3f5f\",\"gridcolor\":\"white\",\"linecolor\":\"white\",\"minorgridcolor\":\"white\",\"startlinecolor\":\"#2a3f5f\"},\"baxis\":{\"endlinecolor\":\"#2a3f5f\",\"gridcolor\":\"white\",\"linecolor\":\"white\",\"minorgridcolor\":\"white\",\"startlinecolor\":\"#2a3f5f\"},\"type\":\"carpet\"}],\"choropleth\":[{\"colorbar\":{\"outlinewidth\":0,\"ticks\":\"\"},\"type\":\"choropleth\"}],\"contourcarpet\":[{\"colorbar\":{\"outlinewidth\":0,\"ticks\":\"\"},\"type\":\"contourcarpet\"}],\"contour\":[{\"colorbar\":{\"outlinewidth\":0,\"ticks\":\"\"},\"colorscale\":[[0.0,\"#0d0887\"],[0.1111111111111111,\"#46039f\"],[0.2222222222222222,\"#7201a8\"],[0.3333333333333333,\"#9c179e\"],[0.4444444444444444,\"#bd3786\"],[0.5555555555555556,\"#d8576b\"],[0.6666666666666666,\"#ed7953\"],[0.7777777777777778,\"#fb9f3a\"],[0.8888888888888888,\"#fdca26\"],[1.0,\"#f0f921\"]],\"type\":\"contour\"}],\"heatmapgl\":[{\"colorbar\":{\"outlinewidth\":0,\"ticks\":\"\"},\"colorscale\":[[0.0,\"#0d0887\"],[0.1111111111111111,\"#46039f\"],[0.2222222222222222,\"#7201a8\"],[0.3333333333333333,\"#9c179e\"],[0.4444444444444444,\"#bd3786\"],[0.5555555555555556,\"#d8576b\"],[0.6666666666666666,\"#ed7953\"],[0.7777777777777778,\"#fb9f3a\"],[0.8888888888888888,\"#fdca26\"],[1.0,\"#f0f921\"]],\"type\":\"heatmapgl\"}],\"heatmap\":[{\"colorbar\":{\"outlinewidth\":0,\"ticks\":\"\"},\"colorscale\":[[0.0,\"#0d0887\"],[0.1111111111111111,\"#46039f\"],[0.2222222222222222,\"#7201a8\"],[0.3333333333333333,\"#9c179e\"],[0.4444444444444444,\"#bd3786\"],[0.5555555555555556,\"#d8576b\"],[0.6666666666666666,\"#ed7953\"],[0.7777777777777778,\"#fb9f3a\"],[0.8888888888888888,\"#fdca26\"],[1.0,\"#f0f921\"]],\"type\":\"heatmap\"}],\"histogram2dcontour\":[{\"colorbar\":{\"outlinewidth\":0,\"ticks\":\"\"},\"colorscale\":[[0.0,\"#0d0887\"],[0.1111111111111111,\"#46039f\"],[0.2222222222222222,\"#7201a8\"],[0.3333333333333333,\"#9c179e\"],[0.4444444444444444,\"#bd3786\"],[0.5555555555555556,\"#d8576b\"],[0.6666666666666666,\"#ed7953\"],[0.7777777777777778,\"#fb9f3a\"],[0.8888888888888888,\"#fdca26\"],[1.0,\"#f0f921\"]],\"type\":\"histogram2dcontour\"}],\"histogram2d\":[{\"colorbar\":{\"outlinewidth\":0,\"ticks\":\"\"},\"colorscale\":[[0.0,\"#0d0887\"],[0.1111111111111111,\"#46039f\"],[0.2222222222222222,\"#7201a8\"],[0.3333333333333333,\"#9c179e\"],[0.4444444444444444,\"#bd3786\"],[0.5555555555555556,\"#d8576b\"],[0.6666666666666666,\"#ed7953\"],[0.7777777777777778,\"#fb9f3a\"],[0.8888888888888888,\"#fdca26\"],[1.0,\"#f0f921\"]],\"type\":\"histogram2d\"}],\"histogram\":[{\"marker\":{\"pattern\":{\"fillmode\":\"overlay\",\"size\":10,\"solidity\":0.2}},\"type\":\"histogram\"}],\"mesh3d\":[{\"colorbar\":{\"outlinewidth\":0,\"ticks\":\"\"},\"type\":\"mesh3d\"}],\"parcoords\":[{\"line\":{\"colorbar\":{\"outlinewidth\":0,\"ticks\":\"\"}},\"type\":\"parcoords\"}],\"pie\":[{\"automargin\":true,\"type\":\"pie\"}],\"scatter3d\":[{\"line\":{\"colorbar\":{\"outlinewidth\":0,\"ticks\":\"\"}},\"marker\":{\"colorbar\":{\"outlinewidth\":0,\"ticks\":\"\"}},\"type\":\"scatter3d\"}],\"scattercarpet\":[{\"marker\":{\"colorbar\":{\"outlinewidth\":0,\"ticks\":\"\"}},\"type\":\"scattercarpet\"}],\"scattergeo\":[{\"marker\":{\"colorbar\":{\"outlinewidth\":0,\"ticks\":\"\"}},\"type\":\"scattergeo\"}],\"scattergl\":[{\"marker\":{\"colorbar\":{\"outlinewidth\":0,\"ticks\":\"\"}},\"type\":\"scattergl\"}],\"scattermapbox\":[{\"marker\":{\"colorbar\":{\"outlinewidth\":0,\"ticks\":\"\"}},\"type\":\"scattermapbox\"}],\"scatterpolargl\":[{\"marker\":{\"colorbar\":{\"outlinewidth\":0,\"ticks\":\"\"}},\"type\":\"scatterpolargl\"}],\"scatterpolar\":[{\"marker\":{\"colorbar\":{\"outlinewidth\":0,\"ticks\":\"\"}},\"type\":\"scatterpolar\"}],\"scatter\":[{\"fillpattern\":{\"fillmode\":\"overlay\",\"size\":10,\"solidity\":0.2},\"type\":\"scatter\"}],\"scatterternary\":[{\"marker\":{\"colorbar\":{\"outlinewidth\":0,\"ticks\":\"\"}},\"type\":\"scatterternary\"}],\"surface\":[{\"colorbar\":{\"outlinewidth\":0,\"ticks\":\"\"},\"colorscale\":[[0.0,\"#0d0887\"],[0.1111111111111111,\"#46039f\"],[0.2222222222222222,\"#7201a8\"],[0.3333333333333333,\"#9c179e\"],[0.4444444444444444,\"#bd3786\"],[0.5555555555555556,\"#d8576b\"],[0.6666666666666666,\"#ed7953\"],[0.7777777777777778,\"#fb9f3a\"],[0.8888888888888888,\"#fdca26\"],[1.0,\"#f0f921\"]],\"type\":\"surface\"}],\"table\":[{\"cells\":{\"fill\":{\"color\":\"#EBF0F8\"},\"line\":{\"color\":\"white\"}},\"header\":{\"fill\":{\"color\":\"#C8D4E3\"},\"line\":{\"color\":\"white\"}},\"type\":\"table\"}]},\"layout\":{\"annotationdefaults\":{\"arrowcolor\":\"#2a3f5f\",\"arrowhead\":0,\"arrowwidth\":1},\"autotypenumbers\":\"strict\",\"coloraxis\":{\"colorbar\":{\"outlinewidth\":0,\"ticks\":\"\"}},\"colorscale\":{\"diverging\":[[0,\"#8e0152\"],[0.1,\"#c51b7d\"],[0.2,\"#de77ae\"],[0.3,\"#f1b6da\"],[0.4,\"#fde0ef\"],[0.5,\"#f7f7f7\"],[0.6,\"#e6f5d0\"],[0.7,\"#b8e186\"],[0.8,\"#7fbc41\"],[0.9,\"#4d9221\"],[1,\"#276419\"]],\"sequential\":[[0.0,\"#0d0887\"],[0.1111111111111111,\"#46039f\"],[0.2222222222222222,\"#7201a8\"],[0.3333333333333333,\"#9c179e\"],[0.4444444444444444,\"#bd3786\"],[0.5555555555555556,\"#d8576b\"],[0.6666666666666666,\"#ed7953\"],[0.7777777777777778,\"#fb9f3a\"],[0.8888888888888888,\"#fdca26\"],[1.0,\"#f0f921\"]],\"sequentialminus\":[[0.0,\"#0d0887\"],[0.1111111111111111,\"#46039f\"],[0.2222222222222222,\"#7201a8\"],[0.3333333333333333,\"#9c179e\"],[0.4444444444444444,\"#bd3786\"],[0.5555555555555556,\"#d8576b\"],[0.6666666666666666,\"#ed7953\"],[0.7777777777777778,\"#fb9f3a\"],[0.8888888888888888,\"#fdca26\"],[1.0,\"#f0f921\"]]},\"colorway\":[\"#636efa\",\"#EF553B\",\"#00cc96\",\"#ab63fa\",\"#FFA15A\",\"#19d3f3\",\"#FF6692\",\"#B6E880\",\"#FF97FF\",\"#FECB52\"],\"font\":{\"color\":\"#2a3f5f\"},\"geo\":{\"bgcolor\":\"white\",\"lakecolor\":\"white\",\"landcolor\":\"#E5ECF6\",\"showlakes\":true,\"showland\":true,\"subunitcolor\":\"white\"},\"hoverlabel\":{\"align\":\"left\"},\"hovermode\":\"closest\",\"mapbox\":{\"style\":\"light\"},\"paper_bgcolor\":\"white\",\"plot_bgcolor\":\"#E5ECF6\",\"polar\":{\"angularaxis\":{\"gridcolor\":\"white\",\"linecolor\":\"white\",\"ticks\":\"\"},\"bgcolor\":\"#E5ECF6\",\"radialaxis\":{\"gridcolor\":\"white\",\"linecolor\":\"white\",\"ticks\":\"\"}},\"scene\":{\"xaxis\":{\"backgroundcolor\":\"#E5ECF6\",\"gridcolor\":\"white\",\"gridwidth\":2,\"linecolor\":\"white\",\"showbackground\":true,\"ticks\":\"\",\"zerolinecolor\":\"white\"},\"yaxis\":{\"backgroundcolor\":\"#E5ECF6\",\"gridcolor\":\"white\",\"gridwidth\":2,\"linecolor\":\"white\",\"showbackground\":true,\"ticks\":\"\",\"zerolinecolor\":\"white\"},\"zaxis\":{\"backgroundcolor\":\"#E5ECF6\",\"gridcolor\":\"white\",\"gridwidth\":2,\"linecolor\":\"white\",\"showbackground\":true,\"ticks\":\"\",\"zerolinecolor\":\"white\"}},\"shapedefaults\":{\"line\":{\"color\":\"#2a3f5f\"}},\"ternary\":{\"aaxis\":{\"gridcolor\":\"white\",\"linecolor\":\"white\",\"ticks\":\"\"},\"baxis\":{\"gridcolor\":\"white\",\"linecolor\":\"white\",\"ticks\":\"\"},\"bgcolor\":\"#E5ECF6\",\"caxis\":{\"gridcolor\":\"white\",\"linecolor\":\"white\",\"ticks\":\"\"}},\"title\":{\"x\":0.05},\"xaxis\":{\"automargin\":true,\"gridcolor\":\"white\",\"linecolor\":\"white\",\"ticks\":\"\",\"title\":{\"standoff\":15},\"zerolinecolor\":\"white\",\"zerolinewidth\":2},\"yaxis\":{\"automargin\":true,\"gridcolor\":\"white\",\"linecolor\":\"white\",\"ticks\":\"\",\"title\":{\"standoff\":15},\"zerolinecolor\":\"white\",\"zerolinewidth\":2}}},\"xaxis\":{\"anchor\":\"y\",\"domain\":[0.0,1.0]},\"yaxis\":{\"anchor\":\"x\",\"domain\":[0.0,1.0]}},                        {\"responsive\": true}                    ).then(function(){\n",
       "                            \n",
       "var gd = document.getElementById('836ae1dd-c0f4-491a-b214-45311b46f686');\n",
       "var x = new MutationObserver(function (mutations, observer) {{\n",
       "        var display = window.getComputedStyle(gd).display;\n",
       "        if (!display || display === 'none') {{\n",
       "            console.log([gd, 'removed!']);\n",
       "            Plotly.purge(gd);\n",
       "            observer.disconnect();\n",
       "        }}\n",
       "}});\n",
       "\n",
       "// Listen for the removal of the full notebook cells\n",
       "var notebookContainer = gd.closest('#notebook-container');\n",
       "if (notebookContainer) {{\n",
       "    x.observe(notebookContainer, {childList: true});\n",
       "}}\n",
       "\n",
       "// Listen for the clearing of the current output cell\n",
       "var outputEl = gd.closest('.output');\n",
       "if (outputEl) {{\n",
       "    x.observe(outputEl, {childList: true});\n",
       "}}\n",
       "\n",
       "                        })                };                });            </script>        </div>"
      ]
     },
     "metadata": {},
     "output_type": "display_data"
    }
   ],
   "source": [
    "temp_dew = make_subplots(specs=[[{\"secondary_y\": True}]])\n",
    "temp_dew.add_trace(temperature, secondary_y=False)\n",
    "temp_dew.add_trace(dewpoint, secondary_y=True)\n",
    "\n",
    "iplot(temp_dew)\n",
    "iplot(windspeed)"
   ]
  },
  {
   "cell_type": "markdown",
   "id": "fd6c3e27-a2b7-4251-b4ac-73d45da4aa5f",
   "metadata": {},
   "source": [
    "iplot(temp_dew_json)"
   ]
  },
  {
   "cell_type": "code",
   "execution_count": null,
   "id": "61d905fa-85e8-4bf7-84c4-17641f89e399",
   "metadata": {},
   "outputs": [],
   "source": []
  }
 ],
 "metadata": {
  "kernelspec": {
   "display_name": "Python 3 (ipykernel)",
   "language": "python",
   "name": "python3"
  },
  "language_info": {
   "codemirror_mode": {
    "name": "ipython",
    "version": 3
   },
   "file_extension": ".py",
   "mimetype": "text/x-python",
   "name": "python",
   "nbconvert_exporter": "python",
   "pygments_lexer": "ipython3",
   "version": "3.10.12"
  }
 },
 "nbformat": 4,
 "nbformat_minor": 5
}
