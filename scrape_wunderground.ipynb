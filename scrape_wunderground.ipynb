{
 "cells": [
  {
   "cell_type": "code",
   "execution_count": 1,
   "id": "043e29f4-451d-4c4e-9a28-a469844a80ce",
   "metadata": {},
   "outputs": [],
   "source": [
    "from datetime import datetime, timedelta\n",
    "import json\n",
    "import numpy as np\n",
    "import pandas as pd\n",
    "import plotly.graph_objects as go\n",
    "import plotly.utils\n",
    "from plotly.subplots import make_subplots\n",
    "from bs4 import BeautifulSoup as BS\n",
    "from selenium import webdriver\n",
    "from selenium.webdriver.chrome.service import Service\n",
    "from selenium.webdriver.chrome.options import Options\n",
    "import time\n",
    "import yaml"
   ]
  },
  {
   "cell_type": "code",
   "execution_count": 2,
   "id": "7626d2df-2fd2-432e-bff2-de89ebad5eaf",
   "metadata": {},
   "outputs": [],
   "source": [
    "class WeatherStation:\n",
    "    def __init__(self):\n",
    "        with open('settings.yaml', 'r') as file:\n",
    "            settings = yaml.safe_load(file)\n",
    "\n",
    "        self.station = settings['station']\n",
    "        self.date = datetime.today().strftime(\"%Y-%m-%d\")\n",
    "        self.freq = settings['freq']\n",
    "        self.chromedriver_path = settings['chromedriver_path']\n",
    "        self.attempts = settings['attempts']\n",
    "        self.wait_time = settings['wait_time']\n",
    "\n",
    "        if self.freq == '5min':\n",
    "            self.timespan = 'daily'\n",
    "        if self.freq == 'daily':\n",
    "            self.timespan = 'monthly'\n",
    "\n",
    "        self.url = f'https://www.wunderground.com/dashboard/pws/{self.station}/table/{self.date}/{self.date}/{self.timespan}'\n",
    "\n",
    "    def get_settings(self):\n",
    "        settings = {\n",
    "            'station': self.station,\n",
    "            'url': self.url,\n",
    "            'date': self.date,\n",
    "            'freq': self.freq,\n",
    "            'timespan': self.timespan,\n",
    "            'chromedriver_path': self.chromedriver_path,\n",
    "            'attempts': self.attempts,\n",
    "            'wait_time': self.wait_time\n",
    "        }\n",
    "\n",
    "        return settings"
   ]
  },
  {
   "cell_type": "code",
   "execution_count": 3,
   "id": "c8ec0d6f-5c8e-4477-a979-88e345c82ba1",
   "metadata": {},
   "outputs": [],
   "source": [
    "ws = WeatherStation()"
   ]
  },
  {
   "cell_type": "code",
   "execution_count": 4,
   "id": "eb1860a0-28e4-4430-a1a5-591036c4aad1",
   "metadata": {},
   "outputs": [
    {
     "data": {
      "text/plain": [
       "{'station': 'KKSWICHI504',\n",
       " 'url': 'https://www.wunderground.com/dashboard/pws/KKSWICHI504/table/2024-09-22/2024-09-22/daily',\n",
       " 'date': '2024-09-22',\n",
       " 'freq': '5min',\n",
       " 'timespan': 'daily',\n",
       " 'chromedriver_path': '/usr/bin/chromedriver',\n",
       " 'attempts': 4,\n",
       " 'wait_time': 5.0}"
      ]
     },
     "execution_count": 4,
     "metadata": {},
     "output_type": "execute_result"
    }
   ],
   "source": [
    "ws.get_settings()"
   ]
  },
  {
   "cell_type": "code",
   "execution_count": 5,
   "id": "1ab7adb8-8114-4fa2-8eca-48bfab3dcf87",
   "metadata": {},
   "outputs": [],
   "source": [
    "def render_page(ws):\n",
    "    chrome_service = Service(ws.chromedriver_path)\n",
    "    chrome_options = Options()\n",
    "    chrome_options.add_argument(\"--headless=new\")\n",
    "    driver = webdriver.Chrome(service=chrome_service, options=chrome_options)\n",
    "    driver.get(ws.url)\n",
    "    rendered_page = driver.page_source\n",
    "    driver.quit()\n",
    "\n",
    "    return rendered_page"
   ]
  },
  {
   "cell_type": "code",
   "execution_count": 6,
   "id": "61569b3b-706d-4349-b39b-9e323d09f60f",
   "metadata": {},
   "outputs": [],
   "source": [
    "r = render_page(ws)\n",
    "soup = BS(r, 'html.parser')\n",
    "\n",
    "container = soup.find('lib-history-table')\n",
    "\n",
    "# Check that lib-history-table is found\n",
    "if container is None:\n",
    "    raise ValueError(f'Could not find lib-history-table in html source for {ws.url}')"
   ]
  },
  {
   "cell_type": "code",
   "execution_count": 7,
   "id": "333ccc67-b263-4816-8cef-a0ef4f764b82",
   "metadata": {},
   "outputs": [],
   "source": [
    "# Get the timestamps and data from two separate 'tbody' tags\n",
    "all_checks = container.find_all('tbody')\n",
    "time_check = all_checks[0]\n",
    "data_check = all_checks[1]\n",
    "\n",
    "# Iterate through 'tr' tags and get the timestamps\n",
    "hours = list(map(lambda i: i.get_text(), time_check.find_all('tr')))\n",
    "\n",
    "# For data, locate both value and no-value (\"--\") classes\n",
    "classes = ['wu-value wu-value-to', 'wu-unit-no-value ng-star-inserted']\n",
    "\n",
    "# Iterate through span tags and get data\n",
    "data = list(map(lambda i: i.get_text(), data_check.find_all('span', class_=classes)))"
   ]
  },
  {
   "cell_type": "code",
   "execution_count": 8,
   "id": "e6d2dd95-57c5-494b-8d04-0516d6386ba6",
   "metadata": {},
   "outputs": [],
   "source": [
    "# Convert NaN values (stings of '--') to np.nan\n",
    "data_nan = list(map(lambda x: np.nan if x == '--' else x, data))"
   ]
  },
  {
   "cell_type": "code",
   "execution_count": 9,
   "id": "2df5d822-0a9f-4a67-8b6a-b72bf7bbffe5",
   "metadata": {},
   "outputs": [],
   "source": [
    "columns = {\n",
    "    '5min': [\n",
    "        'Temperature', 'Dew Point', 'Humidity', 'Wind Speed',\n",
    "        'Wind Gust', 'Pressure', 'Precip. Rate', 'Precip. Accum.'\n",
    "    ],\n",
    "    'daily': [\n",
    "        'Temperature_High', 'Temperature_Avg', 'Temperature_Low',\n",
    "        'DewPoint_High', 'DewPoint_Avg', 'DewPoint_Low',\n",
    "        'Humidity_High', 'Humidity_Avg', 'Humidity_Low',\n",
    "        'WindSpeed_High', 'WindSpeed_Avg', 'WindSpeed_Low',\n",
    "        'Pressure_High', 'Pressure_Low', 'Precip_Sum'\n",
    "    ]\n",
    "}"
   ]
  },
  {
   "cell_type": "code",
   "execution_count": 10,
   "id": "9811897c-f2c9-446c-9f9f-df822d72640d",
   "metadata": {},
   "outputs": [],
   "source": [
    "# Convert list of data to an array\n",
    "data_array = np.array(data_nan, dtype=float)\n",
    "data_array = data_array.reshape(-1, len(columns[ws.freq]))"
   ]
  },
  {
   "cell_type": "code",
   "execution_count": 11,
   "id": "c447eb0b-f6be-4277-8f27-cfb723886344",
   "metadata": {},
   "outputs": [],
   "source": [
    "# Prepend date to HH:MM strings\n",
    "if ws.freq == '5min':\n",
    "    timestamps = list(map(lambda t: f'{ws.date} {t}', hours))\n",
    "else:\n",
    "    timestamps = hours"
   ]
  },
  {
   "cell_type": "code",
   "execution_count": 12,
   "id": "317615fa-621a-4546-8005-e70e0093ff5a",
   "metadata": {},
   "outputs": [],
   "source": [
    "df = pd.DataFrame(index=timestamps, data=data_array, columns=columns[ws.freq])"
   ]
  },
  {
   "cell_type": "code",
   "execution_count": 13,
   "id": "e37e2033-c894-4c3a-ae8f-4233b9c490de",
   "metadata": {},
   "outputs": [],
   "source": [
    "df.index = pd.to_datetime(df.index, format='%Y-%m-%d %I:%M %p')"
   ]
  },
  {
   "cell_type": "code",
   "execution_count": 14,
   "id": "0153c42d-74af-4acf-94d5-08d42ff43da5",
   "metadata": {},
   "outputs": [],
   "source": [
    "df.reset_index(inplace=True)\n",
    "df.rename(columns={'index': 'Timestamp'}, inplace=True)"
   ]
  },
  {
   "cell_type": "code",
   "execution_count": 18,
   "id": "ddd1a8c5-046d-41fd-92b0-dfcfd5fe1a23",
   "metadata": {},
   "outputs": [
    {
     "data": {
      "application/vnd.plotly.v1+json": {
       "config": {
        "plotlyServerURL": "https://plot.ly"
       },
       "data": [
        {
         "hovertemplate": "variable=Temperature<br>Timestamp=%{x}<br>Degrees=%{y}<extra></extra>",
         "legendgroup": "Temperature",
         "line": {
          "color": "red",
          "dash": "solid"
         },
         "marker": {
          "symbol": "circle"
         },
         "mode": "lines",
         "name": "Temperature",
         "orientation": "v",
         "showlegend": true,
         "type": "scatter",
         "x": [
          "2024-09-22T00:04:00",
          "2024-09-22T00:09:00",
          "2024-09-22T00:14:00",
          "2024-09-22T00:19:00",
          "2024-09-22T00:24:00",
          "2024-09-22T00:29:00",
          "2024-09-22T00:34:00",
          "2024-09-22T00:39:00",
          "2024-09-22T00:44:00",
          "2024-09-22T00:49:00",
          "2024-09-22T00:54:00",
          "2024-09-22T00:59:00",
          "2024-09-22T01:04:00",
          "2024-09-22T01:09:00",
          "2024-09-22T01:14:00",
          "2024-09-22T01:19:00",
          "2024-09-22T01:24:00",
          "2024-09-22T01:29:00",
          "2024-09-22T01:34:00",
          "2024-09-22T01:39:00",
          "2024-09-22T01:44:00",
          "2024-09-22T01:49:00",
          "2024-09-22T01:54:00",
          "2024-09-22T01:59:00",
          "2024-09-22T02:04:00",
          "2024-09-22T02:09:00",
          "2024-09-22T02:14:00",
          "2024-09-22T02:19:00",
          "2024-09-22T02:24:00",
          "2024-09-22T02:29:00",
          "2024-09-22T02:34:00",
          "2024-09-22T02:39:00",
          "2024-09-22T02:44:00",
          "2024-09-22T02:49:00",
          "2024-09-22T02:54:00",
          "2024-09-22T02:59:00",
          "2024-09-22T03:04:00",
          "2024-09-22T03:09:00",
          "2024-09-22T03:14:00",
          "2024-09-22T03:19:00",
          "2024-09-22T03:24:00",
          "2024-09-22T03:29:00",
          "2024-09-22T03:34:00",
          "2024-09-22T03:39:00",
          "2024-09-22T03:44:00",
          "2024-09-22T03:49:00",
          "2024-09-22T03:54:00",
          "2024-09-22T03:59:00",
          "2024-09-22T04:04:00",
          "2024-09-22T04:09:00",
          "2024-09-22T04:14:00",
          "2024-09-22T04:19:00",
          "2024-09-22T04:24:00",
          "2024-09-22T04:29:00",
          "2024-09-22T04:34:00",
          "2024-09-22T04:39:00",
          "2024-09-22T04:44:00",
          "2024-09-22T04:49:00",
          "2024-09-22T04:54:00",
          "2024-09-22T04:59:00",
          "2024-09-22T05:04:00",
          "2024-09-22T05:09:00",
          "2024-09-22T05:14:00",
          "2024-09-22T05:19:00",
          "2024-09-22T05:24:00",
          "2024-09-22T05:29:00",
          "2024-09-22T05:34:00",
          "2024-09-22T05:39:00",
          "2024-09-22T05:44:00",
          "2024-09-22T05:49:00",
          "2024-09-22T05:54:00",
          "2024-09-22T05:59:00",
          "2024-09-22T06:04:00",
          "2024-09-22T06:09:00",
          "2024-09-22T06:14:00",
          "2024-09-22T06:19:00",
          "2024-09-22T06:24:00",
          "2024-09-22T06:29:00",
          "2024-09-22T06:34:00",
          "2024-09-22T06:39:00",
          "2024-09-22T06:44:00",
          "2024-09-22T06:49:00",
          "2024-09-22T06:54:00",
          "2024-09-22T06:59:00",
          "2024-09-22T07:04:00",
          "2024-09-22T07:09:00",
          "2024-09-22T07:14:00",
          "2024-09-22T07:19:00",
          "2024-09-22T07:24:00",
          "2024-09-22T07:29:00",
          "2024-09-22T07:34:00",
          "2024-09-22T07:39:00",
          "2024-09-22T07:44:00",
          "2024-09-22T07:49:00",
          "2024-09-22T07:54:00",
          "2024-09-22T07:59:00",
          "2024-09-22T08:04:00",
          "2024-09-22T08:09:00",
          "2024-09-22T08:14:00",
          "2024-09-22T08:19:00",
          "2024-09-22T08:24:00",
          "2024-09-22T08:29:00",
          "2024-09-22T08:34:00",
          "2024-09-22T08:39:00",
          "2024-09-22T08:44:00",
          "2024-09-22T08:49:00",
          "2024-09-22T08:54:00",
          "2024-09-22T08:59:00",
          "2024-09-22T09:04:00",
          "2024-09-22T09:09:00",
          "2024-09-22T09:14:00",
          "2024-09-22T09:19:00",
          "2024-09-22T09:24:00",
          "2024-09-22T09:29:00",
          "2024-09-22T09:34:00",
          "2024-09-22T09:39:00",
          "2024-09-22T09:44:00",
          "2024-09-22T09:49:00",
          "2024-09-22T09:54:00",
          "2024-09-22T09:59:00",
          "2024-09-22T10:04:00",
          "2024-09-22T10:09:00",
          "2024-09-22T10:14:00",
          "2024-09-22T10:19:00",
          "2024-09-22T10:24:00",
          "2024-09-22T10:29:00",
          "2024-09-22T10:34:00",
          "2024-09-22T10:39:00",
          "2024-09-22T10:44:00",
          "2024-09-22T10:49:00",
          "2024-09-22T10:54:00",
          "2024-09-22T10:59:00",
          "2024-09-22T11:04:00",
          "2024-09-22T11:09:00",
          "2024-09-22T11:14:00",
          "2024-09-22T11:19:00",
          "2024-09-22T11:24:00",
          "2024-09-22T11:29:00",
          "2024-09-22T11:34:00",
          "2024-09-22T11:39:00",
          "2024-09-22T11:44:00",
          "2024-09-22T11:49:00",
          "2024-09-22T11:54:00",
          "2024-09-22T11:59:00",
          "2024-09-22T12:04:00",
          "2024-09-22T12:09:00",
          "2024-09-22T12:14:00",
          "2024-09-22T12:19:00",
          "2024-09-22T12:24:00",
          "2024-09-22T12:29:00",
          "2024-09-22T12:34:00",
          "2024-09-22T12:39:00",
          "2024-09-22T12:44:00",
          "2024-09-22T12:49:00",
          "2024-09-22T12:54:00",
          "2024-09-22T12:59:00",
          "2024-09-22T13:04:00",
          "2024-09-22T13:09:00",
          "2024-09-22T13:14:00",
          "2024-09-22T13:19:00",
          "2024-09-22T13:24:00",
          "2024-09-22T13:29:00",
          "2024-09-22T13:34:00"
         ],
         "xaxis": "x",
         "y": [
          68.8,
          68.9,
          68.9,
          68.8,
          68.7,
          68.7,
          68.6,
          68.4,
          68.4,
          68.3,
          68.1,
          68.1,
          68.1,
          68.1,
          68.2,
          68.1,
          67.9,
          67.8,
          67.7,
          67.7,
          67.7,
          67.7,
          67.8,
          67.7,
          67.6,
          67.6,
          67.6,
          67.6,
          67.5,
          67.5,
          67.5,
          67.5,
          67.4,
          67.5,
          67.5,
          67.5,
          67.5,
          67.5,
          67.4,
          67.3,
          67.3,
          67.2,
          67.2,
          67.4,
          67.5,
          67.4,
          67.3,
          67.3,
          67.4,
          67.5,
          67.5,
          67.3,
          67.2,
          67.2,
          67.2,
          67.2,
          67.3,
          67.4,
          67.5,
          67.5,
          67.4,
          67.4,
          67.5,
          67.5,
          67.5,
          67.5,
          67.6,
          67.6,
          67.5,
          67.5,
          67.4,
          67.3,
          67.4,
          67.3,
          67.2,
          67.2,
          67.2,
          67.1,
          65.6,
          64.9,
          64.2,
          63.5,
          62.9,
          62.3,
          61.9,
          61.4,
          61.2,
          61.1,
          61.2,
          61.1,
          61,
          61.2,
          61.3,
          61.3,
          61.5,
          61.8,
          61.7,
          61.7,
          61.6,
          61.6,
          61.8,
          61.3,
          61.3,
          61.2,
          61.1,
          60.9,
          61,
          61,
          61,
          60.8,
          60.9,
          61.2,
          61.4,
          61.5,
          61.3,
          61.3,
          61.5,
          61.8,
          61.9,
          61.8,
          61.7,
          61.8,
          61.8,
          61.8,
          61.7,
          61.8,
          62,
          62.2,
          62,
          62.2,
          62.4,
          62.8,
          62.9,
          62.9,
          62.7,
          62.6,
          62.6,
          62.5,
          62.5,
          62.4,
          62.1,
          62.1,
          62.2,
          62.3,
          62.2,
          62.2,
          62.1,
          62.1,
          61.9,
          61.5,
          61.2,
          61,
          60.8,
          60.4,
          60.3,
          60.3,
          60.5,
          60.4,
          60.3,
          60.2,
          60.2,
          60,
          60
         ],
         "yaxis": "y"
        },
        {
         "hovertemplate": "variable=Dew Point<br>Timestamp=%{x}<br>Degrees=%{y}<extra></extra>",
         "legendgroup": "Dew Point",
         "line": {
          "color": "green",
          "dash": "solid"
         },
         "marker": {
          "symbol": "circle"
         },
         "mode": "lines",
         "name": "Dew Point",
         "orientation": "v",
         "showlegend": true,
         "type": "scatter",
         "x": [
          "2024-09-22T00:04:00",
          "2024-09-22T00:09:00",
          "2024-09-22T00:14:00",
          "2024-09-22T00:19:00",
          "2024-09-22T00:24:00",
          "2024-09-22T00:29:00",
          "2024-09-22T00:34:00",
          "2024-09-22T00:39:00",
          "2024-09-22T00:44:00",
          "2024-09-22T00:49:00",
          "2024-09-22T00:54:00",
          "2024-09-22T00:59:00",
          "2024-09-22T01:04:00",
          "2024-09-22T01:09:00",
          "2024-09-22T01:14:00",
          "2024-09-22T01:19:00",
          "2024-09-22T01:24:00",
          "2024-09-22T01:29:00",
          "2024-09-22T01:34:00",
          "2024-09-22T01:39:00",
          "2024-09-22T01:44:00",
          "2024-09-22T01:49:00",
          "2024-09-22T01:54:00",
          "2024-09-22T01:59:00",
          "2024-09-22T02:04:00",
          "2024-09-22T02:09:00",
          "2024-09-22T02:14:00",
          "2024-09-22T02:19:00",
          "2024-09-22T02:24:00",
          "2024-09-22T02:29:00",
          "2024-09-22T02:34:00",
          "2024-09-22T02:39:00",
          "2024-09-22T02:44:00",
          "2024-09-22T02:49:00",
          "2024-09-22T02:54:00",
          "2024-09-22T02:59:00",
          "2024-09-22T03:04:00",
          "2024-09-22T03:09:00",
          "2024-09-22T03:14:00",
          "2024-09-22T03:19:00",
          "2024-09-22T03:24:00",
          "2024-09-22T03:29:00",
          "2024-09-22T03:34:00",
          "2024-09-22T03:39:00",
          "2024-09-22T03:44:00",
          "2024-09-22T03:49:00",
          "2024-09-22T03:54:00",
          "2024-09-22T03:59:00",
          "2024-09-22T04:04:00",
          "2024-09-22T04:09:00",
          "2024-09-22T04:14:00",
          "2024-09-22T04:19:00",
          "2024-09-22T04:24:00",
          "2024-09-22T04:29:00",
          "2024-09-22T04:34:00",
          "2024-09-22T04:39:00",
          "2024-09-22T04:44:00",
          "2024-09-22T04:49:00",
          "2024-09-22T04:54:00",
          "2024-09-22T04:59:00",
          "2024-09-22T05:04:00",
          "2024-09-22T05:09:00",
          "2024-09-22T05:14:00",
          "2024-09-22T05:19:00",
          "2024-09-22T05:24:00",
          "2024-09-22T05:29:00",
          "2024-09-22T05:34:00",
          "2024-09-22T05:39:00",
          "2024-09-22T05:44:00",
          "2024-09-22T05:49:00",
          "2024-09-22T05:54:00",
          "2024-09-22T05:59:00",
          "2024-09-22T06:04:00",
          "2024-09-22T06:09:00",
          "2024-09-22T06:14:00",
          "2024-09-22T06:19:00",
          "2024-09-22T06:24:00",
          "2024-09-22T06:29:00",
          "2024-09-22T06:34:00",
          "2024-09-22T06:39:00",
          "2024-09-22T06:44:00",
          "2024-09-22T06:49:00",
          "2024-09-22T06:54:00",
          "2024-09-22T06:59:00",
          "2024-09-22T07:04:00",
          "2024-09-22T07:09:00",
          "2024-09-22T07:14:00",
          "2024-09-22T07:19:00",
          "2024-09-22T07:24:00",
          "2024-09-22T07:29:00",
          "2024-09-22T07:34:00",
          "2024-09-22T07:39:00",
          "2024-09-22T07:44:00",
          "2024-09-22T07:49:00",
          "2024-09-22T07:54:00",
          "2024-09-22T07:59:00",
          "2024-09-22T08:04:00",
          "2024-09-22T08:09:00",
          "2024-09-22T08:14:00",
          "2024-09-22T08:19:00",
          "2024-09-22T08:24:00",
          "2024-09-22T08:29:00",
          "2024-09-22T08:34:00",
          "2024-09-22T08:39:00",
          "2024-09-22T08:44:00",
          "2024-09-22T08:49:00",
          "2024-09-22T08:54:00",
          "2024-09-22T08:59:00",
          "2024-09-22T09:04:00",
          "2024-09-22T09:09:00",
          "2024-09-22T09:14:00",
          "2024-09-22T09:19:00",
          "2024-09-22T09:24:00",
          "2024-09-22T09:29:00",
          "2024-09-22T09:34:00",
          "2024-09-22T09:39:00",
          "2024-09-22T09:44:00",
          "2024-09-22T09:49:00",
          "2024-09-22T09:54:00",
          "2024-09-22T09:59:00",
          "2024-09-22T10:04:00",
          "2024-09-22T10:09:00",
          "2024-09-22T10:14:00",
          "2024-09-22T10:19:00",
          "2024-09-22T10:24:00",
          "2024-09-22T10:29:00",
          "2024-09-22T10:34:00",
          "2024-09-22T10:39:00",
          "2024-09-22T10:44:00",
          "2024-09-22T10:49:00",
          "2024-09-22T10:54:00",
          "2024-09-22T10:59:00",
          "2024-09-22T11:04:00",
          "2024-09-22T11:09:00",
          "2024-09-22T11:14:00",
          "2024-09-22T11:19:00",
          "2024-09-22T11:24:00",
          "2024-09-22T11:29:00",
          "2024-09-22T11:34:00",
          "2024-09-22T11:39:00",
          "2024-09-22T11:44:00",
          "2024-09-22T11:49:00",
          "2024-09-22T11:54:00",
          "2024-09-22T11:59:00",
          "2024-09-22T12:04:00",
          "2024-09-22T12:09:00",
          "2024-09-22T12:14:00",
          "2024-09-22T12:19:00",
          "2024-09-22T12:24:00",
          "2024-09-22T12:29:00",
          "2024-09-22T12:34:00",
          "2024-09-22T12:39:00",
          "2024-09-22T12:44:00",
          "2024-09-22T12:49:00",
          "2024-09-22T12:54:00",
          "2024-09-22T12:59:00",
          "2024-09-22T13:04:00",
          "2024-09-22T13:09:00",
          "2024-09-22T13:14:00",
          "2024-09-22T13:19:00",
          "2024-09-22T13:24:00",
          "2024-09-22T13:29:00",
          "2024-09-22T13:34:00"
         ],
         "xaxis": "x",
         "y": [
          66.4,
          66.4,
          66.5,
          66.6,
          66.6,
          66.6,
          66.7,
          66.6,
          66.6,
          66.5,
          66.3,
          66.3,
          66.3,
          66.1,
          66.1,
          66,
          65.8,
          65.7,
          65.9,
          65.9,
          65.9,
          65.9,
          66,
          65.9,
          65.8,
          65.8,
          65.9,
          66,
          66,
          66,
          66,
          66,
          65.9,
          66,
          66,
          66,
          66,
          66,
          65.9,
          65.8,
          65.8,
          65.7,
          65.7,
          65.9,
          66,
          65.9,
          65.8,
          65.8,
          65.9,
          66,
          66,
          65.8,
          65.7,
          65.7,
          65.5,
          65.4,
          65.5,
          65.6,
          65.7,
          65.7,
          65.6,
          65.6,
          65.7,
          65.7,
          65.7,
          65.7,
          65.8,
          65.8,
          65.7,
          65.7,
          65.7,
          65.8,
          65.9,
          65.8,
          65.7,
          65.7,
          65.7,
          65.6,
          63.7,
          62.7,
          62.1,
          61.4,
          60.7,
          60.1,
          59.5,
          59.1,
          59.2,
          59.1,
          59.5,
          59.4,
          59.3,
          59.5,
          59.6,
          59.6,
          59.8,
          60.1,
          60,
          60,
          59.9,
          59.9,
          60.1,
          59.3,
          59.3,
          59.2,
          59.1,
          58.9,
          59.1,
          59,
          59,
          58.8,
          58.9,
          59.2,
          59.4,
          59.4,
          59,
          59.1,
          59.4,
          59.4,
          59.5,
          59.4,
          59.2,
          59.2,
          59.3,
          59.3,
          59,
          59.1,
          59.3,
          59.1,
          58.7,
          59.1,
          59.1,
          59.3,
          59.3,
          59,
          58.7,
          58.5,
          58.7,
          58.7,
          58.8,
          58.7,
          58.5,
          58.5,
          58.6,
          58.7,
          58.6,
          58.6,
          58.5,
          58.6,
          58.6,
          58.5,
          58.4,
          58.4,
          58.2,
          58.1,
          58,
          58.1,
          58.2,
          58.2,
          58,
          58,
          58.2,
          58,
          57.9
         ],
         "yaxis": "y"
        }
       ],
       "layout": {
        "autosize": true,
        "legend": {
         "title": {
          "text": "variable"
         },
         "tracegroupgap": 0
        },
        "margin": {
         "t": 60
        },
        "template": {
         "data": {
          "bar": [
           {
            "error_x": {
             "color": "#2a3f5f"
            },
            "error_y": {
             "color": "#2a3f5f"
            },
            "marker": {
             "line": {
              "color": "#E5ECF6",
              "width": 0.5
             },
             "pattern": {
              "fillmode": "overlay",
              "size": 10,
              "solidity": 0.2
             }
            },
            "type": "bar"
           }
          ],
          "barpolar": [
           {
            "marker": {
             "line": {
              "color": "#E5ECF6",
              "width": 0.5
             },
             "pattern": {
              "fillmode": "overlay",
              "size": 10,
              "solidity": 0.2
             }
            },
            "type": "barpolar"
           }
          ],
          "carpet": [
           {
            "aaxis": {
             "endlinecolor": "#2a3f5f",
             "gridcolor": "white",
             "linecolor": "white",
             "minorgridcolor": "white",
             "startlinecolor": "#2a3f5f"
            },
            "baxis": {
             "endlinecolor": "#2a3f5f",
             "gridcolor": "white",
             "linecolor": "white",
             "minorgridcolor": "white",
             "startlinecolor": "#2a3f5f"
            },
            "type": "carpet"
           }
          ],
          "choropleth": [
           {
            "colorbar": {
             "outlinewidth": 0,
             "ticks": ""
            },
            "type": "choropleth"
           }
          ],
          "contour": [
           {
            "colorbar": {
             "outlinewidth": 0,
             "ticks": ""
            },
            "colorscale": [
             [
              0,
              "#0d0887"
             ],
             [
              0.1111111111111111,
              "#46039f"
             ],
             [
              0.2222222222222222,
              "#7201a8"
             ],
             [
              0.3333333333333333,
              "#9c179e"
             ],
             [
              0.4444444444444444,
              "#bd3786"
             ],
             [
              0.5555555555555556,
              "#d8576b"
             ],
             [
              0.6666666666666666,
              "#ed7953"
             ],
             [
              0.7777777777777778,
              "#fb9f3a"
             ],
             [
              0.8888888888888888,
              "#fdca26"
             ],
             [
              1,
              "#f0f921"
             ]
            ],
            "type": "contour"
           }
          ],
          "contourcarpet": [
           {
            "colorbar": {
             "outlinewidth": 0,
             "ticks": ""
            },
            "type": "contourcarpet"
           }
          ],
          "heatmap": [
           {
            "colorbar": {
             "outlinewidth": 0,
             "ticks": ""
            },
            "colorscale": [
             [
              0,
              "#0d0887"
             ],
             [
              0.1111111111111111,
              "#46039f"
             ],
             [
              0.2222222222222222,
              "#7201a8"
             ],
             [
              0.3333333333333333,
              "#9c179e"
             ],
             [
              0.4444444444444444,
              "#bd3786"
             ],
             [
              0.5555555555555556,
              "#d8576b"
             ],
             [
              0.6666666666666666,
              "#ed7953"
             ],
             [
              0.7777777777777778,
              "#fb9f3a"
             ],
             [
              0.8888888888888888,
              "#fdca26"
             ],
             [
              1,
              "#f0f921"
             ]
            ],
            "type": "heatmap"
           }
          ],
          "heatmapgl": [
           {
            "colorbar": {
             "outlinewidth": 0,
             "ticks": ""
            },
            "colorscale": [
             [
              0,
              "#0d0887"
             ],
             [
              0.1111111111111111,
              "#46039f"
             ],
             [
              0.2222222222222222,
              "#7201a8"
             ],
             [
              0.3333333333333333,
              "#9c179e"
             ],
             [
              0.4444444444444444,
              "#bd3786"
             ],
             [
              0.5555555555555556,
              "#d8576b"
             ],
             [
              0.6666666666666666,
              "#ed7953"
             ],
             [
              0.7777777777777778,
              "#fb9f3a"
             ],
             [
              0.8888888888888888,
              "#fdca26"
             ],
             [
              1,
              "#f0f921"
             ]
            ],
            "type": "heatmapgl"
           }
          ],
          "histogram": [
           {
            "marker": {
             "pattern": {
              "fillmode": "overlay",
              "size": 10,
              "solidity": 0.2
             }
            },
            "type": "histogram"
           }
          ],
          "histogram2d": [
           {
            "colorbar": {
             "outlinewidth": 0,
             "ticks": ""
            },
            "colorscale": [
             [
              0,
              "#0d0887"
             ],
             [
              0.1111111111111111,
              "#46039f"
             ],
             [
              0.2222222222222222,
              "#7201a8"
             ],
             [
              0.3333333333333333,
              "#9c179e"
             ],
             [
              0.4444444444444444,
              "#bd3786"
             ],
             [
              0.5555555555555556,
              "#d8576b"
             ],
             [
              0.6666666666666666,
              "#ed7953"
             ],
             [
              0.7777777777777778,
              "#fb9f3a"
             ],
             [
              0.8888888888888888,
              "#fdca26"
             ],
             [
              1,
              "#f0f921"
             ]
            ],
            "type": "histogram2d"
           }
          ],
          "histogram2dcontour": [
           {
            "colorbar": {
             "outlinewidth": 0,
             "ticks": ""
            },
            "colorscale": [
             [
              0,
              "#0d0887"
             ],
             [
              0.1111111111111111,
              "#46039f"
             ],
             [
              0.2222222222222222,
              "#7201a8"
             ],
             [
              0.3333333333333333,
              "#9c179e"
             ],
             [
              0.4444444444444444,
              "#bd3786"
             ],
             [
              0.5555555555555556,
              "#d8576b"
             ],
             [
              0.6666666666666666,
              "#ed7953"
             ],
             [
              0.7777777777777778,
              "#fb9f3a"
             ],
             [
              0.8888888888888888,
              "#fdca26"
             ],
             [
              1,
              "#f0f921"
             ]
            ],
            "type": "histogram2dcontour"
           }
          ],
          "mesh3d": [
           {
            "colorbar": {
             "outlinewidth": 0,
             "ticks": ""
            },
            "type": "mesh3d"
           }
          ],
          "parcoords": [
           {
            "line": {
             "colorbar": {
              "outlinewidth": 0,
              "ticks": ""
             }
            },
            "type": "parcoords"
           }
          ],
          "pie": [
           {
            "automargin": true,
            "type": "pie"
           }
          ],
          "scatter": [
           {
            "fillpattern": {
             "fillmode": "overlay",
             "size": 10,
             "solidity": 0.2
            },
            "type": "scatter"
           }
          ],
          "scatter3d": [
           {
            "line": {
             "colorbar": {
              "outlinewidth": 0,
              "ticks": ""
             }
            },
            "marker": {
             "colorbar": {
              "outlinewidth": 0,
              "ticks": ""
             }
            },
            "type": "scatter3d"
           }
          ],
          "scattercarpet": [
           {
            "marker": {
             "colorbar": {
              "outlinewidth": 0,
              "ticks": ""
             }
            },
            "type": "scattercarpet"
           }
          ],
          "scattergeo": [
           {
            "marker": {
             "colorbar": {
              "outlinewidth": 0,
              "ticks": ""
             }
            },
            "type": "scattergeo"
           }
          ],
          "scattergl": [
           {
            "marker": {
             "colorbar": {
              "outlinewidth": 0,
              "ticks": ""
             }
            },
            "type": "scattergl"
           }
          ],
          "scattermapbox": [
           {
            "marker": {
             "colorbar": {
              "outlinewidth": 0,
              "ticks": ""
             }
            },
            "type": "scattermapbox"
           }
          ],
          "scatterpolar": [
           {
            "marker": {
             "colorbar": {
              "outlinewidth": 0,
              "ticks": ""
             }
            },
            "type": "scatterpolar"
           }
          ],
          "scatterpolargl": [
           {
            "marker": {
             "colorbar": {
              "outlinewidth": 0,
              "ticks": ""
             }
            },
            "type": "scatterpolargl"
           }
          ],
          "scatterternary": [
           {
            "marker": {
             "colorbar": {
              "outlinewidth": 0,
              "ticks": ""
             }
            },
            "type": "scatterternary"
           }
          ],
          "surface": [
           {
            "colorbar": {
             "outlinewidth": 0,
             "ticks": ""
            },
            "colorscale": [
             [
              0,
              "#0d0887"
             ],
             [
              0.1111111111111111,
              "#46039f"
             ],
             [
              0.2222222222222222,
              "#7201a8"
             ],
             [
              0.3333333333333333,
              "#9c179e"
             ],
             [
              0.4444444444444444,
              "#bd3786"
             ],
             [
              0.5555555555555556,
              "#d8576b"
             ],
             [
              0.6666666666666666,
              "#ed7953"
             ],
             [
              0.7777777777777778,
              "#fb9f3a"
             ],
             [
              0.8888888888888888,
              "#fdca26"
             ],
             [
              1,
              "#f0f921"
             ]
            ],
            "type": "surface"
           }
          ],
          "table": [
           {
            "cells": {
             "fill": {
              "color": "#EBF0F8"
             },
             "line": {
              "color": "white"
             }
            },
            "header": {
             "fill": {
              "color": "#C8D4E3"
             },
             "line": {
              "color": "white"
             }
            },
            "type": "table"
           }
          ]
         },
         "layout": {
          "annotationdefaults": {
           "arrowcolor": "#2a3f5f",
           "arrowhead": 0,
           "arrowwidth": 1
          },
          "autotypenumbers": "strict",
          "coloraxis": {
           "colorbar": {
            "outlinewidth": 0,
            "ticks": ""
           }
          },
          "colorscale": {
           "diverging": [
            [
             0,
             "#8e0152"
            ],
            [
             0.1,
             "#c51b7d"
            ],
            [
             0.2,
             "#de77ae"
            ],
            [
             0.3,
             "#f1b6da"
            ],
            [
             0.4,
             "#fde0ef"
            ],
            [
             0.5,
             "#f7f7f7"
            ],
            [
             0.6,
             "#e6f5d0"
            ],
            [
             0.7,
             "#b8e186"
            ],
            [
             0.8,
             "#7fbc41"
            ],
            [
             0.9,
             "#4d9221"
            ],
            [
             1,
             "#276419"
            ]
           ],
           "sequential": [
            [
             0,
             "#0d0887"
            ],
            [
             0.1111111111111111,
             "#46039f"
            ],
            [
             0.2222222222222222,
             "#7201a8"
            ],
            [
             0.3333333333333333,
             "#9c179e"
            ],
            [
             0.4444444444444444,
             "#bd3786"
            ],
            [
             0.5555555555555556,
             "#d8576b"
            ],
            [
             0.6666666666666666,
             "#ed7953"
            ],
            [
             0.7777777777777778,
             "#fb9f3a"
            ],
            [
             0.8888888888888888,
             "#fdca26"
            ],
            [
             1,
             "#f0f921"
            ]
           ],
           "sequentialminus": [
            [
             0,
             "#0d0887"
            ],
            [
             0.1111111111111111,
             "#46039f"
            ],
            [
             0.2222222222222222,
             "#7201a8"
            ],
            [
             0.3333333333333333,
             "#9c179e"
            ],
            [
             0.4444444444444444,
             "#bd3786"
            ],
            [
             0.5555555555555556,
             "#d8576b"
            ],
            [
             0.6666666666666666,
             "#ed7953"
            ],
            [
             0.7777777777777778,
             "#fb9f3a"
            ],
            [
             0.8888888888888888,
             "#fdca26"
            ],
            [
             1,
             "#f0f921"
            ]
           ]
          },
          "colorway": [
           "#636efa",
           "#EF553B",
           "#00cc96",
           "#ab63fa",
           "#FFA15A",
           "#19d3f3",
           "#FF6692",
           "#B6E880",
           "#FF97FF",
           "#FECB52"
          ],
          "font": {
           "color": "#2a3f5f"
          },
          "geo": {
           "bgcolor": "white",
           "lakecolor": "white",
           "landcolor": "#E5ECF6",
           "showlakes": true,
           "showland": true,
           "subunitcolor": "white"
          },
          "hoverlabel": {
           "align": "left"
          },
          "hovermode": "closest",
          "mapbox": {
           "style": "light"
          },
          "paper_bgcolor": "white",
          "plot_bgcolor": "#E5ECF6",
          "polar": {
           "angularaxis": {
            "gridcolor": "white",
            "linecolor": "white",
            "ticks": ""
           },
           "bgcolor": "#E5ECF6",
           "radialaxis": {
            "gridcolor": "white",
            "linecolor": "white",
            "ticks": ""
           }
          },
          "scene": {
           "xaxis": {
            "backgroundcolor": "#E5ECF6",
            "gridcolor": "white",
            "gridwidth": 2,
            "linecolor": "white",
            "showbackground": true,
            "ticks": "",
            "zerolinecolor": "white"
           },
           "yaxis": {
            "backgroundcolor": "#E5ECF6",
            "gridcolor": "white",
            "gridwidth": 2,
            "linecolor": "white",
            "showbackground": true,
            "ticks": "",
            "zerolinecolor": "white"
           },
           "zaxis": {
            "backgroundcolor": "#E5ECF6",
            "gridcolor": "white",
            "gridwidth": 2,
            "linecolor": "white",
            "showbackground": true,
            "ticks": "",
            "zerolinecolor": "white"
           }
          },
          "shapedefaults": {
           "line": {
            "color": "#2a3f5f"
           }
          },
          "ternary": {
           "aaxis": {
            "gridcolor": "white",
            "linecolor": "white",
            "ticks": ""
           },
           "baxis": {
            "gridcolor": "white",
            "linecolor": "white",
            "ticks": ""
           },
           "bgcolor": "#E5ECF6",
           "caxis": {
            "gridcolor": "white",
            "linecolor": "white",
            "ticks": ""
           }
          },
          "title": {
           "x": 0.05
          },
          "xaxis": {
           "automargin": true,
           "gridcolor": "white",
           "linecolor": "white",
           "ticks": "",
           "title": {
            "standoff": 15
           },
           "zerolinecolor": "white",
           "zerolinewidth": 2
          },
          "yaxis": {
           "automargin": true,
           "gridcolor": "white",
           "linecolor": "white",
           "ticks": "",
           "title": {
            "standoff": 15
           },
           "zerolinecolor": "white",
           "zerolinewidth": 2
          }
         }
        },
        "xaxis": {
         "anchor": "y",
         "autorange": true,
         "domain": [
          0,
          1
         ],
         "range": [
          "2024-09-22 00:04",
          "2024-09-22 13:34"
         ],
         "title": {
          "text": "Timestamp"
         },
         "type": "date"
        },
        "yaxis": {
         "anchor": "x",
         "autorange": true,
         "domain": [
          0,
          1
         ],
         "range": [
          57.288888888888884,
          69.51111111111112
         ],
         "title": {
          "text": "Degrees"
         },
         "type": "linear"
        }
       }
      },
      "image/png": "[encoded data removed]",
      "text/html": [
       "<div>                            <div id=\"0d88f016-9d2e-4f9e-9be9-97cfc9c82d89\" class=\"plotly-graph-div\" style=\"height:525px; width:100%;\"></div>            <script type=\"text/javascript\">                require([\"plotly\"], function(Plotly) {                    window.PLOTLYENV=window.PLOTLYENV || {};                                    if (document.getElementById(\"0d88f016-9d2e-4f9e-9be9-97cfc9c82d89\")) {                    Plotly.newPlot(                        \"0d88f016-9d2e-4f9e-9be9-97cfc9c82d89\",                        [{\"hovertemplate\":\"variable=Temperature\\u003cbr\\u003eTimestamp=%{x}\\u003cbr\\u003eDegrees=%{y}\\u003cextra\\u003e\\u003c\\u002fextra\\u003e\",\"legendgroup\":\"Temperature\",\"line\":{\"color\":\"red\",\"dash\":\"solid\"},\"marker\":{\"symbol\":\"circle\"},\"mode\":\"lines\",\"name\":\"Temperature\",\"orientation\":\"v\",\"showlegend\":true,\"x\":[\"2024-09-22T00:04:00\",\"2024-09-22T00:09:00\",\"2024-09-22T00:14:00\",\"2024-09-22T00:19:00\",\"2024-09-22T00:24:00\",\"2024-09-22T00:29:00\",\"2024-09-22T00:34:00\",\"2024-09-22T00:39:00\",\"2024-09-22T00:44:00\",\"2024-09-22T00:49:00\",\"2024-09-22T00:54:00\",\"2024-09-22T00:59:00\",\"2024-09-22T01:04:00\",\"2024-09-22T01:09:00\",\"2024-09-22T01:14:00\",\"2024-09-22T01:19:00\",\"2024-09-22T01:24:00\",\"2024-09-22T01:29:00\",\"2024-09-22T01:34:00\",\"2024-09-22T01:39:00\",\"2024-09-22T01:44:00\",\"2024-09-22T01:49:00\",\"2024-09-22T01:54:00\",\"2024-09-22T01:59:00\",\"2024-09-22T02:04:00\",\"2024-09-22T02:09:00\",\"2024-09-22T02:14:00\",\"2024-09-22T02:19:00\",\"2024-09-22T02:24:00\",\"2024-09-22T02:29:00\",\"2024-09-22T02:34:00\",\"2024-09-22T02:39:00\",\"2024-09-22T02:44:00\",\"2024-09-22T02:49:00\",\"2024-09-22T02:54:00\",\"2024-09-22T02:59:00\",\"2024-09-22T03:04:00\",\"2024-09-22T03:09:00\",\"2024-09-22T03:14:00\",\"2024-09-22T03:19:00\",\"2024-09-22T03:24:00\",\"2024-09-22T03:29:00\",\"2024-09-22T03:34:00\",\"2024-09-22T03:39:00\",\"2024-09-22T03:44:00\",\"2024-09-22T03:49:00\",\"2024-09-22T03:54:00\",\"2024-09-22T03:59:00\",\"2024-09-22T04:04:00\",\"2024-09-22T04:09:00\",\"2024-09-22T04:14:00\",\"2024-09-22T04:19:00\",\"2024-09-22T04:24:00\",\"2024-09-22T04:29:00\",\"2024-09-22T04:34:00\",\"2024-09-22T04:39:00\",\"2024-09-22T04:44:00\",\"2024-09-22T04:49:00\",\"2024-09-22T04:54:00\",\"2024-09-22T04:59:00\",\"2024-09-22T05:04:00\",\"2024-09-22T05:09:00\",\"2024-09-22T05:14:00\",\"2024-09-22T05:19:00\",\"2024-09-22T05:24:00\",\"2024-09-22T05:29:00\",\"2024-09-22T05:34:00\",\"2024-09-22T05:39:00\",\"2024-09-22T05:44:00\",\"2024-09-22T05:49:00\",\"2024-09-22T05:54:00\",\"2024-09-22T05:59:00\",\"2024-09-22T06:04:00\",\"2024-09-22T06:09:00\",\"2024-09-22T06:14:00\",\"2024-09-22T06:19:00\",\"2024-09-22T06:24:00\",\"2024-09-22T06:29:00\",\"2024-09-22T06:34:00\",\"2024-09-22T06:39:00\",\"2024-09-22T06:44:00\",\"2024-09-22T06:49:00\",\"2024-09-22T06:54:00\",\"2024-09-22T06:59:00\",\"2024-09-22T07:04:00\",\"2024-09-22T07:09:00\",\"2024-09-22T07:14:00\",\"2024-09-22T07:19:00\",\"2024-09-22T07:24:00\",\"2024-09-22T07:29:00\",\"2024-09-22T07:34:00\",\"2024-09-22T07:39:00\",\"2024-09-22T07:44:00\",\"2024-09-22T07:49:00\",\"2024-09-22T07:54:00\",\"2024-09-22T07:59:00\",\"2024-09-22T08:04:00\",\"2024-09-22T08:09:00\",\"2024-09-22T08:14:00\",\"2024-09-22T08:19:00\",\"2024-09-22T08:24:00\",\"2024-09-22T08:29:00\",\"2024-09-22T08:34:00\",\"2024-09-22T08:39:00\",\"2024-09-22T08:44:00\",\"2024-09-22T08:49:00\",\"2024-09-22T08:54:00\",\"2024-09-22T08:59:00\",\"2024-09-22T09:04:00\",\"2024-09-22T09:09:00\",\"2024-09-22T09:14:00\",\"2024-09-22T09:19:00\",\"2024-09-22T09:24:00\",\"2024-09-22T09:29:00\",\"2024-09-22T09:34:00\",\"2024-09-22T09:39:00\",\"2024-09-22T09:44:00\",\"2024-09-22T09:49:00\",\"2024-09-22T09:54:00\",\"2024-09-22T09:59:00\",\"2024-09-22T10:04:00\",\"2024-09-22T10:09:00\",\"2024-09-22T10:14:00\",\"2024-09-22T10:19:00\",\"2024-09-22T10:24:00\",\"2024-09-22T10:29:00\",\"2024-09-22T10:34:00\",\"2024-09-22T10:39:00\",\"2024-09-22T10:44:00\",\"2024-09-22T10:49:00\",\"2024-09-22T10:54:00\",\"2024-09-22T10:59:00\",\"2024-09-22T11:04:00\",\"2024-09-22T11:09:00\",\"2024-09-22T11:14:00\",\"2024-09-22T11:19:00\",\"2024-09-22T11:24:00\",\"2024-09-22T11:29:00\",\"2024-09-22T11:34:00\",\"2024-09-22T11:39:00\",\"2024-09-22T11:44:00\",\"2024-09-22T11:49:00\",\"2024-09-22T11:54:00\",\"2024-09-22T11:59:00\",\"2024-09-22T12:04:00\",\"2024-09-22T12:09:00\",\"2024-09-22T12:14:00\",\"2024-09-22T12:19:00\",\"2024-09-22T12:24:00\",\"2024-09-22T12:29:00\",\"2024-09-22T12:34:00\",\"2024-09-22T12:39:00\",\"2024-09-22T12:44:00\",\"2024-09-22T12:49:00\",\"2024-09-22T12:54:00\",\"2024-09-22T12:59:00\",\"2024-09-22T13:04:00\",\"2024-09-22T13:09:00\",\"2024-09-22T13:14:00\",\"2024-09-22T13:19:00\",\"2024-09-22T13:24:00\",\"2024-09-22T13:29:00\",\"2024-09-22T13:34:00\"],\"xaxis\":\"x\",\"y\":[68.8,68.9,68.9,68.8,68.7,68.7,68.6,68.4,68.4,68.3,68.1,68.1,68.1,68.1,68.2,68.1,67.9,67.8,67.7,67.7,67.7,67.7,67.8,67.7,67.6,67.6,67.6,67.6,67.5,67.5,67.5,67.5,67.4,67.5,67.5,67.5,67.5,67.5,67.4,67.3,67.3,67.2,67.2,67.4,67.5,67.4,67.3,67.3,67.4,67.5,67.5,67.3,67.2,67.2,67.2,67.2,67.3,67.4,67.5,67.5,67.4,67.4,67.5,67.5,67.5,67.5,67.6,67.6,67.5,67.5,67.4,67.3,67.4,67.3,67.2,67.2,67.2,67.1,65.6,64.9,64.2,63.5,62.9,62.3,61.9,61.4,61.2,61.1,61.2,61.1,61.0,61.2,61.3,61.3,61.5,61.8,61.7,61.7,61.6,61.6,61.8,61.3,61.3,61.2,61.1,60.9,61.0,61.0,61.0,60.8,60.9,61.2,61.4,61.5,61.3,61.3,61.5,61.8,61.9,61.8,61.7,61.8,61.8,61.8,61.7,61.8,62.0,62.2,62.0,62.2,62.4,62.8,62.9,62.9,62.7,62.6,62.6,62.5,62.5,62.4,62.1,62.1,62.2,62.3,62.2,62.2,62.1,62.1,61.9,61.5,61.2,61.0,60.8,60.4,60.3,60.3,60.5,60.4,60.3,60.2,60.2,60.0,60.0],\"yaxis\":\"y\",\"type\":\"scatter\"},{\"hovertemplate\":\"variable=Dew Point\\u003cbr\\u003eTimestamp=%{x}\\u003cbr\\u003eDegrees=%{y}\\u003cextra\\u003e\\u003c\\u002fextra\\u003e\",\"legendgroup\":\"Dew Point\",\"line\":{\"color\":\"green\",\"dash\":\"solid\"},\"marker\":{\"symbol\":\"circle\"},\"mode\":\"lines\",\"name\":\"Dew Point\",\"orientation\":\"v\",\"showlegend\":true,\"x\":[\"2024-09-22T00:04:00\",\"2024-09-22T00:09:00\",\"2024-09-22T00:14:00\",\"2024-09-22T00:19:00\",\"2024-09-22T00:24:00\",\"2024-09-22T00:29:00\",\"2024-09-22T00:34:00\",\"2024-09-22T00:39:00\",\"2024-09-22T00:44:00\",\"2024-09-22T00:49:00\",\"2024-09-22T00:54:00\",\"2024-09-22T00:59:00\",\"2024-09-22T01:04:00\",\"2024-09-22T01:09:00\",\"2024-09-22T01:14:00\",\"2024-09-22T01:19:00\",\"2024-09-22T01:24:00\",\"2024-09-22T01:29:00\",\"2024-09-22T01:34:00\",\"2024-09-22T01:39:00\",\"2024-09-22T01:44:00\",\"2024-09-22T01:49:00\",\"2024-09-22T01:54:00\",\"2024-09-22T01:59:00\",\"2024-09-22T02:04:00\",\"2024-09-22T02:09:00\",\"2024-09-22T02:14:00\",\"2024-09-22T02:19:00\",\"2024-09-22T02:24:00\",\"2024-09-22T02:29:00\",\"2024-09-22T02:34:00\",\"2024-09-22T02:39:00\",\"2024-09-22T02:44:00\",\"2024-09-22T02:49:00\",\"2024-09-22T02:54:00\",\"2024-09-22T02:59:00\",\"2024-09-22T03:04:00\",\"2024-09-22T03:09:00\",\"2024-09-22T03:14:00\",\"2024-09-22T03:19:00\",\"2024-09-22T03:24:00\",\"2024-09-22T03:29:00\",\"2024-09-22T03:34:00\",\"2024-09-22T03:39:00\",\"2024-09-22T03:44:00\",\"2024-09-22T03:49:00\",\"2024-09-22T03:54:00\",\"2024-09-22T03:59:00\",\"2024-09-22T04:04:00\",\"2024-09-22T04:09:00\",\"2024-09-22T04:14:00\",\"2024-09-22T04:19:00\",\"2024-09-22T04:24:00\",\"2024-09-22T04:29:00\",\"2024-09-22T04:34:00\",\"2024-09-22T04:39:00\",\"2024-09-22T04:44:00\",\"2024-09-22T04:49:00\",\"2024-09-22T04:54:00\",\"2024-09-22T04:59:00\",\"2024-09-22T05:04:00\",\"2024-09-22T05:09:00\",\"2024-09-22T05:14:00\",\"2024-09-22T05:19:00\",\"2024-09-22T05:24:00\",\"2024-09-22T05:29:00\",\"2024-09-22T05:34:00\",\"2024-09-22T05:39:00\",\"2024-09-22T05:44:00\",\"2024-09-22T05:49:00\",\"2024-09-22T05:54:00\",\"2024-09-22T05:59:00\",\"2024-09-22T06:04:00\",\"2024-09-22T06:09:00\",\"2024-09-22T06:14:00\",\"2024-09-22T06:19:00\",\"2024-09-22T06:24:00\",\"2024-09-22T06:29:00\",\"2024-09-22T06:34:00\",\"2024-09-22T06:39:00\",\"2024-09-22T06:44:00\",\"2024-09-22T06:49:00\",\"2024-09-22T06:54:00\",\"2024-09-22T06:59:00\",\"2024-09-22T07:04:00\",\"2024-09-22T07:09:00\",\"2024-09-22T07:14:00\",\"2024-09-22T07:19:00\",\"2024-09-22T07:24:00\",\"2024-09-22T07:29:00\",\"2024-09-22T07:34:00\",\"2024-09-22T07:39:00\",\"2024-09-22T07:44:00\",\"2024-09-22T07:49:00\",\"2024-09-22T07:54:00\",\"2024-09-22T07:59:00\",\"2024-09-22T08:04:00\",\"2024-09-22T08:09:00\",\"2024-09-22T08:14:00\",\"2024-09-22T08:19:00\",\"2024-09-22T08:24:00\",\"2024-09-22T08:29:00\",\"2024-09-22T08:34:00\",\"2024-09-22T08:39:00\",\"2024-09-22T08:44:00\",\"2024-09-22T08:49:00\",\"2024-09-22T08:54:00\",\"2024-09-22T08:59:00\",\"2024-09-22T09:04:00\",\"2024-09-22T09:09:00\",\"2024-09-22T09:14:00\",\"2024-09-22T09:19:00\",\"2024-09-22T09:24:00\",\"2024-09-22T09:29:00\",\"2024-09-22T09:34:00\",\"2024-09-22T09:39:00\",\"2024-09-22T09:44:00\",\"2024-09-22T09:49:00\",\"2024-09-22T09:54:00\",\"2024-09-22T09:59:00\",\"2024-09-22T10:04:00\",\"2024-09-22T10:09:00\",\"2024-09-22T10:14:00\",\"2024-09-22T10:19:00\",\"2024-09-22T10:24:00\",\"2024-09-22T10:29:00\",\"2024-09-22T10:34:00\",\"2024-09-22T10:39:00\",\"2024-09-22T10:44:00\",\"2024-09-22T10:49:00\",\"2024-09-22T10:54:00\",\"2024-09-22T10:59:00\",\"2024-09-22T11:04:00\",\"2024-09-22T11:09:00\",\"2024-09-22T11:14:00\",\"2024-09-22T11:19:00\",\"2024-09-22T11:24:00\",\"2024-09-22T11:29:00\",\"2024-09-22T11:34:00\",\"2024-09-22T11:39:00\",\"2024-09-22T11:44:00\",\"2024-09-22T11:49:00\",\"2024-09-22T11:54:00\",\"2024-09-22T11:59:00\",\"2024-09-22T12:04:00\",\"2024-09-22T12:09:00\",\"2024-09-22T12:14:00\",\"2024-09-22T12:19:00\",\"2024-09-22T12:24:00\",\"2024-09-22T12:29:00\",\"2024-09-22T12:34:00\",\"2024-09-22T12:39:00\",\"2024-09-22T12:44:00\",\"2024-09-22T12:49:00\",\"2024-09-22T12:54:00\",\"2024-09-22T12:59:00\",\"2024-09-22T13:04:00\",\"2024-09-22T13:09:00\",\"2024-09-22T13:14:00\",\"2024-09-22T13:19:00\",\"2024-09-22T13:24:00\",\"2024-09-22T13:29:00\",\"2024-09-22T13:34:00\"],\"xaxis\":\"x\",\"y\":[66.4,66.4,66.5,66.6,66.6,66.6,66.7,66.6,66.6,66.5,66.3,66.3,66.3,66.1,66.1,66.0,65.8,65.7,65.9,65.9,65.9,65.9,66.0,65.9,65.8,65.8,65.9,66.0,66.0,66.0,66.0,66.0,65.9,66.0,66.0,66.0,66.0,66.0,65.9,65.8,65.8,65.7,65.7,65.9,66.0,65.9,65.8,65.8,65.9,66.0,66.0,65.8,65.7,65.7,65.5,65.4,65.5,65.6,65.7,65.7,65.6,65.6,65.7,65.7,65.7,65.7,65.8,65.8,65.7,65.7,65.7,65.8,65.9,65.8,65.7,65.7,65.7,65.6,63.7,62.7,62.1,61.4,60.7,60.1,59.5,59.1,59.2,59.1,59.5,59.4,59.3,59.5,59.6,59.6,59.8,60.1,60.0,60.0,59.9,59.9,60.1,59.3,59.3,59.2,59.1,58.9,59.1,59.0,59.0,58.8,58.9,59.2,59.4,59.4,59.0,59.1,59.4,59.4,59.5,59.4,59.2,59.2,59.3,59.3,59.0,59.1,59.3,59.1,58.7,59.1,59.1,59.3,59.3,59.0,58.7,58.5,58.7,58.7,58.8,58.7,58.5,58.5,58.6,58.7,58.6,58.6,58.5,58.6,58.6,58.5,58.4,58.4,58.2,58.1,58.0,58.1,58.2,58.2,58.0,58.0,58.2,58.0,57.9],\"yaxis\":\"y\",\"type\":\"scatter\"}],                        {\"template\":{\"data\":{\"histogram2dcontour\":[{\"type\":\"histogram2dcontour\",\"colorbar\":{\"outlinewidth\":0,\"ticks\":\"\"},\"colorscale\":[[0.0,\"#0d0887\"],[0.1111111111111111,\"#46039f\"],[0.2222222222222222,\"#7201a8\"],[0.3333333333333333,\"#9c179e\"],[0.4444444444444444,\"#bd3786\"],[0.5555555555555556,\"#d8576b\"],[0.6666666666666666,\"#ed7953\"],[0.7777777777777778,\"#fb9f3a\"],[0.8888888888888888,\"#fdca26\"],[1.0,\"#f0f921\"]]}],\"choropleth\":[{\"type\":\"choropleth\",\"colorbar\":{\"outlinewidth\":0,\"ticks\":\"\"}}],\"histogram2d\":[{\"type\":\"histogram2d\",\"colorbar\":{\"outlinewidth\":0,\"ticks\":\"\"},\"colorscale\":[[0.0,\"#0d0887\"],[0.1111111111111111,\"#46039f\"],[0.2222222222222222,\"#7201a8\"],[0.3333333333333333,\"#9c179e\"],[0.4444444444444444,\"#bd3786\"],[0.5555555555555556,\"#d8576b\"],[0.6666666666666666,\"#ed7953\"],[0.7777777777777778,\"#fb9f3a\"],[0.8888888888888888,\"#fdca26\"],[1.0,\"#f0f921\"]]}],\"heatmap\":[{\"type\":\"heatmap\",\"colorbar\":{\"outlinewidth\":0,\"ticks\":\"\"},\"colorscale\":[[0.0,\"#0d0887\"],[0.1111111111111111,\"#46039f\"],[0.2222222222222222,\"#7201a8\"],[0.3333333333333333,\"#9c179e\"],[0.4444444444444444,\"#bd3786\"],[0.5555555555555556,\"#d8576b\"],[0.6666666666666666,\"#ed7953\"],[0.7777777777777778,\"#fb9f3a\"],[0.8888888888888888,\"#fdca26\"],[1.0,\"#f0f921\"]]}],\"heatmapgl\":[{\"type\":\"heatmapgl\",\"colorbar\":{\"outlinewidth\":0,\"ticks\":\"\"},\"colorscale\":[[0.0,\"#0d0887\"],[0.1111111111111111,\"#46039f\"],[0.2222222222222222,\"#7201a8\"],[0.3333333333333333,\"#9c179e\"],[0.4444444444444444,\"#bd3786\"],[0.5555555555555556,\"#d8576b\"],[0.6666666666666666,\"#ed7953\"],[0.7777777777777778,\"#fb9f3a\"],[0.8888888888888888,\"#fdca26\"],[1.0,\"#f0f921\"]]}],\"contourcarpet\":[{\"type\":\"contourcarpet\",\"colorbar\":{\"outlinewidth\":0,\"ticks\":\"\"}}],\"contour\":[{\"type\":\"contour\",\"colorbar\":{\"outlinewidth\":0,\"ticks\":\"\"},\"colorscale\":[[0.0,\"#0d0887\"],[0.1111111111111111,\"#46039f\"],[0.2222222222222222,\"#7201a8\"],[0.3333333333333333,\"#9c179e\"],[0.4444444444444444,\"#bd3786\"],[0.5555555555555556,\"#d8576b\"],[0.6666666666666666,\"#ed7953\"],[0.7777777777777778,\"#fb9f3a\"],[0.8888888888888888,\"#fdca26\"],[1.0,\"#f0f921\"]]}],\"surface\":[{\"type\":\"surface\",\"colorbar\":{\"outlinewidth\":0,\"ticks\":\"\"},\"colorscale\":[[0.0,\"#0d0887\"],[0.1111111111111111,\"#46039f\"],[0.2222222222222222,\"#7201a8\"],[0.3333333333333333,\"#9c179e\"],[0.4444444444444444,\"#bd3786\"],[0.5555555555555556,\"#d8576b\"],[0.6666666666666666,\"#ed7953\"],[0.7777777777777778,\"#fb9f3a\"],[0.8888888888888888,\"#fdca26\"],[1.0,\"#f0f921\"]]}],\"mesh3d\":[{\"type\":\"mesh3d\",\"colorbar\":{\"outlinewidth\":0,\"ticks\":\"\"}}],\"scatter\":[{\"fillpattern\":{\"fillmode\":\"overlay\",\"size\":10,\"solidity\":0.2},\"type\":\"scatter\"}],\"parcoords\":[{\"type\":\"parcoords\",\"line\":{\"colorbar\":{\"outlinewidth\":0,\"ticks\":\"\"}}}],\"scatterpolargl\":[{\"type\":\"scatterpolargl\",\"marker\":{\"colorbar\":{\"outlinewidth\":0,\"ticks\":\"\"}}}],\"bar\":[{\"error_x\":{\"color\":\"#2a3f5f\"},\"error_y\":{\"color\":\"#2a3f5f\"},\"marker\":{\"line\":{\"color\":\"#E5ECF6\",\"width\":0.5},\"pattern\":{\"fillmode\":\"overlay\",\"size\":10,\"solidity\":0.2}},\"type\":\"bar\"}],\"scattergeo\":[{\"type\":\"scattergeo\",\"marker\":{\"colorbar\":{\"outlinewidth\":0,\"ticks\":\"\"}}}],\"scatterpolar\":[{\"type\":\"scatterpolar\",\"marker\":{\"colorbar\":{\"outlinewidth\":0,\"ticks\":\"\"}}}],\"histogram\":[{\"marker\":{\"pattern\":{\"fillmode\":\"overlay\",\"size\":10,\"solidity\":0.2}},\"type\":\"histogram\"}],\"scattergl\":[{\"type\":\"scattergl\",\"marker\":{\"colorbar\":{\"outlinewidth\":0,\"ticks\":\"\"}}}],\"scatter3d\":[{\"type\":\"scatter3d\",\"line\":{\"colorbar\":{\"outlinewidth\":0,\"ticks\":\"\"}},\"marker\":{\"colorbar\":{\"outlinewidth\":0,\"ticks\":\"\"}}}],\"scattermapbox\":[{\"type\":\"scattermapbox\",\"marker\":{\"colorbar\":{\"outlinewidth\":0,\"ticks\":\"\"}}}],\"scatterternary\":[{\"type\":\"scatterternary\",\"marker\":{\"colorbar\":{\"outlinewidth\":0,\"ticks\":\"\"}}}],\"scattercarpet\":[{\"type\":\"scattercarpet\",\"marker\":{\"colorbar\":{\"outlinewidth\":0,\"ticks\":\"\"}}}],\"carpet\":[{\"aaxis\":{\"endlinecolor\":\"#2a3f5f\",\"gridcolor\":\"white\",\"linecolor\":\"white\",\"minorgridcolor\":\"white\",\"startlinecolor\":\"#2a3f5f\"},\"baxis\":{\"endlinecolor\":\"#2a3f5f\",\"gridcolor\":\"white\",\"linecolor\":\"white\",\"minorgridcolor\":\"white\",\"startlinecolor\":\"#2a3f5f\"},\"type\":\"carpet\"}],\"table\":[{\"cells\":{\"fill\":{\"color\":\"#EBF0F8\"},\"line\":{\"color\":\"white\"}},\"header\":{\"fill\":{\"color\":\"#C8D4E3\"},\"line\":{\"color\":\"white\"}},\"type\":\"table\"}],\"barpolar\":[{\"marker\":{\"line\":{\"color\":\"#E5ECF6\",\"width\":0.5},\"pattern\":{\"fillmode\":\"overlay\",\"size\":10,\"solidity\":0.2}},\"type\":\"barpolar\"}],\"pie\":[{\"automargin\":true,\"type\":\"pie\"}]},\"layout\":{\"autotypenumbers\":\"strict\",\"colorway\":[\"#636efa\",\"#EF553B\",\"#00cc96\",\"#ab63fa\",\"#FFA15A\",\"#19d3f3\",\"#FF6692\",\"#B6E880\",\"#FF97FF\",\"#FECB52\"],\"font\":{\"color\":\"#2a3f5f\"},\"hovermode\":\"closest\",\"hoverlabel\":{\"align\":\"left\"},\"paper_bgcolor\":\"white\",\"plot_bgcolor\":\"#E5ECF6\",\"polar\":{\"bgcolor\":\"#E5ECF6\",\"angularaxis\":{\"gridcolor\":\"white\",\"linecolor\":\"white\",\"ticks\":\"\"},\"radialaxis\":{\"gridcolor\":\"white\",\"linecolor\":\"white\",\"ticks\":\"\"}},\"ternary\":{\"bgcolor\":\"#E5ECF6\",\"aaxis\":{\"gridcolor\":\"white\",\"linecolor\":\"white\",\"ticks\":\"\"},\"baxis\":{\"gridcolor\":\"white\",\"linecolor\":\"white\",\"ticks\":\"\"},\"caxis\":{\"gridcolor\":\"white\",\"linecolor\":\"white\",\"ticks\":\"\"}},\"coloraxis\":{\"colorbar\":{\"outlinewidth\":0,\"ticks\":\"\"}},\"colorscale\":{\"sequential\":[[0.0,\"#0d0887\"],[0.1111111111111111,\"#46039f\"],[0.2222222222222222,\"#7201a8\"],[0.3333333333333333,\"#9c179e\"],[0.4444444444444444,\"#bd3786\"],[0.5555555555555556,\"#d8576b\"],[0.6666666666666666,\"#ed7953\"],[0.7777777777777778,\"#fb9f3a\"],[0.8888888888888888,\"#fdca26\"],[1.0,\"#f0f921\"]],\"sequentialminus\":[[0.0,\"#0d0887\"],[0.1111111111111111,\"#46039f\"],[0.2222222222222222,\"#7201a8\"],[0.3333333333333333,\"#9c179e\"],[0.4444444444444444,\"#bd3786\"],[0.5555555555555556,\"#d8576b\"],[0.6666666666666666,\"#ed7953\"],[0.7777777777777778,\"#fb9f3a\"],[0.8888888888888888,\"#fdca26\"],[1.0,\"#f0f921\"]],\"diverging\":[[0,\"#8e0152\"],[0.1,\"#c51b7d\"],[0.2,\"#de77ae\"],[0.3,\"#f1b6da\"],[0.4,\"#fde0ef\"],[0.5,\"#f7f7f7\"],[0.6,\"#e6f5d0\"],[0.7,\"#b8e186\"],[0.8,\"#7fbc41\"],[0.9,\"#4d9221\"],[1,\"#276419\"]]},\"xaxis\":{\"gridcolor\":\"white\",\"linecolor\":\"white\",\"ticks\":\"\",\"title\":{\"standoff\":15},\"zerolinecolor\":\"white\",\"automargin\":true,\"zerolinewidth\":2},\"yaxis\":{\"gridcolor\":\"white\",\"linecolor\":\"white\",\"ticks\":\"\",\"title\":{\"standoff\":15},\"zerolinecolor\":\"white\",\"automargin\":true,\"zerolinewidth\":2},\"scene\":{\"xaxis\":{\"backgroundcolor\":\"#E5ECF6\",\"gridcolor\":\"white\",\"linecolor\":\"white\",\"showbackground\":true,\"ticks\":\"\",\"zerolinecolor\":\"white\",\"gridwidth\":2},\"yaxis\":{\"backgroundcolor\":\"#E5ECF6\",\"gridcolor\":\"white\",\"linecolor\":\"white\",\"showbackground\":true,\"ticks\":\"\",\"zerolinecolor\":\"white\",\"gridwidth\":2},\"zaxis\":{\"backgroundcolor\":\"#E5ECF6\",\"gridcolor\":\"white\",\"linecolor\":\"white\",\"showbackground\":true,\"ticks\":\"\",\"zerolinecolor\":\"white\",\"gridwidth\":2}},\"shapedefaults\":{\"line\":{\"color\":\"#2a3f5f\"}},\"annotationdefaults\":{\"arrowcolor\":\"#2a3f5f\",\"arrowhead\":0,\"arrowwidth\":1},\"geo\":{\"bgcolor\":\"white\",\"landcolor\":\"#E5ECF6\",\"subunitcolor\":\"white\",\"showland\":true,\"showlakes\":true,\"lakecolor\":\"white\"},\"title\":{\"x\":0.05},\"mapbox\":{\"style\":\"light\"}}},\"xaxis\":{\"anchor\":\"y\",\"domain\":[0.0,1.0],\"title\":{\"text\":\"Timestamp\"}},\"yaxis\":{\"anchor\":\"x\",\"domain\":[0.0,1.0],\"title\":{\"text\":\"Degrees\"}},\"legend\":{\"title\":{\"text\":\"variable\"},\"tracegroupgap\":0},\"margin\":{\"t\":60}},                        {\"responsive\": true}                    ).then(function(){\n",
       "                            \n",
       "var gd = document.getElementById('0d88f016-9d2e-4f9e-9be9-97cfc9c82d89');\n",
       "var x = new MutationObserver(function (mutations, observer) {{\n",
       "        var display = window.getComputedStyle(gd).display;\n",
       "        if (!display || display === 'none') {{\n",
       "            console.log([gd, 'removed!']);\n",
       "            Plotly.purge(gd);\n",
       "            observer.disconnect();\n",
       "        }}\n",
       "}});\n",
       "\n",
       "// Listen for the removal of the full notebook cells\n",
       "var notebookContainer = gd.closest('#notebook-container');\n",
       "if (notebookContainer) {{\n",
       "    x.observe(notebookContainer, {childList: true});\n",
       "}}\n",
       "\n",
       "// Listen for the clearing of the current output cell\n",
       "var outputEl = gd.closest('.output');\n",
       "if (outputEl) {{\n",
       "    x.observe(outputEl, {childList: true});\n",
       "}}\n",
       "\n",
       "                        })                };                });            </script>        </div>"
      ]
     },
     "metadata": {},
     "output_type": "display_data"
    },
    {
     "data": {
      "application/vnd.plotly.v1+json": {
       "config": {
        "plotlyServerURL": "https://plot.ly"
       },
       "data": [
        {
         "hovertemplate": "Timestamp=%{x}<br>Humidity=%{y}<extra></extra>",
         "legendgroup": "",
         "line": {
          "color": "#636efa",
          "dash": "solid"
         },
         "marker": {
          "symbol": "circle"
         },
         "mode": "lines",
         "name": "",
         "orientation": "v",
         "showlegend": false,
         "type": "scatter",
         "x": [
          "2024-09-22T00:04:00",
          "2024-09-22T00:09:00",
          "2024-09-22T00:14:00",
          "2024-09-22T00:19:00",
          "2024-09-22T00:24:00",
          "2024-09-22T00:29:00",
          "2024-09-22T00:34:00",
          "2024-09-22T00:39:00",
          "2024-09-22T00:44:00",
          "2024-09-22T00:49:00",
          "2024-09-22T00:54:00",
          "2024-09-22T00:59:00",
          "2024-09-22T01:04:00",
          "2024-09-22T01:09:00",
          "2024-09-22T01:14:00",
          "2024-09-22T01:19:00",
          "2024-09-22T01:24:00",
          "2024-09-22T01:29:00",
          "2024-09-22T01:34:00",
          "2024-09-22T01:39:00",
          "2024-09-22T01:44:00",
          "2024-09-22T01:49:00",
          "2024-09-22T01:54:00",
          "2024-09-22T01:59:00",
          "2024-09-22T02:04:00",
          "2024-09-22T02:09:00",
          "2024-09-22T02:14:00",
          "2024-09-22T02:19:00",
          "2024-09-22T02:24:00",
          "2024-09-22T02:29:00",
          "2024-09-22T02:34:00",
          "2024-09-22T02:39:00",
          "2024-09-22T02:44:00",
          "2024-09-22T02:49:00",
          "2024-09-22T02:54:00",
          "2024-09-22T02:59:00",
          "2024-09-22T03:04:00",
          "2024-09-22T03:09:00",
          "2024-09-22T03:14:00",
          "2024-09-22T03:19:00",
          "2024-09-22T03:24:00",
          "2024-09-22T03:29:00",
          "2024-09-22T03:34:00",
          "2024-09-22T03:39:00",
          "2024-09-22T03:44:00",
          "2024-09-22T03:49:00",
          "2024-09-22T03:54:00",
          "2024-09-22T03:59:00",
          "2024-09-22T04:04:00",
          "2024-09-22T04:09:00",
          "2024-09-22T04:14:00",
          "2024-09-22T04:19:00",
          "2024-09-22T04:24:00",
          "2024-09-22T04:29:00",
          "2024-09-22T04:34:00",
          "2024-09-22T04:39:00",
          "2024-09-22T04:44:00",
          "2024-09-22T04:49:00",
          "2024-09-22T04:54:00",
          "2024-09-22T04:59:00",
          "2024-09-22T05:04:00",
          "2024-09-22T05:09:00",
          "2024-09-22T05:14:00",
          "2024-09-22T05:19:00",
          "2024-09-22T05:24:00",
          "2024-09-22T05:29:00",
          "2024-09-22T05:34:00",
          "2024-09-22T05:39:00",
          "2024-09-22T05:44:00",
          "2024-09-22T05:49:00",
          "2024-09-22T05:54:00",
          "2024-09-22T05:59:00",
          "2024-09-22T06:04:00",
          "2024-09-22T06:09:00",
          "2024-09-22T06:14:00",
          "2024-09-22T06:19:00",
          "2024-09-22T06:24:00",
          "2024-09-22T06:29:00",
          "2024-09-22T06:34:00",
          "2024-09-22T06:39:00",
          "2024-09-22T06:44:00",
          "2024-09-22T06:49:00",
          "2024-09-22T06:54:00",
          "2024-09-22T06:59:00",
          "2024-09-22T07:04:00",
          "2024-09-22T07:09:00",
          "2024-09-22T07:14:00",
          "2024-09-22T07:19:00",
          "2024-09-22T07:24:00",
          "2024-09-22T07:29:00",
          "2024-09-22T07:34:00",
          "2024-09-22T07:39:00",
          "2024-09-22T07:44:00",
          "2024-09-22T07:49:00",
          "2024-09-22T07:54:00",
          "2024-09-22T07:59:00",
          "2024-09-22T08:04:00",
          "2024-09-22T08:09:00",
          "2024-09-22T08:14:00",
          "2024-09-22T08:19:00",
          "2024-09-22T08:24:00",
          "2024-09-22T08:29:00",
          "2024-09-22T08:34:00",
          "2024-09-22T08:39:00",
          "2024-09-22T08:44:00",
          "2024-09-22T08:49:00",
          "2024-09-22T08:54:00",
          "2024-09-22T08:59:00",
          "2024-09-22T09:04:00",
          "2024-09-22T09:09:00",
          "2024-09-22T09:14:00",
          "2024-09-22T09:19:00",
          "2024-09-22T09:24:00",
          "2024-09-22T09:29:00",
          "2024-09-22T09:34:00",
          "2024-09-22T09:39:00",
          "2024-09-22T09:44:00",
          "2024-09-22T09:49:00",
          "2024-09-22T09:54:00",
          "2024-09-22T09:59:00",
          "2024-09-22T10:04:00",
          "2024-09-22T10:09:00",
          "2024-09-22T10:14:00",
          "2024-09-22T10:19:00",
          "2024-09-22T10:24:00",
          "2024-09-22T10:29:00",
          "2024-09-22T10:34:00",
          "2024-09-22T10:39:00",
          "2024-09-22T10:44:00",
          "2024-09-22T10:49:00",
          "2024-09-22T10:54:00",
          "2024-09-22T10:59:00",
          "2024-09-22T11:04:00",
          "2024-09-22T11:09:00",
          "2024-09-22T11:14:00",
          "2024-09-22T11:19:00",
          "2024-09-22T11:24:00",
          "2024-09-22T11:29:00",
          "2024-09-22T11:34:00",
          "2024-09-22T11:39:00",
          "2024-09-22T11:44:00",
          "2024-09-22T11:49:00",
          "2024-09-22T11:54:00",
          "2024-09-22T11:59:00",
          "2024-09-22T12:04:00",
          "2024-09-22T12:09:00",
          "2024-09-22T12:14:00",
          "2024-09-22T12:19:00",
          "2024-09-22T12:24:00",
          "2024-09-22T12:29:00",
          "2024-09-22T12:34:00",
          "2024-09-22T12:39:00",
          "2024-09-22T12:44:00",
          "2024-09-22T12:49:00",
          "2024-09-22T12:54:00",
          "2024-09-22T12:59:00",
          "2024-09-22T13:04:00",
          "2024-09-22T13:09:00",
          "2024-09-22T13:14:00",
          "2024-09-22T13:19:00",
          "2024-09-22T13:24:00",
          "2024-09-22T13:29:00",
          "2024-09-22T13:34:00"
         ],
         "xaxis": "x",
         "y": [
          92,
          91,
          92,
          93,
          93,
          93,
          94,
          94,
          94,
          94,
          94,
          94,
          94,
          93,
          93,
          93,
          93,
          93,
          94,
          94,
          94,
          94,
          94,
          94,
          94,
          94,
          94,
          95,
          95,
          95,
          95,
          95,
          95,
          95,
          95,
          95,
          95,
          95,
          95,
          95,
          95,
          95,
          95,
          95,
          95,
          95,
          95,
          95,
          95,
          95,
          95,
          95,
          95,
          95,
          94,
          94,
          94,
          94,
          94,
          94,
          94,
          94,
          94,
          94,
          94,
          94,
          94,
          94,
          94,
          94,
          94,
          95,
          95,
          95,
          95,
          95,
          95,
          95,
          93,
          93,
          93,
          93,
          93,
          92,
          92,
          92,
          93,
          93,
          94,
          94,
          94,
          94,
          94,
          94,
          94,
          94,
          94,
          94,
          94,
          94,
          94,
          93,
          93,
          93,
          93,
          93,
          93,
          93,
          93,
          93,
          93,
          93,
          93,
          93,
          92,
          92,
          93,
          92,
          92,
          92,
          92,
          91,
          92,
          92,
          91,
          91,
          91,
          90,
          89,
          90,
          89,
          88,
          88,
          87,
          87,
          86,
          87,
          87,
          88,
          88,
          88,
          88,
          88,
          88,
          88,
          88,
          88,
          88,
          89,
          90,
          91,
          91,
          91,
          92,
          92,
          92,
          92,
          92,
          92,
          92,
          93,
          93,
          93
         ],
         "yaxis": "y"
        }
       ],
       "layout": {
        "autosize": true,
        "legend": {
         "tracegroupgap": 0
        },
        "margin": {
         "t": 60
        },
        "template": {
         "data": {
          "bar": [
           {
            "error_x": {
             "color": "#2a3f5f"
            },
            "error_y": {
             "color": "#2a3f5f"
            },
            "marker": {
             "line": {
              "color": "#E5ECF6",
              "width": 0.5
             },
             "pattern": {
              "fillmode": "overlay",
              "size": 10,
              "solidity": 0.2
             }
            },
            "type": "bar"
           }
          ],
          "barpolar": [
           {
            "marker": {
             "line": {
              "color": "#E5ECF6",
              "width": 0.5
             },
             "pattern": {
              "fillmode": "overlay",
              "size": 10,
              "solidity": 0.2
             }
            },
            "type": "barpolar"
           }
          ],
          "carpet": [
           {
            "aaxis": {
             "endlinecolor": "#2a3f5f",
             "gridcolor": "white",
             "linecolor": "white",
             "minorgridcolor": "white",
             "startlinecolor": "#2a3f5f"
            },
            "baxis": {
             "endlinecolor": "#2a3f5f",
             "gridcolor": "white",
             "linecolor": "white",
             "minorgridcolor": "white",
             "startlinecolor": "#2a3f5f"
            },
            "type": "carpet"
           }
          ],
          "choropleth": [
           {
            "colorbar": {
             "outlinewidth": 0,
             "ticks": ""
            },
            "type": "choropleth"
           }
          ],
          "contour": [
           {
            "colorbar": {
             "outlinewidth": 0,
             "ticks": ""
            },
            "colorscale": [
             [
              0,
              "#0d0887"
             ],
             [
              0.1111111111111111,
              "#46039f"
             ],
             [
              0.2222222222222222,
              "#7201a8"
             ],
             [
              0.3333333333333333,
              "#9c179e"
             ],
             [
              0.4444444444444444,
              "#bd3786"
             ],
             [
              0.5555555555555556,
              "#d8576b"
             ],
             [
              0.6666666666666666,
              "#ed7953"
             ],
             [
              0.7777777777777778,
              "#fb9f3a"
             ],
             [
              0.8888888888888888,
              "#fdca26"
             ],
             [
              1,
              "#f0f921"
             ]
            ],
            "type": "contour"
           }
          ],
          "contourcarpet": [
           {
            "colorbar": {
             "outlinewidth": 0,
             "ticks": ""
            },
            "type": "contourcarpet"
           }
          ],
          "heatmap": [
           {
            "colorbar": {
             "outlinewidth": 0,
             "ticks": ""
            },
            "colorscale": [
             [
              0,
              "#0d0887"
             ],
             [
              0.1111111111111111,
              "#46039f"
             ],
             [
              0.2222222222222222,
              "#7201a8"
             ],
             [
              0.3333333333333333,
              "#9c179e"
             ],
             [
              0.4444444444444444,
              "#bd3786"
             ],
             [
              0.5555555555555556,
              "#d8576b"
             ],
             [
              0.6666666666666666,
              "#ed7953"
             ],
             [
              0.7777777777777778,
              "#fb9f3a"
             ],
             [
              0.8888888888888888,
              "#fdca26"
             ],
             [
              1,
              "#f0f921"
             ]
            ],
            "type": "heatmap"
           }
          ],
          "heatmapgl": [
           {
            "colorbar": {
             "outlinewidth": 0,
             "ticks": ""
            },
            "colorscale": [
             [
              0,
              "#0d0887"
             ],
             [
              0.1111111111111111,
              "#46039f"
             ],
             [
              0.2222222222222222,
              "#7201a8"
             ],
             [
              0.3333333333333333,
              "#9c179e"
             ],
             [
              0.4444444444444444,
              "#bd3786"
             ],
             [
              0.5555555555555556,
              "#d8576b"
             ],
             [
              0.6666666666666666,
              "#ed7953"
             ],
             [
              0.7777777777777778,
              "#fb9f3a"
             ],
             [
              0.8888888888888888,
              "#fdca26"
             ],
             [
              1,
              "#f0f921"
             ]
            ],
            "type": "heatmapgl"
           }
          ],
          "histogram": [
           {
            "marker": {
             "pattern": {
              "fillmode": "overlay",
              "size": 10,
              "solidity": 0.2
             }
            },
            "type": "histogram"
           }
          ],
          "histogram2d": [
           {
            "colorbar": {
             "outlinewidth": 0,
             "ticks": ""
            },
            "colorscale": [
             [
              0,
              "#0d0887"
             ],
             [
              0.1111111111111111,
              "#46039f"
             ],
             [
              0.2222222222222222,
              "#7201a8"
             ],
             [
              0.3333333333333333,
              "#9c179e"
             ],
             [
              0.4444444444444444,
              "#bd3786"
             ],
             [
              0.5555555555555556,
              "#d8576b"
             ],
             [
              0.6666666666666666,
              "#ed7953"
             ],
             [
              0.7777777777777778,
              "#fb9f3a"
             ],
             [
              0.8888888888888888,
              "#fdca26"
             ],
             [
              1,
              "#f0f921"
             ]
            ],
            "type": "histogram2d"
           }
          ],
          "histogram2dcontour": [
           {
            "colorbar": {
             "outlinewidth": 0,
             "ticks": ""
            },
            "colorscale": [
             [
              0,
              "#0d0887"
             ],
             [
              0.1111111111111111,
              "#46039f"
             ],
             [
              0.2222222222222222,
              "#7201a8"
             ],
             [
              0.3333333333333333,
              "#9c179e"
             ],
             [
              0.4444444444444444,
              "#bd3786"
             ],
             [
              0.5555555555555556,
              "#d8576b"
             ],
             [
              0.6666666666666666,
              "#ed7953"
             ],
             [
              0.7777777777777778,
              "#fb9f3a"
             ],
             [
              0.8888888888888888,
              "#fdca26"
             ],
             [
              1,
              "#f0f921"
             ]
            ],
            "type": "histogram2dcontour"
           }
          ],
          "mesh3d": [
           {
            "colorbar": {
             "outlinewidth": 0,
             "ticks": ""
            },
            "type": "mesh3d"
           }
          ],
          "parcoords": [
           {
            "line": {
             "colorbar": {
              "outlinewidth": 0,
              "ticks": ""
             }
            },
            "type": "parcoords"
           }
          ],
          "pie": [
           {
            "automargin": true,
            "type": "pie"
           }
          ],
          "scatter": [
           {
            "fillpattern": {
             "fillmode": "overlay",
             "size": 10,
             "solidity": 0.2
            },
            "type": "scatter"
           }
          ],
          "scatter3d": [
           {
            "line": {
             "colorbar": {
              "outlinewidth": 0,
              "ticks": ""
             }
            },
            "marker": {
             "colorbar": {
              "outlinewidth": 0,
              "ticks": ""
             }
            },
            "type": "scatter3d"
           }
          ],
          "scattercarpet": [
           {
            "marker": {
             "colorbar": {
              "outlinewidth": 0,
              "ticks": ""
             }
            },
            "type": "scattercarpet"
           }
          ],
          "scattergeo": [
           {
            "marker": {
             "colorbar": {
              "outlinewidth": 0,
              "ticks": ""
             }
            },
            "type": "scattergeo"
           }
          ],
          "scattergl": [
           {
            "marker": {
             "colorbar": {
              "outlinewidth": 0,
              "ticks": ""
             }
            },
            "type": "scattergl"
           }
          ],
          "scattermapbox": [
           {
            "marker": {
             "colorbar": {
              "outlinewidth": 0,
              "ticks": ""
             }
            },
            "type": "scattermapbox"
           }
          ],
          "scatterpolar": [
           {
            "marker": {
             "colorbar": {
              "outlinewidth": 0,
              "ticks": ""
             }
            },
            "type": "scatterpolar"
           }
          ],
          "scatterpolargl": [
           {
            "marker": {
             "colorbar": {
              "outlinewidth": 0,
              "ticks": ""
             }
            },
            "type": "scatterpolargl"
           }
          ],
          "scatterternary": [
           {
            "marker": {
             "colorbar": {
              "outlinewidth": 0,
              "ticks": ""
             }
            },
            "type": "scatterternary"
           }
          ],
          "surface": [
           {
            "colorbar": {
             "outlinewidth": 0,
             "ticks": ""
            },
            "colorscale": [
             [
              0,
              "#0d0887"
             ],
             [
              0.1111111111111111,
              "#46039f"
             ],
             [
              0.2222222222222222,
              "#7201a8"
             ],
             [
              0.3333333333333333,
              "#9c179e"
             ],
             [
              0.4444444444444444,
              "#bd3786"
             ],
             [
              0.5555555555555556,
              "#d8576b"
             ],
             [
              0.6666666666666666,
              "#ed7953"
             ],
             [
              0.7777777777777778,
              "#fb9f3a"
             ],
             [
              0.8888888888888888,
              "#fdca26"
             ],
             [
              1,
              "#f0f921"
             ]
            ],
            "type": "surface"
           }
          ],
          "table": [
           {
            "cells": {
             "fill": {
              "color": "#EBF0F8"
             },
             "line": {
              "color": "white"
             }
            },
            "header": {
             "fill": {
              "color": "#C8D4E3"
             },
             "line": {
              "color": "white"
             }
            },
            "type": "table"
           }
          ]
         },
         "layout": {
          "annotationdefaults": {
           "arrowcolor": "#2a3f5f",
           "arrowhead": 0,
           "arrowwidth": 1
          },
          "autotypenumbers": "strict",
          "coloraxis": {
           "colorbar": {
            "outlinewidth": 0,
            "ticks": ""
           }
          },
          "colorscale": {
           "diverging": [
            [
             0,
             "#8e0152"
            ],
            [
             0.1,
             "#c51b7d"
            ],
            [
             0.2,
             "#de77ae"
            ],
            [
             0.3,
             "#f1b6da"
            ],
            [
             0.4,
             "#fde0ef"
            ],
            [
             0.5,
             "#f7f7f7"
            ],
            [
             0.6,
             "#e6f5d0"
            ],
            [
             0.7,
             "#b8e186"
            ],
            [
             0.8,
             "#7fbc41"
            ],
            [
             0.9,
             "#4d9221"
            ],
            [
             1,
             "#276419"
            ]
           ],
           "sequential": [
            [
             0,
             "#0d0887"
            ],
            [
             0.1111111111111111,
             "#46039f"
            ],
            [
             0.2222222222222222,
             "#7201a8"
            ],
            [
             0.3333333333333333,
             "#9c179e"
            ],
            [
             0.4444444444444444,
             "#bd3786"
            ],
            [
             0.5555555555555556,
             "#d8576b"
            ],
            [
             0.6666666666666666,
             "#ed7953"
            ],
            [
             0.7777777777777778,
             "#fb9f3a"
            ],
            [
             0.8888888888888888,
             "#fdca26"
            ],
            [
             1,
             "#f0f921"
            ]
           ],
           "sequentialminus": [
            [
             0,
             "#0d0887"
            ],
            [
             0.1111111111111111,
             "#46039f"
            ],
            [
             0.2222222222222222,
             "#7201a8"
            ],
            [
             0.3333333333333333,
             "#9c179e"
            ],
            [
             0.4444444444444444,
             "#bd3786"
            ],
            [
             0.5555555555555556,
             "#d8576b"
            ],
            [
             0.6666666666666666,
             "#ed7953"
            ],
            [
             0.7777777777777778,
             "#fb9f3a"
            ],
            [
             0.8888888888888888,
             "#fdca26"
            ],
            [
             1,
             "#f0f921"
            ]
           ]
          },
          "colorway": [
           "#636efa",
           "#EF553B",
           "#00cc96",
           "#ab63fa",
           "#FFA15A",
           "#19d3f3",
           "#FF6692",
           "#B6E880",
           "#FF97FF",
           "#FECB52"
          ],
          "font": {
           "color": "#2a3f5f"
          },
          "geo": {
           "bgcolor": "white",
           "lakecolor": "white",
           "landcolor": "#E5ECF6",
           "showlakes": true,
           "showland": true,
           "subunitcolor": "white"
          },
          "hoverlabel": {
           "align": "left"
          },
          "hovermode": "closest",
          "mapbox": {
           "style": "light"
          },
          "paper_bgcolor": "white",
          "plot_bgcolor": "#E5ECF6",
          "polar": {
           "angularaxis": {
            "gridcolor": "white",
            "linecolor": "white",
            "ticks": ""
           },
           "bgcolor": "#E5ECF6",
           "radialaxis": {
            "gridcolor": "white",
            "linecolor": "white",
            "ticks": ""
           }
          },
          "scene": {
           "xaxis": {
            "backgroundcolor": "#E5ECF6",
            "gridcolor": "white",
            "gridwidth": 2,
            "linecolor": "white",
            "showbackground": true,
            "ticks": "",
            "zerolinecolor": "white"
           },
           "yaxis": {
            "backgroundcolor": "#E5ECF6",
            "gridcolor": "white",
            "gridwidth": 2,
            "linecolor": "white",
            "showbackground": true,
            "ticks": "",
            "zerolinecolor": "white"
           },
           "zaxis": {
            "backgroundcolor": "#E5ECF6",
            "gridcolor": "white",
            "gridwidth": 2,
            "linecolor": "white",
            "showbackground": true,
            "ticks": "",
            "zerolinecolor": "white"
           }
          },
          "shapedefaults": {
           "line": {
            "color": "#2a3f5f"
           }
          },
          "ternary": {
           "aaxis": {
            "gridcolor": "white",
            "linecolor": "white",
            "ticks": ""
           },
           "baxis": {
            "gridcolor": "white",
            "linecolor": "white",
            "ticks": ""
           },
           "bgcolor": "#E5ECF6",
           "caxis": {
            "gridcolor": "white",
            "linecolor": "white",
            "ticks": ""
           }
          },
          "title": {
           "x": 0.05
          },
          "xaxis": {
           "automargin": true,
           "gridcolor": "white",
           "linecolor": "white",
           "ticks": "",
           "title": {
            "standoff": 15
           },
           "zerolinecolor": "white",
           "zerolinewidth": 2
          },
          "yaxis": {
           "automargin": true,
           "gridcolor": "white",
           "linecolor": "white",
           "ticks": "",
           "title": {
            "standoff": 15
           },
           "zerolinecolor": "white",
           "zerolinewidth": 2
          }
         }
        },
        "xaxis": {
         "anchor": "y",
         "autorange": true,
         "domain": [
          0,
          1
         ],
         "range": [
          "2024-09-22 00:04",
          "2024-09-22 13:34"
         ],
         "title": {
          "text": "Timestamp"
         },
         "type": "date"
        },
        "yaxis": {
         "anchor": "x",
         "autorange": true,
         "domain": [
          0,
          1
         ],
         "range": [
          85.5,
          95.5
         ],
         "title": {
          "text": "Humidity"
         },
         "type": "linear"
        }
       }
      },
      "image/png": "[encoded data removed]",
      "text/html": [
       "<div>                            <div id=\"d71d38de-1de8-4f9e-8ff0-e35fb3e36962\" class=\"plotly-graph-div\" style=\"height:525px; width:100%;\"></div>            <script type=\"text/javascript\">                require([\"plotly\"], function(Plotly) {                    window.PLOTLYENV=window.PLOTLYENV || {};                                    if (document.getElementById(\"d71d38de-1de8-4f9e-8ff0-e35fb3e36962\")) {                    Plotly.newPlot(                        \"d71d38de-1de8-4f9e-8ff0-e35fb3e36962\",                        [{\"hovertemplate\":\"Timestamp=%{x}\\u003cbr\\u003eHumidity=%{y}\\u003cextra\\u003e\\u003c\\u002fextra\\u003e\",\"legendgroup\":\"\",\"line\":{\"color\":\"#636efa\",\"dash\":\"solid\"},\"marker\":{\"symbol\":\"circle\"},\"mode\":\"lines\",\"name\":\"\",\"orientation\":\"v\",\"showlegend\":false,\"x\":[\"2024-09-22T00:04:00\",\"2024-09-22T00:09:00\",\"2024-09-22T00:14:00\",\"2024-09-22T00:19:00\",\"2024-09-22T00:24:00\",\"2024-09-22T00:29:00\",\"2024-09-22T00:34:00\",\"2024-09-22T00:39:00\",\"2024-09-22T00:44:00\",\"2024-09-22T00:49:00\",\"2024-09-22T00:54:00\",\"2024-09-22T00:59:00\",\"2024-09-22T01:04:00\",\"2024-09-22T01:09:00\",\"2024-09-22T01:14:00\",\"2024-09-22T01:19:00\",\"2024-09-22T01:24:00\",\"2024-09-22T01:29:00\",\"2024-09-22T01:34:00\",\"2024-09-22T01:39:00\",\"2024-09-22T01:44:00\",\"2024-09-22T01:49:00\",\"2024-09-22T01:54:00\",\"2024-09-22T01:59:00\",\"2024-09-22T02:04:00\",\"2024-09-22T02:09:00\",\"2024-09-22T02:14:00\",\"2024-09-22T02:19:00\",\"2024-09-22T02:24:00\",\"2024-09-22T02:29:00\",\"2024-09-22T02:34:00\",\"2024-09-22T02:39:00\",\"2024-09-22T02:44:00\",\"2024-09-22T02:49:00\",\"2024-09-22T02:54:00\",\"2024-09-22T02:59:00\",\"2024-09-22T03:04:00\",\"2024-09-22T03:09:00\",\"2024-09-22T03:14:00\",\"2024-09-22T03:19:00\",\"2024-09-22T03:24:00\",\"2024-09-22T03:29:00\",\"2024-09-22T03:34:00\",\"2024-09-22T03:39:00\",\"2024-09-22T03:44:00\",\"2024-09-22T03:49:00\",\"2024-09-22T03:54:00\",\"2024-09-22T03:59:00\",\"2024-09-22T04:04:00\",\"2024-09-22T04:09:00\",\"2024-09-22T04:14:00\",\"2024-09-22T04:19:00\",\"2024-09-22T04:24:00\",\"2024-09-22T04:29:00\",\"2024-09-22T04:34:00\",\"2024-09-22T04:39:00\",\"2024-09-22T04:44:00\",\"2024-09-22T04:49:00\",\"2024-09-22T04:54:00\",\"2024-09-22T04:59:00\",\"2024-09-22T05:04:00\",\"2024-09-22T05:09:00\",\"2024-09-22T05:14:00\",\"2024-09-22T05:19:00\",\"2024-09-22T05:24:00\",\"2024-09-22T05:29:00\",\"2024-09-22T05:34:00\",\"2024-09-22T05:39:00\",\"2024-09-22T05:44:00\",\"2024-09-22T05:49:00\",\"2024-09-22T05:54:00\",\"2024-09-22T05:59:00\",\"2024-09-22T06:04:00\",\"2024-09-22T06:09:00\",\"2024-09-22T06:14:00\",\"2024-09-22T06:19:00\",\"2024-09-22T06:24:00\",\"2024-09-22T06:29:00\",\"2024-09-22T06:34:00\",\"2024-09-22T06:39:00\",\"2024-09-22T06:44:00\",\"2024-09-22T06:49:00\",\"2024-09-22T06:54:00\",\"2024-09-22T06:59:00\",\"2024-09-22T07:04:00\",\"2024-09-22T07:09:00\",\"2024-09-22T07:14:00\",\"2024-09-22T07:19:00\",\"2024-09-22T07:24:00\",\"2024-09-22T07:29:00\",\"2024-09-22T07:34:00\",\"2024-09-22T07:39:00\",\"2024-09-22T07:44:00\",\"2024-09-22T07:49:00\",\"2024-09-22T07:54:00\",\"2024-09-22T07:59:00\",\"2024-09-22T08:04:00\",\"2024-09-22T08:09:00\",\"2024-09-22T08:14:00\",\"2024-09-22T08:19:00\",\"2024-09-22T08:24:00\",\"2024-09-22T08:29:00\",\"2024-09-22T08:34:00\",\"2024-09-22T08:39:00\",\"2024-09-22T08:44:00\",\"2024-09-22T08:49:00\",\"2024-09-22T08:54:00\",\"2024-09-22T08:59:00\",\"2024-09-22T09:04:00\",\"2024-09-22T09:09:00\",\"2024-09-22T09:14:00\",\"2024-09-22T09:19:00\",\"2024-09-22T09:24:00\",\"2024-09-22T09:29:00\",\"2024-09-22T09:34:00\",\"2024-09-22T09:39:00\",\"2024-09-22T09:44:00\",\"2024-09-22T09:49:00\",\"2024-09-22T09:54:00\",\"2024-09-22T09:59:00\",\"2024-09-22T10:04:00\",\"2024-09-22T10:09:00\",\"2024-09-22T10:14:00\",\"2024-09-22T10:19:00\",\"2024-09-22T10:24:00\",\"2024-09-22T10:29:00\",\"2024-09-22T10:34:00\",\"2024-09-22T10:39:00\",\"2024-09-22T10:44:00\",\"2024-09-22T10:49:00\",\"2024-09-22T10:54:00\",\"2024-09-22T10:59:00\",\"2024-09-22T11:04:00\",\"2024-09-22T11:09:00\",\"2024-09-22T11:14:00\",\"2024-09-22T11:19:00\",\"2024-09-22T11:24:00\",\"2024-09-22T11:29:00\",\"2024-09-22T11:34:00\",\"2024-09-22T11:39:00\",\"2024-09-22T11:44:00\",\"2024-09-22T11:49:00\",\"2024-09-22T11:54:00\",\"2024-09-22T11:59:00\",\"2024-09-22T12:04:00\",\"2024-09-22T12:09:00\",\"2024-09-22T12:14:00\",\"2024-09-22T12:19:00\",\"2024-09-22T12:24:00\",\"2024-09-22T12:29:00\",\"2024-09-22T12:34:00\",\"2024-09-22T12:39:00\",\"2024-09-22T12:44:00\",\"2024-09-22T12:49:00\",\"2024-09-22T12:54:00\",\"2024-09-22T12:59:00\",\"2024-09-22T13:04:00\",\"2024-09-22T13:09:00\",\"2024-09-22T13:14:00\",\"2024-09-22T13:19:00\",\"2024-09-22T13:24:00\",\"2024-09-22T13:29:00\",\"2024-09-22T13:34:00\"],\"xaxis\":\"x\",\"y\":[92.0,91.0,92.0,93.0,93.0,93.0,94.0,94.0,94.0,94.0,94.0,94.0,94.0,93.0,93.0,93.0,93.0,93.0,94.0,94.0,94.0,94.0,94.0,94.0,94.0,94.0,94.0,95.0,95.0,95.0,95.0,95.0,95.0,95.0,95.0,95.0,95.0,95.0,95.0,95.0,95.0,95.0,95.0,95.0,95.0,95.0,95.0,95.0,95.0,95.0,95.0,95.0,95.0,95.0,94.0,94.0,94.0,94.0,94.0,94.0,94.0,94.0,94.0,94.0,94.0,94.0,94.0,94.0,94.0,94.0,94.0,95.0,95.0,95.0,95.0,95.0,95.0,95.0,93.0,93.0,93.0,93.0,93.0,92.0,92.0,92.0,93.0,93.0,94.0,94.0,94.0,94.0,94.0,94.0,94.0,94.0,94.0,94.0,94.0,94.0,94.0,93.0,93.0,93.0,93.0,93.0,93.0,93.0,93.0,93.0,93.0,93.0,93.0,93.0,92.0,92.0,93.0,92.0,92.0,92.0,92.0,91.0,92.0,92.0,91.0,91.0,91.0,90.0,89.0,90.0,89.0,88.0,88.0,87.0,87.0,86.0,87.0,87.0,88.0,88.0,88.0,88.0,88.0,88.0,88.0,88.0,88.0,88.0,89.0,90.0,91.0,91.0,91.0,92.0,92.0,92.0,92.0,92.0,92.0,92.0,93.0,93.0,93.0],\"yaxis\":\"y\",\"type\":\"scatter\"}],                        {\"template\":{\"data\":{\"histogram2dcontour\":[{\"type\":\"histogram2dcontour\",\"colorbar\":{\"outlinewidth\":0,\"ticks\":\"\"},\"colorscale\":[[0.0,\"#0d0887\"],[0.1111111111111111,\"#46039f\"],[0.2222222222222222,\"#7201a8\"],[0.3333333333333333,\"#9c179e\"],[0.4444444444444444,\"#bd3786\"],[0.5555555555555556,\"#d8576b\"],[0.6666666666666666,\"#ed7953\"],[0.7777777777777778,\"#fb9f3a\"],[0.8888888888888888,\"#fdca26\"],[1.0,\"#f0f921\"]]}],\"choropleth\":[{\"type\":\"choropleth\",\"colorbar\":{\"outlinewidth\":0,\"ticks\":\"\"}}],\"histogram2d\":[{\"type\":\"histogram2d\",\"colorbar\":{\"outlinewidth\":0,\"ticks\":\"\"},\"colorscale\":[[0.0,\"#0d0887\"],[0.1111111111111111,\"#46039f\"],[0.2222222222222222,\"#7201a8\"],[0.3333333333333333,\"#9c179e\"],[0.4444444444444444,\"#bd3786\"],[0.5555555555555556,\"#d8576b\"],[0.6666666666666666,\"#ed7953\"],[0.7777777777777778,\"#fb9f3a\"],[0.8888888888888888,\"#fdca26\"],[1.0,\"#f0f921\"]]}],\"heatmap\":[{\"type\":\"heatmap\",\"colorbar\":{\"outlinewidth\":0,\"ticks\":\"\"},\"colorscale\":[[0.0,\"#0d0887\"],[0.1111111111111111,\"#46039f\"],[0.2222222222222222,\"#7201a8\"],[0.3333333333333333,\"#9c179e\"],[0.4444444444444444,\"#bd3786\"],[0.5555555555555556,\"#d8576b\"],[0.6666666666666666,\"#ed7953\"],[0.7777777777777778,\"#fb9f3a\"],[0.8888888888888888,\"#fdca26\"],[1.0,\"#f0f921\"]]}],\"heatmapgl\":[{\"type\":\"heatmapgl\",\"colorbar\":{\"outlinewidth\":0,\"ticks\":\"\"},\"colorscale\":[[0.0,\"#0d0887\"],[0.1111111111111111,\"#46039f\"],[0.2222222222222222,\"#7201a8\"],[0.3333333333333333,\"#9c179e\"],[0.4444444444444444,\"#bd3786\"],[0.5555555555555556,\"#d8576b\"],[0.6666666666666666,\"#ed7953\"],[0.7777777777777778,\"#fb9f3a\"],[0.8888888888888888,\"#fdca26\"],[1.0,\"#f0f921\"]]}],\"contourcarpet\":[{\"type\":\"contourcarpet\",\"colorbar\":{\"outlinewidth\":0,\"ticks\":\"\"}}],\"contour\":[{\"type\":\"contour\",\"colorbar\":{\"outlinewidth\":0,\"ticks\":\"\"},\"colorscale\":[[0.0,\"#0d0887\"],[0.1111111111111111,\"#46039f\"],[0.2222222222222222,\"#7201a8\"],[0.3333333333333333,\"#9c179e\"],[0.4444444444444444,\"#bd3786\"],[0.5555555555555556,\"#d8576b\"],[0.6666666666666666,\"#ed7953\"],[0.7777777777777778,\"#fb9f3a\"],[0.8888888888888888,\"#fdca26\"],[1.0,\"#f0f921\"]]}],\"surface\":[{\"type\":\"surface\",\"colorbar\":{\"outlinewidth\":0,\"ticks\":\"\"},\"colorscale\":[[0.0,\"#0d0887\"],[0.1111111111111111,\"#46039f\"],[0.2222222222222222,\"#7201a8\"],[0.3333333333333333,\"#9c179e\"],[0.4444444444444444,\"#bd3786\"],[0.5555555555555556,\"#d8576b\"],[0.6666666666666666,\"#ed7953\"],[0.7777777777777778,\"#fb9f3a\"],[0.8888888888888888,\"#fdca26\"],[1.0,\"#f0f921\"]]}],\"mesh3d\":[{\"type\":\"mesh3d\",\"colorbar\":{\"outlinewidth\":0,\"ticks\":\"\"}}],\"scatter\":[{\"fillpattern\":{\"fillmode\":\"overlay\",\"size\":10,\"solidity\":0.2},\"type\":\"scatter\"}],\"parcoords\":[{\"type\":\"parcoords\",\"line\":{\"colorbar\":{\"outlinewidth\":0,\"ticks\":\"\"}}}],\"scatterpolargl\":[{\"type\":\"scatterpolargl\",\"marker\":{\"colorbar\":{\"outlinewidth\":0,\"ticks\":\"\"}}}],\"bar\":[{\"error_x\":{\"color\":\"#2a3f5f\"},\"error_y\":{\"color\":\"#2a3f5f\"},\"marker\":{\"line\":{\"color\":\"#E5ECF6\",\"width\":0.5},\"pattern\":{\"fillmode\":\"overlay\",\"size\":10,\"solidity\":0.2}},\"type\":\"bar\"}],\"scattergeo\":[{\"type\":\"scattergeo\",\"marker\":{\"colorbar\":{\"outlinewidth\":0,\"ticks\":\"\"}}}],\"scatterpolar\":[{\"type\":\"scatterpolar\",\"marker\":{\"colorbar\":{\"outlinewidth\":0,\"ticks\":\"\"}}}],\"histogram\":[{\"marker\":{\"pattern\":{\"fillmode\":\"overlay\",\"size\":10,\"solidity\":0.2}},\"type\":\"histogram\"}],\"scattergl\":[{\"type\":\"scattergl\",\"marker\":{\"colorbar\":{\"outlinewidth\":0,\"ticks\":\"\"}}}],\"scatter3d\":[{\"type\":\"scatter3d\",\"line\":{\"colorbar\":{\"outlinewidth\":0,\"ticks\":\"\"}},\"marker\":{\"colorbar\":{\"outlinewidth\":0,\"ticks\":\"\"}}}],\"scattermapbox\":[{\"type\":\"scattermapbox\",\"marker\":{\"colorbar\":{\"outlinewidth\":0,\"ticks\":\"\"}}}],\"scatterternary\":[{\"type\":\"scatterternary\",\"marker\":{\"colorbar\":{\"outlinewidth\":0,\"ticks\":\"\"}}}],\"scattercarpet\":[{\"type\":\"scattercarpet\",\"marker\":{\"colorbar\":{\"outlinewidth\":0,\"ticks\":\"\"}}}],\"carpet\":[{\"aaxis\":{\"endlinecolor\":\"#2a3f5f\",\"gridcolor\":\"white\",\"linecolor\":\"white\",\"minorgridcolor\":\"white\",\"startlinecolor\":\"#2a3f5f\"},\"baxis\":{\"endlinecolor\":\"#2a3f5f\",\"gridcolor\":\"white\",\"linecolor\":\"white\",\"minorgridcolor\":\"white\",\"startlinecolor\":\"#2a3f5f\"},\"type\":\"carpet\"}],\"table\":[{\"cells\":{\"fill\":{\"color\":\"#EBF0F8\"},\"line\":{\"color\":\"white\"}},\"header\":{\"fill\":{\"color\":\"#C8D4E3\"},\"line\":{\"color\":\"white\"}},\"type\":\"table\"}],\"barpolar\":[{\"marker\":{\"line\":{\"color\":\"#E5ECF6\",\"width\":0.5},\"pattern\":{\"fillmode\":\"overlay\",\"size\":10,\"solidity\":0.2}},\"type\":\"barpolar\"}],\"pie\":[{\"automargin\":true,\"type\":\"pie\"}]},\"layout\":{\"autotypenumbers\":\"strict\",\"colorway\":[\"#636efa\",\"#EF553B\",\"#00cc96\",\"#ab63fa\",\"#FFA15A\",\"#19d3f3\",\"#FF6692\",\"#B6E880\",\"#FF97FF\",\"#FECB52\"],\"font\":{\"color\":\"#2a3f5f\"},\"hovermode\":\"closest\",\"hoverlabel\":{\"align\":\"left\"},\"paper_bgcolor\":\"white\",\"plot_bgcolor\":\"#E5ECF6\",\"polar\":{\"bgcolor\":\"#E5ECF6\",\"angularaxis\":{\"gridcolor\":\"white\",\"linecolor\":\"white\",\"ticks\":\"\"},\"radialaxis\":{\"gridcolor\":\"white\",\"linecolor\":\"white\",\"ticks\":\"\"}},\"ternary\":{\"bgcolor\":\"#E5ECF6\",\"aaxis\":{\"gridcolor\":\"white\",\"linecolor\":\"white\",\"ticks\":\"\"},\"baxis\":{\"gridcolor\":\"white\",\"linecolor\":\"white\",\"ticks\":\"\"},\"caxis\":{\"gridcolor\":\"white\",\"linecolor\":\"white\",\"ticks\":\"\"}},\"coloraxis\":{\"colorbar\":{\"outlinewidth\":0,\"ticks\":\"\"}},\"colorscale\":{\"sequential\":[[0.0,\"#0d0887\"],[0.1111111111111111,\"#46039f\"],[0.2222222222222222,\"#7201a8\"],[0.3333333333333333,\"#9c179e\"],[0.4444444444444444,\"#bd3786\"],[0.5555555555555556,\"#d8576b\"],[0.6666666666666666,\"#ed7953\"],[0.7777777777777778,\"#fb9f3a\"],[0.8888888888888888,\"#fdca26\"],[1.0,\"#f0f921\"]],\"sequentialminus\":[[0.0,\"#0d0887\"],[0.1111111111111111,\"#46039f\"],[0.2222222222222222,\"#7201a8\"],[0.3333333333333333,\"#9c179e\"],[0.4444444444444444,\"#bd3786\"],[0.5555555555555556,\"#d8576b\"],[0.6666666666666666,\"#ed7953\"],[0.7777777777777778,\"#fb9f3a\"],[0.8888888888888888,\"#fdca26\"],[1.0,\"#f0f921\"]],\"diverging\":[[0,\"#8e0152\"],[0.1,\"#c51b7d\"],[0.2,\"#de77ae\"],[0.3,\"#f1b6da\"],[0.4,\"#fde0ef\"],[0.5,\"#f7f7f7\"],[0.6,\"#e6f5d0\"],[0.7,\"#b8e186\"],[0.8,\"#7fbc41\"],[0.9,\"#4d9221\"],[1,\"#276419\"]]},\"xaxis\":{\"gridcolor\":\"white\",\"linecolor\":\"white\",\"ticks\":\"\",\"title\":{\"standoff\":15},\"zerolinecolor\":\"white\",\"automargin\":true,\"zerolinewidth\":2},\"yaxis\":{\"gridcolor\":\"white\",\"linecolor\":\"white\",\"ticks\":\"\",\"title\":{\"standoff\":15},\"zerolinecolor\":\"white\",\"automargin\":true,\"zerolinewidth\":2},\"scene\":{\"xaxis\":{\"backgroundcolor\":\"#E5ECF6\",\"gridcolor\":\"white\",\"linecolor\":\"white\",\"showbackground\":true,\"ticks\":\"\",\"zerolinecolor\":\"white\",\"gridwidth\":2},\"yaxis\":{\"backgroundcolor\":\"#E5ECF6\",\"gridcolor\":\"white\",\"linecolor\":\"white\",\"showbackground\":true,\"ticks\":\"\",\"zerolinecolor\":\"white\",\"gridwidth\":2},\"zaxis\":{\"backgroundcolor\":\"#E5ECF6\",\"gridcolor\":\"white\",\"linecolor\":\"white\",\"showbackground\":true,\"ticks\":\"\",\"zerolinecolor\":\"white\",\"gridwidth\":2}},\"shapedefaults\":{\"line\":{\"color\":\"#2a3f5f\"}},\"annotationdefaults\":{\"arrowcolor\":\"#2a3f5f\",\"arrowhead\":0,\"arrowwidth\":1},\"geo\":{\"bgcolor\":\"white\",\"landcolor\":\"#E5ECF6\",\"subunitcolor\":\"white\",\"showland\":true,\"showlakes\":true,\"lakecolor\":\"white\"},\"title\":{\"x\":0.05},\"mapbox\":{\"style\":\"light\"}}},\"xaxis\":{\"anchor\":\"y\",\"domain\":[0.0,1.0],\"title\":{\"text\":\"Timestamp\"}},\"yaxis\":{\"anchor\":\"x\",\"domain\":[0.0,1.0],\"title\":{\"text\":\"Humidity\"}},\"legend\":{\"tracegroupgap\":0},\"margin\":{\"t\":60}},                        {\"responsive\": true}                    ).then(function(){\n",
       "                            \n",
       "var gd = document.getElementById('d71d38de-1de8-4f9e-8ff0-e35fb3e36962');\n",
       "var x = new MutationObserver(function (mutations, observer) {{\n",
       "        var display = window.getComputedStyle(gd).display;\n",
       "        if (!display || display === 'none') {{\n",
       "            console.log([gd, 'removed!']);\n",
       "            Plotly.purge(gd);\n",
       "            observer.disconnect();\n",
       "        }}\n",
       "}});\n",
       "\n",
       "// Listen for the removal of the full notebook cells\n",
       "var notebookContainer = gd.closest('#notebook-container');\n",
       "if (notebookContainer) {{\n",
       "    x.observe(notebookContainer, {childList: true});\n",
       "}}\n",
       "\n",
       "// Listen for the clearing of the current output cell\n",
       "var outputEl = gd.closest('.output');\n",
       "if (outputEl) {{\n",
       "    x.observe(outputEl, {childList: true});\n",
       "}}\n",
       "\n",
       "                        })                };                });            </script>        </div>"
      ]
     },
     "metadata": {},
     "output_type": "display_data"
    },
    {
     "data": {
      "application/vnd.plotly.v1+json": {
       "config": {
        "plotlyServerURL": "https://plot.ly"
       },
       "data": [
        {
         "hovertemplate": "Timestamp=%{x}<br>Wind Speed=%{y}<extra></extra>",
         "legendgroup": "",
         "line": {
          "color": "#636efa",
          "dash": "solid"
         },
         "marker": {
          "symbol": "circle"
         },
         "mode": "lines",
         "name": "",
         "orientation": "v",
         "showlegend": false,
         "type": "scatter",
         "x": [
          "2024-09-22T00:04:00",
          "2024-09-22T00:09:00",
          "2024-09-22T00:14:00",
          "2024-09-22T00:19:00",
          "2024-09-22T00:24:00",
          "2024-09-22T00:29:00",
          "2024-09-22T00:34:00",
          "2024-09-22T00:39:00",
          "2024-09-22T00:44:00",
          "2024-09-22T00:49:00",
          "2024-09-22T00:54:00",
          "2024-09-22T00:59:00",
          "2024-09-22T01:04:00",
          "2024-09-22T01:09:00",
          "2024-09-22T01:14:00",
          "2024-09-22T01:19:00",
          "2024-09-22T01:24:00",
          "2024-09-22T01:29:00",
          "2024-09-22T01:34:00",
          "2024-09-22T01:39:00",
          "2024-09-22T01:44:00",
          "2024-09-22T01:49:00",
          "2024-09-22T01:54:00",
          "2024-09-22T01:59:00",
          "2024-09-22T02:04:00",
          "2024-09-22T02:09:00",
          "2024-09-22T02:14:00",
          "2024-09-22T02:19:00",
          "2024-09-22T02:24:00",
          "2024-09-22T02:29:00",
          "2024-09-22T02:34:00",
          "2024-09-22T02:39:00",
          "2024-09-22T02:44:00",
          "2024-09-22T02:49:00",
          "2024-09-22T02:54:00",
          "2024-09-22T02:59:00",
          "2024-09-22T03:04:00",
          "2024-09-22T03:09:00",
          "2024-09-22T03:14:00",
          "2024-09-22T03:19:00",
          "2024-09-22T03:24:00",
          "2024-09-22T03:29:00",
          "2024-09-22T03:34:00",
          "2024-09-22T03:39:00",
          "2024-09-22T03:44:00",
          "2024-09-22T03:49:00",
          "2024-09-22T03:54:00",
          "2024-09-22T03:59:00",
          "2024-09-22T04:04:00",
          "2024-09-22T04:09:00",
          "2024-09-22T04:14:00",
          "2024-09-22T04:19:00",
          "2024-09-22T04:24:00",
          "2024-09-22T04:29:00",
          "2024-09-22T04:34:00",
          "2024-09-22T04:39:00",
          "2024-09-22T04:44:00",
          "2024-09-22T04:49:00",
          "2024-09-22T04:54:00",
          "2024-09-22T04:59:00",
          "2024-09-22T05:04:00",
          "2024-09-22T05:09:00",
          "2024-09-22T05:14:00",
          "2024-09-22T05:19:00",
          "2024-09-22T05:24:00",
          "2024-09-22T05:29:00",
          "2024-09-22T05:34:00",
          "2024-09-22T05:39:00",
          "2024-09-22T05:44:00",
          "2024-09-22T05:49:00",
          "2024-09-22T05:54:00",
          "2024-09-22T05:59:00",
          "2024-09-22T06:04:00",
          "2024-09-22T06:09:00",
          "2024-09-22T06:14:00",
          "2024-09-22T06:19:00",
          "2024-09-22T06:24:00",
          "2024-09-22T06:29:00",
          "2024-09-22T06:34:00",
          "2024-09-22T06:39:00",
          "2024-09-22T06:44:00",
          "2024-09-22T06:49:00",
          "2024-09-22T06:54:00",
          "2024-09-22T06:59:00",
          "2024-09-22T07:04:00",
          "2024-09-22T07:09:00",
          "2024-09-22T07:14:00",
          "2024-09-22T07:19:00",
          "2024-09-22T07:24:00",
          "2024-09-22T07:29:00",
          "2024-09-22T07:34:00",
          "2024-09-22T07:39:00",
          "2024-09-22T07:44:00",
          "2024-09-22T07:49:00",
          "2024-09-22T07:54:00",
          "2024-09-22T07:59:00",
          "2024-09-22T08:04:00",
          "2024-09-22T08:09:00",
          "2024-09-22T08:14:00",
          "2024-09-22T08:19:00",
          "2024-09-22T08:24:00",
          "2024-09-22T08:29:00",
          "2024-09-22T08:34:00",
          "2024-09-22T08:39:00",
          "2024-09-22T08:44:00",
          "2024-09-22T08:49:00",
          "2024-09-22T08:54:00",
          "2024-09-22T08:59:00",
          "2024-09-22T09:04:00",
          "2024-09-22T09:09:00",
          "2024-09-22T09:14:00",
          "2024-09-22T09:19:00",
          "2024-09-22T09:24:00",
          "2024-09-22T09:29:00",
          "2024-09-22T09:34:00",
          "2024-09-22T09:39:00",
          "2024-09-22T09:44:00",
          "2024-09-22T09:49:00",
          "2024-09-22T09:54:00",
          "2024-09-22T09:59:00",
          "2024-09-22T10:04:00",
          "2024-09-22T10:09:00",
          "2024-09-22T10:14:00",
          "2024-09-22T10:19:00",
          "2024-09-22T10:24:00",
          "2024-09-22T10:29:00",
          "2024-09-22T10:34:00",
          "2024-09-22T10:39:00",
          "2024-09-22T10:44:00",
          "2024-09-22T10:49:00",
          "2024-09-22T10:54:00",
          "2024-09-22T10:59:00",
          "2024-09-22T11:04:00",
          "2024-09-22T11:09:00",
          "2024-09-22T11:14:00",
          "2024-09-22T11:19:00",
          "2024-09-22T11:24:00",
          "2024-09-22T11:29:00",
          "2024-09-22T11:34:00",
          "2024-09-22T11:39:00",
          "2024-09-22T11:44:00",
          "2024-09-22T11:49:00",
          "2024-09-22T11:54:00",
          "2024-09-22T11:59:00",
          "2024-09-22T12:04:00",
          "2024-09-22T12:09:00",
          "2024-09-22T12:14:00",
          "2024-09-22T12:19:00",
          "2024-09-22T12:24:00",
          "2024-09-22T12:29:00",
          "2024-09-22T12:34:00",
          "2024-09-22T12:39:00",
          "2024-09-22T12:44:00",
          "2024-09-22T12:49:00",
          "2024-09-22T12:54:00",
          "2024-09-22T12:59:00",
          "2024-09-22T13:04:00",
          "2024-09-22T13:09:00",
          "2024-09-22T13:14:00",
          "2024-09-22T13:19:00",
          "2024-09-22T13:24:00",
          "2024-09-22T13:29:00",
          "2024-09-22T13:34:00"
         ],
         "xaxis": "x",
         "y": [
          3.7,
          3.8,
          1.8,
          1.3,
          0.7,
          0.9,
          1.6,
          1.6,
          3,
          4,
          4.2,
          1.9,
          2.7,
          3.8,
          3.3,
          1.9,
          0.4,
          0.6,
          0.3,
          0.2,
          0.3,
          0.5,
          0.2,
          0,
          0,
          0.1,
          0.2,
          0.1,
          0.4,
          0.3,
          0.2,
          1.1,
          1.2,
          1.2,
          0.4,
          0.1,
          1.8,
          2.1,
          1.2,
          0.9,
          0.9,
          0,
          0.6,
          2.2,
          1.1,
          1.3,
          2.2,
          1.8,
          2.2,
          1.7,
          1.3,
          1.5,
          1.7,
          2.9,
          1.5,
          1,
          2.2,
          2.1,
          1.9,
          0.9,
          2.3,
          2.3,
          2.1,
          2.1,
          2.4,
          3,
          2.3,
          2.9,
          1.5,
          1.6,
          2.3,
          2.2,
          1.3,
          1.9,
          1,
          1.4,
          1.1,
          2.2,
          5.1,
          4.9,
          3.8,
          4.5,
          4.7,
          4.7,
          3.4,
          4.6,
          3.5,
          3.1,
          2.6,
          2.7,
          1.8,
          1.2,
          2,
          2.1,
          1.2,
          1.9,
          1.8,
          1.2,
          1.5,
          1.1,
          2.2,
          2.6,
          2.2,
          2.4,
          3.2,
          2.2,
          2.3,
          2.4,
          2.8,
          3.5,
          1.8,
          1.6,
          2.9,
          2.9,
          3.9,
          3,
          2.9,
          2.9,
          1.2,
          2.8,
          2.5,
          3,
          2.8,
          3.4,
          4.6,
          3.7,
          2.5,
          3.6,
          3.1,
          2.2,
          3.1,
          3.7,
          2.8,
          3.2,
          3.9,
          3.9,
          3.7,
          3,
          4,
          3.1,
          5,
          3.6,
          3.3,
          3.6,
          2.8,
          5.6,
          3.8,
          3.7,
          3.2,
          3.9,
          4.8,
          4.2,
          3.9,
          5.5,
          4.6,
          5.6,
          3.7,
          5.2,
          4.5,
          3,
          4.7,
          5,
          3.5
         ],
         "yaxis": "y"
        },
        {
         "hovertemplate": "Timestamp=%{x}<br>Wind Gust=%{y}<extra></extra>",
         "legendgroup": "",
         "marker": {
          "color": "#636efa",
          "symbol": "circle"
         },
         "mode": "markers",
         "name": "",
         "orientation": "v",
         "showlegend": false,
         "type": "scatter",
         "x": [
          "2024-09-22T00:04:00",
          "2024-09-22T00:09:00",
          "2024-09-22T00:14:00",
          "2024-09-22T00:19:00",
          "2024-09-22T00:24:00",
          "2024-09-22T00:29:00",
          "2024-09-22T00:34:00",
          "2024-09-22T00:39:00",
          "2024-09-22T00:44:00",
          "2024-09-22T00:49:00",
          "2024-09-22T00:54:00",
          "2024-09-22T00:59:00",
          "2024-09-22T01:04:00",
          "2024-09-22T01:09:00",
          "2024-09-22T01:14:00",
          "2024-09-22T01:19:00",
          "2024-09-22T01:24:00",
          "2024-09-22T01:29:00",
          "2024-09-22T01:34:00",
          "2024-09-22T01:39:00",
          "2024-09-22T01:44:00",
          "2024-09-22T01:49:00",
          "2024-09-22T01:54:00",
          "2024-09-22T01:59:00",
          "2024-09-22T02:04:00",
          "2024-09-22T02:09:00",
          "2024-09-22T02:14:00",
          "2024-09-22T02:19:00",
          "2024-09-22T02:24:00",
          "2024-09-22T02:29:00",
          "2024-09-22T02:34:00",
          "2024-09-22T02:39:00",
          "2024-09-22T02:44:00",
          "2024-09-22T02:49:00",
          "2024-09-22T02:54:00",
          "2024-09-22T02:59:00",
          "2024-09-22T03:04:00",
          "2024-09-22T03:09:00",
          "2024-09-22T03:14:00",
          "2024-09-22T03:19:00",
          "2024-09-22T03:24:00",
          "2024-09-22T03:29:00",
          "2024-09-22T03:34:00",
          "2024-09-22T03:39:00",
          "2024-09-22T03:44:00",
          "2024-09-22T03:49:00",
          "2024-09-22T03:54:00",
          "2024-09-22T03:59:00",
          "2024-09-22T04:04:00",
          "2024-09-22T04:09:00",
          "2024-09-22T04:14:00",
          "2024-09-22T04:19:00",
          "2024-09-22T04:24:00",
          "2024-09-22T04:29:00",
          "2024-09-22T04:34:00",
          "2024-09-22T04:39:00",
          "2024-09-22T04:44:00",
          "2024-09-22T04:49:00",
          "2024-09-22T04:54:00",
          "2024-09-22T04:59:00",
          "2024-09-22T05:04:00",
          "2024-09-22T05:09:00",
          "2024-09-22T05:14:00",
          "2024-09-22T05:19:00",
          "2024-09-22T05:24:00",
          "2024-09-22T05:29:00",
          "2024-09-22T05:34:00",
          "2024-09-22T05:39:00",
          "2024-09-22T05:44:00",
          "2024-09-22T05:49:00",
          "2024-09-22T05:54:00",
          "2024-09-22T05:59:00",
          "2024-09-22T06:04:00",
          "2024-09-22T06:09:00",
          "2024-09-22T06:14:00",
          "2024-09-22T06:19:00",
          "2024-09-22T06:24:00",
          "2024-09-22T06:29:00",
          "2024-09-22T06:34:00",
          "2024-09-22T06:39:00",
          "2024-09-22T06:44:00",
          "2024-09-22T06:49:00",
          "2024-09-22T06:54:00",
          "2024-09-22T06:59:00",
          "2024-09-22T07:04:00",
          "2024-09-22T07:09:00",
          "2024-09-22T07:14:00",
          "2024-09-22T07:19:00",
          "2024-09-22T07:24:00",
          "2024-09-22T07:29:00",
          "2024-09-22T07:34:00",
          "2024-09-22T07:39:00",
          "2024-09-22T07:44:00",
          "2024-09-22T07:49:00",
          "2024-09-22T07:54:00",
          "2024-09-22T07:59:00",
          "2024-09-22T08:04:00",
          "2024-09-22T08:09:00",
          "2024-09-22T08:14:00",
          "2024-09-22T08:19:00",
          "2024-09-22T08:24:00",
          "2024-09-22T08:29:00",
          "2024-09-22T08:34:00",
          "2024-09-22T08:39:00",
          "2024-09-22T08:44:00",
          "2024-09-22T08:49:00",
          "2024-09-22T08:54:00",
          "2024-09-22T08:59:00",
          "2024-09-22T09:04:00",
          "2024-09-22T09:09:00",
          "2024-09-22T09:14:00",
          "2024-09-22T09:19:00",
          "2024-09-22T09:24:00",
          "2024-09-22T09:29:00",
          "2024-09-22T09:34:00",
          "2024-09-22T09:39:00",
          "2024-09-22T09:44:00",
          "2024-09-22T09:49:00",
          "2024-09-22T09:54:00",
          "2024-09-22T09:59:00",
          "2024-09-22T10:04:00",
          "2024-09-22T10:09:00",
          "2024-09-22T10:14:00",
          "2024-09-22T10:19:00",
          "2024-09-22T10:24:00",
          "2024-09-22T10:29:00",
          "2024-09-22T10:34:00",
          "2024-09-22T10:39:00",
          "2024-09-22T10:44:00",
          "2024-09-22T10:49:00",
          "2024-09-22T10:54:00",
          "2024-09-22T10:59:00",
          "2024-09-22T11:04:00",
          "2024-09-22T11:09:00",
          "2024-09-22T11:14:00",
          "2024-09-22T11:19:00",
          "2024-09-22T11:24:00",
          "2024-09-22T11:29:00",
          "2024-09-22T11:34:00",
          "2024-09-22T11:39:00",
          "2024-09-22T11:44:00",
          "2024-09-22T11:49:00",
          "2024-09-22T11:54:00",
          "2024-09-22T11:59:00",
          "2024-09-22T12:04:00",
          "2024-09-22T12:09:00",
          "2024-09-22T12:14:00",
          "2024-09-22T12:19:00",
          "2024-09-22T12:24:00",
          "2024-09-22T12:29:00",
          "2024-09-22T12:34:00",
          "2024-09-22T12:39:00",
          "2024-09-22T12:44:00",
          "2024-09-22T12:49:00",
          "2024-09-22T12:54:00",
          "2024-09-22T12:59:00",
          "2024-09-22T13:04:00",
          "2024-09-22T13:09:00",
          "2024-09-22T13:14:00",
          "2024-09-22T13:19:00",
          "2024-09-22T13:24:00",
          "2024-09-22T13:29:00",
          "2024-09-22T13:34:00"
         ],
         "xaxis": "x",
         "y": [
          4.3,
          4.9,
          2.4,
          1.8,
          1,
          1.5,
          2.2,
          2.2,
          4.2,
          5,
          5.3,
          2.9,
          4,
          4.7,
          4.3,
          2.7,
          0.9,
          0.9,
          0.5,
          0.7,
          0.6,
          0.9,
          0.7,
          0,
          0.1,
          0.3,
          0.5,
          0.3,
          0.4,
          0.5,
          0.5,
          1.8,
          1.8,
          1.8,
          0.8,
          0.1,
          2.2,
          2.8,
          1.8,
          1.4,
          1.5,
          0.3,
          0.9,
          3,
          1.7,
          2.1,
          3.4,
          2.6,
          3,
          2.7,
          2,
          1.9,
          2.7,
          4,
          2.1,
          1.5,
          3.6,
          3,
          2.5,
          1.5,
          2.7,
          3.1,
          2.9,
          3.1,
          3.4,
          4.1,
          2.9,
          3.7,
          2.1,
          2.2,
          3.1,
          3,
          1.8,
          2.5,
          1.6,
          2.3,
          1.4,
          3.1,
          7.9,
          6.2,
          5.3,
          6.2,
          6.6,
          6.5,
          5.6,
          6.6,
          4.9,
          4,
          3.7,
          4.2,
          2.7,
          1.8,
          3.1,
          2.9,
          2,
          3.3,
          2.8,
          2,
          2.7,
          1.7,
          3.3,
          3.6,
          3.6,
          3.9,
          4.1,
          3.3,
          3.3,
          3.1,
          4,
          4.9,
          2.7,
          2.3,
          3.8,
          4.5,
          6.1,
          3.6,
          3.8,
          4.4,
          1.8,
          3.9,
          4.1,
          4.2,
          3.7,
          4.3,
          5.7,
          4.7,
          3.6,
          5,
          4.2,
          3.4,
          4.7,
          5.3,
          4.2,
          4.5,
          5,
          5.6,
          5.1,
          3.8,
          5.3,
          4.4,
          7,
          5.6,
          4.3,
          5.5,
          4,
          7.7,
          5.6,
          5.5,
          4.9,
          5.3,
          6,
          5.9,
          5.5,
          7.5,
          6.2,
          7.5,
          5.7,
          7.1,
          7.6,
          4.3,
          6.4,
          7.5,
          4.7
         ],
         "yaxis": "y"
        }
       ],
       "layout": {
        "autosize": true,
        "template": {
         "data": {
          "bar": [
           {
            "error_x": {
             "color": "#2a3f5f"
            },
            "error_y": {
             "color": "#2a3f5f"
            },
            "marker": {
             "line": {
              "color": "#E5ECF6",
              "width": 0.5
             },
             "pattern": {
              "fillmode": "overlay",
              "size": 10,
              "solidity": 0.2
             }
            },
            "type": "bar"
           }
          ],
          "barpolar": [
           {
            "marker": {
             "line": {
              "color": "#E5ECF6",
              "width": 0.5
             },
             "pattern": {
              "fillmode": "overlay",
              "size": 10,
              "solidity": 0.2
             }
            },
            "type": "barpolar"
           }
          ],
          "carpet": [
           {
            "aaxis": {
             "endlinecolor": "#2a3f5f",
             "gridcolor": "white",
             "linecolor": "white",
             "minorgridcolor": "white",
             "startlinecolor": "#2a3f5f"
            },
            "baxis": {
             "endlinecolor": "#2a3f5f",
             "gridcolor": "white",
             "linecolor": "white",
             "minorgridcolor": "white",
             "startlinecolor": "#2a3f5f"
            },
            "type": "carpet"
           }
          ],
          "choropleth": [
           {
            "colorbar": {
             "outlinewidth": 0,
             "ticks": ""
            },
            "type": "choropleth"
           }
          ],
          "contour": [
           {
            "colorbar": {
             "outlinewidth": 0,
             "ticks": ""
            },
            "colorscale": [
             [
              0,
              "#0d0887"
             ],
             [
              0.1111111111111111,
              "#46039f"
             ],
             [
              0.2222222222222222,
              "#7201a8"
             ],
             [
              0.3333333333333333,
              "#9c179e"
             ],
             [
              0.4444444444444444,
              "#bd3786"
             ],
             [
              0.5555555555555556,
              "#d8576b"
             ],
             [
              0.6666666666666666,
              "#ed7953"
             ],
             [
              0.7777777777777778,
              "#fb9f3a"
             ],
             [
              0.8888888888888888,
              "#fdca26"
             ],
             [
              1,
              "#f0f921"
             ]
            ],
            "type": "contour"
           }
          ],
          "contourcarpet": [
           {
            "colorbar": {
             "outlinewidth": 0,
             "ticks": ""
            },
            "type": "contourcarpet"
           }
          ],
          "heatmap": [
           {
            "colorbar": {
             "outlinewidth": 0,
             "ticks": ""
            },
            "colorscale": [
             [
              0,
              "#0d0887"
             ],
             [
              0.1111111111111111,
              "#46039f"
             ],
             [
              0.2222222222222222,
              "#7201a8"
             ],
             [
              0.3333333333333333,
              "#9c179e"
             ],
             [
              0.4444444444444444,
              "#bd3786"
             ],
             [
              0.5555555555555556,
              "#d8576b"
             ],
             [
              0.6666666666666666,
              "#ed7953"
             ],
             [
              0.7777777777777778,
              "#fb9f3a"
             ],
             [
              0.8888888888888888,
              "#fdca26"
             ],
             [
              1,
              "#f0f921"
             ]
            ],
            "type": "heatmap"
           }
          ],
          "heatmapgl": [
           {
            "colorbar": {
             "outlinewidth": 0,
             "ticks": ""
            },
            "colorscale": [
             [
              0,
              "#0d0887"
             ],
             [
              0.1111111111111111,
              "#46039f"
             ],
             [
              0.2222222222222222,
              "#7201a8"
             ],
             [
              0.3333333333333333,
              "#9c179e"
             ],
             [
              0.4444444444444444,
              "#bd3786"
             ],
             [
              0.5555555555555556,
              "#d8576b"
             ],
             [
              0.6666666666666666,
              "#ed7953"
             ],
             [
              0.7777777777777778,
              "#fb9f3a"
             ],
             [
              0.8888888888888888,
              "#fdca26"
             ],
             [
              1,
              "#f0f921"
             ]
            ],
            "type": "heatmapgl"
           }
          ],
          "histogram": [
           {
            "marker": {
             "pattern": {
              "fillmode": "overlay",
              "size": 10,
              "solidity": 0.2
             }
            },
            "type": "histogram"
           }
          ],
          "histogram2d": [
           {
            "colorbar": {
             "outlinewidth": 0,
             "ticks": ""
            },
            "colorscale": [
             [
              0,
              "#0d0887"
             ],
             [
              0.1111111111111111,
              "#46039f"
             ],
             [
              0.2222222222222222,
              "#7201a8"
             ],
             [
              0.3333333333333333,
              "#9c179e"
             ],
             [
              0.4444444444444444,
              "#bd3786"
             ],
             [
              0.5555555555555556,
              "#d8576b"
             ],
             [
              0.6666666666666666,
              "#ed7953"
             ],
             [
              0.7777777777777778,
              "#fb9f3a"
             ],
             [
              0.8888888888888888,
              "#fdca26"
             ],
             [
              1,
              "#f0f921"
             ]
            ],
            "type": "histogram2d"
           }
          ],
          "histogram2dcontour": [
           {
            "colorbar": {
             "outlinewidth": 0,
             "ticks": ""
            },
            "colorscale": [
             [
              0,
              "#0d0887"
             ],
             [
              0.1111111111111111,
              "#46039f"
             ],
             [
              0.2222222222222222,
              "#7201a8"
             ],
             [
              0.3333333333333333,
              "#9c179e"
             ],
             [
              0.4444444444444444,
              "#bd3786"
             ],
             [
              0.5555555555555556,
              "#d8576b"
             ],
             [
              0.6666666666666666,
              "#ed7953"
             ],
             [
              0.7777777777777778,
              "#fb9f3a"
             ],
             [
              0.8888888888888888,
              "#fdca26"
             ],
             [
              1,
              "#f0f921"
             ]
            ],
            "type": "histogram2dcontour"
           }
          ],
          "mesh3d": [
           {
            "colorbar": {
             "outlinewidth": 0,
             "ticks": ""
            },
            "type": "mesh3d"
           }
          ],
          "parcoords": [
           {
            "line": {
             "colorbar": {
              "outlinewidth": 0,
              "ticks": ""
             }
            },
            "type": "parcoords"
           }
          ],
          "pie": [
           {
            "automargin": true,
            "type": "pie"
           }
          ],
          "scatter": [
           {
            "fillpattern": {
             "fillmode": "overlay",
             "size": 10,
             "solidity": 0.2
            },
            "type": "scatter"
           }
          ],
          "scatter3d": [
           {
            "line": {
             "colorbar": {
              "outlinewidth": 0,
              "ticks": ""
             }
            },
            "marker": {
             "colorbar": {
              "outlinewidth": 0,
              "ticks": ""
             }
            },
            "type": "scatter3d"
           }
          ],
          "scattercarpet": [
           {
            "marker": {
             "colorbar": {
              "outlinewidth": 0,
              "ticks": ""
             }
            },
            "type": "scattercarpet"
           }
          ],
          "scattergeo": [
           {
            "marker": {
             "colorbar": {
              "outlinewidth": 0,
              "ticks": ""
             }
            },
            "type": "scattergeo"
           }
          ],
          "scattergl": [
           {
            "marker": {
             "colorbar": {
              "outlinewidth": 0,
              "ticks": ""
             }
            },
            "type": "scattergl"
           }
          ],
          "scattermapbox": [
           {
            "marker": {
             "colorbar": {
              "outlinewidth": 0,
              "ticks": ""
             }
            },
            "type": "scattermapbox"
           }
          ],
          "scatterpolar": [
           {
            "marker": {
             "colorbar": {
              "outlinewidth": 0,
              "ticks": ""
             }
            },
            "type": "scatterpolar"
           }
          ],
          "scatterpolargl": [
           {
            "marker": {
             "colorbar": {
              "outlinewidth": 0,
              "ticks": ""
             }
            },
            "type": "scatterpolargl"
           }
          ],
          "scatterternary": [
           {
            "marker": {
             "colorbar": {
              "outlinewidth": 0,
              "ticks": ""
             }
            },
            "type": "scatterternary"
           }
          ],
          "surface": [
           {
            "colorbar": {
             "outlinewidth": 0,
             "ticks": ""
            },
            "colorscale": [
             [
              0,
              "#0d0887"
             ],
             [
              0.1111111111111111,
              "#46039f"
             ],
             [
              0.2222222222222222,
              "#7201a8"
             ],
             [
              0.3333333333333333,
              "#9c179e"
             ],
             [
              0.4444444444444444,
              "#bd3786"
             ],
             [
              0.5555555555555556,
              "#d8576b"
             ],
             [
              0.6666666666666666,
              "#ed7953"
             ],
             [
              0.7777777777777778,
              "#fb9f3a"
             ],
             [
              0.8888888888888888,
              "#fdca26"
             ],
             [
              1,
              "#f0f921"
             ]
            ],
            "type": "surface"
           }
          ],
          "table": [
           {
            "cells": {
             "fill": {
              "color": "#EBF0F8"
             },
             "line": {
              "color": "white"
             }
            },
            "header": {
             "fill": {
              "color": "#C8D4E3"
             },
             "line": {
              "color": "white"
             }
            },
            "type": "table"
           }
          ]
         },
         "layout": {
          "annotationdefaults": {
           "arrowcolor": "#2a3f5f",
           "arrowhead": 0,
           "arrowwidth": 1
          },
          "autotypenumbers": "strict",
          "coloraxis": {
           "colorbar": {
            "outlinewidth": 0,
            "ticks": ""
           }
          },
          "colorscale": {
           "diverging": [
            [
             0,
             "#8e0152"
            ],
            [
             0.1,
             "#c51b7d"
            ],
            [
             0.2,
             "#de77ae"
            ],
            [
             0.3,
             "#f1b6da"
            ],
            [
             0.4,
             "#fde0ef"
            ],
            [
             0.5,
             "#f7f7f7"
            ],
            [
             0.6,
             "#e6f5d0"
            ],
            [
             0.7,
             "#b8e186"
            ],
            [
             0.8,
             "#7fbc41"
            ],
            [
             0.9,
             "#4d9221"
            ],
            [
             1,
             "#276419"
            ]
           ],
           "sequential": [
            [
             0,
             "#0d0887"
            ],
            [
             0.1111111111111111,
             "#46039f"
            ],
            [
             0.2222222222222222,
             "#7201a8"
            ],
            [
             0.3333333333333333,
             "#9c179e"
            ],
            [
             0.4444444444444444,
             "#bd3786"
            ],
            [
             0.5555555555555556,
             "#d8576b"
            ],
            [
             0.6666666666666666,
             "#ed7953"
            ],
            [
             0.7777777777777778,
             "#fb9f3a"
            ],
            [
             0.8888888888888888,
             "#fdca26"
            ],
            [
             1,
             "#f0f921"
            ]
           ],
           "sequentialminus": [
            [
             0,
             "#0d0887"
            ],
            [
             0.1111111111111111,
             "#46039f"
            ],
            [
             0.2222222222222222,
             "#7201a8"
            ],
            [
             0.3333333333333333,
             "#9c179e"
            ],
            [
             0.4444444444444444,
             "#bd3786"
            ],
            [
             0.5555555555555556,
             "#d8576b"
            ],
            [
             0.6666666666666666,
             "#ed7953"
            ],
            [
             0.7777777777777778,
             "#fb9f3a"
            ],
            [
             0.8888888888888888,
             "#fdca26"
            ],
            [
             1,
             "#f0f921"
            ]
           ]
          },
          "colorway": [
           "#636efa",
           "#EF553B",
           "#00cc96",
           "#ab63fa",
           "#FFA15A",
           "#19d3f3",
           "#FF6692",
           "#B6E880",
           "#FF97FF",
           "#FECB52"
          ],
          "font": {
           "color": "#2a3f5f"
          },
          "geo": {
           "bgcolor": "white",
           "lakecolor": "white",
           "landcolor": "#E5ECF6",
           "showlakes": true,
           "showland": true,
           "subunitcolor": "white"
          },
          "hoverlabel": {
           "align": "left"
          },
          "hovermode": "closest",
          "mapbox": {
           "style": "light"
          },
          "paper_bgcolor": "white",
          "plot_bgcolor": "#E5ECF6",
          "polar": {
           "angularaxis": {
            "gridcolor": "white",
            "linecolor": "white",
            "ticks": ""
           },
           "bgcolor": "#E5ECF6",
           "radialaxis": {
            "gridcolor": "white",
            "linecolor": "white",
            "ticks": ""
           }
          },
          "scene": {
           "xaxis": {
            "backgroundcolor": "#E5ECF6",
            "gridcolor": "white",
            "gridwidth": 2,
            "linecolor": "white",
            "showbackground": true,
            "ticks": "",
            "zerolinecolor": "white"
           },
           "yaxis": {
            "backgroundcolor": "#E5ECF6",
            "gridcolor": "white",
            "gridwidth": 2,
            "linecolor": "white",
            "showbackground": true,
            "ticks": "",
            "zerolinecolor": "white"
           },
           "zaxis": {
            "backgroundcolor": "#E5ECF6",
            "gridcolor": "white",
            "gridwidth": 2,
            "linecolor": "white",
            "showbackground": true,
            "ticks": "",
            "zerolinecolor": "white"
           }
          },
          "shapedefaults": {
           "line": {
            "color": "#2a3f5f"
           }
          },
          "ternary": {
           "aaxis": {
            "gridcolor": "white",
            "linecolor": "white",
            "ticks": ""
           },
           "baxis": {
            "gridcolor": "white",
            "linecolor": "white",
            "ticks": ""
           },
           "bgcolor": "#E5ECF6",
           "caxis": {
            "gridcolor": "white",
            "linecolor": "white",
            "ticks": ""
           }
          },
          "title": {
           "x": 0.05
          },
          "xaxis": {
           "automargin": true,
           "gridcolor": "white",
           "linecolor": "white",
           "ticks": "",
           "title": {
            "standoff": 15
           },
           "zerolinecolor": "white",
           "zerolinewidth": 2
          },
          "yaxis": {
           "automargin": true,
           "gridcolor": "white",
           "linecolor": "white",
           "ticks": "",
           "title": {
            "standoff": 15
           },
           "zerolinecolor": "white",
           "zerolinewidth": 2
          }
         }
        },
        "xaxis": {
         "autorange": true,
         "range": [
          "2024-09-21 23:16:07.0118",
          "2024-09-22 14:21:52.9882"
         ],
         "title": {
          "text": "Timestamp"
         },
         "type": "date"
        },
        "yaxis": {
         "autorange": true,
         "range": [
          -0.6519417475728155,
          8.551941747572815
         ],
         "title": {
          "text": "MPH"
         },
         "type": "linear"
        }
       }
      },
      "image/png": "[encoded data removed]",
      "text/html": [
       "<div>                            <div id=\"2428e6ea-fa5f-4647-b1b7-64516dce996f\" class=\"plotly-graph-div\" style=\"height:525px; width:100%;\"></div>            <script type=\"text/javascript\">                require([\"plotly\"], function(Plotly) {                    window.PLOTLYENV=window.PLOTLYENV || {};                                    if (document.getElementById(\"2428e6ea-fa5f-4647-b1b7-64516dce996f\")) {                    Plotly.newPlot(                        \"2428e6ea-fa5f-4647-b1b7-64516dce996f\",                        [{\"hovertemplate\":\"Timestamp=%{x}\\u003cbr\\u003eWind Speed=%{y}\\u003cextra\\u003e\\u003c\\u002fextra\\u003e\",\"legendgroup\":\"\",\"line\":{\"color\":\"#636efa\",\"dash\":\"solid\"},\"marker\":{\"symbol\":\"circle\"},\"mode\":\"lines\",\"name\":\"\",\"orientation\":\"v\",\"showlegend\":false,\"x\":[\"2024-09-22T00:04:00\",\"2024-09-22T00:09:00\",\"2024-09-22T00:14:00\",\"2024-09-22T00:19:00\",\"2024-09-22T00:24:00\",\"2024-09-22T00:29:00\",\"2024-09-22T00:34:00\",\"2024-09-22T00:39:00\",\"2024-09-22T00:44:00\",\"2024-09-22T00:49:00\",\"2024-09-22T00:54:00\",\"2024-09-22T00:59:00\",\"2024-09-22T01:04:00\",\"2024-09-22T01:09:00\",\"2024-09-22T01:14:00\",\"2024-09-22T01:19:00\",\"2024-09-22T01:24:00\",\"2024-09-22T01:29:00\",\"2024-09-22T01:34:00\",\"2024-09-22T01:39:00\",\"2024-09-22T01:44:00\",\"2024-09-22T01:49:00\",\"2024-09-22T01:54:00\",\"2024-09-22T01:59:00\",\"2024-09-22T02:04:00\",\"2024-09-22T02:09:00\",\"2024-09-22T02:14:00\",\"2024-09-22T02:19:00\",\"2024-09-22T02:24:00\",\"2024-09-22T02:29:00\",\"2024-09-22T02:34:00\",\"2024-09-22T02:39:00\",\"2024-09-22T02:44:00\",\"2024-09-22T02:49:00\",\"2024-09-22T02:54:00\",\"2024-09-22T02:59:00\",\"2024-09-22T03:04:00\",\"2024-09-22T03:09:00\",\"2024-09-22T03:14:00\",\"2024-09-22T03:19:00\",\"2024-09-22T03:24:00\",\"2024-09-22T03:29:00\",\"2024-09-22T03:34:00\",\"2024-09-22T03:39:00\",\"2024-09-22T03:44:00\",\"2024-09-22T03:49:00\",\"2024-09-22T03:54:00\",\"2024-09-22T03:59:00\",\"2024-09-22T04:04:00\",\"2024-09-22T04:09:00\",\"2024-09-22T04:14:00\",\"2024-09-22T04:19:00\",\"2024-09-22T04:24:00\",\"2024-09-22T04:29:00\",\"2024-09-22T04:34:00\",\"2024-09-22T04:39:00\",\"2024-09-22T04:44:00\",\"2024-09-22T04:49:00\",\"2024-09-22T04:54:00\",\"2024-09-22T04:59:00\",\"2024-09-22T05:04:00\",\"2024-09-22T05:09:00\",\"2024-09-22T05:14:00\",\"2024-09-22T05:19:00\",\"2024-09-22T05:24:00\",\"2024-09-22T05:29:00\",\"2024-09-22T05:34:00\",\"2024-09-22T05:39:00\",\"2024-09-22T05:44:00\",\"2024-09-22T05:49:00\",\"2024-09-22T05:54:00\",\"2024-09-22T05:59:00\",\"2024-09-22T06:04:00\",\"2024-09-22T06:09:00\",\"2024-09-22T06:14:00\",\"2024-09-22T06:19:00\",\"2024-09-22T06:24:00\",\"2024-09-22T06:29:00\",\"2024-09-22T06:34:00\",\"2024-09-22T06:39:00\",\"2024-09-22T06:44:00\",\"2024-09-22T06:49:00\",\"2024-09-22T06:54:00\",\"2024-09-22T06:59:00\",\"2024-09-22T07:04:00\",\"2024-09-22T07:09:00\",\"2024-09-22T07:14:00\",\"2024-09-22T07:19:00\",\"2024-09-22T07:24:00\",\"2024-09-22T07:29:00\",\"2024-09-22T07:34:00\",\"2024-09-22T07:39:00\",\"2024-09-22T07:44:00\",\"2024-09-22T07:49:00\",\"2024-09-22T07:54:00\",\"2024-09-22T07:59:00\",\"2024-09-22T08:04:00\",\"2024-09-22T08:09:00\",\"2024-09-22T08:14:00\",\"2024-09-22T08:19:00\",\"2024-09-22T08:24:00\",\"2024-09-22T08:29:00\",\"2024-09-22T08:34:00\",\"2024-09-22T08:39:00\",\"2024-09-22T08:44:00\",\"2024-09-22T08:49:00\",\"2024-09-22T08:54:00\",\"2024-09-22T08:59:00\",\"2024-09-22T09:04:00\",\"2024-09-22T09:09:00\",\"2024-09-22T09:14:00\",\"2024-09-22T09:19:00\",\"2024-09-22T09:24:00\",\"2024-09-22T09:29:00\",\"2024-09-22T09:34:00\",\"2024-09-22T09:39:00\",\"2024-09-22T09:44:00\",\"2024-09-22T09:49:00\",\"2024-09-22T09:54:00\",\"2024-09-22T09:59:00\",\"2024-09-22T10:04:00\",\"2024-09-22T10:09:00\",\"2024-09-22T10:14:00\",\"2024-09-22T10:19:00\",\"2024-09-22T10:24:00\",\"2024-09-22T10:29:00\",\"2024-09-22T10:34:00\",\"2024-09-22T10:39:00\",\"2024-09-22T10:44:00\",\"2024-09-22T10:49:00\",\"2024-09-22T10:54:00\",\"2024-09-22T10:59:00\",\"2024-09-22T11:04:00\",\"2024-09-22T11:09:00\",\"2024-09-22T11:14:00\",\"2024-09-22T11:19:00\",\"2024-09-22T11:24:00\",\"2024-09-22T11:29:00\",\"2024-09-22T11:34:00\",\"2024-09-22T11:39:00\",\"2024-09-22T11:44:00\",\"2024-09-22T11:49:00\",\"2024-09-22T11:54:00\",\"2024-09-22T11:59:00\",\"2024-09-22T12:04:00\",\"2024-09-22T12:09:00\",\"2024-09-22T12:14:00\",\"2024-09-22T12:19:00\",\"2024-09-22T12:24:00\",\"2024-09-22T12:29:00\",\"2024-09-22T12:34:00\",\"2024-09-22T12:39:00\",\"2024-09-22T12:44:00\",\"2024-09-22T12:49:00\",\"2024-09-22T12:54:00\",\"2024-09-22T12:59:00\",\"2024-09-22T13:04:00\",\"2024-09-22T13:09:00\",\"2024-09-22T13:14:00\",\"2024-09-22T13:19:00\",\"2024-09-22T13:24:00\",\"2024-09-22T13:29:00\",\"2024-09-22T13:34:00\"],\"xaxis\":\"x\",\"y\":[3.7,3.8,1.8,1.3,0.7,0.9,1.6,1.6,3.0,4.0,4.2,1.9,2.7,3.8,3.3,1.9,0.4,0.6,0.3,0.2,0.3,0.5,0.2,0.0,0.0,0.1,0.2,0.1,0.4,0.3,0.2,1.1,1.2,1.2,0.4,0.1,1.8,2.1,1.2,0.9,0.9,0.0,0.6,2.2,1.1,1.3,2.2,1.8,2.2,1.7,1.3,1.5,1.7,2.9,1.5,1.0,2.2,2.1,1.9,0.9,2.3,2.3,2.1,2.1,2.4,3.0,2.3,2.9,1.5,1.6,2.3,2.2,1.3,1.9,1.0,1.4,1.1,2.2,5.1,4.9,3.8,4.5,4.7,4.7,3.4,4.6,3.5,3.1,2.6,2.7,1.8,1.2,2.0,2.1,1.2,1.9,1.8,1.2,1.5,1.1,2.2,2.6,2.2,2.4,3.2,2.2,2.3,2.4,2.8,3.5,1.8,1.6,2.9,2.9,3.9,3.0,2.9,2.9,1.2,2.8,2.5,3.0,2.8,3.4,4.6,3.7,2.5,3.6,3.1,2.2,3.1,3.7,2.8,3.2,3.9,3.9,3.7,3.0,4.0,3.1,5.0,3.6,3.3,3.6,2.8,5.6,3.8,3.7,3.2,3.9,4.8,4.2,3.9,5.5,4.6,5.6,3.7,5.2,4.5,3.0,4.7,5.0,3.5],\"yaxis\":\"y\",\"type\":\"scatter\"},{\"hovertemplate\":\"Timestamp=%{x}\\u003cbr\\u003eWind Gust=%{y}\\u003cextra\\u003e\\u003c\\u002fextra\\u003e\",\"legendgroup\":\"\",\"marker\":{\"color\":\"#636efa\",\"symbol\":\"circle\"},\"mode\":\"markers\",\"name\":\"\",\"orientation\":\"v\",\"showlegend\":false,\"x\":[\"2024-09-22T00:04:00\",\"2024-09-22T00:09:00\",\"2024-09-22T00:14:00\",\"2024-09-22T00:19:00\",\"2024-09-22T00:24:00\",\"2024-09-22T00:29:00\",\"2024-09-22T00:34:00\",\"2024-09-22T00:39:00\",\"2024-09-22T00:44:00\",\"2024-09-22T00:49:00\",\"2024-09-22T00:54:00\",\"2024-09-22T00:59:00\",\"2024-09-22T01:04:00\",\"2024-09-22T01:09:00\",\"2024-09-22T01:14:00\",\"2024-09-22T01:19:00\",\"2024-09-22T01:24:00\",\"2024-09-22T01:29:00\",\"2024-09-22T01:34:00\",\"2024-09-22T01:39:00\",\"2024-09-22T01:44:00\",\"2024-09-22T01:49:00\",\"2024-09-22T01:54:00\",\"2024-09-22T01:59:00\",\"2024-09-22T02:04:00\",\"2024-09-22T02:09:00\",\"2024-09-22T02:14:00\",\"2024-09-22T02:19:00\",\"2024-09-22T02:24:00\",\"2024-09-22T02:29:00\",\"2024-09-22T02:34:00\",\"2024-09-22T02:39:00\",\"2024-09-22T02:44:00\",\"2024-09-22T02:49:00\",\"2024-09-22T02:54:00\",\"2024-09-22T02:59:00\",\"2024-09-22T03:04:00\",\"2024-09-22T03:09:00\",\"2024-09-22T03:14:00\",\"2024-09-22T03:19:00\",\"2024-09-22T03:24:00\",\"2024-09-22T03:29:00\",\"2024-09-22T03:34:00\",\"2024-09-22T03:39:00\",\"2024-09-22T03:44:00\",\"2024-09-22T03:49:00\",\"2024-09-22T03:54:00\",\"2024-09-22T03:59:00\",\"2024-09-22T04:04:00\",\"2024-09-22T04:09:00\",\"2024-09-22T04:14:00\",\"2024-09-22T04:19:00\",\"2024-09-22T04:24:00\",\"2024-09-22T04:29:00\",\"2024-09-22T04:34:00\",\"2024-09-22T04:39:00\",\"2024-09-22T04:44:00\",\"2024-09-22T04:49:00\",\"2024-09-22T04:54:00\",\"2024-09-22T04:59:00\",\"2024-09-22T05:04:00\",\"2024-09-22T05:09:00\",\"2024-09-22T05:14:00\",\"2024-09-22T05:19:00\",\"2024-09-22T05:24:00\",\"2024-09-22T05:29:00\",\"2024-09-22T05:34:00\",\"2024-09-22T05:39:00\",\"2024-09-22T05:44:00\",\"2024-09-22T05:49:00\",\"2024-09-22T05:54:00\",\"2024-09-22T05:59:00\",\"2024-09-22T06:04:00\",\"2024-09-22T06:09:00\",\"2024-09-22T06:14:00\",\"2024-09-22T06:19:00\",\"2024-09-22T06:24:00\",\"2024-09-22T06:29:00\",\"2024-09-22T06:34:00\",\"2024-09-22T06:39:00\",\"2024-09-22T06:44:00\",\"2024-09-22T06:49:00\",\"2024-09-22T06:54:00\",\"2024-09-22T06:59:00\",\"2024-09-22T07:04:00\",\"2024-09-22T07:09:00\",\"2024-09-22T07:14:00\",\"2024-09-22T07:19:00\",\"2024-09-22T07:24:00\",\"2024-09-22T07:29:00\",\"2024-09-22T07:34:00\",\"2024-09-22T07:39:00\",\"2024-09-22T07:44:00\",\"2024-09-22T07:49:00\",\"2024-09-22T07:54:00\",\"2024-09-22T07:59:00\",\"2024-09-22T08:04:00\",\"2024-09-22T08:09:00\",\"2024-09-22T08:14:00\",\"2024-09-22T08:19:00\",\"2024-09-22T08:24:00\",\"2024-09-22T08:29:00\",\"2024-09-22T08:34:00\",\"2024-09-22T08:39:00\",\"2024-09-22T08:44:00\",\"2024-09-22T08:49:00\",\"2024-09-22T08:54:00\",\"2024-09-22T08:59:00\",\"2024-09-22T09:04:00\",\"2024-09-22T09:09:00\",\"2024-09-22T09:14:00\",\"2024-09-22T09:19:00\",\"2024-09-22T09:24:00\",\"2024-09-22T09:29:00\",\"2024-09-22T09:34:00\",\"2024-09-22T09:39:00\",\"2024-09-22T09:44:00\",\"2024-09-22T09:49:00\",\"2024-09-22T09:54:00\",\"2024-09-22T09:59:00\",\"2024-09-22T10:04:00\",\"2024-09-22T10:09:00\",\"2024-09-22T10:14:00\",\"2024-09-22T10:19:00\",\"2024-09-22T10:24:00\",\"2024-09-22T10:29:00\",\"2024-09-22T10:34:00\",\"2024-09-22T10:39:00\",\"2024-09-22T10:44:00\",\"2024-09-22T10:49:00\",\"2024-09-22T10:54:00\",\"2024-09-22T10:59:00\",\"2024-09-22T11:04:00\",\"2024-09-22T11:09:00\",\"2024-09-22T11:14:00\",\"2024-09-22T11:19:00\",\"2024-09-22T11:24:00\",\"2024-09-22T11:29:00\",\"2024-09-22T11:34:00\",\"2024-09-22T11:39:00\",\"2024-09-22T11:44:00\",\"2024-09-22T11:49:00\",\"2024-09-22T11:54:00\",\"2024-09-22T11:59:00\",\"2024-09-22T12:04:00\",\"2024-09-22T12:09:00\",\"2024-09-22T12:14:00\",\"2024-09-22T12:19:00\",\"2024-09-22T12:24:00\",\"2024-09-22T12:29:00\",\"2024-09-22T12:34:00\",\"2024-09-22T12:39:00\",\"2024-09-22T12:44:00\",\"2024-09-22T12:49:00\",\"2024-09-22T12:54:00\",\"2024-09-22T12:59:00\",\"2024-09-22T13:04:00\",\"2024-09-22T13:09:00\",\"2024-09-22T13:14:00\",\"2024-09-22T13:19:00\",\"2024-09-22T13:24:00\",\"2024-09-22T13:29:00\",\"2024-09-22T13:34:00\"],\"xaxis\":\"x\",\"y\":[4.3,4.9,2.4,1.8,1.0,1.5,2.2,2.2,4.2,5.0,5.3,2.9,4.0,4.7,4.3,2.7,0.9,0.9,0.5,0.7,0.6,0.9,0.7,0.0,0.1,0.3,0.5,0.3,0.4,0.5,0.5,1.8,1.8,1.8,0.8,0.1,2.2,2.8,1.8,1.4,1.5,0.3,0.9,3.0,1.7,2.1,3.4,2.6,3.0,2.7,2.0,1.9,2.7,4.0,2.1,1.5,3.6,3.0,2.5,1.5,2.7,3.1,2.9,3.1,3.4,4.1,2.9,3.7,2.1,2.2,3.1,3.0,1.8,2.5,1.6,2.3,1.4,3.1,7.9,6.2,5.3,6.2,6.6,6.5,5.6,6.6,4.9,4.0,3.7,4.2,2.7,1.8,3.1,2.9,2.0,3.3,2.8,2.0,2.7,1.7,3.3,3.6,3.6,3.9,4.1,3.3,3.3,3.1,4.0,4.9,2.7,2.3,3.8,4.5,6.1,3.6,3.8,4.4,1.8,3.9,4.1,4.2,3.7,4.3,5.7,4.7,3.6,5.0,4.2,3.4,4.7,5.3,4.2,4.5,5.0,5.6,5.1,3.8,5.3,4.4,7.0,5.6,4.3,5.5,4.0,7.7,5.6,5.5,4.9,5.3,6.0,5.9,5.5,7.5,6.2,7.5,5.7,7.1,7.6,4.3,6.4,7.5,4.7],\"yaxis\":\"y\",\"type\":\"scatter\"}],                        {\"template\":{\"data\":{\"histogram2dcontour\":[{\"type\":\"histogram2dcontour\",\"colorbar\":{\"outlinewidth\":0,\"ticks\":\"\"},\"colorscale\":[[0.0,\"#0d0887\"],[0.1111111111111111,\"#46039f\"],[0.2222222222222222,\"#7201a8\"],[0.3333333333333333,\"#9c179e\"],[0.4444444444444444,\"#bd3786\"],[0.5555555555555556,\"#d8576b\"],[0.6666666666666666,\"#ed7953\"],[0.7777777777777778,\"#fb9f3a\"],[0.8888888888888888,\"#fdca26\"],[1.0,\"#f0f921\"]]}],\"choropleth\":[{\"type\":\"choropleth\",\"colorbar\":{\"outlinewidth\":0,\"ticks\":\"\"}}],\"histogram2d\":[{\"type\":\"histogram2d\",\"colorbar\":{\"outlinewidth\":0,\"ticks\":\"\"},\"colorscale\":[[0.0,\"#0d0887\"],[0.1111111111111111,\"#46039f\"],[0.2222222222222222,\"#7201a8\"],[0.3333333333333333,\"#9c179e\"],[0.4444444444444444,\"#bd3786\"],[0.5555555555555556,\"#d8576b\"],[0.6666666666666666,\"#ed7953\"],[0.7777777777777778,\"#fb9f3a\"],[0.8888888888888888,\"#fdca26\"],[1.0,\"#f0f921\"]]}],\"heatmap\":[{\"type\":\"heatmap\",\"colorbar\":{\"outlinewidth\":0,\"ticks\":\"\"},\"colorscale\":[[0.0,\"#0d0887\"],[0.1111111111111111,\"#46039f\"],[0.2222222222222222,\"#7201a8\"],[0.3333333333333333,\"#9c179e\"],[0.4444444444444444,\"#bd3786\"],[0.5555555555555556,\"#d8576b\"],[0.6666666666666666,\"#ed7953\"],[0.7777777777777778,\"#fb9f3a\"],[0.8888888888888888,\"#fdca26\"],[1.0,\"#f0f921\"]]}],\"heatmapgl\":[{\"type\":\"heatmapgl\",\"colorbar\":{\"outlinewidth\":0,\"ticks\":\"\"},\"colorscale\":[[0.0,\"#0d0887\"],[0.1111111111111111,\"#46039f\"],[0.2222222222222222,\"#7201a8\"],[0.3333333333333333,\"#9c179e\"],[0.4444444444444444,\"#bd3786\"],[0.5555555555555556,\"#d8576b\"],[0.6666666666666666,\"#ed7953\"],[0.7777777777777778,\"#fb9f3a\"],[0.8888888888888888,\"#fdca26\"],[1.0,\"#f0f921\"]]}],\"contourcarpet\":[{\"type\":\"contourcarpet\",\"colorbar\":{\"outlinewidth\":0,\"ticks\":\"\"}}],\"contour\":[{\"type\":\"contour\",\"colorbar\":{\"outlinewidth\":0,\"ticks\":\"\"},\"colorscale\":[[0.0,\"#0d0887\"],[0.1111111111111111,\"#46039f\"],[0.2222222222222222,\"#7201a8\"],[0.3333333333333333,\"#9c179e\"],[0.4444444444444444,\"#bd3786\"],[0.5555555555555556,\"#d8576b\"],[0.6666666666666666,\"#ed7953\"],[0.7777777777777778,\"#fb9f3a\"],[0.8888888888888888,\"#fdca26\"],[1.0,\"#f0f921\"]]}],\"surface\":[{\"type\":\"surface\",\"colorbar\":{\"outlinewidth\":0,\"ticks\":\"\"},\"colorscale\":[[0.0,\"#0d0887\"],[0.1111111111111111,\"#46039f\"],[0.2222222222222222,\"#7201a8\"],[0.3333333333333333,\"#9c179e\"],[0.4444444444444444,\"#bd3786\"],[0.5555555555555556,\"#d8576b\"],[0.6666666666666666,\"#ed7953\"],[0.7777777777777778,\"#fb9f3a\"],[0.8888888888888888,\"#fdca26\"],[1.0,\"#f0f921\"]]}],\"mesh3d\":[{\"type\":\"mesh3d\",\"colorbar\":{\"outlinewidth\":0,\"ticks\":\"\"}}],\"scatter\":[{\"fillpattern\":{\"fillmode\":\"overlay\",\"size\":10,\"solidity\":0.2},\"type\":\"scatter\"}],\"parcoords\":[{\"type\":\"parcoords\",\"line\":{\"colorbar\":{\"outlinewidth\":0,\"ticks\":\"\"}}}],\"scatterpolargl\":[{\"type\":\"scatterpolargl\",\"marker\":{\"colorbar\":{\"outlinewidth\":0,\"ticks\":\"\"}}}],\"bar\":[{\"error_x\":{\"color\":\"#2a3f5f\"},\"error_y\":{\"color\":\"#2a3f5f\"},\"marker\":{\"line\":{\"color\":\"#E5ECF6\",\"width\":0.5},\"pattern\":{\"fillmode\":\"overlay\",\"size\":10,\"solidity\":0.2}},\"type\":\"bar\"}],\"scattergeo\":[{\"type\":\"scattergeo\",\"marker\":{\"colorbar\":{\"outlinewidth\":0,\"ticks\":\"\"}}}],\"scatterpolar\":[{\"type\":\"scatterpolar\",\"marker\":{\"colorbar\":{\"outlinewidth\":0,\"ticks\":\"\"}}}],\"histogram\":[{\"marker\":{\"pattern\":{\"fillmode\":\"overlay\",\"size\":10,\"solidity\":0.2}},\"type\":\"histogram\"}],\"scattergl\":[{\"type\":\"scattergl\",\"marker\":{\"colorbar\":{\"outlinewidth\":0,\"ticks\":\"\"}}}],\"scatter3d\":[{\"type\":\"scatter3d\",\"line\":{\"colorbar\":{\"outlinewidth\":0,\"ticks\":\"\"}},\"marker\":{\"colorbar\":{\"outlinewidth\":0,\"ticks\":\"\"}}}],\"scattermapbox\":[{\"type\":\"scattermapbox\",\"marker\":{\"colorbar\":{\"outlinewidth\":0,\"ticks\":\"\"}}}],\"scatterternary\":[{\"type\":\"scatterternary\",\"marker\":{\"colorbar\":{\"outlinewidth\":0,\"ticks\":\"\"}}}],\"scattercarpet\":[{\"type\":\"scattercarpet\",\"marker\":{\"colorbar\":{\"outlinewidth\":0,\"ticks\":\"\"}}}],\"carpet\":[{\"aaxis\":{\"endlinecolor\":\"#2a3f5f\",\"gridcolor\":\"white\",\"linecolor\":\"white\",\"minorgridcolor\":\"white\",\"startlinecolor\":\"#2a3f5f\"},\"baxis\":{\"endlinecolor\":\"#2a3f5f\",\"gridcolor\":\"white\",\"linecolor\":\"white\",\"minorgridcolor\":\"white\",\"startlinecolor\":\"#2a3f5f\"},\"type\":\"carpet\"}],\"table\":[{\"cells\":{\"fill\":{\"color\":\"#EBF0F8\"},\"line\":{\"color\":\"white\"}},\"header\":{\"fill\":{\"color\":\"#C8D4E3\"},\"line\":{\"color\":\"white\"}},\"type\":\"table\"}],\"barpolar\":[{\"marker\":{\"line\":{\"color\":\"#E5ECF6\",\"width\":0.5},\"pattern\":{\"fillmode\":\"overlay\",\"size\":10,\"solidity\":0.2}},\"type\":\"barpolar\"}],\"pie\":[{\"automargin\":true,\"type\":\"pie\"}]},\"layout\":{\"autotypenumbers\":\"strict\",\"colorway\":[\"#636efa\",\"#EF553B\",\"#00cc96\",\"#ab63fa\",\"#FFA15A\",\"#19d3f3\",\"#FF6692\",\"#B6E880\",\"#FF97FF\",\"#FECB52\"],\"font\":{\"color\":\"#2a3f5f\"},\"hovermode\":\"closest\",\"hoverlabel\":{\"align\":\"left\"},\"paper_bgcolor\":\"white\",\"plot_bgcolor\":\"#E5ECF6\",\"polar\":{\"bgcolor\":\"#E5ECF6\",\"angularaxis\":{\"gridcolor\":\"white\",\"linecolor\":\"white\",\"ticks\":\"\"},\"radialaxis\":{\"gridcolor\":\"white\",\"linecolor\":\"white\",\"ticks\":\"\"}},\"ternary\":{\"bgcolor\":\"#E5ECF6\",\"aaxis\":{\"gridcolor\":\"white\",\"linecolor\":\"white\",\"ticks\":\"\"},\"baxis\":{\"gridcolor\":\"white\",\"linecolor\":\"white\",\"ticks\":\"\"},\"caxis\":{\"gridcolor\":\"white\",\"linecolor\":\"white\",\"ticks\":\"\"}},\"coloraxis\":{\"colorbar\":{\"outlinewidth\":0,\"ticks\":\"\"}},\"colorscale\":{\"sequential\":[[0.0,\"#0d0887\"],[0.1111111111111111,\"#46039f\"],[0.2222222222222222,\"#7201a8\"],[0.3333333333333333,\"#9c179e\"],[0.4444444444444444,\"#bd3786\"],[0.5555555555555556,\"#d8576b\"],[0.6666666666666666,\"#ed7953\"],[0.7777777777777778,\"#fb9f3a\"],[0.8888888888888888,\"#fdca26\"],[1.0,\"#f0f921\"]],\"sequentialminus\":[[0.0,\"#0d0887\"],[0.1111111111111111,\"#46039f\"],[0.2222222222222222,\"#7201a8\"],[0.3333333333333333,\"#9c179e\"],[0.4444444444444444,\"#bd3786\"],[0.5555555555555556,\"#d8576b\"],[0.6666666666666666,\"#ed7953\"],[0.7777777777777778,\"#fb9f3a\"],[0.8888888888888888,\"#fdca26\"],[1.0,\"#f0f921\"]],\"diverging\":[[0,\"#8e0152\"],[0.1,\"#c51b7d\"],[0.2,\"#de77ae\"],[0.3,\"#f1b6da\"],[0.4,\"#fde0ef\"],[0.5,\"#f7f7f7\"],[0.6,\"#e6f5d0\"],[0.7,\"#b8e186\"],[0.8,\"#7fbc41\"],[0.9,\"#4d9221\"],[1,\"#276419\"]]},\"xaxis\":{\"gridcolor\":\"white\",\"linecolor\":\"white\",\"ticks\":\"\",\"title\":{\"standoff\":15},\"zerolinecolor\":\"white\",\"automargin\":true,\"zerolinewidth\":2},\"yaxis\":{\"gridcolor\":\"white\",\"linecolor\":\"white\",\"ticks\":\"\",\"title\":{\"standoff\":15},\"zerolinecolor\":\"white\",\"automargin\":true,\"zerolinewidth\":2},\"scene\":{\"xaxis\":{\"backgroundcolor\":\"#E5ECF6\",\"gridcolor\":\"white\",\"linecolor\":\"white\",\"showbackground\":true,\"ticks\":\"\",\"zerolinecolor\":\"white\",\"gridwidth\":2},\"yaxis\":{\"backgroundcolor\":\"#E5ECF6\",\"gridcolor\":\"white\",\"linecolor\":\"white\",\"showbackground\":true,\"ticks\":\"\",\"zerolinecolor\":\"white\",\"gridwidth\":2},\"zaxis\":{\"backgroundcolor\":\"#E5ECF6\",\"gridcolor\":\"white\",\"linecolor\":\"white\",\"showbackground\":true,\"ticks\":\"\",\"zerolinecolor\":\"white\",\"gridwidth\":2}},\"shapedefaults\":{\"line\":{\"color\":\"#2a3f5f\"}},\"annotationdefaults\":{\"arrowcolor\":\"#2a3f5f\",\"arrowhead\":0,\"arrowwidth\":1},\"geo\":{\"bgcolor\":\"white\",\"landcolor\":\"#E5ECF6\",\"subunitcolor\":\"white\",\"showland\":true,\"showlakes\":true,\"lakecolor\":\"white\"},\"title\":{\"x\":0.05},\"mapbox\":{\"style\":\"light\"}}},\"xaxis\":{\"title\":{\"text\":\"Timestamp\"}},\"yaxis\":{\"title\":{\"text\":\"MPH\"}}},                        {\"responsive\": true}                    ).then(function(){\n",
       "                            \n",
       "var gd = document.getElementById('2428e6ea-fa5f-4647-b1b7-64516dce996f');\n",
       "var x = new MutationObserver(function (mutations, observer) {{\n",
       "        var display = window.getComputedStyle(gd).display;\n",
       "        if (!display || display === 'none') {{\n",
       "            console.log([gd, 'removed!']);\n",
       "            Plotly.purge(gd);\n",
       "            observer.disconnect();\n",
       "        }}\n",
       "}});\n",
       "\n",
       "// Listen for the removal of the full notebook cells\n",
       "var notebookContainer = gd.closest('#notebook-container');\n",
       "if (notebookContainer) {{\n",
       "    x.observe(notebookContainer, {childList: true});\n",
       "}}\n",
       "\n",
       "// Listen for the clearing of the current output cell\n",
       "var outputEl = gd.closest('.output');\n",
       "if (outputEl) {{\n",
       "    x.observe(outputEl, {childList: true});\n",
       "}}\n",
       "\n",
       "                        })                };                });            </script>        </div>"
      ]
     },
     "metadata": {},
     "output_type": "display_data"
    },
    {
     "data": {
      "application/vnd.plotly.v1+json": {
       "config": {
        "plotlyServerURL": "https://plot.ly"
       },
       "data": [
        {
         "hovertemplate": "Timestamp=%{x}<br>Pressure=%{y}<extra></extra>",
         "legendgroup": "",
         "line": {
          "color": "#636efa",
          "dash": "solid"
         },
         "marker": {
          "symbol": "circle"
         },
         "mode": "lines",
         "name": "",
         "orientation": "v",
         "showlegend": false,
         "type": "scatter",
         "x": [
          "2024-09-22T00:04:00",
          "2024-09-22T00:09:00",
          "2024-09-22T00:14:00",
          "2024-09-22T00:19:00",
          "2024-09-22T00:24:00",
          "2024-09-22T00:29:00",
          "2024-09-22T00:34:00",
          "2024-09-22T00:39:00",
          "2024-09-22T00:44:00",
          "2024-09-22T00:49:00",
          "2024-09-22T00:54:00",
          "2024-09-22T00:59:00",
          "2024-09-22T01:04:00",
          "2024-09-22T01:09:00",
          "2024-09-22T01:14:00",
          "2024-09-22T01:19:00",
          "2024-09-22T01:24:00",
          "2024-09-22T01:29:00",
          "2024-09-22T01:34:00",
          "2024-09-22T01:39:00",
          "2024-09-22T01:44:00",
          "2024-09-22T01:49:00",
          "2024-09-22T01:54:00",
          "2024-09-22T01:59:00",
          "2024-09-22T02:04:00",
          "2024-09-22T02:09:00",
          "2024-09-22T02:14:00",
          "2024-09-22T02:19:00",
          "2024-09-22T02:24:00",
          "2024-09-22T02:29:00",
          "2024-09-22T02:34:00",
          "2024-09-22T02:39:00",
          "2024-09-22T02:44:00",
          "2024-09-22T02:49:00",
          "2024-09-22T02:54:00",
          "2024-09-22T02:59:00",
          "2024-09-22T03:04:00",
          "2024-09-22T03:09:00",
          "2024-09-22T03:14:00",
          "2024-09-22T03:19:00",
          "2024-09-22T03:24:00",
          "2024-09-22T03:29:00",
          "2024-09-22T03:34:00",
          "2024-09-22T03:39:00",
          "2024-09-22T03:44:00",
          "2024-09-22T03:49:00",
          "2024-09-22T03:54:00",
          "2024-09-22T03:59:00",
          "2024-09-22T04:04:00",
          "2024-09-22T04:09:00",
          "2024-09-22T04:14:00",
          "2024-09-22T04:19:00",
          "2024-09-22T04:24:00",
          "2024-09-22T04:29:00",
          "2024-09-22T04:34:00",
          "2024-09-22T04:39:00",
          "2024-09-22T04:44:00",
          "2024-09-22T04:49:00",
          "2024-09-22T04:54:00",
          "2024-09-22T04:59:00",
          "2024-09-22T05:04:00",
          "2024-09-22T05:09:00",
          "2024-09-22T05:14:00",
          "2024-09-22T05:19:00",
          "2024-09-22T05:24:00",
          "2024-09-22T05:29:00",
          "2024-09-22T05:34:00",
          "2024-09-22T05:39:00",
          "2024-09-22T05:44:00",
          "2024-09-22T05:49:00",
          "2024-09-22T05:54:00",
          "2024-09-22T05:59:00",
          "2024-09-22T06:04:00",
          "2024-09-22T06:09:00",
          "2024-09-22T06:14:00",
          "2024-09-22T06:19:00",
          "2024-09-22T06:24:00",
          "2024-09-22T06:29:00",
          "2024-09-22T06:34:00",
          "2024-09-22T06:39:00",
          "2024-09-22T06:44:00",
          "2024-09-22T06:49:00",
          "2024-09-22T06:54:00",
          "2024-09-22T06:59:00",
          "2024-09-22T07:04:00",
          "2024-09-22T07:09:00",
          "2024-09-22T07:14:00",
          "2024-09-22T07:19:00",
          "2024-09-22T07:24:00",
          "2024-09-22T07:29:00",
          "2024-09-22T07:34:00",
          "2024-09-22T07:39:00",
          "2024-09-22T07:44:00",
          "2024-09-22T07:49:00",
          "2024-09-22T07:54:00",
          "2024-09-22T07:59:00",
          "2024-09-22T08:04:00",
          "2024-09-22T08:09:00",
          "2024-09-22T08:14:00",
          "2024-09-22T08:19:00",
          "2024-09-22T08:24:00",
          "2024-09-22T08:29:00",
          "2024-09-22T08:34:00",
          "2024-09-22T08:39:00",
          "2024-09-22T08:44:00",
          "2024-09-22T08:49:00",
          "2024-09-22T08:54:00",
          "2024-09-22T08:59:00",
          "2024-09-22T09:04:00",
          "2024-09-22T09:09:00",
          "2024-09-22T09:14:00",
          "2024-09-22T09:19:00",
          "2024-09-22T09:24:00",
          "2024-09-22T09:29:00",
          "2024-09-22T09:34:00",
          "2024-09-22T09:39:00",
          "2024-09-22T09:44:00",
          "2024-09-22T09:49:00",
          "2024-09-22T09:54:00",
          "2024-09-22T09:59:00",
          "2024-09-22T10:04:00",
          "2024-09-22T10:09:00",
          "2024-09-22T10:14:00",
          "2024-09-22T10:19:00",
          "2024-09-22T10:24:00",
          "2024-09-22T10:29:00",
          "2024-09-22T10:34:00",
          "2024-09-22T10:39:00",
          "2024-09-22T10:44:00",
          "2024-09-22T10:49:00",
          "2024-09-22T10:54:00",
          "2024-09-22T10:59:00",
          "2024-09-22T11:04:00",
          "2024-09-22T11:09:00",
          "2024-09-22T11:14:00",
          "2024-09-22T11:19:00",
          "2024-09-22T11:24:00",
          "2024-09-22T11:29:00",
          "2024-09-22T11:34:00",
          "2024-09-22T11:39:00",
          "2024-09-22T11:44:00",
          "2024-09-22T11:49:00",
          "2024-09-22T11:54:00",
          "2024-09-22T11:59:00",
          "2024-09-22T12:04:00",
          "2024-09-22T12:09:00",
          "2024-09-22T12:14:00",
          "2024-09-22T12:19:00",
          "2024-09-22T12:24:00",
          "2024-09-22T12:29:00",
          "2024-09-22T12:34:00",
          "2024-09-22T12:39:00",
          "2024-09-22T12:44:00",
          "2024-09-22T12:49:00",
          "2024-09-22T12:54:00",
          "2024-09-22T12:59:00",
          "2024-09-22T13:04:00",
          "2024-09-22T13:09:00",
          "2024-09-22T13:14:00",
          "2024-09-22T13:19:00",
          "2024-09-22T13:24:00",
          "2024-09-22T13:29:00",
          "2024-09-22T13:34:00"
         ],
         "xaxis": "x",
         "y": [
          30.09,
          30.08,
          30.09,
          30.1,
          30.1,
          30.09,
          30.08,
          30.09,
          30.09,
          30.08,
          30.08,
          30.1,
          30.11,
          30.12,
          30.12,
          30.11,
          30.11,
          30.1,
          30.1,
          30.09,
          30.09,
          30.09,
          30.09,
          30.09,
          30.09,
          30.09,
          30.1,
          30.1,
          30.09,
          30.09,
          30.08,
          30.07,
          30.06,
          30.06,
          30.06,
          30.06,
          30.05,
          30.04,
          30.03,
          30.02,
          30.01,
          30.01,
          30.03,
          30.04,
          30.05,
          30.04,
          30.04,
          30.04,
          30.04,
          30.04,
          30.03,
          30.03,
          30.03,
          30.03,
          30.04,
          30.04,
          30.03,
          30.02,
          30.03,
          30.03,
          30.04,
          30.04,
          30.04,
          30.05,
          30.06,
          30.07,
          30.08,
          30.08,
          30.09,
          30.09,
          30.09,
          30.09,
          30.09,
          30.1,
          30.1,
          30.1,
          30.1,
          30.1,
          30.11,
          30.11,
          30.11,
          30.12,
          30.11,
          30.11,
          30.11,
          30.11,
          30.11,
          30.1,
          30.11,
          30.11,
          30.11,
          30.11,
          30.11,
          30.11,
          30.11,
          30.11,
          30.11,
          30.12,
          30.12,
          30.12,
          30.12,
          30.12,
          30.13,
          30.13,
          30.14,
          30.14,
          30.13,
          30.12,
          30.12,
          30.13,
          30.12,
          30.12,
          30.12,
          30.13,
          30.13,
          30.14,
          30.14,
          30.14,
          30.14,
          30.14,
          30.14,
          30.14,
          30.14,
          30.15,
          30.15,
          30.15,
          30.15,
          30.15,
          30.15,
          30.15,
          30.15,
          30.15,
          30.15,
          30.15,
          30.15,
          30.15,
          30.16,
          30.16,
          30.16,
          30.16,
          30.16,
          30.16,
          30.16,
          30.16,
          30.17,
          30.16,
          30.17,
          30.17,
          30.17,
          30.17,
          30.17,
          30.17,
          30.17,
          30.17,
          30.17,
          30.17,
          30.17,
          30.17,
          30.17,
          30.17,
          30.17,
          30.17,
          30.17
         ],
         "yaxis": "y"
        }
       ],
       "layout": {
        "autosize": true,
        "legend": {
         "tracegroupgap": 0
        },
        "margin": {
         "t": 60
        },
        "template": {
         "data": {
          "bar": [
           {
            "error_x": {
             "color": "#2a3f5f"
            },
            "error_y": {
             "color": "#2a3f5f"
            },
            "marker": {
             "line": {
              "color": "#E5ECF6",
              "width": 0.5
             },
             "pattern": {
              "fillmode": "overlay",
              "size": 10,
              "solidity": 0.2
             }
            },
            "type": "bar"
           }
          ],
          "barpolar": [
           {
            "marker": {
             "line": {
              "color": "#E5ECF6",
              "width": 0.5
             },
             "pattern": {
              "fillmode": "overlay",
              "size": 10,
              "solidity": 0.2
             }
            },
            "type": "barpolar"
           }
          ],
          "carpet": [
           {
            "aaxis": {
             "endlinecolor": "#2a3f5f",
             "gridcolor": "white",
             "linecolor": "white",
             "minorgridcolor": "white",
             "startlinecolor": "#2a3f5f"
            },
            "baxis": {
             "endlinecolor": "#2a3f5f",
             "gridcolor": "white",
             "linecolor": "white",
             "minorgridcolor": "white",
             "startlinecolor": "#2a3f5f"
            },
            "type": "carpet"
           }
          ],
          "choropleth": [
           {
            "colorbar": {
             "outlinewidth": 0,
             "ticks": ""
            },
            "type": "choropleth"
           }
          ],
          "contour": [
           {
            "colorbar": {
             "outlinewidth": 0,
             "ticks": ""
            },
            "colorscale": [
             [
              0,
              "#0d0887"
             ],
             [
              0.1111111111111111,
              "#46039f"
             ],
             [
              0.2222222222222222,
              "#7201a8"
             ],
             [
              0.3333333333333333,
              "#9c179e"
             ],
             [
              0.4444444444444444,
              "#bd3786"
             ],
             [
              0.5555555555555556,
              "#d8576b"
             ],
             [
              0.6666666666666666,
              "#ed7953"
             ],
             [
              0.7777777777777778,
              "#fb9f3a"
             ],
             [
              0.8888888888888888,
              "#fdca26"
             ],
             [
              1,
              "#f0f921"
             ]
            ],
            "type": "contour"
           }
          ],
          "contourcarpet": [
           {
            "colorbar": {
             "outlinewidth": 0,
             "ticks": ""
            },
            "type": "contourcarpet"
           }
          ],
          "heatmap": [
           {
            "colorbar": {
             "outlinewidth": 0,
             "ticks": ""
            },
            "colorscale": [
             [
              0,
              "#0d0887"
             ],
             [
              0.1111111111111111,
              "#46039f"
             ],
             [
              0.2222222222222222,
              "#7201a8"
             ],
             [
              0.3333333333333333,
              "#9c179e"
             ],
             [
              0.4444444444444444,
              "#bd3786"
             ],
             [
              0.5555555555555556,
              "#d8576b"
             ],
             [
              0.6666666666666666,
              "#ed7953"
             ],
             [
              0.7777777777777778,
              "#fb9f3a"
             ],
             [
              0.8888888888888888,
              "#fdca26"
             ],
             [
              1,
              "#f0f921"
             ]
            ],
            "type": "heatmap"
           }
          ],
          "heatmapgl": [
           {
            "colorbar": {
             "outlinewidth": 0,
             "ticks": ""
            },
            "colorscale": [
             [
              0,
              "#0d0887"
             ],
             [
              0.1111111111111111,
              "#46039f"
             ],
             [
              0.2222222222222222,
              "#7201a8"
             ],
             [
              0.3333333333333333,
              "#9c179e"
             ],
             [
              0.4444444444444444,
              "#bd3786"
             ],
             [
              0.5555555555555556,
              "#d8576b"
             ],
             [
              0.6666666666666666,
              "#ed7953"
             ],
             [
              0.7777777777777778,
              "#fb9f3a"
             ],
             [
              0.8888888888888888,
              "#fdca26"
             ],
             [
              1,
              "#f0f921"
             ]
            ],
            "type": "heatmapgl"
           }
          ],
          "histogram": [
           {
            "marker": {
             "pattern": {
              "fillmode": "overlay",
              "size": 10,
              "solidity": 0.2
             }
            },
            "type": "histogram"
           }
          ],
          "histogram2d": [
           {
            "colorbar": {
             "outlinewidth": 0,
             "ticks": ""
            },
            "colorscale": [
             [
              0,
              "#0d0887"
             ],
             [
              0.1111111111111111,
              "#46039f"
             ],
             [
              0.2222222222222222,
              "#7201a8"
             ],
             [
              0.3333333333333333,
              "#9c179e"
             ],
             [
              0.4444444444444444,
              "#bd3786"
             ],
             [
              0.5555555555555556,
              "#d8576b"
             ],
             [
              0.6666666666666666,
              "#ed7953"
             ],
             [
              0.7777777777777778,
              "#fb9f3a"
             ],
             [
              0.8888888888888888,
              "#fdca26"
             ],
             [
              1,
              "#f0f921"
             ]
            ],
            "type": "histogram2d"
           }
          ],
          "histogram2dcontour": [
           {
            "colorbar": {
             "outlinewidth": 0,
             "ticks": ""
            },
            "colorscale": [
             [
              0,
              "#0d0887"
             ],
             [
              0.1111111111111111,
              "#46039f"
             ],
             [
              0.2222222222222222,
              "#7201a8"
             ],
             [
              0.3333333333333333,
              "#9c179e"
             ],
             [
              0.4444444444444444,
              "#bd3786"
             ],
             [
              0.5555555555555556,
              "#d8576b"
             ],
             [
              0.6666666666666666,
              "#ed7953"
             ],
             [
              0.7777777777777778,
              "#fb9f3a"
             ],
             [
              0.8888888888888888,
              "#fdca26"
             ],
             [
              1,
              "#f0f921"
             ]
            ],
            "type": "histogram2dcontour"
           }
          ],
          "mesh3d": [
           {
            "colorbar": {
             "outlinewidth": 0,
             "ticks": ""
            },
            "type": "mesh3d"
           }
          ],
          "parcoords": [
           {
            "line": {
             "colorbar": {
              "outlinewidth": 0,
              "ticks": ""
             }
            },
            "type": "parcoords"
           }
          ],
          "pie": [
           {
            "automargin": true,
            "type": "pie"
           }
          ],
          "scatter": [
           {
            "fillpattern": {
             "fillmode": "overlay",
             "size": 10,
             "solidity": 0.2
            },
            "type": "scatter"
           }
          ],
          "scatter3d": [
           {
            "line": {
             "colorbar": {
              "outlinewidth": 0,
              "ticks": ""
             }
            },
            "marker": {
             "colorbar": {
              "outlinewidth": 0,
              "ticks": ""
             }
            },
            "type": "scatter3d"
           }
          ],
          "scattercarpet": [
           {
            "marker": {
             "colorbar": {
              "outlinewidth": 0,
              "ticks": ""
             }
            },
            "type": "scattercarpet"
           }
          ],
          "scattergeo": [
           {
            "marker": {
             "colorbar": {
              "outlinewidth": 0,
              "ticks": ""
             }
            },
            "type": "scattergeo"
           }
          ],
          "scattergl": [
           {
            "marker": {
             "colorbar": {
              "outlinewidth": 0,
              "ticks": ""
             }
            },
            "type": "scattergl"
           }
          ],
          "scattermapbox": [
           {
            "marker": {
             "colorbar": {
              "outlinewidth": 0,
              "ticks": ""
             }
            },
            "type": "scattermapbox"
           }
          ],
          "scatterpolar": [
           {
            "marker": {
             "colorbar": {
              "outlinewidth": 0,
              "ticks": ""
             }
            },
            "type": "scatterpolar"
           }
          ],
          "scatterpolargl": [
           {
            "marker": {
             "colorbar": {
              "outlinewidth": 0,
              "ticks": ""
             }
            },
            "type": "scatterpolargl"
           }
          ],
          "scatterternary": [
           {
            "marker": {
             "colorbar": {
              "outlinewidth": 0,
              "ticks": ""
             }
            },
            "type": "scatterternary"
           }
          ],
          "surface": [
           {
            "colorbar": {
             "outlinewidth": 0,
             "ticks": ""
            },
            "colorscale": [
             [
              0,
              "#0d0887"
             ],
             [
              0.1111111111111111,
              "#46039f"
             ],
             [
              0.2222222222222222,
              "#7201a8"
             ],
             [
              0.3333333333333333,
              "#9c179e"
             ],
             [
              0.4444444444444444,
              "#bd3786"
             ],
             [
              0.5555555555555556,
              "#d8576b"
             ],
             [
              0.6666666666666666,
              "#ed7953"
             ],
             [
              0.7777777777777778,
              "#fb9f3a"
             ],
             [
              0.8888888888888888,
              "#fdca26"
             ],
             [
              1,
              "#f0f921"
             ]
            ],
            "type": "surface"
           }
          ],
          "table": [
           {
            "cells": {
             "fill": {
              "color": "#EBF0F8"
             },
             "line": {
              "color": "white"
             }
            },
            "header": {
             "fill": {
              "color": "#C8D4E3"
             },
             "line": {
              "color": "white"
             }
            },
            "type": "table"
           }
          ]
         },
         "layout": {
          "annotationdefaults": {
           "arrowcolor": "#2a3f5f",
           "arrowhead": 0,
           "arrowwidth": 1
          },
          "autotypenumbers": "strict",
          "coloraxis": {
           "colorbar": {
            "outlinewidth": 0,
            "ticks": ""
           }
          },
          "colorscale": {
           "diverging": [
            [
             0,
             "#8e0152"
            ],
            [
             0.1,
             "#c51b7d"
            ],
            [
             0.2,
             "#de77ae"
            ],
            [
             0.3,
             "#f1b6da"
            ],
            [
             0.4,
             "#fde0ef"
            ],
            [
             0.5,
             "#f7f7f7"
            ],
            [
             0.6,
             "#e6f5d0"
            ],
            [
             0.7,
             "#b8e186"
            ],
            [
             0.8,
             "#7fbc41"
            ],
            [
             0.9,
             "#4d9221"
            ],
            [
             1,
             "#276419"
            ]
           ],
           "sequential": [
            [
             0,
             "#0d0887"
            ],
            [
             0.1111111111111111,
             "#46039f"
            ],
            [
             0.2222222222222222,
             "#7201a8"
            ],
            [
             0.3333333333333333,
             "#9c179e"
            ],
            [
             0.4444444444444444,
             "#bd3786"
            ],
            [
             0.5555555555555556,
             "#d8576b"
            ],
            [
             0.6666666666666666,
             "#ed7953"
            ],
            [
             0.7777777777777778,
             "#fb9f3a"
            ],
            [
             0.8888888888888888,
             "#fdca26"
            ],
            [
             1,
             "#f0f921"
            ]
           ],
           "sequentialminus": [
            [
             0,
             "#0d0887"
            ],
            [
             0.1111111111111111,
             "#46039f"
            ],
            [
             0.2222222222222222,
             "#7201a8"
            ],
            [
             0.3333333333333333,
             "#9c179e"
            ],
            [
             0.4444444444444444,
             "#bd3786"
            ],
            [
             0.5555555555555556,
             "#d8576b"
            ],
            [
             0.6666666666666666,
             "#ed7953"
            ],
            [
             0.7777777777777778,
             "#fb9f3a"
            ],
            [
             0.8888888888888888,
             "#fdca26"
            ],
            [
             1,
             "#f0f921"
            ]
           ]
          },
          "colorway": [
           "#636efa",
           "#EF553B",
           "#00cc96",
           "#ab63fa",
           "#FFA15A",
           "#19d3f3",
           "#FF6692",
           "#B6E880",
           "#FF97FF",
           "#FECB52"
          ],
          "font": {
           "color": "#2a3f5f"
          },
          "geo": {
           "bgcolor": "white",
           "lakecolor": "white",
           "landcolor": "#E5ECF6",
           "showlakes": true,
           "showland": true,
           "subunitcolor": "white"
          },
          "hoverlabel": {
           "align": "left"
          },
          "hovermode": "closest",
          "mapbox": {
           "style": "light"
          },
          "paper_bgcolor": "white",
          "plot_bgcolor": "#E5ECF6",
          "polar": {
           "angularaxis": {
            "gridcolor": "white",
            "linecolor": "white",
            "ticks": ""
           },
           "bgcolor": "#E5ECF6",
           "radialaxis": {
            "gridcolor": "white",
            "linecolor": "white",
            "ticks": ""
           }
          },
          "scene": {
           "xaxis": {
            "backgroundcolor": "#E5ECF6",
            "gridcolor": "white",
            "gridwidth": 2,
            "linecolor": "white",
            "showbackground": true,
            "ticks": "",
            "zerolinecolor": "white"
           },
           "yaxis": {
            "backgroundcolor": "#E5ECF6",
            "gridcolor": "white",
            "gridwidth": 2,
            "linecolor": "white",
            "showbackground": true,
            "ticks": "",
            "zerolinecolor": "white"
           },
           "zaxis": {
            "backgroundcolor": "#E5ECF6",
            "gridcolor": "white",
            "gridwidth": 2,
            "linecolor": "white",
            "showbackground": true,
            "ticks": "",
            "zerolinecolor": "white"
           }
          },
          "shapedefaults": {
           "line": {
            "color": "#2a3f5f"
           }
          },
          "ternary": {
           "aaxis": {
            "gridcolor": "white",
            "linecolor": "white",
            "ticks": ""
           },
           "baxis": {
            "gridcolor": "white",
            "linecolor": "white",
            "ticks": ""
           },
           "bgcolor": "#E5ECF6",
           "caxis": {
            "gridcolor": "white",
            "linecolor": "white",
            "ticks": ""
           }
          },
          "title": {
           "x": 0.05
          },
          "xaxis": {
           "automargin": true,
           "gridcolor": "white",
           "linecolor": "white",
           "ticks": "",
           "title": {
            "standoff": 15
           },
           "zerolinecolor": "white",
           "zerolinewidth": 2
          },
          "yaxis": {
           "automargin": true,
           "gridcolor": "white",
           "linecolor": "white",
           "ticks": "",
           "title": {
            "standoff": 15
           },
           "zerolinecolor": "white",
           "zerolinewidth": 2
          }
         }
        },
        "xaxis": {
         "anchor": "y",
         "autorange": true,
         "domain": [
          0,
          1
         ],
         "range": [
          "2024-09-22 00:04",
          "2024-09-22 13:34"
         ],
         "title": {
          "text": "Timestamp"
         },
         "type": "date"
        },
        "yaxis": {
         "anchor": "x",
         "autorange": true,
         "domain": [
          0,
          1
         ],
         "range": [
          30.00111111111111,
          30.178888888888892
         ],
         "title": {
          "text": "Pressure"
         },
         "type": "linear"
        }
       }
      },
      "image/png": "[encoded data removed]",
      "text/html": [
       "<div>                            <div id=\"ad85a870-6612-40f1-bf6a-5c834dbfb87d\" class=\"plotly-graph-div\" style=\"height:525px; width:100%;\"></div>            <script type=\"text/javascript\">                require([\"plotly\"], function(Plotly) {                    window.PLOTLYENV=window.PLOTLYENV || {};                                    if (document.getElementById(\"ad85a870-6612-40f1-bf6a-5c834dbfb87d\")) {                    Plotly.newPlot(                        \"ad85a870-6612-40f1-bf6a-5c834dbfb87d\",                        [{\"hovertemplate\":\"Timestamp=%{x}\\u003cbr\\u003ePressure=%{y}\\u003cextra\\u003e\\u003c\\u002fextra\\u003e\",\"legendgroup\":\"\",\"line\":{\"color\":\"#636efa\",\"dash\":\"solid\"},\"marker\":{\"symbol\":\"circle\"},\"mode\":\"lines\",\"name\":\"\",\"orientation\":\"v\",\"showlegend\":false,\"x\":[\"2024-09-22T00:04:00\",\"2024-09-22T00:09:00\",\"2024-09-22T00:14:00\",\"2024-09-22T00:19:00\",\"2024-09-22T00:24:00\",\"2024-09-22T00:29:00\",\"2024-09-22T00:34:00\",\"2024-09-22T00:39:00\",\"2024-09-22T00:44:00\",\"2024-09-22T00:49:00\",\"2024-09-22T00:54:00\",\"2024-09-22T00:59:00\",\"2024-09-22T01:04:00\",\"2024-09-22T01:09:00\",\"2024-09-22T01:14:00\",\"2024-09-22T01:19:00\",\"2024-09-22T01:24:00\",\"2024-09-22T01:29:00\",\"2024-09-22T01:34:00\",\"2024-09-22T01:39:00\",\"2024-09-22T01:44:00\",\"2024-09-22T01:49:00\",\"2024-09-22T01:54:00\",\"2024-09-22T01:59:00\",\"2024-09-22T02:04:00\",\"2024-09-22T02:09:00\",\"2024-09-22T02:14:00\",\"2024-09-22T02:19:00\",\"2024-09-22T02:24:00\",\"2024-09-22T02:29:00\",\"2024-09-22T02:34:00\",\"2024-09-22T02:39:00\",\"2024-09-22T02:44:00\",\"2024-09-22T02:49:00\",\"2024-09-22T02:54:00\",\"2024-09-22T02:59:00\",\"2024-09-22T03:04:00\",\"2024-09-22T03:09:00\",\"2024-09-22T03:14:00\",\"2024-09-22T03:19:00\",\"2024-09-22T03:24:00\",\"2024-09-22T03:29:00\",\"2024-09-22T03:34:00\",\"2024-09-22T03:39:00\",\"2024-09-22T03:44:00\",\"2024-09-22T03:49:00\",\"2024-09-22T03:54:00\",\"2024-09-22T03:59:00\",\"2024-09-22T04:04:00\",\"2024-09-22T04:09:00\",\"2024-09-22T04:14:00\",\"2024-09-22T04:19:00\",\"2024-09-22T04:24:00\",\"2024-09-22T04:29:00\",\"2024-09-22T04:34:00\",\"2024-09-22T04:39:00\",\"2024-09-22T04:44:00\",\"2024-09-22T04:49:00\",\"2024-09-22T04:54:00\",\"2024-09-22T04:59:00\",\"2024-09-22T05:04:00\",\"2024-09-22T05:09:00\",\"2024-09-22T05:14:00\",\"2024-09-22T05:19:00\",\"2024-09-22T05:24:00\",\"2024-09-22T05:29:00\",\"2024-09-22T05:34:00\",\"2024-09-22T05:39:00\",\"2024-09-22T05:44:00\",\"2024-09-22T05:49:00\",\"2024-09-22T05:54:00\",\"2024-09-22T05:59:00\",\"2024-09-22T06:04:00\",\"2024-09-22T06:09:00\",\"2024-09-22T06:14:00\",\"2024-09-22T06:19:00\",\"2024-09-22T06:24:00\",\"2024-09-22T06:29:00\",\"2024-09-22T06:34:00\",\"2024-09-22T06:39:00\",\"2024-09-22T06:44:00\",\"2024-09-22T06:49:00\",\"2024-09-22T06:54:00\",\"2024-09-22T06:59:00\",\"2024-09-22T07:04:00\",\"2024-09-22T07:09:00\",\"2024-09-22T07:14:00\",\"2024-09-22T07:19:00\",\"2024-09-22T07:24:00\",\"2024-09-22T07:29:00\",\"2024-09-22T07:34:00\",\"2024-09-22T07:39:00\",\"2024-09-22T07:44:00\",\"2024-09-22T07:49:00\",\"2024-09-22T07:54:00\",\"2024-09-22T07:59:00\",\"2024-09-22T08:04:00\",\"2024-09-22T08:09:00\",\"2024-09-22T08:14:00\",\"2024-09-22T08:19:00\",\"2024-09-22T08:24:00\",\"2024-09-22T08:29:00\",\"2024-09-22T08:34:00\",\"2024-09-22T08:39:00\",\"2024-09-22T08:44:00\",\"2024-09-22T08:49:00\",\"2024-09-22T08:54:00\",\"2024-09-22T08:59:00\",\"2024-09-22T09:04:00\",\"2024-09-22T09:09:00\",\"2024-09-22T09:14:00\",\"2024-09-22T09:19:00\",\"2024-09-22T09:24:00\",\"2024-09-22T09:29:00\",\"2024-09-22T09:34:00\",\"2024-09-22T09:39:00\",\"2024-09-22T09:44:00\",\"2024-09-22T09:49:00\",\"2024-09-22T09:54:00\",\"2024-09-22T09:59:00\",\"2024-09-22T10:04:00\",\"2024-09-22T10:09:00\",\"2024-09-22T10:14:00\",\"2024-09-22T10:19:00\",\"2024-09-22T10:24:00\",\"2024-09-22T10:29:00\",\"2024-09-22T10:34:00\",\"2024-09-22T10:39:00\",\"2024-09-22T10:44:00\",\"2024-09-22T10:49:00\",\"2024-09-22T10:54:00\",\"2024-09-22T10:59:00\",\"2024-09-22T11:04:00\",\"2024-09-22T11:09:00\",\"2024-09-22T11:14:00\",\"2024-09-22T11:19:00\",\"2024-09-22T11:24:00\",\"2024-09-22T11:29:00\",\"2024-09-22T11:34:00\",\"2024-09-22T11:39:00\",\"2024-09-22T11:44:00\",\"2024-09-22T11:49:00\",\"2024-09-22T11:54:00\",\"2024-09-22T11:59:00\",\"2024-09-22T12:04:00\",\"2024-09-22T12:09:00\",\"2024-09-22T12:14:00\",\"2024-09-22T12:19:00\",\"2024-09-22T12:24:00\",\"2024-09-22T12:29:00\",\"2024-09-22T12:34:00\",\"2024-09-22T12:39:00\",\"2024-09-22T12:44:00\",\"2024-09-22T12:49:00\",\"2024-09-22T12:54:00\",\"2024-09-22T12:59:00\",\"2024-09-22T13:04:00\",\"2024-09-22T13:09:00\",\"2024-09-22T13:14:00\",\"2024-09-22T13:19:00\",\"2024-09-22T13:24:00\",\"2024-09-22T13:29:00\",\"2024-09-22T13:34:00\"],\"xaxis\":\"x\",\"y\":[30.09,30.08,30.09,30.1,30.1,30.09,30.08,30.09,30.09,30.08,30.08,30.1,30.11,30.12,30.12,30.11,30.11,30.1,30.1,30.09,30.09,30.09,30.09,30.09,30.09,30.09,30.1,30.1,30.09,30.09,30.08,30.07,30.06,30.06,30.06,30.06,30.05,30.04,30.03,30.02,30.01,30.01,30.03,30.04,30.05,30.04,30.04,30.04,30.04,30.04,30.03,30.03,30.03,30.03,30.04,30.04,30.03,30.02,30.03,30.03,30.04,30.04,30.04,30.05,30.06,30.07,30.08,30.08,30.09,30.09,30.09,30.09,30.09,30.1,30.1,30.1,30.1,30.1,30.11,30.11,30.11,30.12,30.11,30.11,30.11,30.11,30.11,30.1,30.11,30.11,30.11,30.11,30.11,30.11,30.11,30.11,30.11,30.12,30.12,30.12,30.12,30.12,30.13,30.13,30.14,30.14,30.13,30.12,30.12,30.13,30.12,30.12,30.12,30.13,30.13,30.14,30.14,30.14,30.14,30.14,30.14,30.14,30.14,30.15,30.15,30.15,30.15,30.15,30.15,30.15,30.15,30.15,30.15,30.15,30.15,30.15,30.16,30.16,30.16,30.16,30.16,30.16,30.16,30.16,30.17,30.16,30.17,30.17,30.17,30.17,30.17,30.17,30.17,30.17,30.17,30.17,30.17,30.17,30.17,30.17,30.17,30.17,30.17],\"yaxis\":\"y\",\"type\":\"scatter\"}],                        {\"template\":{\"data\":{\"histogram2dcontour\":[{\"type\":\"histogram2dcontour\",\"colorbar\":{\"outlinewidth\":0,\"ticks\":\"\"},\"colorscale\":[[0.0,\"#0d0887\"],[0.1111111111111111,\"#46039f\"],[0.2222222222222222,\"#7201a8\"],[0.3333333333333333,\"#9c179e\"],[0.4444444444444444,\"#bd3786\"],[0.5555555555555556,\"#d8576b\"],[0.6666666666666666,\"#ed7953\"],[0.7777777777777778,\"#fb9f3a\"],[0.8888888888888888,\"#fdca26\"],[1.0,\"#f0f921\"]]}],\"choropleth\":[{\"type\":\"choropleth\",\"colorbar\":{\"outlinewidth\":0,\"ticks\":\"\"}}],\"histogram2d\":[{\"type\":\"histogram2d\",\"colorbar\":{\"outlinewidth\":0,\"ticks\":\"\"},\"colorscale\":[[0.0,\"#0d0887\"],[0.1111111111111111,\"#46039f\"],[0.2222222222222222,\"#7201a8\"],[0.3333333333333333,\"#9c179e\"],[0.4444444444444444,\"#bd3786\"],[0.5555555555555556,\"#d8576b\"],[0.6666666666666666,\"#ed7953\"],[0.7777777777777778,\"#fb9f3a\"],[0.8888888888888888,\"#fdca26\"],[1.0,\"#f0f921\"]]}],\"heatmap\":[{\"type\":\"heatmap\",\"colorbar\":{\"outlinewidth\":0,\"ticks\":\"\"},\"colorscale\":[[0.0,\"#0d0887\"],[0.1111111111111111,\"#46039f\"],[0.2222222222222222,\"#7201a8\"],[0.3333333333333333,\"#9c179e\"],[0.4444444444444444,\"#bd3786\"],[0.5555555555555556,\"#d8576b\"],[0.6666666666666666,\"#ed7953\"],[0.7777777777777778,\"#fb9f3a\"],[0.8888888888888888,\"#fdca26\"],[1.0,\"#f0f921\"]]}],\"heatmapgl\":[{\"type\":\"heatmapgl\",\"colorbar\":{\"outlinewidth\":0,\"ticks\":\"\"},\"colorscale\":[[0.0,\"#0d0887\"],[0.1111111111111111,\"#46039f\"],[0.2222222222222222,\"#7201a8\"],[0.3333333333333333,\"#9c179e\"],[0.4444444444444444,\"#bd3786\"],[0.5555555555555556,\"#d8576b\"],[0.6666666666666666,\"#ed7953\"],[0.7777777777777778,\"#fb9f3a\"],[0.8888888888888888,\"#fdca26\"],[1.0,\"#f0f921\"]]}],\"contourcarpet\":[{\"type\":\"contourcarpet\",\"colorbar\":{\"outlinewidth\":0,\"ticks\":\"\"}}],\"contour\":[{\"type\":\"contour\",\"colorbar\":{\"outlinewidth\":0,\"ticks\":\"\"},\"colorscale\":[[0.0,\"#0d0887\"],[0.1111111111111111,\"#46039f\"],[0.2222222222222222,\"#7201a8\"],[0.3333333333333333,\"#9c179e\"],[0.4444444444444444,\"#bd3786\"],[0.5555555555555556,\"#d8576b\"],[0.6666666666666666,\"#ed7953\"],[0.7777777777777778,\"#fb9f3a\"],[0.8888888888888888,\"#fdca26\"],[1.0,\"#f0f921\"]]}],\"surface\":[{\"type\":\"surface\",\"colorbar\":{\"outlinewidth\":0,\"ticks\":\"\"},\"colorscale\":[[0.0,\"#0d0887\"],[0.1111111111111111,\"#46039f\"],[0.2222222222222222,\"#7201a8\"],[0.3333333333333333,\"#9c179e\"],[0.4444444444444444,\"#bd3786\"],[0.5555555555555556,\"#d8576b\"],[0.6666666666666666,\"#ed7953\"],[0.7777777777777778,\"#fb9f3a\"],[0.8888888888888888,\"#fdca26\"],[1.0,\"#f0f921\"]]}],\"mesh3d\":[{\"type\":\"mesh3d\",\"colorbar\":{\"outlinewidth\":0,\"ticks\":\"\"}}],\"scatter\":[{\"fillpattern\":{\"fillmode\":\"overlay\",\"size\":10,\"solidity\":0.2},\"type\":\"scatter\"}],\"parcoords\":[{\"type\":\"parcoords\",\"line\":{\"colorbar\":{\"outlinewidth\":0,\"ticks\":\"\"}}}],\"scatterpolargl\":[{\"type\":\"scatterpolargl\",\"marker\":{\"colorbar\":{\"outlinewidth\":0,\"ticks\":\"\"}}}],\"bar\":[{\"error_x\":{\"color\":\"#2a3f5f\"},\"error_y\":{\"color\":\"#2a3f5f\"},\"marker\":{\"line\":{\"color\":\"#E5ECF6\",\"width\":0.5},\"pattern\":{\"fillmode\":\"overlay\",\"size\":10,\"solidity\":0.2}},\"type\":\"bar\"}],\"scattergeo\":[{\"type\":\"scattergeo\",\"marker\":{\"colorbar\":{\"outlinewidth\":0,\"ticks\":\"\"}}}],\"scatterpolar\":[{\"type\":\"scatterpolar\",\"marker\":{\"colorbar\":{\"outlinewidth\":0,\"ticks\":\"\"}}}],\"histogram\":[{\"marker\":{\"pattern\":{\"fillmode\":\"overlay\",\"size\":10,\"solidity\":0.2}},\"type\":\"histogram\"}],\"scattergl\":[{\"type\":\"scattergl\",\"marker\":{\"colorbar\":{\"outlinewidth\":0,\"ticks\":\"\"}}}],\"scatter3d\":[{\"type\":\"scatter3d\",\"line\":{\"colorbar\":{\"outlinewidth\":0,\"ticks\":\"\"}},\"marker\":{\"colorbar\":{\"outlinewidth\":0,\"ticks\":\"\"}}}],\"scattermapbox\":[{\"type\":\"scattermapbox\",\"marker\":{\"colorbar\":{\"outlinewidth\":0,\"ticks\":\"\"}}}],\"scatterternary\":[{\"type\":\"scatterternary\",\"marker\":{\"colorbar\":{\"outlinewidth\":0,\"ticks\":\"\"}}}],\"scattercarpet\":[{\"type\":\"scattercarpet\",\"marker\":{\"colorbar\":{\"outlinewidth\":0,\"ticks\":\"\"}}}],\"carpet\":[{\"aaxis\":{\"endlinecolor\":\"#2a3f5f\",\"gridcolor\":\"white\",\"linecolor\":\"white\",\"minorgridcolor\":\"white\",\"startlinecolor\":\"#2a3f5f\"},\"baxis\":{\"endlinecolor\":\"#2a3f5f\",\"gridcolor\":\"white\",\"linecolor\":\"white\",\"minorgridcolor\":\"white\",\"startlinecolor\":\"#2a3f5f\"},\"type\":\"carpet\"}],\"table\":[{\"cells\":{\"fill\":{\"color\":\"#EBF0F8\"},\"line\":{\"color\":\"white\"}},\"header\":{\"fill\":{\"color\":\"#C8D4E3\"},\"line\":{\"color\":\"white\"}},\"type\":\"table\"}],\"barpolar\":[{\"marker\":{\"line\":{\"color\":\"#E5ECF6\",\"width\":0.5},\"pattern\":{\"fillmode\":\"overlay\",\"size\":10,\"solidity\":0.2}},\"type\":\"barpolar\"}],\"pie\":[{\"automargin\":true,\"type\":\"pie\"}]},\"layout\":{\"autotypenumbers\":\"strict\",\"colorway\":[\"#636efa\",\"#EF553B\",\"#00cc96\",\"#ab63fa\",\"#FFA15A\",\"#19d3f3\",\"#FF6692\",\"#B6E880\",\"#FF97FF\",\"#FECB52\"],\"font\":{\"color\":\"#2a3f5f\"},\"hovermode\":\"closest\",\"hoverlabel\":{\"align\":\"left\"},\"paper_bgcolor\":\"white\",\"plot_bgcolor\":\"#E5ECF6\",\"polar\":{\"bgcolor\":\"#E5ECF6\",\"angularaxis\":{\"gridcolor\":\"white\",\"linecolor\":\"white\",\"ticks\":\"\"},\"radialaxis\":{\"gridcolor\":\"white\",\"linecolor\":\"white\",\"ticks\":\"\"}},\"ternary\":{\"bgcolor\":\"#E5ECF6\",\"aaxis\":{\"gridcolor\":\"white\",\"linecolor\":\"white\",\"ticks\":\"\"},\"baxis\":{\"gridcolor\":\"white\",\"linecolor\":\"white\",\"ticks\":\"\"},\"caxis\":{\"gridcolor\":\"white\",\"linecolor\":\"white\",\"ticks\":\"\"}},\"coloraxis\":{\"colorbar\":{\"outlinewidth\":0,\"ticks\":\"\"}},\"colorscale\":{\"sequential\":[[0.0,\"#0d0887\"],[0.1111111111111111,\"#46039f\"],[0.2222222222222222,\"#7201a8\"],[0.3333333333333333,\"#9c179e\"],[0.4444444444444444,\"#bd3786\"],[0.5555555555555556,\"#d8576b\"],[0.6666666666666666,\"#ed7953\"],[0.7777777777777778,\"#fb9f3a\"],[0.8888888888888888,\"#fdca26\"],[1.0,\"#f0f921\"]],\"sequentialminus\":[[0.0,\"#0d0887\"],[0.1111111111111111,\"#46039f\"],[0.2222222222222222,\"#7201a8\"],[0.3333333333333333,\"#9c179e\"],[0.4444444444444444,\"#bd3786\"],[0.5555555555555556,\"#d8576b\"],[0.6666666666666666,\"#ed7953\"],[0.7777777777777778,\"#fb9f3a\"],[0.8888888888888888,\"#fdca26\"],[1.0,\"#f0f921\"]],\"diverging\":[[0,\"#8e0152\"],[0.1,\"#c51b7d\"],[0.2,\"#de77ae\"],[0.3,\"#f1b6da\"],[0.4,\"#fde0ef\"],[0.5,\"#f7f7f7\"],[0.6,\"#e6f5d0\"],[0.7,\"#b8e186\"],[0.8,\"#7fbc41\"],[0.9,\"#4d9221\"],[1,\"#276419\"]]},\"xaxis\":{\"gridcolor\":\"white\",\"linecolor\":\"white\",\"ticks\":\"\",\"title\":{\"standoff\":15},\"zerolinecolor\":\"white\",\"automargin\":true,\"zerolinewidth\":2},\"yaxis\":{\"gridcolor\":\"white\",\"linecolor\":\"white\",\"ticks\":\"\",\"title\":{\"standoff\":15},\"zerolinecolor\":\"white\",\"automargin\":true,\"zerolinewidth\":2},\"scene\":{\"xaxis\":{\"backgroundcolor\":\"#E5ECF6\",\"gridcolor\":\"white\",\"linecolor\":\"white\",\"showbackground\":true,\"ticks\":\"\",\"zerolinecolor\":\"white\",\"gridwidth\":2},\"yaxis\":{\"backgroundcolor\":\"#E5ECF6\",\"gridcolor\":\"white\",\"linecolor\":\"white\",\"showbackground\":true,\"ticks\":\"\",\"zerolinecolor\":\"white\",\"gridwidth\":2},\"zaxis\":{\"backgroundcolor\":\"#E5ECF6\",\"gridcolor\":\"white\",\"linecolor\":\"white\",\"showbackground\":true,\"ticks\":\"\",\"zerolinecolor\":\"white\",\"gridwidth\":2}},\"shapedefaults\":{\"line\":{\"color\":\"#2a3f5f\"}},\"annotationdefaults\":{\"arrowcolor\":\"#2a3f5f\",\"arrowhead\":0,\"arrowwidth\":1},\"geo\":{\"bgcolor\":\"white\",\"landcolor\":\"#E5ECF6\",\"subunitcolor\":\"white\",\"showland\":true,\"showlakes\":true,\"lakecolor\":\"white\"},\"title\":{\"x\":0.05},\"mapbox\":{\"style\":\"light\"}}},\"xaxis\":{\"anchor\":\"y\",\"domain\":[0.0,1.0],\"title\":{\"text\":\"Timestamp\"}},\"yaxis\":{\"anchor\":\"x\",\"domain\":[0.0,1.0],\"title\":{\"text\":\"Pressure\"}},\"legend\":{\"tracegroupgap\":0},\"margin\":{\"t\":60}},                        {\"responsive\": true}                    ).then(function(){\n",
       "                            \n",
       "var gd = document.getElementById('ad85a870-6612-40f1-bf6a-5c834dbfb87d');\n",
       "var x = new MutationObserver(function (mutations, observer) {{\n",
       "        var display = window.getComputedStyle(gd).display;\n",
       "        if (!display || display === 'none') {{\n",
       "            console.log([gd, 'removed!']);\n",
       "            Plotly.purge(gd);\n",
       "            observer.disconnect();\n",
       "        }}\n",
       "}});\n",
       "\n",
       "// Listen for the removal of the full notebook cells\n",
       "var notebookContainer = gd.closest('#notebook-container');\n",
       "if (notebookContainer) {{\n",
       "    x.observe(notebookContainer, {childList: true});\n",
       "}}\n",
       "\n",
       "// Listen for the clearing of the current output cell\n",
       "var outputEl = gd.closest('.output');\n",
       "if (outputEl) {{\n",
       "    x.observe(outputEl, {childList: true});\n",
       "}}\n",
       "\n",
       "                        })                };                });            </script>        </div>"
      ]
     },
     "metadata": {},
     "output_type": "display_data"
    },
    {
     "data": {
      "application/vnd.plotly.v1+json": {
       "config": {
        "plotlyServerURL": "https://plot.ly"
       },
       "data": [
        {
         "alignmentgroup": "True",
         "hovertemplate": "variable=Precip. Rate<br>Timestamp=%{x}<br>Inches=%{y}<extra></extra>",
         "legendgroup": "Precip. Rate",
         "marker": {
          "color": "green",
          "pattern": {
           "shape": ""
          }
         },
         "name": "Precip. Rate",
         "offsetgroup": "Precip. Rate",
         "orientation": "v",
         "showlegend": true,
         "textposition": "auto",
         "type": "bar",
         "x": [
          "2024-09-22T00:04:00",
          "2024-09-22T00:09:00",
          "2024-09-22T00:14:00",
          "2024-09-22T00:19:00",
          "2024-09-22T00:24:00",
          "2024-09-22T00:29:00",
          "2024-09-22T00:34:00",
          "2024-09-22T00:39:00",
          "2024-09-22T00:44:00",
          "2024-09-22T00:49:00",
          "2024-09-22T00:54:00",
          "2024-09-22T00:59:00",
          "2024-09-22T01:04:00",
          "2024-09-22T01:09:00",
          "2024-09-22T01:14:00",
          "2024-09-22T01:19:00",
          "2024-09-22T01:24:00",
          "2024-09-22T01:29:00",
          "2024-09-22T01:34:00",
          "2024-09-22T01:39:00",
          "2024-09-22T01:44:00",
          "2024-09-22T01:49:00",
          "2024-09-22T01:54:00",
          "2024-09-22T01:59:00",
          "2024-09-22T02:04:00",
          "2024-09-22T02:09:00",
          "2024-09-22T02:14:00",
          "2024-09-22T02:19:00",
          "2024-09-22T02:24:00",
          "2024-09-22T02:29:00",
          "2024-09-22T02:34:00",
          "2024-09-22T02:39:00",
          "2024-09-22T02:44:00",
          "2024-09-22T02:49:00",
          "2024-09-22T02:54:00",
          "2024-09-22T02:59:00",
          "2024-09-22T03:04:00",
          "2024-09-22T03:09:00",
          "2024-09-22T03:14:00",
          "2024-09-22T03:19:00",
          "2024-09-22T03:24:00",
          "2024-09-22T03:29:00",
          "2024-09-22T03:34:00",
          "2024-09-22T03:39:00",
          "2024-09-22T03:44:00",
          "2024-09-22T03:49:00",
          "2024-09-22T03:54:00",
          "2024-09-22T03:59:00",
          "2024-09-22T04:04:00",
          "2024-09-22T04:09:00",
          "2024-09-22T04:14:00",
          "2024-09-22T04:19:00",
          "2024-09-22T04:24:00",
          "2024-09-22T04:29:00",
          "2024-09-22T04:34:00",
          "2024-09-22T04:39:00",
          "2024-09-22T04:44:00",
          "2024-09-22T04:49:00",
          "2024-09-22T04:54:00",
          "2024-09-22T04:59:00",
          "2024-09-22T05:04:00",
          "2024-09-22T05:09:00",
          "2024-09-22T05:14:00",
          "2024-09-22T05:19:00",
          "2024-09-22T05:24:00",
          "2024-09-22T05:29:00",
          "2024-09-22T05:34:00",
          "2024-09-22T05:39:00",
          "2024-09-22T05:44:00",
          "2024-09-22T05:49:00",
          "2024-09-22T05:54:00",
          "2024-09-22T05:59:00",
          "2024-09-22T06:04:00",
          "2024-09-22T06:09:00",
          "2024-09-22T06:14:00",
          "2024-09-22T06:19:00",
          "2024-09-22T06:24:00",
          "2024-09-22T06:29:00",
          "2024-09-22T06:34:00",
          "2024-09-22T06:39:00",
          "2024-09-22T06:44:00",
          "2024-09-22T06:49:00",
          "2024-09-22T06:54:00",
          "2024-09-22T06:59:00",
          "2024-09-22T07:04:00",
          "2024-09-22T07:09:00",
          "2024-09-22T07:14:00",
          "2024-09-22T07:19:00",
          "2024-09-22T07:24:00",
          "2024-09-22T07:29:00",
          "2024-09-22T07:34:00",
          "2024-09-22T07:39:00",
          "2024-09-22T07:44:00",
          "2024-09-22T07:49:00",
          "2024-09-22T07:54:00",
          "2024-09-22T07:59:00",
          "2024-09-22T08:04:00",
          "2024-09-22T08:09:00",
          "2024-09-22T08:14:00",
          "2024-09-22T08:19:00",
          "2024-09-22T08:24:00",
          "2024-09-22T08:29:00",
          "2024-09-22T08:34:00",
          "2024-09-22T08:39:00",
          "2024-09-22T08:44:00",
          "2024-09-22T08:49:00",
          "2024-09-22T08:54:00",
          "2024-09-22T08:59:00",
          "2024-09-22T09:04:00",
          "2024-09-22T09:09:00",
          "2024-09-22T09:14:00",
          "2024-09-22T09:19:00",
          "2024-09-22T09:24:00",
          "2024-09-22T09:29:00",
          "2024-09-22T09:34:00",
          "2024-09-22T09:39:00",
          "2024-09-22T09:44:00",
          "2024-09-22T09:49:00",
          "2024-09-22T09:54:00",
          "2024-09-22T09:59:00",
          "2024-09-22T10:04:00",
          "2024-09-22T10:09:00",
          "2024-09-22T10:14:00",
          "2024-09-22T10:19:00",
          "2024-09-22T10:24:00",
          "2024-09-22T10:29:00",
          "2024-09-22T10:34:00",
          "2024-09-22T10:39:00",
          "2024-09-22T10:44:00",
          "2024-09-22T10:49:00",
          "2024-09-22T10:54:00",
          "2024-09-22T10:59:00",
          "2024-09-22T11:04:00",
          "2024-09-22T11:09:00",
          "2024-09-22T11:14:00",
          "2024-09-22T11:19:00",
          "2024-09-22T11:24:00",
          "2024-09-22T11:29:00",
          "2024-09-22T11:34:00",
          "2024-09-22T11:39:00",
          "2024-09-22T11:44:00",
          "2024-09-22T11:49:00",
          "2024-09-22T11:54:00",
          "2024-09-22T11:59:00",
          "2024-09-22T12:04:00",
          "2024-09-22T12:09:00",
          "2024-09-22T12:14:00",
          "2024-09-22T12:19:00",
          "2024-09-22T12:24:00",
          "2024-09-22T12:29:00",
          "2024-09-22T12:34:00",
          "2024-09-22T12:39:00",
          "2024-09-22T12:44:00",
          "2024-09-22T12:49:00",
          "2024-09-22T12:54:00",
          "2024-09-22T12:59:00",
          "2024-09-22T13:04:00",
          "2024-09-22T13:09:00",
          "2024-09-22T13:14:00",
          "2024-09-22T13:19:00",
          "2024-09-22T13:24:00",
          "2024-09-22T13:29:00",
          "2024-09-22T13:34:00"
         ],
         "xaxis": "x",
         "y": [
          0.21,
          0.21,
          0.21,
          0.28,
          0.14,
          0.28,
          0.43,
          0.21,
          0.21,
          0.28,
          0.28,
          0.14,
          0.14,
          0.14,
          0.21,
          0.35,
          0.43,
          0.28,
          0.14,
          0.14,
          0.21,
          0.28,
          0.14,
          0.14,
          0.14,
          0.07,
          0.07,
          0.14,
          0.14,
          0.07,
          0,
          0,
          0,
          0,
          0,
          0,
          0,
          0,
          0,
          0,
          0,
          0,
          0,
          0,
          0,
          0,
          0,
          0,
          0,
          0,
          0,
          0,
          0,
          0,
          0,
          0,
          0,
          0,
          0,
          0,
          0,
          0,
          0,
          0,
          0,
          0,
          0,
          0,
          0,
          0,
          0,
          0,
          0,
          0.07,
          0.14,
          0.14,
          0.07,
          0,
          0,
          0,
          0,
          0.07,
          0.14,
          0.14,
          0.14,
          0.14,
          0.14,
          0.14,
          0.07,
          0,
          0,
          0,
          0,
          0,
          0,
          0,
          0,
          0,
          0,
          0,
          0,
          0,
          0,
          0,
          0,
          0,
          0,
          0,
          0,
          0,
          0,
          0,
          0,
          0,
          0,
          0,
          0,
          0,
          0,
          0,
          0,
          0,
          0,
          0,
          0,
          0,
          0,
          0,
          0,
          0,
          0.07,
          0.07,
          0,
          0,
          0,
          0,
          0,
          0,
          0,
          0,
          0,
          0,
          0,
          0,
          0,
          0,
          0,
          0,
          0,
          0,
          0,
          0,
          0,
          0,
          0,
          0,
          0,
          0,
          0,
          0,
          0,
          0.07,
          0.07
         ],
         "yaxis": "y"
        },
        {
         "alignmentgroup": "True",
         "hovertemplate": "variable=Precip. Accum.<br>Timestamp=%{x}<br>Inches=%{y}<extra></extra>",
         "legendgroup": "Precip. Accum.",
         "marker": {
          "color": "blue",
          "pattern": {
           "shape": ""
          }
         },
         "name": "Precip. Accum.",
         "offsetgroup": "Precip. Accum.",
         "orientation": "v",
         "showlegend": true,
         "textposition": "auto",
         "type": "bar",
         "x": [
          "2024-09-22T00:04:00",
          "2024-09-22T00:09:00",
          "2024-09-22T00:14:00",
          "2024-09-22T00:19:00",
          "2024-09-22T00:24:00",
          "2024-09-22T00:29:00",
          "2024-09-22T00:34:00",
          "2024-09-22T00:39:00",
          "2024-09-22T00:44:00",
          "2024-09-22T00:49:00",
          "2024-09-22T00:54:00",
          "2024-09-22T00:59:00",
          "2024-09-22T01:04:00",
          "2024-09-22T01:09:00",
          "2024-09-22T01:14:00",
          "2024-09-22T01:19:00",
          "2024-09-22T01:24:00",
          "2024-09-22T01:29:00",
          "2024-09-22T01:34:00",
          "2024-09-22T01:39:00",
          "2024-09-22T01:44:00",
          "2024-09-22T01:49:00",
          "2024-09-22T01:54:00",
          "2024-09-22T01:59:00",
          "2024-09-22T02:04:00",
          "2024-09-22T02:09:00",
          "2024-09-22T02:14:00",
          "2024-09-22T02:19:00",
          "2024-09-22T02:24:00",
          "2024-09-22T02:29:00",
          "2024-09-22T02:34:00",
          "2024-09-22T02:39:00",
          "2024-09-22T02:44:00",
          "2024-09-22T02:49:00",
          "2024-09-22T02:54:00",
          "2024-09-22T02:59:00",
          "2024-09-22T03:04:00",
          "2024-09-22T03:09:00",
          "2024-09-22T03:14:00",
          "2024-09-22T03:19:00",
          "2024-09-22T03:24:00",
          "2024-09-22T03:29:00",
          "2024-09-22T03:34:00",
          "2024-09-22T03:39:00",
          "2024-09-22T03:44:00",
          "2024-09-22T03:49:00",
          "2024-09-22T03:54:00",
          "2024-09-22T03:59:00",
          "2024-09-22T04:04:00",
          "2024-09-22T04:09:00",
          "2024-09-22T04:14:00",
          "2024-09-22T04:19:00",
          "2024-09-22T04:24:00",
          "2024-09-22T04:29:00",
          "2024-09-22T04:34:00",
          "2024-09-22T04:39:00",
          "2024-09-22T04:44:00",
          "2024-09-22T04:49:00",
          "2024-09-22T04:54:00",
          "2024-09-22T04:59:00",
          "2024-09-22T05:04:00",
          "2024-09-22T05:09:00",
          "2024-09-22T05:14:00",
          "2024-09-22T05:19:00",
          "2024-09-22T05:24:00",
          "2024-09-22T05:29:00",
          "2024-09-22T05:34:00",
          "2024-09-22T05:39:00",
          "2024-09-22T05:44:00",
          "2024-09-22T05:49:00",
          "2024-09-22T05:54:00",
          "2024-09-22T05:59:00",
          "2024-09-22T06:04:00",
          "2024-09-22T06:09:00",
          "2024-09-22T06:14:00",
          "2024-09-22T06:19:00",
          "2024-09-22T06:24:00",
          "2024-09-22T06:29:00",
          "2024-09-22T06:34:00",
          "2024-09-22T06:39:00",
          "2024-09-22T06:44:00",
          "2024-09-22T06:49:00",
          "2024-09-22T06:54:00",
          "2024-09-22T06:59:00",
          "2024-09-22T07:04:00",
          "2024-09-22T07:09:00",
          "2024-09-22T07:14:00",
          "2024-09-22T07:19:00",
          "2024-09-22T07:24:00",
          "2024-09-22T07:29:00",
          "2024-09-22T07:34:00",
          "2024-09-22T07:39:00",
          "2024-09-22T07:44:00",
          "2024-09-22T07:49:00",
          "2024-09-22T07:54:00",
          "2024-09-22T07:59:00",
          "2024-09-22T08:04:00",
          "2024-09-22T08:09:00",
          "2024-09-22T08:14:00",
          "2024-09-22T08:19:00",
          "2024-09-22T08:24:00",
          "2024-09-22T08:29:00",
          "2024-09-22T08:34:00",
          "2024-09-22T08:39:00",
          "2024-09-22T08:44:00",
          "2024-09-22T08:49:00",
          "2024-09-22T08:54:00",
          "2024-09-22T08:59:00",
          "2024-09-22T09:04:00",
          "2024-09-22T09:09:00",
          "2024-09-22T09:14:00",
          "2024-09-22T09:19:00",
          "2024-09-22T09:24:00",
          "2024-09-22T09:29:00",
          "2024-09-22T09:34:00",
          "2024-09-22T09:39:00",
          "2024-09-22T09:44:00",
          "2024-09-22T09:49:00",
          "2024-09-22T09:54:00",
          "2024-09-22T09:59:00",
          "2024-09-22T10:04:00",
          "2024-09-22T10:09:00",
          "2024-09-22T10:14:00",
          "2024-09-22T10:19:00",
          "2024-09-22T10:24:00",
          "2024-09-22T10:29:00",
          "2024-09-22T10:34:00",
          "2024-09-22T10:39:00",
          "2024-09-22T10:44:00",
          "2024-09-22T10:49:00",
          "2024-09-22T10:54:00",
          "2024-09-22T10:59:00",
          "2024-09-22T11:04:00",
          "2024-09-22T11:09:00",
          "2024-09-22T11:14:00",
          "2024-09-22T11:19:00",
          "2024-09-22T11:24:00",
          "2024-09-22T11:29:00",
          "2024-09-22T11:34:00",
          "2024-09-22T11:39:00",
          "2024-09-22T11:44:00",
          "2024-09-22T11:49:00",
          "2024-09-22T11:54:00",
          "2024-09-22T11:59:00",
          "2024-09-22T12:04:00",
          "2024-09-22T12:09:00",
          "2024-09-22T12:14:00",
          "2024-09-22T12:19:00",
          "2024-09-22T12:24:00",
          "2024-09-22T12:29:00",
          "2024-09-22T12:34:00",
          "2024-09-22T12:39:00",
          "2024-09-22T12:44:00",
          "2024-09-22T12:49:00",
          "2024-09-22T12:54:00",
          "2024-09-22T12:59:00",
          "2024-09-22T13:04:00",
          "2024-09-22T13:09:00",
          "2024-09-22T13:14:00",
          "2024-09-22T13:19:00",
          "2024-09-22T13:24:00",
          "2024-09-22T13:29:00",
          "2024-09-22T13:34:00"
         ],
         "xaxis": "x",
         "y": [
          0.02,
          0.04,
          0.06,
          0.07,
          0.07,
          0.12,
          0.14,
          0.15,
          0.18,
          0.2,
          0.21,
          0.22,
          0.24,
          0.24,
          0.26,
          0.31,
          0.33,
          0.34,
          0.34,
          0.37,
          0.39,
          0.4,
          0.41,
          0.43,
          0.43,
          0.43,
          0.44,
          0.45,
          0.45,
          0.45,
          0.45,
          0.45,
          0.45,
          0.45,
          0.45,
          0.45,
          0.45,
          0.45,
          0.45,
          0.45,
          0.45,
          0.45,
          0.45,
          0.45,
          0.45,
          0.45,
          0.45,
          0.45,
          0.45,
          0.45,
          0.45,
          0.45,
          0.45,
          0.45,
          0.45,
          0.45,
          0.45,
          0.45,
          0.45,
          0.45,
          0.45,
          0.45,
          0.45,
          0.45,
          0.45,
          0.45,
          0.45,
          0.45,
          0.45,
          0.45,
          0.45,
          0.45,
          0.45,
          0.46,
          0.47,
          0.47,
          0.47,
          0.47,
          0.47,
          0.47,
          0.47,
          0.48,
          0.5,
          0.51,
          0.52,
          0.52,
          0.53,
          0.54,
          0.54,
          0.54,
          0.54,
          0.54,
          0.54,
          0.54,
          0.54,
          0.54,
          0.54,
          0.54,
          0.54,
          0.54,
          0.54,
          0.54,
          0.54,
          0.54,
          0.54,
          0.54,
          0.54,
          0.54,
          0.54,
          0.54,
          0.54,
          0.54,
          0.54,
          0.54,
          0.54,
          0.54,
          0.54,
          0.54,
          0.54,
          0.54,
          0.54,
          0.54,
          0.54,
          0.54,
          0.54,
          0.54,
          0.54,
          0.54,
          0.54,
          0.54,
          0.56,
          0.56,
          0.56,
          0.56,
          0.56,
          0.56,
          0.56,
          0.56,
          0.56,
          0.56,
          0.56,
          0.56,
          0.56,
          0.56,
          0.56,
          0.56,
          0.56,
          0.56,
          0.56,
          0.56,
          0.56,
          0.56,
          0.56,
          0.56,
          0.56,
          0.56,
          0.56,
          0.56,
          0.56,
          0.56,
          0.56,
          0.57,
          0.57
         ],
         "yaxis": "y"
        }
       ],
       "layout": {
        "autosize": true,
        "barmode": "group",
        "legend": {
         "title": {
          "text": "variable"
         },
         "tracegroupgap": 0
        },
        "margin": {
         "t": 60
        },
        "template": {
         "data": {
          "bar": [
           {
            "error_x": {
             "color": "#2a3f5f"
            },
            "error_y": {
             "color": "#2a3f5f"
            },
            "marker": {
             "line": {
              "color": "#E5ECF6",
              "width": 0.5
             },
             "pattern": {
              "fillmode": "overlay",
              "size": 10,
              "solidity": 0.2
             }
            },
            "type": "bar"
           }
          ],
          "barpolar": [
           {
            "marker": {
             "line": {
              "color": "#E5ECF6",
              "width": 0.5
             },
             "pattern": {
              "fillmode": "overlay",
              "size": 10,
              "solidity": 0.2
             }
            },
            "type": "barpolar"
           }
          ],
          "carpet": [
           {
            "aaxis": {
             "endlinecolor": "#2a3f5f",
             "gridcolor": "white",
             "linecolor": "white",
             "minorgridcolor": "white",
             "startlinecolor": "#2a3f5f"
            },
            "baxis": {
             "endlinecolor": "#2a3f5f",
             "gridcolor": "white",
             "linecolor": "white",
             "minorgridcolor": "white",
             "startlinecolor": "#2a3f5f"
            },
            "type": "carpet"
           }
          ],
          "choropleth": [
           {
            "colorbar": {
             "outlinewidth": 0,
             "ticks": ""
            },
            "type": "choropleth"
           }
          ],
          "contour": [
           {
            "colorbar": {
             "outlinewidth": 0,
             "ticks": ""
            },
            "colorscale": [
             [
              0,
              "#0d0887"
             ],
             [
              0.1111111111111111,
              "#46039f"
             ],
             [
              0.2222222222222222,
              "#7201a8"
             ],
             [
              0.3333333333333333,
              "#9c179e"
             ],
             [
              0.4444444444444444,
              "#bd3786"
             ],
             [
              0.5555555555555556,
              "#d8576b"
             ],
             [
              0.6666666666666666,
              "#ed7953"
             ],
             [
              0.7777777777777778,
              "#fb9f3a"
             ],
             [
              0.8888888888888888,
              "#fdca26"
             ],
             [
              1,
              "#f0f921"
             ]
            ],
            "type": "contour"
           }
          ],
          "contourcarpet": [
           {
            "colorbar": {
             "outlinewidth": 0,
             "ticks": ""
            },
            "type": "contourcarpet"
           }
          ],
          "heatmap": [
           {
            "colorbar": {
             "outlinewidth": 0,
             "ticks": ""
            },
            "colorscale": [
             [
              0,
              "#0d0887"
             ],
             [
              0.1111111111111111,
              "#46039f"
             ],
             [
              0.2222222222222222,
              "#7201a8"
             ],
             [
              0.3333333333333333,
              "#9c179e"
             ],
             [
              0.4444444444444444,
              "#bd3786"
             ],
             [
              0.5555555555555556,
              "#d8576b"
             ],
             [
              0.6666666666666666,
              "#ed7953"
             ],
             [
              0.7777777777777778,
              "#fb9f3a"
             ],
             [
              0.8888888888888888,
              "#fdca26"
             ],
             [
              1,
              "#f0f921"
             ]
            ],
            "type": "heatmap"
           }
          ],
          "heatmapgl": [
           {
            "colorbar": {
             "outlinewidth": 0,
             "ticks": ""
            },
            "colorscale": [
             [
              0,
              "#0d0887"
             ],
             [
              0.1111111111111111,
              "#46039f"
             ],
             [
              0.2222222222222222,
              "#7201a8"
             ],
             [
              0.3333333333333333,
              "#9c179e"
             ],
             [
              0.4444444444444444,
              "#bd3786"
             ],
             [
              0.5555555555555556,
              "#d8576b"
             ],
             [
              0.6666666666666666,
              "#ed7953"
             ],
             [
              0.7777777777777778,
              "#fb9f3a"
             ],
             [
              0.8888888888888888,
              "#fdca26"
             ],
             [
              1,
              "#f0f921"
             ]
            ],
            "type": "heatmapgl"
           }
          ],
          "histogram": [
           {
            "marker": {
             "pattern": {
              "fillmode": "overlay",
              "size": 10,
              "solidity": 0.2
             }
            },
            "type": "histogram"
           }
          ],
          "histogram2d": [
           {
            "colorbar": {
             "outlinewidth": 0,
             "ticks": ""
            },
            "colorscale": [
             [
              0,
              "#0d0887"
             ],
             [
              0.1111111111111111,
              "#46039f"
             ],
             [
              0.2222222222222222,
              "#7201a8"
             ],
             [
              0.3333333333333333,
              "#9c179e"
             ],
             [
              0.4444444444444444,
              "#bd3786"
             ],
             [
              0.5555555555555556,
              "#d8576b"
             ],
             [
              0.6666666666666666,
              "#ed7953"
             ],
             [
              0.7777777777777778,
              "#fb9f3a"
             ],
             [
              0.8888888888888888,
              "#fdca26"
             ],
             [
              1,
              "#f0f921"
             ]
            ],
            "type": "histogram2d"
           }
          ],
          "histogram2dcontour": [
           {
            "colorbar": {
             "outlinewidth": 0,
             "ticks": ""
            },
            "colorscale": [
             [
              0,
              "#0d0887"
             ],
             [
              0.1111111111111111,
              "#46039f"
             ],
             [
              0.2222222222222222,
              "#7201a8"
             ],
             [
              0.3333333333333333,
              "#9c179e"
             ],
             [
              0.4444444444444444,
              "#bd3786"
             ],
             [
              0.5555555555555556,
              "#d8576b"
             ],
             [
              0.6666666666666666,
              "#ed7953"
             ],
             [
              0.7777777777777778,
              "#fb9f3a"
             ],
             [
              0.8888888888888888,
              "#fdca26"
             ],
             [
              1,
              "#f0f921"
             ]
            ],
            "type": "histogram2dcontour"
           }
          ],
          "mesh3d": [
           {
            "colorbar": {
             "outlinewidth": 0,
             "ticks": ""
            },
            "type": "mesh3d"
           }
          ],
          "parcoords": [
           {
            "line": {
             "colorbar": {
              "outlinewidth": 0,
              "ticks": ""
             }
            },
            "type": "parcoords"
           }
          ],
          "pie": [
           {
            "automargin": true,
            "type": "pie"
           }
          ],
          "scatter": [
           {
            "fillpattern": {
             "fillmode": "overlay",
             "size": 10,
             "solidity": 0.2
            },
            "type": "scatter"
           }
          ],
          "scatter3d": [
           {
            "line": {
             "colorbar": {
              "outlinewidth": 0,
              "ticks": ""
             }
            },
            "marker": {
             "colorbar": {
              "outlinewidth": 0,
              "ticks": ""
             }
            },
            "type": "scatter3d"
           }
          ],
          "scattercarpet": [
           {
            "marker": {
             "colorbar": {
              "outlinewidth": 0,
              "ticks": ""
             }
            },
            "type": "scattercarpet"
           }
          ],
          "scattergeo": [
           {
            "marker": {
             "colorbar": {
              "outlinewidth": 0,
              "ticks": ""
             }
            },
            "type": "scattergeo"
           }
          ],
          "scattergl": [
           {
            "marker": {
             "colorbar": {
              "outlinewidth": 0,
              "ticks": ""
             }
            },
            "type": "scattergl"
           }
          ],
          "scattermapbox": [
           {
            "marker": {
             "colorbar": {
              "outlinewidth": 0,
              "ticks": ""
             }
            },
            "type": "scattermapbox"
           }
          ],
          "scatterpolar": [
           {
            "marker": {
             "colorbar": {
              "outlinewidth": 0,
              "ticks": ""
             }
            },
            "type": "scatterpolar"
           }
          ],
          "scatterpolargl": [
           {
            "marker": {
             "colorbar": {
              "outlinewidth": 0,
              "ticks": ""
             }
            },
            "type": "scatterpolargl"
           }
          ],
          "scatterternary": [
           {
            "marker": {
             "colorbar": {
              "outlinewidth": 0,
              "ticks": ""
             }
            },
            "type": "scatterternary"
           }
          ],
          "surface": [
           {
            "colorbar": {
             "outlinewidth": 0,
             "ticks": ""
            },
            "colorscale": [
             [
              0,
              "#0d0887"
             ],
             [
              0.1111111111111111,
              "#46039f"
             ],
             [
              0.2222222222222222,
              "#7201a8"
             ],
             [
              0.3333333333333333,
              "#9c179e"
             ],
             [
              0.4444444444444444,
              "#bd3786"
             ],
             [
              0.5555555555555556,
              "#d8576b"
             ],
             [
              0.6666666666666666,
              "#ed7953"
             ],
             [
              0.7777777777777778,
              "#fb9f3a"
             ],
             [
              0.8888888888888888,
              "#fdca26"
             ],
             [
              1,
              "#f0f921"
             ]
            ],
            "type": "surface"
           }
          ],
          "table": [
           {
            "cells": {
             "fill": {
              "color": "#EBF0F8"
             },
             "line": {
              "color": "white"
             }
            },
            "header": {
             "fill": {
              "color": "#C8D4E3"
             },
             "line": {
              "color": "white"
             }
            },
            "type": "table"
           }
          ]
         },
         "layout": {
          "annotationdefaults": {
           "arrowcolor": "#2a3f5f",
           "arrowhead": 0,
           "arrowwidth": 1
          },
          "autotypenumbers": "strict",
          "coloraxis": {
           "colorbar": {
            "outlinewidth": 0,
            "ticks": ""
           }
          },
          "colorscale": {
           "diverging": [
            [
             0,
             "#8e0152"
            ],
            [
             0.1,
             "#c51b7d"
            ],
            [
             0.2,
             "#de77ae"
            ],
            [
             0.3,
             "#f1b6da"
            ],
            [
             0.4,
             "#fde0ef"
            ],
            [
             0.5,
             "#f7f7f7"
            ],
            [
             0.6,
             "#e6f5d0"
            ],
            [
             0.7,
             "#b8e186"
            ],
            [
             0.8,
             "#7fbc41"
            ],
            [
             0.9,
             "#4d9221"
            ],
            [
             1,
             "#276419"
            ]
           ],
           "sequential": [
            [
             0,
             "#0d0887"
            ],
            [
             0.1111111111111111,
             "#46039f"
            ],
            [
             0.2222222222222222,
             "#7201a8"
            ],
            [
             0.3333333333333333,
             "#9c179e"
            ],
            [
             0.4444444444444444,
             "#bd3786"
            ],
            [
             0.5555555555555556,
             "#d8576b"
            ],
            [
             0.6666666666666666,
             "#ed7953"
            ],
            [
             0.7777777777777778,
             "#fb9f3a"
            ],
            [
             0.8888888888888888,
             "#fdca26"
            ],
            [
             1,
             "#f0f921"
            ]
           ],
           "sequentialminus": [
            [
             0,
             "#0d0887"
            ],
            [
             0.1111111111111111,
             "#46039f"
            ],
            [
             0.2222222222222222,
             "#7201a8"
            ],
            [
             0.3333333333333333,
             "#9c179e"
            ],
            [
             0.4444444444444444,
             "#bd3786"
            ],
            [
             0.5555555555555556,
             "#d8576b"
            ],
            [
             0.6666666666666666,
             "#ed7953"
            ],
            [
             0.7777777777777778,
             "#fb9f3a"
            ],
            [
             0.8888888888888888,
             "#fdca26"
            ],
            [
             1,
             "#f0f921"
            ]
           ]
          },
          "colorway": [
           "#636efa",
           "#EF553B",
           "#00cc96",
           "#ab63fa",
           "#FFA15A",
           "#19d3f3",
           "#FF6692",
           "#B6E880",
           "#FF97FF",
           "#FECB52"
          ],
          "font": {
           "color": "#2a3f5f"
          },
          "geo": {
           "bgcolor": "white",
           "lakecolor": "white",
           "landcolor": "#E5ECF6",
           "showlakes": true,
           "showland": true,
           "subunitcolor": "white"
          },
          "hoverlabel": {
           "align": "left"
          },
          "hovermode": "closest",
          "mapbox": {
           "style": "light"
          },
          "paper_bgcolor": "white",
          "plot_bgcolor": "#E5ECF6",
          "polar": {
           "angularaxis": {
            "gridcolor": "white",
            "linecolor": "white",
            "ticks": ""
           },
           "bgcolor": "#E5ECF6",
           "radialaxis": {
            "gridcolor": "white",
            "linecolor": "white",
            "ticks": ""
           }
          },
          "scene": {
           "xaxis": {
            "backgroundcolor": "#E5ECF6",
            "gridcolor": "white",
            "gridwidth": 2,
            "linecolor": "white",
            "showbackground": true,
            "ticks": "",
            "zerolinecolor": "white"
           },
           "yaxis": {
            "backgroundcolor": "#E5ECF6",
            "gridcolor": "white",
            "gridwidth": 2,
            "linecolor": "white",
            "showbackground": true,
            "ticks": "",
            "zerolinecolor": "white"
           },
           "zaxis": {
            "backgroundcolor": "#E5ECF6",
            "gridcolor": "white",
            "gridwidth": 2,
            "linecolor": "white",
            "showbackground": true,
            "ticks": "",
            "zerolinecolor": "white"
           }
          },
          "shapedefaults": {
           "line": {
            "color": "#2a3f5f"
           }
          },
          "ternary": {
           "aaxis": {
            "gridcolor": "white",
            "linecolor": "white",
            "ticks": ""
           },
           "baxis": {
            "gridcolor": "white",
            "linecolor": "white",
            "ticks": ""
           },
           "bgcolor": "#E5ECF6",
           "caxis": {
            "gridcolor": "white",
            "linecolor": "white",
            "ticks": ""
           }
          },
          "title": {
           "x": 0.05
          },
          "xaxis": {
           "automargin": true,
           "gridcolor": "white",
           "linecolor": "white",
           "ticks": "",
           "title": {
            "standoff": 15
           },
           "zerolinecolor": "white",
           "zerolinewidth": 2
          },
          "yaxis": {
           "automargin": true,
           "gridcolor": "white",
           "linecolor": "white",
           "ticks": "",
           "title": {
            "standoff": 15
           },
           "zerolinecolor": "white",
           "zerolinewidth": 2
          }
         }
        },
        "xaxis": {
         "anchor": "y",
         "autorange": true,
         "domain": [
          0,
          1
         ],
         "range": [
          "2024-09-22 00:01:30",
          "2024-09-22 13:36:30"
         ],
         "title": {
          "text": "Timestamp"
         },
         "type": "date"
        },
        "yaxis": {
         "anchor": "x",
         "autorange": true,
         "domain": [
          0,
          1
         ],
         "range": [
          0,
          0.6
         ],
         "title": {
          "text": "Inches"
         },
         "type": "linear"
        }
       }
      },
      "image/png": "[encoded data removed]",
      "text/html": [
       "<div>                            <div id=\"04aa7358-0ae6-40da-9f00-220bee7ee128\" class=\"plotly-graph-div\" style=\"height:525px; width:100%;\"></div>            <script type=\"text/javascript\">                require([\"plotly\"], function(Plotly) {                    window.PLOTLYENV=window.PLOTLYENV || {};                                    if (document.getElementById(\"04aa7358-0ae6-40da-9f00-220bee7ee128\")) {                    Plotly.newPlot(                        \"04aa7358-0ae6-40da-9f00-220bee7ee128\",                        [{\"alignmentgroup\":\"True\",\"hovertemplate\":\"variable=Precip. Rate\\u003cbr\\u003eTimestamp=%{x}\\u003cbr\\u003eInches=%{y}\\u003cextra\\u003e\\u003c\\u002fextra\\u003e\",\"legendgroup\":\"Precip. Rate\",\"marker\":{\"color\":\"green\",\"pattern\":{\"shape\":\"\"}},\"name\":\"Precip. Rate\",\"offsetgroup\":\"Precip. Rate\",\"orientation\":\"v\",\"showlegend\":true,\"textposition\":\"auto\",\"x\":[\"2024-09-22T00:04:00\",\"2024-09-22T00:09:00\",\"2024-09-22T00:14:00\",\"2024-09-22T00:19:00\",\"2024-09-22T00:24:00\",\"2024-09-22T00:29:00\",\"2024-09-22T00:34:00\",\"2024-09-22T00:39:00\",\"2024-09-22T00:44:00\",\"2024-09-22T00:49:00\",\"2024-09-22T00:54:00\",\"2024-09-22T00:59:00\",\"2024-09-22T01:04:00\",\"2024-09-22T01:09:00\",\"2024-09-22T01:14:00\",\"2024-09-22T01:19:00\",\"2024-09-22T01:24:00\",\"2024-09-22T01:29:00\",\"2024-09-22T01:34:00\",\"2024-09-22T01:39:00\",\"2024-09-22T01:44:00\",\"2024-09-22T01:49:00\",\"2024-09-22T01:54:00\",\"2024-09-22T01:59:00\",\"2024-09-22T02:04:00\",\"2024-09-22T02:09:00\",\"2024-09-22T02:14:00\",\"2024-09-22T02:19:00\",\"2024-09-22T02:24:00\",\"2024-09-22T02:29:00\",\"2024-09-22T02:34:00\",\"2024-09-22T02:39:00\",\"2024-09-22T02:44:00\",\"2024-09-22T02:49:00\",\"2024-09-22T02:54:00\",\"2024-09-22T02:59:00\",\"2024-09-22T03:04:00\",\"2024-09-22T03:09:00\",\"2024-09-22T03:14:00\",\"2024-09-22T03:19:00\",\"2024-09-22T03:24:00\",\"2024-09-22T03:29:00\",\"2024-09-22T03:34:00\",\"2024-09-22T03:39:00\",\"2024-09-22T03:44:00\",\"2024-09-22T03:49:00\",\"2024-09-22T03:54:00\",\"2024-09-22T03:59:00\",\"2024-09-22T04:04:00\",\"2024-09-22T04:09:00\",\"2024-09-22T04:14:00\",\"2024-09-22T04:19:00\",\"2024-09-22T04:24:00\",\"2024-09-22T04:29:00\",\"2024-09-22T04:34:00\",\"2024-09-22T04:39:00\",\"2024-09-22T04:44:00\",\"2024-09-22T04:49:00\",\"2024-09-22T04:54:00\",\"2024-09-22T04:59:00\",\"2024-09-22T05:04:00\",\"2024-09-22T05:09:00\",\"2024-09-22T05:14:00\",\"2024-09-22T05:19:00\",\"2024-09-22T05:24:00\",\"2024-09-22T05:29:00\",\"2024-09-22T05:34:00\",\"2024-09-22T05:39:00\",\"2024-09-22T05:44:00\",\"2024-09-22T05:49:00\",\"2024-09-22T05:54:00\",\"2024-09-22T05:59:00\",\"2024-09-22T06:04:00\",\"2024-09-22T06:09:00\",\"2024-09-22T06:14:00\",\"2024-09-22T06:19:00\",\"2024-09-22T06:24:00\",\"2024-09-22T06:29:00\",\"2024-09-22T06:34:00\",\"2024-09-22T06:39:00\",\"2024-09-22T06:44:00\",\"2024-09-22T06:49:00\",\"2024-09-22T06:54:00\",\"2024-09-22T06:59:00\",\"2024-09-22T07:04:00\",\"2024-09-22T07:09:00\",\"2024-09-22T07:14:00\",\"2024-09-22T07:19:00\",\"2024-09-22T07:24:00\",\"2024-09-22T07:29:00\",\"2024-09-22T07:34:00\",\"2024-09-22T07:39:00\",\"2024-09-22T07:44:00\",\"2024-09-22T07:49:00\",\"2024-09-22T07:54:00\",\"2024-09-22T07:59:00\",\"2024-09-22T08:04:00\",\"2024-09-22T08:09:00\",\"2024-09-22T08:14:00\",\"2024-09-22T08:19:00\",\"2024-09-22T08:24:00\",\"2024-09-22T08:29:00\",\"2024-09-22T08:34:00\",\"2024-09-22T08:39:00\",\"2024-09-22T08:44:00\",\"2024-09-22T08:49:00\",\"2024-09-22T08:54:00\",\"2024-09-22T08:59:00\",\"2024-09-22T09:04:00\",\"2024-09-22T09:09:00\",\"2024-09-22T09:14:00\",\"2024-09-22T09:19:00\",\"2024-09-22T09:24:00\",\"2024-09-22T09:29:00\",\"2024-09-22T09:34:00\",\"2024-09-22T09:39:00\",\"2024-09-22T09:44:00\",\"2024-09-22T09:49:00\",\"2024-09-22T09:54:00\",\"2024-09-22T09:59:00\",\"2024-09-22T10:04:00\",\"2024-09-22T10:09:00\",\"2024-09-22T10:14:00\",\"2024-09-22T10:19:00\",\"2024-09-22T10:24:00\",\"2024-09-22T10:29:00\",\"2024-09-22T10:34:00\",\"2024-09-22T10:39:00\",\"2024-09-22T10:44:00\",\"2024-09-22T10:49:00\",\"2024-09-22T10:54:00\",\"2024-09-22T10:59:00\",\"2024-09-22T11:04:00\",\"2024-09-22T11:09:00\",\"2024-09-22T11:14:00\",\"2024-09-22T11:19:00\",\"2024-09-22T11:24:00\",\"2024-09-22T11:29:00\",\"2024-09-22T11:34:00\",\"2024-09-22T11:39:00\",\"2024-09-22T11:44:00\",\"2024-09-22T11:49:00\",\"2024-09-22T11:54:00\",\"2024-09-22T11:59:00\",\"2024-09-22T12:04:00\",\"2024-09-22T12:09:00\",\"2024-09-22T12:14:00\",\"2024-09-22T12:19:00\",\"2024-09-22T12:24:00\",\"2024-09-22T12:29:00\",\"2024-09-22T12:34:00\",\"2024-09-22T12:39:00\",\"2024-09-22T12:44:00\",\"2024-09-22T12:49:00\",\"2024-09-22T12:54:00\",\"2024-09-22T12:59:00\",\"2024-09-22T13:04:00\",\"2024-09-22T13:09:00\",\"2024-09-22T13:14:00\",\"2024-09-22T13:19:00\",\"2024-09-22T13:24:00\",\"2024-09-22T13:29:00\",\"2024-09-22T13:34:00\"],\"xaxis\":\"x\",\"y\":[0.21,0.21,0.21,0.28,0.14,0.28,0.43,0.21,0.21,0.28,0.28,0.14,0.14,0.14,0.21,0.35,0.43,0.28,0.14,0.14,0.21,0.28,0.14,0.14,0.14,0.07,0.07,0.14,0.14,0.07,0.0,0.0,0.0,0.0,0.0,0.0,0.0,0.0,0.0,0.0,0.0,0.0,0.0,0.0,0.0,0.0,0.0,0.0,0.0,0.0,0.0,0.0,0.0,0.0,0.0,0.0,0.0,0.0,0.0,0.0,0.0,0.0,0.0,0.0,0.0,0.0,0.0,0.0,0.0,0.0,0.0,0.0,0.0,0.07,0.14,0.14,0.07,0.0,0.0,0.0,0.0,0.07,0.14,0.14,0.14,0.14,0.14,0.14,0.07,0.0,0.0,0.0,0.0,0.0,0.0,0.0,0.0,0.0,0.0,0.0,0.0,0.0,0.0,0.0,0.0,0.0,0.0,0.0,0.0,0.0,0.0,0.0,0.0,0.0,0.0,0.0,0.0,0.0,0.0,0.0,0.0,0.0,0.0,0.0,0.0,0.0,0.0,0.0,0.0,0.0,0.07,0.07,0.0,0.0,0.0,0.0,0.0,0.0,0.0,0.0,0.0,0.0,0.0,0.0,0.0,0.0,0.0,0.0,0.0,0.0,0.0,0.0,0.0,0.0,0.0,0.0,0.0,0.0,0.0,0.0,0.0,0.07,0.07],\"yaxis\":\"y\",\"type\":\"bar\"},{\"alignmentgroup\":\"True\",\"hovertemplate\":\"variable=Precip. Accum.\\u003cbr\\u003eTimestamp=%{x}\\u003cbr\\u003eInches=%{y}\\u003cextra\\u003e\\u003c\\u002fextra\\u003e\",\"legendgroup\":\"Precip. Accum.\",\"marker\":{\"color\":\"blue\",\"pattern\":{\"shape\":\"\"}},\"name\":\"Precip. Accum.\",\"offsetgroup\":\"Precip. Accum.\",\"orientation\":\"v\",\"showlegend\":true,\"textposition\":\"auto\",\"x\":[\"2024-09-22T00:04:00\",\"2024-09-22T00:09:00\",\"2024-09-22T00:14:00\",\"2024-09-22T00:19:00\",\"2024-09-22T00:24:00\",\"2024-09-22T00:29:00\",\"2024-09-22T00:34:00\",\"2024-09-22T00:39:00\",\"2024-09-22T00:44:00\",\"2024-09-22T00:49:00\",\"2024-09-22T00:54:00\",\"2024-09-22T00:59:00\",\"2024-09-22T01:04:00\",\"2024-09-22T01:09:00\",\"2024-09-22T01:14:00\",\"2024-09-22T01:19:00\",\"2024-09-22T01:24:00\",\"2024-09-22T01:29:00\",\"2024-09-22T01:34:00\",\"2024-09-22T01:39:00\",\"2024-09-22T01:44:00\",\"2024-09-22T01:49:00\",\"2024-09-22T01:54:00\",\"2024-09-22T01:59:00\",\"2024-09-22T02:04:00\",\"2024-09-22T02:09:00\",\"2024-09-22T02:14:00\",\"2024-09-22T02:19:00\",\"2024-09-22T02:24:00\",\"2024-09-22T02:29:00\",\"2024-09-22T02:34:00\",\"2024-09-22T02:39:00\",\"2024-09-22T02:44:00\",\"2024-09-22T02:49:00\",\"2024-09-22T02:54:00\",\"2024-09-22T02:59:00\",\"2024-09-22T03:04:00\",\"2024-09-22T03:09:00\",\"2024-09-22T03:14:00\",\"2024-09-22T03:19:00\",\"2024-09-22T03:24:00\",\"2024-09-22T03:29:00\",\"2024-09-22T03:34:00\",\"2024-09-22T03:39:00\",\"2024-09-22T03:44:00\",\"2024-09-22T03:49:00\",\"2024-09-22T03:54:00\",\"2024-09-22T03:59:00\",\"2024-09-22T04:04:00\",\"2024-09-22T04:09:00\",\"2024-09-22T04:14:00\",\"2024-09-22T04:19:00\",\"2024-09-22T04:24:00\",\"2024-09-22T04:29:00\",\"2024-09-22T04:34:00\",\"2024-09-22T04:39:00\",\"2024-09-22T04:44:00\",\"2024-09-22T04:49:00\",\"2024-09-22T04:54:00\",\"2024-09-22T04:59:00\",\"2024-09-22T05:04:00\",\"2024-09-22T05:09:00\",\"2024-09-22T05:14:00\",\"2024-09-22T05:19:00\",\"2024-09-22T05:24:00\",\"2024-09-22T05:29:00\",\"2024-09-22T05:34:00\",\"2024-09-22T05:39:00\",\"2024-09-22T05:44:00\",\"2024-09-22T05:49:00\",\"2024-09-22T05:54:00\",\"2024-09-22T05:59:00\",\"2024-09-22T06:04:00\",\"2024-09-22T06:09:00\",\"2024-09-22T06:14:00\",\"2024-09-22T06:19:00\",\"2024-09-22T06:24:00\",\"2024-09-22T06:29:00\",\"2024-09-22T06:34:00\",\"2024-09-22T06:39:00\",\"2024-09-22T06:44:00\",\"2024-09-22T06:49:00\",\"2024-09-22T06:54:00\",\"2024-09-22T06:59:00\",\"2024-09-22T07:04:00\",\"2024-09-22T07:09:00\",\"2024-09-22T07:14:00\",\"2024-09-22T07:19:00\",\"2024-09-22T07:24:00\",\"2024-09-22T07:29:00\",\"2024-09-22T07:34:00\",\"2024-09-22T07:39:00\",\"2024-09-22T07:44:00\",\"2024-09-22T07:49:00\",\"2024-09-22T07:54:00\",\"2024-09-22T07:59:00\",\"2024-09-22T08:04:00\",\"2024-09-22T08:09:00\",\"2024-09-22T08:14:00\",\"2024-09-22T08:19:00\",\"2024-09-22T08:24:00\",\"2024-09-22T08:29:00\",\"2024-09-22T08:34:00\",\"2024-09-22T08:39:00\",\"2024-09-22T08:44:00\",\"2024-09-22T08:49:00\",\"2024-09-22T08:54:00\",\"2024-09-22T08:59:00\",\"2024-09-22T09:04:00\",\"2024-09-22T09:09:00\",\"2024-09-22T09:14:00\",\"2024-09-22T09:19:00\",\"2024-09-22T09:24:00\",\"2024-09-22T09:29:00\",\"2024-09-22T09:34:00\",\"2024-09-22T09:39:00\",\"2024-09-22T09:44:00\",\"2024-09-22T09:49:00\",\"2024-09-22T09:54:00\",\"2024-09-22T09:59:00\",\"2024-09-22T10:04:00\",\"2024-09-22T10:09:00\",\"2024-09-22T10:14:00\",\"2024-09-22T10:19:00\",\"2024-09-22T10:24:00\",\"2024-09-22T10:29:00\",\"2024-09-22T10:34:00\",\"2024-09-22T10:39:00\",\"2024-09-22T10:44:00\",\"2024-09-22T10:49:00\",\"2024-09-22T10:54:00\",\"2024-09-22T10:59:00\",\"2024-09-22T11:04:00\",\"2024-09-22T11:09:00\",\"2024-09-22T11:14:00\",\"2024-09-22T11:19:00\",\"2024-09-22T11:24:00\",\"2024-09-22T11:29:00\",\"2024-09-22T11:34:00\",\"2024-09-22T11:39:00\",\"2024-09-22T11:44:00\",\"2024-09-22T11:49:00\",\"2024-09-22T11:54:00\",\"2024-09-22T11:59:00\",\"2024-09-22T12:04:00\",\"2024-09-22T12:09:00\",\"2024-09-22T12:14:00\",\"2024-09-22T12:19:00\",\"2024-09-22T12:24:00\",\"2024-09-22T12:29:00\",\"2024-09-22T12:34:00\",\"2024-09-22T12:39:00\",\"2024-09-22T12:44:00\",\"2024-09-22T12:49:00\",\"2024-09-22T12:54:00\",\"2024-09-22T12:59:00\",\"2024-09-22T13:04:00\",\"2024-09-22T13:09:00\",\"2024-09-22T13:14:00\",\"2024-09-22T13:19:00\",\"2024-09-22T13:24:00\",\"2024-09-22T13:29:00\",\"2024-09-22T13:34:00\"],\"xaxis\":\"x\",\"y\":[0.02,0.04,0.06,0.07,0.07,0.12,0.14,0.15,0.18,0.2,0.21,0.22,0.24,0.24,0.26,0.31,0.33,0.34,0.34,0.37,0.39,0.4,0.41,0.43,0.43,0.43,0.44,0.45,0.45,0.45,0.45,0.45,0.45,0.45,0.45,0.45,0.45,0.45,0.45,0.45,0.45,0.45,0.45,0.45,0.45,0.45,0.45,0.45,0.45,0.45,0.45,0.45,0.45,0.45,0.45,0.45,0.45,0.45,0.45,0.45,0.45,0.45,0.45,0.45,0.45,0.45,0.45,0.45,0.45,0.45,0.45,0.45,0.45,0.46,0.47,0.47,0.47,0.47,0.47,0.47,0.47,0.48,0.5,0.51,0.52,0.52,0.53,0.54,0.54,0.54,0.54,0.54,0.54,0.54,0.54,0.54,0.54,0.54,0.54,0.54,0.54,0.54,0.54,0.54,0.54,0.54,0.54,0.54,0.54,0.54,0.54,0.54,0.54,0.54,0.54,0.54,0.54,0.54,0.54,0.54,0.54,0.54,0.54,0.54,0.54,0.54,0.54,0.54,0.54,0.54,0.56,0.56,0.56,0.56,0.56,0.56,0.56,0.56,0.56,0.56,0.56,0.56,0.56,0.56,0.56,0.56,0.56,0.56,0.56,0.56,0.56,0.56,0.56,0.56,0.56,0.56,0.56,0.56,0.56,0.56,0.56,0.57,0.57],\"yaxis\":\"y\",\"type\":\"bar\"}],                        {\"template\":{\"data\":{\"histogram2dcontour\":[{\"type\":\"histogram2dcontour\",\"colorbar\":{\"outlinewidth\":0,\"ticks\":\"\"},\"colorscale\":[[0.0,\"#0d0887\"],[0.1111111111111111,\"#46039f\"],[0.2222222222222222,\"#7201a8\"],[0.3333333333333333,\"#9c179e\"],[0.4444444444444444,\"#bd3786\"],[0.5555555555555556,\"#d8576b\"],[0.6666666666666666,\"#ed7953\"],[0.7777777777777778,\"#fb9f3a\"],[0.8888888888888888,\"#fdca26\"],[1.0,\"#f0f921\"]]}],\"choropleth\":[{\"type\":\"choropleth\",\"colorbar\":{\"outlinewidth\":0,\"ticks\":\"\"}}],\"histogram2d\":[{\"type\":\"histogram2d\",\"colorbar\":{\"outlinewidth\":0,\"ticks\":\"\"},\"colorscale\":[[0.0,\"#0d0887\"],[0.1111111111111111,\"#46039f\"],[0.2222222222222222,\"#7201a8\"],[0.3333333333333333,\"#9c179e\"],[0.4444444444444444,\"#bd3786\"],[0.5555555555555556,\"#d8576b\"],[0.6666666666666666,\"#ed7953\"],[0.7777777777777778,\"#fb9f3a\"],[0.8888888888888888,\"#fdca26\"],[1.0,\"#f0f921\"]]}],\"heatmap\":[{\"type\":\"heatmap\",\"colorbar\":{\"outlinewidth\":0,\"ticks\":\"\"},\"colorscale\":[[0.0,\"#0d0887\"],[0.1111111111111111,\"#46039f\"],[0.2222222222222222,\"#7201a8\"],[0.3333333333333333,\"#9c179e\"],[0.4444444444444444,\"#bd3786\"],[0.5555555555555556,\"#d8576b\"],[0.6666666666666666,\"#ed7953\"],[0.7777777777777778,\"#fb9f3a\"],[0.8888888888888888,\"#fdca26\"],[1.0,\"#f0f921\"]]}],\"heatmapgl\":[{\"type\":\"heatmapgl\",\"colorbar\":{\"outlinewidth\":0,\"ticks\":\"\"},\"colorscale\":[[0.0,\"#0d0887\"],[0.1111111111111111,\"#46039f\"],[0.2222222222222222,\"#7201a8\"],[0.3333333333333333,\"#9c179e\"],[0.4444444444444444,\"#bd3786\"],[0.5555555555555556,\"#d8576b\"],[0.6666666666666666,\"#ed7953\"],[0.7777777777777778,\"#fb9f3a\"],[0.8888888888888888,\"#fdca26\"],[1.0,\"#f0f921\"]]}],\"contourcarpet\":[{\"type\":\"contourcarpet\",\"colorbar\":{\"outlinewidth\":0,\"ticks\":\"\"}}],\"contour\":[{\"type\":\"contour\",\"colorbar\":{\"outlinewidth\":0,\"ticks\":\"\"},\"colorscale\":[[0.0,\"#0d0887\"],[0.1111111111111111,\"#46039f\"],[0.2222222222222222,\"#7201a8\"],[0.3333333333333333,\"#9c179e\"],[0.4444444444444444,\"#bd3786\"],[0.5555555555555556,\"#d8576b\"],[0.6666666666666666,\"#ed7953\"],[0.7777777777777778,\"#fb9f3a\"],[0.8888888888888888,\"#fdca26\"],[1.0,\"#f0f921\"]]}],\"surface\":[{\"type\":\"surface\",\"colorbar\":{\"outlinewidth\":0,\"ticks\":\"\"},\"colorscale\":[[0.0,\"#0d0887\"],[0.1111111111111111,\"#46039f\"],[0.2222222222222222,\"#7201a8\"],[0.3333333333333333,\"#9c179e\"],[0.4444444444444444,\"#bd3786\"],[0.5555555555555556,\"#d8576b\"],[0.6666666666666666,\"#ed7953\"],[0.7777777777777778,\"#fb9f3a\"],[0.8888888888888888,\"#fdca26\"],[1.0,\"#f0f921\"]]}],\"mesh3d\":[{\"type\":\"mesh3d\",\"colorbar\":{\"outlinewidth\":0,\"ticks\":\"\"}}],\"scatter\":[{\"fillpattern\":{\"fillmode\":\"overlay\",\"size\":10,\"solidity\":0.2},\"type\":\"scatter\"}],\"parcoords\":[{\"type\":\"parcoords\",\"line\":{\"colorbar\":{\"outlinewidth\":0,\"ticks\":\"\"}}}],\"scatterpolargl\":[{\"type\":\"scatterpolargl\",\"marker\":{\"colorbar\":{\"outlinewidth\":0,\"ticks\":\"\"}}}],\"bar\":[{\"error_x\":{\"color\":\"#2a3f5f\"},\"error_y\":{\"color\":\"#2a3f5f\"},\"marker\":{\"line\":{\"color\":\"#E5ECF6\",\"width\":0.5},\"pattern\":{\"fillmode\":\"overlay\",\"size\":10,\"solidity\":0.2}},\"type\":\"bar\"}],\"scattergeo\":[{\"type\":\"scattergeo\",\"marker\":{\"colorbar\":{\"outlinewidth\":0,\"ticks\":\"\"}}}],\"scatterpolar\":[{\"type\":\"scatterpolar\",\"marker\":{\"colorbar\":{\"outlinewidth\":0,\"ticks\":\"\"}}}],\"histogram\":[{\"marker\":{\"pattern\":{\"fillmode\":\"overlay\",\"size\":10,\"solidity\":0.2}},\"type\":\"histogram\"}],\"scattergl\":[{\"type\":\"scattergl\",\"marker\":{\"colorbar\":{\"outlinewidth\":0,\"ticks\":\"\"}}}],\"scatter3d\":[{\"type\":\"scatter3d\",\"line\":{\"colorbar\":{\"outlinewidth\":0,\"ticks\":\"\"}},\"marker\":{\"colorbar\":{\"outlinewidth\":0,\"ticks\":\"\"}}}],\"scattermapbox\":[{\"type\":\"scattermapbox\",\"marker\":{\"colorbar\":{\"outlinewidth\":0,\"ticks\":\"\"}}}],\"scatterternary\":[{\"type\":\"scatterternary\",\"marker\":{\"colorbar\":{\"outlinewidth\":0,\"ticks\":\"\"}}}],\"scattercarpet\":[{\"type\":\"scattercarpet\",\"marker\":{\"colorbar\":{\"outlinewidth\":0,\"ticks\":\"\"}}}],\"carpet\":[{\"aaxis\":{\"endlinecolor\":\"#2a3f5f\",\"gridcolor\":\"white\",\"linecolor\":\"white\",\"minorgridcolor\":\"white\",\"startlinecolor\":\"#2a3f5f\"},\"baxis\":{\"endlinecolor\":\"#2a3f5f\",\"gridcolor\":\"white\",\"linecolor\":\"white\",\"minorgridcolor\":\"white\",\"startlinecolor\":\"#2a3f5f\"},\"type\":\"carpet\"}],\"table\":[{\"cells\":{\"fill\":{\"color\":\"#EBF0F8\"},\"line\":{\"color\":\"white\"}},\"header\":{\"fill\":{\"color\":\"#C8D4E3\"},\"line\":{\"color\":\"white\"}},\"type\":\"table\"}],\"barpolar\":[{\"marker\":{\"line\":{\"color\":\"#E5ECF6\",\"width\":0.5},\"pattern\":{\"fillmode\":\"overlay\",\"size\":10,\"solidity\":0.2}},\"type\":\"barpolar\"}],\"pie\":[{\"automargin\":true,\"type\":\"pie\"}]},\"layout\":{\"autotypenumbers\":\"strict\",\"colorway\":[\"#636efa\",\"#EF553B\",\"#00cc96\",\"#ab63fa\",\"#FFA15A\",\"#19d3f3\",\"#FF6692\",\"#B6E880\",\"#FF97FF\",\"#FECB52\"],\"font\":{\"color\":\"#2a3f5f\"},\"hovermode\":\"closest\",\"hoverlabel\":{\"align\":\"left\"},\"paper_bgcolor\":\"white\",\"plot_bgcolor\":\"#E5ECF6\",\"polar\":{\"bgcolor\":\"#E5ECF6\",\"angularaxis\":{\"gridcolor\":\"white\",\"linecolor\":\"white\",\"ticks\":\"\"},\"radialaxis\":{\"gridcolor\":\"white\",\"linecolor\":\"white\",\"ticks\":\"\"}},\"ternary\":{\"bgcolor\":\"#E5ECF6\",\"aaxis\":{\"gridcolor\":\"white\",\"linecolor\":\"white\",\"ticks\":\"\"},\"baxis\":{\"gridcolor\":\"white\",\"linecolor\":\"white\",\"ticks\":\"\"},\"caxis\":{\"gridcolor\":\"white\",\"linecolor\":\"white\",\"ticks\":\"\"}},\"coloraxis\":{\"colorbar\":{\"outlinewidth\":0,\"ticks\":\"\"}},\"colorscale\":{\"sequential\":[[0.0,\"#0d0887\"],[0.1111111111111111,\"#46039f\"],[0.2222222222222222,\"#7201a8\"],[0.3333333333333333,\"#9c179e\"],[0.4444444444444444,\"#bd3786\"],[0.5555555555555556,\"#d8576b\"],[0.6666666666666666,\"#ed7953\"],[0.7777777777777778,\"#fb9f3a\"],[0.8888888888888888,\"#fdca26\"],[1.0,\"#f0f921\"]],\"sequentialminus\":[[0.0,\"#0d0887\"],[0.1111111111111111,\"#46039f\"],[0.2222222222222222,\"#7201a8\"],[0.3333333333333333,\"#9c179e\"],[0.4444444444444444,\"#bd3786\"],[0.5555555555555556,\"#d8576b\"],[0.6666666666666666,\"#ed7953\"],[0.7777777777777778,\"#fb9f3a\"],[0.8888888888888888,\"#fdca26\"],[1.0,\"#f0f921\"]],\"diverging\":[[0,\"#8e0152\"],[0.1,\"#c51b7d\"],[0.2,\"#de77ae\"],[0.3,\"#f1b6da\"],[0.4,\"#fde0ef\"],[0.5,\"#f7f7f7\"],[0.6,\"#e6f5d0\"],[0.7,\"#b8e186\"],[0.8,\"#7fbc41\"],[0.9,\"#4d9221\"],[1,\"#276419\"]]},\"xaxis\":{\"gridcolor\":\"white\",\"linecolor\":\"white\",\"ticks\":\"\",\"title\":{\"standoff\":15},\"zerolinecolor\":\"white\",\"automargin\":true,\"zerolinewidth\":2},\"yaxis\":{\"gridcolor\":\"white\",\"linecolor\":\"white\",\"ticks\":\"\",\"title\":{\"standoff\":15},\"zerolinecolor\":\"white\",\"automargin\":true,\"zerolinewidth\":2},\"scene\":{\"xaxis\":{\"backgroundcolor\":\"#E5ECF6\",\"gridcolor\":\"white\",\"linecolor\":\"white\",\"showbackground\":true,\"ticks\":\"\",\"zerolinecolor\":\"white\",\"gridwidth\":2},\"yaxis\":{\"backgroundcolor\":\"#E5ECF6\",\"gridcolor\":\"white\",\"linecolor\":\"white\",\"showbackground\":true,\"ticks\":\"\",\"zerolinecolor\":\"white\",\"gridwidth\":2},\"zaxis\":{\"backgroundcolor\":\"#E5ECF6\",\"gridcolor\":\"white\",\"linecolor\":\"white\",\"showbackground\":true,\"ticks\":\"\",\"zerolinecolor\":\"white\",\"gridwidth\":2}},\"shapedefaults\":{\"line\":{\"color\":\"#2a3f5f\"}},\"annotationdefaults\":{\"arrowcolor\":\"#2a3f5f\",\"arrowhead\":0,\"arrowwidth\":1},\"geo\":{\"bgcolor\":\"white\",\"landcolor\":\"#E5ECF6\",\"subunitcolor\":\"white\",\"showland\":true,\"showlakes\":true,\"lakecolor\":\"white\"},\"title\":{\"x\":0.05},\"mapbox\":{\"style\":\"light\"}}},\"xaxis\":{\"anchor\":\"y\",\"domain\":[0.0,1.0],\"title\":{\"text\":\"Timestamp\"}},\"yaxis\":{\"anchor\":\"x\",\"domain\":[0.0,1.0],\"title\":{\"text\":\"Inches\"}},\"legend\":{\"title\":{\"text\":\"variable\"},\"tracegroupgap\":0},\"margin\":{\"t\":60},\"barmode\":\"group\"},                        {\"responsive\": true}                    ).then(function(){\n",
       "                            \n",
       "var gd = document.getElementById('04aa7358-0ae6-40da-9f00-220bee7ee128');\n",
       "var x = new MutationObserver(function (mutations, observer) {{\n",
       "        var display = window.getComputedStyle(gd).display;\n",
       "        if (!display || display === 'none') {{\n",
       "            console.log([gd, 'removed!']);\n",
       "            Plotly.purge(gd);\n",
       "            observer.disconnect();\n",
       "        }}\n",
       "}});\n",
       "\n",
       "// Listen for the removal of the full notebook cells\n",
       "var notebookContainer = gd.closest('#notebook-container');\n",
       "if (notebookContainer) {{\n",
       "    x.observe(notebookContainer, {childList: true});\n",
       "}}\n",
       "\n",
       "// Listen for the clearing of the current output cell\n",
       "var outputEl = gd.closest('.output');\n",
       "if (outputEl) {{\n",
       "    x.observe(outputEl, {childList: true});\n",
       "}}\n",
       "\n",
       "                        })                };                });            </script>        </div>"
      ]
     },
     "metadata": {},
     "output_type": "display_data"
    }
   ],
   "source": [
    "import plotly.express as px\n",
    "\n",
    "df_temperature_dewpoint = df[['Timestamp', 'Temperature', 'Dew Point']]\n",
    "df_humidity = df[['Timestamp', 'Humidity']]\n",
    "df_wind = df[['Timestamp', 'Wind Speed', 'Wind Gust']]\n",
    "df_pressure = df[['Timestamp', 'Pressure']]\n",
    "df_rain = df[['Timestamp', 'Precip. Rate', 'Precip. Accum.']]\n",
    "\n",
    "\n",
    "temp_dewpoint_graph = px.line(\n",
    "    df_temperature_dewpoint,\n",
    "    x='Timestamp',\n",
    "    y=['Temperature', 'Dew Point'],\n",
    "    labels={'value': 'Degrees'},\n",
    "    color_discrete_map={\n",
    "        'Temperature': 'red',\n",
    "        'Dew Point': 'green'\n",
    "    }\n",
    ")\n",
    "\n",
    "humidity_graph = px.line(\n",
    "    df_humidity,\n",
    "    x='Timestamp',\n",
    "    y='Humidity',\n",
    "    labels={'value': 'Humidity'},\n",
    "    color_discrete_map={\n",
    "        'Humidity': 'red'\n",
    "    }\n",
    ")\n",
    "\n",
    "wind_speed_graph = px.line(\n",
    "    df_wind,\n",
    "    x='Timestamp',\n",
    "    y='Wind Speed',\n",
    "    labels={'value': 'MPH'},\n",
    "    color_discrete_map = {\n",
    "        'Wind Speed': 'blue'\n",
    "    }\n",
    ")\n",
    "\n",
    "wind_gust_graph = px.scatter(\n",
    "    df_wind,\n",
    "    x='Timestamp',\n",
    "    y='Wind Gust',\n",
    "    labels={'value': 'MPH'},\n",
    "    color_discrete_map = {\n",
    "        'Wind Gust': 'orange'\n",
    "    }\n",
    ")\n",
    "\n",
    "pressure_graph = px.line(\n",
    "    df_pressure,\n",
    "    x='Timestamp',\n",
    "    y='Pressure',\n",
    "    labels={'value': 'Inches'},\n",
    "    color_discrete_map = {\n",
    "        'Pressure': 'Black'\n",
    "    }\n",
    ")\n",
    "\n",
    "rain_graph = px.bar(\n",
    "    df_rain,\n",
    "    x='Timestamp',\n",
    "    y=['Precip. Rate', 'Precip. Accum.'],\n",
    "    labels={'value': 'Inches'},\n",
    "    color_discrete_map = {\n",
    "        'Precip. Rate': 'green',\n",
    "        'Precip. Accum.': 'blue'\n",
    "    }\n",
    ")\n",
    "\n",
    "temp_dewpoint_graph.show()\n",
    "humidity_graph.show()\n",
    "wind_graph = go.Figure(data=wind_speed_graph.data + wind_gust_graph.data)\n",
    "wind_graph.update_layout(xaxis_title='Timestamp', yaxis_title='MPH')\n",
    "wind_graph.show()\n",
    "pressure_graph.show()\n",
    "rain_graph.update_layout(barmode='group')\n",
    "rain_graph.show()"
   ]
  },
  {
   "cell_type": "code",
   "execution_count": null,
   "id": "18746a72-ea19-474f-94d8-310299e47a27",
   "metadata": {},
   "outputs": [],
   "source": []
  }
 ],
 "metadata": {
  "kernelspec": {
   "display_name": "Python 3 (ipykernel)",
   "language": "python",
   "name": "python3"
  },
  "language_info": {
   "codemirror_mode": {
    "name": "ipython",
    "version": 3
   },
   "file_extension": ".py",
   "mimetype": "text/x-python",
   "name": "python",
   "nbconvert_exporter": "python",
   "pygments_lexer": "ipython3",
   "version": "3.10.12"
  }
 },
 "nbformat": 4,
 "nbformat_minor": 5
}
